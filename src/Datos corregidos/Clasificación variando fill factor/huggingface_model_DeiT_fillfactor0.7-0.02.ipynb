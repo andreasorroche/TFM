{
 "cells": [
  {
   "cell_type": "code",
   "execution_count": 1,
   "id": "882c7827-d492-48aa-8cb6-a77614297265",
   "metadata": {},
   "outputs": [],
   "source": [
    "#First, we choose the pretrained model to use \n",
    "\n",
    "#model_id = \"google/vit-base-patch16-224\"\n",
    "#model_id = 'microsoft/swin-tiny-patch4-window7-224'\n",
    "model_id = 'facebook/deit-base-patch16-224'\n",
    "#model_id = 'microsoft/resnet-50'\n"
   ]
  },
  {
   "cell_type": "markdown",
   "id": "0c1f530c-0b87-4a91-82f4-a60bf626cdb9",
   "metadata": {},
   "source": [
    "Now we load the feature extractor to process the image into a tensor."
   ]
  },
  {
   "cell_type": "code",
   "execution_count": 2,
   "id": "02cc9044-cb70-47c5-b31f-1657558d1df7",
   "metadata": {},
   "outputs": [
    {
     "name": "stderr",
     "output_type": "stream",
     "text": [
      "/home/studio-lab-user/.conda/envs/PRUEBA/lib/python3.9/site-packages/tqdm/auto.py:22: TqdmWarning: IProgress not found. Please update jupyter and ipywidgets. See https://ipywidgets.readthedocs.io/en/stable/user_install.html\n",
      "  from .autonotebook import tqdm as notebook_tqdm\n"
     ]
    }
   ],
   "source": [
    "from transformers import AutoFeatureExtractor, ViTFeatureExtractor, DeiTFeatureExtractor\n",
    "#feature_extractor = AutoFeatureExtractor.from_pretrained(model_id)\n",
    "#feature_extractor = ViTFeatureExtractor.from_pretrained(model_id)\n",
    "feature_extractor = DeiTFeatureExtractor.from_pretrained(model_id)"
   ]
  },
  {
   "cell_type": "markdown",
   "id": "d4166d1c-1a73-4190-8e82-624200047301",
   "metadata": {},
   "source": [
    "This feature extractor will resize every image to the resolution that the model expects and normalize channels. "
   ]
  },
  {
   "cell_type": "markdown",
   "id": "0491140c-c230-4655-9f89-e005c4d3a426",
   "metadata": {},
   "source": [
    "We define 2 functions, one for training and one for validation, including resizing, center cropping and normalizing."
   ]
  },
  {
   "cell_type": "code",
   "execution_count": 3,
   "id": "fd82a8a4-462b-4f15-ab70-da22f3a57f3b",
   "metadata": {},
   "outputs": [],
   "source": [
    "from torchvision.transforms import (\n",
    "    CenterCrop,\n",
    "    Compose,\n",
    "    Normalize,\n",
    "    RandomResizedCrop,\n",
    "    Resize,\n",
    "    ToTensor,\n",
    ")\n",
    "\n",
    "normalize = Normalize(mean=feature_extractor.image_mean, std=feature_extractor.image_std)\n",
    "train_transforms = Compose(\n",
    "        [\n",
    "            RandomResizedCrop(feature_extractor.size),\n",
    "            ToTensor(),\n",
    "            normalize,\n",
    "        ]\n",
    "    )\n",
    "\n",
    "val_transforms = Compose(\n",
    "        [\n",
    "            Resize(feature_extractor.size),\n",
    "            CenterCrop(feature_extractor.size),\n",
    "            ToTensor(),\n",
    "            normalize,\n",
    "        ]\n",
    "    )\n",
    "\n",
    "def preprocess_train(example_batch):\n",
    "    \"\"\"Apply train_transforms across a batch.\"\"\"\n",
    "    example_batch[\"pixel_values\"] = [\n",
    "        train_transforms(image.convert(\"RGB\")) for image in example_batch[\"img\"]\n",
    "    ]\n",
    "    return example_batch\n",
    "\n",
    "def preprocess_val(example_batch):\n",
    "    \"\"\"Apply val_transforms across a batch.\"\"\"\n",
    "    example_batch[\"pixel_values\"] = [val_transforms(image.convert(\"RGB\")) for image in example_batch[\"img\"]]\n",
    "    return example_batch"
   ]
  },
  {
   "cell_type": "markdown",
   "id": "346a291a-fafd-4580-b8ca-a40b9a71640b",
   "metadata": {},
   "source": [
    "Next, we can preprocess our dataset by applying these functions."
   ]
  },
  {
   "cell_type": "code",
   "execution_count": 4,
   "id": "a9f48cb2-035f-4b64-844d-36911beb1f7e",
   "metadata": {},
   "outputs": [
    {
     "data": {
      "text/plain": [
       "DatasetDict({\n",
       "    train: Dataset({\n",
       "        features: ['img', 'label'],\n",
       "        num_rows: 2050\n",
       "    })\n",
       "    val: Dataset({\n",
       "        features: ['img', 'label'],\n",
       "        num_rows: 228\n",
       "    })\n",
       "    test: Dataset({\n",
       "        features: ['img', 'label'],\n",
       "        num_rows: 402\n",
       "    })\n",
       "})"
      ]
     },
     "execution_count": 4,
     "metadata": {},
     "output_type": "execute_result"
    }
   ],
   "source": [
    "#Load data\n",
    "import datasets\n",
    "from datasets import Dataset, DatasetDict, load_dataset, load_from_disk\n",
    "ds = load_from_disk('./fillfactor_dict_0.7-0.02')\n",
    "ds"
   ]
  },
  {
   "cell_type": "code",
   "execution_count": 5,
   "id": "300c5553-6b86-4086-ad35-a15c5875c5d6",
   "metadata": {},
   "outputs": [],
   "source": [
    "# split up training into training + validation\n",
    "train_ds = ds['train']\n",
    "val_ds = ds['val']\n",
    "test_ds = ds['test']"
   ]
  },
  {
   "cell_type": "code",
   "execution_count": 6,
   "id": "256e4b28-52e6-4572-886a-a2aaaf814b9f",
   "metadata": {},
   "outputs": [
    {
     "name": "stdout",
     "output_type": "stream",
     "text": [
      "['proton', 'gamma']\n"
     ]
    }
   ],
   "source": [
    "#Classes names\n",
    "labels = train_ds.features[\"label\"].names\n",
    "print(labels)"
   ]
  },
  {
   "cell_type": "code",
   "execution_count": 7,
   "id": "97d151d8-791d-4eaf-ac20-0e22aab9454c",
   "metadata": {},
   "outputs": [
    {
     "name": "stderr",
     "output_type": "stream",
     "text": [
      "Parameter 'transform'=<function preprocess_train at 0x7fe32acdb5e0> of the transform datasets.arrow_dataset.Dataset.set_format couldn't be hashed properly, a random hash was used instead. Make sure your transforms and parameters are serializable with pickle or dill for the dataset fingerprinting and caching to work. If you reuse this transform, the caching mechanism will consider it to be different from the previous calls and recompute everything. This warning is only showed once. Subsequent hashing failures won't be showed.\n"
     ]
    }
   ],
   "source": [
    "train_ds.set_transform(preprocess_train)\n",
    "val_ds.set_transform(preprocess_val)"
   ]
  },
  {
   "cell_type": "code",
   "execution_count": 8,
   "id": "cfc4ed91-ffab-4e6f-bf0e-e90db0e8b8a1",
   "metadata": {},
   "outputs": [
    {
     "data": {
      "text/plain": [
       "{'img': <PIL.JpegImagePlugin.JpegImageFile image mode=RGB size=288x288>,\n",
       " 'label': 1,\n",
       " 'pixel_values': tensor([[[1., 1., 1.,  ..., 1., 1., 1.],\n",
       "          [1., 1., 1.,  ..., 1., 1., 1.],\n",
       "          [1., 1., 1.,  ..., 1., 1., 1.],\n",
       "          ...,\n",
       "          [1., 1., 1.,  ..., 1., 1., 1.],\n",
       "          [1., 1., 1.,  ..., 1., 1., 1.],\n",
       "          [1., 1., 1.,  ..., 1., 1., 1.]],\n",
       " \n",
       "         [[1., 1., 1.,  ..., 1., 1., 1.],\n",
       "          [1., 1., 1.,  ..., 1., 1., 1.],\n",
       "          [1., 1., 1.,  ..., 1., 1., 1.],\n",
       "          ...,\n",
       "          [1., 1., 1.,  ..., 1., 1., 1.],\n",
       "          [1., 1., 1.,  ..., 1., 1., 1.],\n",
       "          [1., 1., 1.,  ..., 1., 1., 1.]],\n",
       " \n",
       "         [[1., 1., 1.,  ..., 1., 1., 1.],\n",
       "          [1., 1., 1.,  ..., 1., 1., 1.],\n",
       "          [1., 1., 1.,  ..., 1., 1., 1.],\n",
       "          ...,\n",
       "          [1., 1., 1.,  ..., 1., 1., 1.],\n",
       "          [1., 1., 1.,  ..., 1., 1., 1.],\n",
       "          [1., 1., 1.,  ..., 1., 1., 1.]]])}"
      ]
     },
     "execution_count": 8,
     "metadata": {},
     "output_type": "execute_result"
    }
   ],
   "source": [
    "train_ds[0]"
   ]
  },
  {
   "cell_type": "markdown",
   "id": "7ffaa161-cffe-4796-8012-91e66d879fd1",
   "metadata": {},
   "source": [
    "Now that our data is ready, we can download the pretrained model and fine-tune it. We use the modelViTForImageClassification.  "
   ]
  },
  {
   "cell_type": "code",
   "execution_count": 9,
   "id": "22aa812a-f91f-4b38-8b18-eab8d71163f7",
   "metadata": {},
   "outputs": [],
   "source": [
    "#We create a dictionary that maps a label name to an integer and vice versa. \n",
    "#The mapping will help the model recover the label name from the label number.\n",
    "\n",
    "label2id, id2label = dict(), dict()\n",
    "for i, label in enumerate(labels):\n",
    "    label2id[label] = str(i)\n",
    "    id2label[str(i)] = label"
   ]
  },
  {
   "cell_type": "code",
   "execution_count": 10,
   "id": "43fba3aa-f533-4ba3-ae49-a57b117002d0",
   "metadata": {},
   "outputs": [
    {
     "name": "stderr",
     "output_type": "stream",
     "text": [
      "Some weights of ViTForImageClassification were not initialized from the model checkpoint at facebook/deit-base-patch16-224 and are newly initialized because the shapes did not match:\n",
      "- classifier.weight: found shape torch.Size([1000, 768]) in the checkpoint and torch.Size([2, 768]) in the model instantiated\n",
      "- classifier.bias: found shape torch.Size([1000]) in the checkpoint and torch.Size([2]) in the model instantiated\n",
      "You should probably TRAIN this model on a down-stream task to be able to use it for predictions and inference.\n"
     ]
    }
   ],
   "source": [
    "from transformers import ViTForImageClassification, SwinForImageClassification,ResNetForImageClassification, TrainingArguments, Trainer, SegformerForImageClassification\n",
    "\n",
    "model = ViTForImageClassification.from_pretrained(model_id,\n",
    "                                                 label2id=label2id,\n",
    "                                                 id2label=id2label,\n",
    "                                                 ignore_mismatched_sizes = True, # provide this in case you're planning to fine-tune an already fine-tuned checkpoint\n",
    "                                                 )\n",
    "\n",
    "#model = SwinForImageClassification.from_pretrained(model_id,\n",
    "#                                                 label2id=label2id,\n",
    "#                                                 id2label=id2label,\n",
    "#                                                 ignore_mismatched_sizes = True, # provide this in case you're planning to fine-tune an already fine-tuned checkpoint\n",
    "#) \n",
    "\n",
    "#model = ResNetForImageClassification.from_pretrained(model_id,\n",
    "#                                                 label2id=label2id,\n",
    "#                                                 id2label=id2label,\n",
    "#                                                 ignore_mismatched_sizes = True, # provide this in case you're planning to fine-tune an already fine-tuned checkpoint\n",
    "#)\n",
    "\n",
    "\n"
   ]
  },
  {
   "cell_type": "markdown",
   "id": "b6b3e17f-979c-47ca-bad5-76f087d1b333",
   "metadata": {},
   "source": [
    "The warning is telling us we are throwing away some weights (the weights and bias of the classifier layer) and randomly initializing some other (the weights and bias of a new classifier layer). This is expected in this case, because we are adding a new head for which we don't have pretrained weights, so the library warns us we should fine-tune this model before using it for inference, which is exactly what we are going to do."
   ]
  },
  {
   "cell_type": "markdown",
   "id": "6fc7ce9b-a0f0-4f10-90a1-77b8e5613dd1",
   "metadata": {},
   "source": [
    "To instantiate a Trainer, we will need to define the training configuration and the evaluation metric. The most important is the TrainingArguments, which is a class that contains all the attributes to customize the training. It requires one folder name, which will be used to save the checkpoints of the model.\n",
    "\n",
    "Most of the training arguments are pretty self-explanatory, but one that is quite important here is remove_unused_columns=False. This one will drop any features not used by the model's call function. By default it's True because usually it's ideal to drop unused feature columns, making it easier to unpack inputs into the model's call function. But, in our case, we need the unused features ('image' in particular) in order to create 'pixel_values'."
   ]
  },
  {
   "cell_type": "code",
   "execution_count": 11,
   "id": "ede566e3-36e9-473d-baeb-30b0c2cf2ee7",
   "metadata": {},
   "outputs": [],
   "source": [
    "model_name = model_id.split(\"/\")[-1]\n",
    "batch_size = 32\n",
    "learning_rate = 5e-5\n",
    "gradient_accumulation_steps = 4\n",
    "epochs = 3\n",
    "warmup_ratio= 0.1\n",
    "logging_steps=10\n",
    "\n",
    "args = TrainingArguments(\n",
    "    f\"{model_name}-finetuned-ds\",\n",
    "    remove_unused_columns=False,\n",
    "    evaluation_strategy = \"epoch\",\n",
    "    save_strategy = \"epoch\",\n",
    "    learning_rate=learning_rate,\n",
    "    per_device_train_batch_size=batch_size,\n",
    "    gradient_accumulation_steps=gradient_accumulation_steps,\n",
    "    per_device_eval_batch_size=batch_size,\n",
    "    num_train_epochs=epochs,\n",
    "    warmup_ratio=warmup_ratio,\n",
    "    logging_steps=logging_steps,\n",
    "    load_best_model_at_end=True,\n",
    "    metric_for_best_model=\"accuracy\",\n",
    "   # push_to_hub=True,\n",
    ")"
   ]
  },
  {
   "cell_type": "markdown",
   "id": "0f1464cb-4b0a-4621-b65a-6056e36cad1c",
   "metadata": {},
   "source": [
    "Next, we need to define a function for how to compute the metrics from the predictions, which will just use the metric we loaded earlier. Let us also load the Accuracy metric, which we'll use to evaluate our model both during and after training. The only preprocessing we have to do is to take the argmax of our predicted logits:"
   ]
  },
  {
   "cell_type": "code",
   "execution_count": 12,
   "id": "be8d4103-623c-41be-816f-71aba0fad059",
   "metadata": {},
   "outputs": [],
   "source": [
    "import numpy as np\n",
    "\n",
    "from datasets import load_metric\n",
    "\n",
    "metric = load_metric(\"accuracy\")\n",
    "\n",
    "# the compute_metrics function takes a Named Tuple as input:\n",
    "# predictions, which are the logits of the model as Numpy arrays,\n",
    "# and label_ids, which are the ground-truth labels as Numpy arrays.\n",
    "def compute_metrics(eval_pred):\n",
    "    \"\"\"Computes accuracy on a batch of predictions\"\"\"\n",
    "    predictions = np.argmax(eval_pred.predictions, axis=1)\n",
    "    return metric.compute(predictions=predictions, references=eval_pred.label_ids)"
   ]
  },
  {
   "cell_type": "markdown",
   "id": "96a2b985-b913-4849-b3f4-2fdbe77fe455",
   "metadata": {},
   "source": [
    "We also define a collate_fn, which will be used to batch examples together. Each batch consists of 2 keys, namely pixel_values and labels."
   ]
  },
  {
   "cell_type": "code",
   "execution_count": 13,
   "id": "649a749c-d111-47f8-807b-0ba04b53d2a6",
   "metadata": {},
   "outputs": [],
   "source": [
    "import torch\n",
    "\n",
    "def collate_fn(examples):\n",
    "    pixel_values = torch.stack([example[\"pixel_values\"] for example in examples])\n",
    "    labels = torch.tensor([example[\"label\"] for example in examples])\n",
    "    return {\"pixel_values\": pixel_values, \"labels\": labels}"
   ]
  },
  {
   "cell_type": "markdown",
   "id": "4b265339-7eec-44e3-8c38-1ce884527253",
   "metadata": {},
   "source": [
    "Then we just need to pass all of this along with our datasets to the Trainer:"
   ]
  },
  {
   "cell_type": "code",
   "execution_count": 14,
   "id": "5780f1c8-20f9-4694-b90a-099b5b02a3ac",
   "metadata": {},
   "outputs": [],
   "source": [
    "trainer = Trainer(\n",
    "    model,\n",
    "    args,\n",
    "    train_dataset=train_ds,\n",
    "    eval_dataset=val_ds,\n",
    "    tokenizer=feature_extractor,\n",
    "    compute_metrics=compute_metrics,\n",
    "    data_collator=collate_fn,\n",
    ")"
   ]
  },
  {
   "cell_type": "markdown",
   "id": "9c9bc7b0-35ce-496f-a8ef-27f59326e421",
   "metadata": {},
   "source": [
    "Now we can finetune our model by calling the train method:"
   ]
  },
  {
   "cell_type": "code",
   "execution_count": 15,
   "id": "9afe1d3f-c7e2-47a8-9411-5d8509d89f75",
   "metadata": {},
   "outputs": [
    {
     "name": "stderr",
     "output_type": "stream",
     "text": [
      "/home/studio-lab-user/.conda/envs/PRUEBA/lib/python3.9/site-packages/transformers/optimization.py:306: FutureWarning: This implementation of AdamW is deprecated and will be removed in a future version. Use the PyTorch implementation torch.optim.AdamW instead, or set `no_deprecation_warning=True` to disable this warning\n",
      "  warnings.warn(\n",
      "***** Running training *****\n",
      "  Num examples = 2050\n",
      "  Num Epochs = 3\n",
      "  Instantaneous batch size per device = 32\n",
      "  Total train batch size (w. parallel, distributed & accumulation) = 128\n",
      "  Gradient Accumulation steps = 4\n",
      "  Total optimization steps = 48\n"
     ]
    },
    {
     "data": {
      "text/html": [
       "\n",
       "    <div>\n",
       "      \n",
       "      <progress value='48' max='48' style='width:300px; height:20px; vertical-align: middle;'></progress>\n",
       "      [48/48 56:31, Epoch 2/3]\n",
       "    </div>\n",
       "    <table border=\"1\" class=\"dataframe\">\n",
       "  <thead>\n",
       " <tr style=\"text-align: left;\">\n",
       "      <th>Epoch</th>\n",
       "      <th>Training Loss</th>\n",
       "      <th>Validation Loss</th>\n",
       "      <th>Accuracy</th>\n",
       "    </tr>\n",
       "  </thead>\n",
       "  <tbody>\n",
       "    <tr>\n",
       "      <td>0</td>\n",
       "      <td>0.593800</td>\n",
       "      <td>0.528179</td>\n",
       "      <td>0.728070</td>\n",
       "    </tr>\n",
       "    <tr>\n",
       "      <td>1</td>\n",
       "      <td>0.395100</td>\n",
       "      <td>0.372645</td>\n",
       "      <td>0.828947</td>\n",
       "    </tr>\n",
       "    <tr>\n",
       "      <td>2</td>\n",
       "      <td>0.324600</td>\n",
       "      <td>0.282982</td>\n",
       "      <td>0.877193</td>\n",
       "    </tr>\n",
       "  </tbody>\n",
       "</table><p>"
      ],
      "text/plain": [
       "<IPython.core.display.HTML object>"
      ]
     },
     "metadata": {},
     "output_type": "display_data"
    },
    {
     "name": "stderr",
     "output_type": "stream",
     "text": [
      "***** Running Evaluation *****\n",
      "  Num examples = 228\n",
      "  Batch size = 32\n",
      "Saving model checkpoint to deit-base-patch16-224-finetuned-ds/checkpoint-16\n",
      "Configuration saved in deit-base-patch16-224-finetuned-ds/checkpoint-16/config.json\n",
      "Model weights saved in deit-base-patch16-224-finetuned-ds/checkpoint-16/pytorch_model.bin\n",
      "Feature extractor saved in deit-base-patch16-224-finetuned-ds/checkpoint-16/preprocessor_config.json\n",
      "***** Running Evaluation *****\n",
      "  Num examples = 228\n",
      "  Batch size = 32\n",
      "Saving model checkpoint to deit-base-patch16-224-finetuned-ds/checkpoint-32\n",
      "Configuration saved in deit-base-patch16-224-finetuned-ds/checkpoint-32/config.json\n",
      "Model weights saved in deit-base-patch16-224-finetuned-ds/checkpoint-32/pytorch_model.bin\n",
      "Feature extractor saved in deit-base-patch16-224-finetuned-ds/checkpoint-32/preprocessor_config.json\n",
      "***** Running Evaluation *****\n",
      "  Num examples = 228\n",
      "  Batch size = 32\n",
      "Saving model checkpoint to deit-base-patch16-224-finetuned-ds/checkpoint-48\n",
      "Configuration saved in deit-base-patch16-224-finetuned-ds/checkpoint-48/config.json\n",
      "Model weights saved in deit-base-patch16-224-finetuned-ds/checkpoint-48/pytorch_model.bin\n",
      "Feature extractor saved in deit-base-patch16-224-finetuned-ds/checkpoint-48/preprocessor_config.json\n",
      "\n",
      "\n",
      "Training completed. Do not forget to share your model on huggingface.co/models =)\n",
      "\n",
      "\n",
      "Loading best model from deit-base-patch16-224-finetuned-ds/checkpoint-48 (score: 0.8771929824561403).\n"
     ]
    }
   ],
   "source": [
    "train_results = trainer.train()\n"
   ]
  },
  {
   "cell_type": "code",
   "execution_count": 16,
   "id": "70610cf9-8570-4b37-b43c-bdc964a2c8e6",
   "metadata": {},
   "outputs": [
    {
     "name": "stderr",
     "output_type": "stream",
     "text": [
      "***** Running Evaluation *****\n",
      "  Num examples = 228\n",
      "  Batch size = 32\n"
     ]
    },
    {
     "data": {
      "text/html": [
       "\n",
       "    <div>\n",
       "      \n",
       "      <progress value='21' max='8' style='width:300px; height:20px; vertical-align: middle;'></progress>\n",
       "      [8/8 01:39]\n",
       "    </div>\n",
       "    "
      ],
      "text/plain": [
       "<IPython.core.display.HTML object>"
      ]
     },
     "metadata": {},
     "output_type": "display_data"
    },
    {
     "name": "stdout",
     "output_type": "stream",
     "text": [
      "***** eval metrics *****\n",
      "  epoch                   =       2.98\n",
      "  eval_accuracy           =     0.8772\n",
      "  eval_loss               =      0.283\n",
      "  eval_runtime            = 0:00:38.06\n",
      "  eval_samples_per_second =       5.99\n",
      "  eval_steps_per_second   =       0.21\n"
     ]
    }
   ],
   "source": [
    "\n",
    "metrics = trainer.evaluate()\n",
    "# some nice to haves:\n",
    "trainer.log_metrics(\"eval\", metrics)\n",
    "trainer.save_metrics(\"eval\", metrics)"
   ]
  },
  {
   "cell_type": "code",
   "execution_count": 17,
   "id": "43c9156b-84a2-4d28-875f-6c9796f41d46",
   "metadata": {},
   "outputs": [],
   "source": [
    "\n",
    "test_ds.set_transform(preprocess_val)"
   ]
  },
  {
   "cell_type": "code",
   "execution_count": 18,
   "id": "96167b9c-d84b-43c0-a85f-fae3ccf58ab0",
   "metadata": {},
   "outputs": [
    {
     "name": "stderr",
     "output_type": "stream",
     "text": [
      "***** Running Prediction *****\n",
      "  Num examples = 402\n",
      "  Batch size = 32\n"
     ]
    }
   ],
   "source": [
    "outputs = trainer.predict(test_ds)\n",
    "y_pred = outputs.predictions.argmax(1)"
   ]
  },
  {
   "cell_type": "code",
   "execution_count": 19,
   "id": "a35c48e8-a78e-47d1-85f8-97fc7a5c91c6",
   "metadata": {},
   "outputs": [
    {
     "data": {
      "text/plain": [
       "{'accuracy': 0.9079601990049752}"
      ]
     },
     "execution_count": 19,
     "metadata": {},
     "output_type": "execute_result"
    }
   ],
   "source": [
    "compute_metrics(outputs)"
   ]
  },
  {
   "cell_type": "code",
   "execution_count": 20,
   "id": "f847d7ab-5acd-454d-af4d-044049cab94e",
   "metadata": {},
   "outputs": [
    {
     "data": {
      "text/plain": [
       "PredictionOutput(predictions=array([[-1.4857626 , -0.49005795],\n",
       "       [-0.6181613 , -1.1180738 ],\n",
       "       [ 2.095191  , -2.7659132 ],\n",
       "       [ 1.2453156 , -2.5177982 ],\n",
       "       [-0.6837065 , -1.2099298 ],\n",
       "       [ 1.3274413 , -2.4627798 ],\n",
       "       [ 0.98851895, -2.5063992 ],\n",
       "       [-0.4997155 , -1.0892466 ],\n",
       "       [ 0.59795225, -2.112605  ],\n",
       "       [-1.2012584 , -0.81919634],\n",
       "       [ 1.1458104 , -2.443756  ],\n",
       "       [-1.5066326 , -0.2947873 ],\n",
       "       [ 1.5152922 , -2.4540176 ],\n",
       "       [-1.4985023 , -0.53295606],\n",
       "       [ 0.99077785, -2.354888  ],\n",
       "       [ 0.00795669, -1.7302902 ],\n",
       "       [ 0.05085487, -1.7061392 ],\n",
       "       [-1.7150016 , -0.35421553],\n",
       "       [ 1.5193424 , -2.5774913 ],\n",
       "       [-1.5531299 , -0.4451354 ],\n",
       "       [-1.2333636 , -0.8121779 ],\n",
       "       [-0.31328493, -1.5681239 ],\n",
       "       [-1.8502922 ,  0.02916223],\n",
       "       [ 0.8998871 , -2.077082  ],\n",
       "       [-1.4730408 , -0.5017588 ],\n",
       "       [-0.22386709, -1.5598779 ],\n",
       "       [-1.7046542 , -0.17726238],\n",
       "       [-0.67913735, -1.2778623 ],\n",
       "       [ 0.89939755, -1.4810646 ],\n",
       "       [-1.2538439 , -0.6428069 ],\n",
       "       [-0.4490477 , -1.2825315 ],\n",
       "       [ 0.7625836 , -2.1374612 ],\n",
       "       [ 0.02856766, -1.6128755 ],\n",
       "       [ 0.7706442 , -2.305739  ],\n",
       "       [ 0.54268396, -2.1188898 ],\n",
       "       [-1.447954  , -0.56023335],\n",
       "       [ 1.2142994 , -2.4754505 ],\n",
       "       [-1.448029  , -0.3228289 ],\n",
       "       [ 0.67834806, -2.2215466 ],\n",
       "       [-0.22324595, -1.4424137 ],\n",
       "       [-1.0974772 , -0.8499088 ],\n",
       "       [-0.2704112 , -1.4787345 ],\n",
       "       [-1.1797452 , -0.4831381 ],\n",
       "       [-0.04420879, -1.680685  ],\n",
       "       [ 0.9590558 , -2.4207928 ],\n",
       "       [-0.55801815, -1.3211787 ],\n",
       "       [-0.6593946 , -1.0331473 ],\n",
       "       [-1.0137306 , -0.86137   ],\n",
       "       [-0.3999944 , -1.3791215 ],\n",
       "       [-0.47664922, -1.3799145 ],\n",
       "       [ 1.0463399 , -2.3848534 ],\n",
       "       [-1.6943064 , -0.29021996],\n",
       "       [ 1.2193642 , -2.424058  ],\n",
       "       [ 1.8145115 , -2.7819166 ],\n",
       "       [-1.4998262 , -0.4497301 ],\n",
       "       [-1.6563916 , -0.3956753 ],\n",
       "       [-0.74933875, -0.99300253],\n",
       "       [ 0.23939838, -1.94059   ],\n",
       "       [-1.6624317 , -0.2796872 ],\n",
       "       [ 1.658335  , -2.8055751 ],\n",
       "       [ 0.9186387 , -2.2817094 ],\n",
       "       [ 1.5993013 , -2.4599676 ],\n",
       "       [ 0.38761944, -1.9006693 ],\n",
       "       [-1.6136495 , -0.37183028],\n",
       "       [ 0.36886668, -1.9864506 ],\n",
       "       [-0.4079671 , -1.5043828 ],\n",
       "       [-0.68731546, -1.1953303 ],\n",
       "       [-1.7603066 , -0.19127692],\n",
       "       [ 2.0113695 , -2.8281736 ],\n",
       "       [ 1.2300096 , -2.7311697 ],\n",
       "       [ 1.5518756 , -2.6331272 ],\n",
       "       [-0.03239663, -1.5921779 ],\n",
       "       [-1.3535128 , -0.7588223 ],\n",
       "       [-1.496393  , -0.45979023],\n",
       "       [ 0.19472319, -1.7982738 ],\n",
       "       [ 1.2305741 , -2.4728112 ],\n",
       "       [-1.572309  , -0.35400245],\n",
       "       [ 1.4974291 , -2.7832236 ],\n",
       "       [-1.448873  , -0.47658002],\n",
       "       [ 0.86921906, -2.4455895 ],\n",
       "       [ 0.39088172, -1.8515254 ],\n",
       "       [-1.7000914 , -0.21347141],\n",
       "       [ 1.0959356 , -2.5146081 ],\n",
       "       [-1.4767327 , -0.37940103],\n",
       "       [ 0.62112254, -2.1959908 ],\n",
       "       [ 0.49499008, -2.06791   ],\n",
       "       [-2.0070999 , -0.06232308],\n",
       "       [ 0.9371114 , -2.4287546 ],\n",
       "       [-1.8857293 , -0.15413624],\n",
       "       [ 1.6512843 , -2.4652026 ],\n",
       "       [ 0.25221932, -1.9969635 ],\n",
       "       [ 0.42512992, -1.8841064 ],\n",
       "       [ 1.1586335 , -2.3982306 ],\n",
       "       [-1.2549522 , -0.7006633 ],\n",
       "       [ 0.3975094 , -1.8923235 ],\n",
       "       [ 1.5133862 , -2.7091293 ],\n",
       "       [-0.48755667, -1.2806299 ],\n",
       "       [ 0.6643349 , -2.1494677 ],\n",
       "       [-0.8674809 , -0.9654228 ],\n",
       "       [ 1.0558417 , -2.2806883 ],\n",
       "       [-1.6357135 , -0.24389485],\n",
       "       [-0.96012616, -0.8440263 ],\n",
       "       [ 1.1368227 , -2.5044146 ],\n",
       "       [ 1.5817919 , -2.4959016 ],\n",
       "       [-1.3620152 , -0.684772  ],\n",
       "       [ 1.45369   , -2.4413133 ],\n",
       "       [-1.7695613 , -0.13799317],\n",
       "       [ 0.61165714, -2.1326277 ],\n",
       "       [-1.1199627 , -0.77195215],\n",
       "       [ 0.5416277 , -2.1011114 ],\n",
       "       [-1.8570776 , -0.05636311],\n",
       "       [-1.8090873 , -0.15682834],\n",
       "       [ 0.16810752, -1.8269143 ],\n",
       "       [-1.502066  , -0.4785125 ],\n",
       "       [-1.1058184 , -0.6703056 ],\n",
       "       [ 1.1713345 , -2.3855083 ],\n",
       "       [-0.96710694, -1.0343637 ],\n",
       "       [ 1.3969646 , -2.3338814 ],\n",
       "       [-1.0972747 , -0.8281162 ],\n",
       "       [ 0.7531428 , -2.2762265 ],\n",
       "       [-1.7098336 , -0.18656823],\n",
       "       [-1.6513313 , -0.23921883],\n",
       "       [ 0.7075182 , -2.1742663 ],\n",
       "       [ 0.94564795, -2.2962952 ],\n",
       "       [-1.0014522 , -0.776797  ],\n",
       "       [-1.4908632 , -0.44361556],\n",
       "       [-1.8893354 , -0.0178304 ],\n",
       "       [ 0.06478462, -1.9034164 ],\n",
       "       [ 1.5220735 , -2.4552584 ],\n",
       "       [-1.822099  , -0.29365924],\n",
       "       [-1.4268632 , -0.6235584 ],\n",
       "       [-1.7624359 , -0.07489141],\n",
       "       [ 1.5145385 , -2.6271653 ],\n",
       "       [ 1.3848097 , -2.4472866 ],\n",
       "       [-1.8502076 , -0.07797074],\n",
       "       [-1.9440107 , -0.10370347],\n",
       "       [ 1.313772  , -2.4581914 ],\n",
       "       [ 0.12162188, -1.7729318 ],\n",
       "       [-1.3590972 , -0.551829  ],\n",
       "       [ 1.241665  , -2.4400425 ],\n",
       "       [-0.9992163 , -0.8823596 ],\n",
       "       [-1.6018295 , -0.2847282 ],\n",
       "       [-1.4908742 , -0.34517848],\n",
       "       [ 1.455885  , -2.5476067 ],\n",
       "       [ 1.8937024 , -2.7533884 ],\n",
       "       [ 1.2487015 , -2.499332  ],\n",
       "       [ 0.732016  , -2.2627044 ],\n",
       "       [ 1.7104276 , -2.7752922 ],\n",
       "       [-0.6407621 , -1.2046764 ],\n",
       "       [ 1.4255024 , -2.5331035 ],\n",
       "       [-0.8376165 , -0.939854  ],\n",
       "       [ 0.36803526, -1.8444476 ],\n",
       "       [-1.3338189 , -0.6535301 ],\n",
       "       [ 0.69622743, -2.365312  ],\n",
       "       [-1.4285055 , -0.40710348],\n",
       "       [-0.58680344, -1.2638444 ],\n",
       "       [-1.6774261 , -0.29746568],\n",
       "       [ 1.232166  , -2.4411063 ],\n",
       "       [-0.7499918 , -1.0055242 ],\n",
       "       [ 0.14921795, -1.7960619 ],\n",
       "       [ 1.8653696 , -2.464287  ],\n",
       "       [ 1.8403938 , -2.744966  ],\n",
       "       [ 0.72621506, -2.188868  ],\n",
       "       [-0.003582  , -1.7788146 ],\n",
       "       [-0.70293605, -1.1650081 ],\n",
       "       [-0.01488103, -1.7168767 ],\n",
       "       [ 0.74393535, -2.1255648 ],\n",
       "       [ 1.0471208 , -2.3358338 ],\n",
       "       [ 1.374315  , -2.53308   ],\n",
       "       [ 1.0736873 , -2.4376416 ],\n",
       "       [ 0.19800405, -1.9240227 ],\n",
       "       [-1.3031477 , -0.48952764],\n",
       "       [-1.2660936 , -0.6023989 ],\n",
       "       [ 0.9026991 , -2.2380283 ],\n",
       "       [ 1.084115  , -2.1702104 ],\n",
       "       [-1.4204717 , -0.46187097],\n",
       "       [-1.7117398 , -0.13270211],\n",
       "       [-1.2477136 , -0.735188  ],\n",
       "       [-0.45890903, -1.293042  ],\n",
       "       [ 2.041769  , -2.6209354 ],\n",
       "       [ 1.2108564 , -2.460494  ],\n",
       "       [ 1.0322001 , -2.3599336 ],\n",
       "       [ 1.0968668 , -2.3578982 ],\n",
       "       [ 1.1891216 , -2.4070196 ],\n",
       "       [-1.0905341 , -0.9391726 ],\n",
       "       [ 1.7171962 , -2.3073015 ],\n",
       "       [-0.69513637, -1.1870468 ],\n",
       "       [-1.843947  , -0.26188862],\n",
       "       [ 0.07006487, -1.7132074 ],\n",
       "       [-1.9002166 , -0.06151294],\n",
       "       [ 0.8794234 , -2.2081976 ],\n",
       "       [ 0.7549962 , -2.141827  ],\n",
       "       [ 0.6656887 , -2.1316876 ],\n",
       "       [ 0.6161029 , -2.1942837 ],\n",
       "       [-1.7249281 , -0.1832279 ],\n",
       "       [-1.6454005 , -0.20677504],\n",
       "       [ 2.0284135 , -2.7614665 ],\n",
       "       [-1.8591259 ,  0.02360125],\n",
       "       [-1.239824  , -0.6939626 ],\n",
       "       [-1.8926873 , -0.02987351],\n",
       "       [ 0.37551415, -2.116113  ],\n",
       "       [-1.4266921 , -0.45484358],\n",
       "       [-0.05549883, -1.6255062 ],\n",
       "       [-1.5081124 , -0.5196226 ],\n",
       "       [ 2.1022842 , -2.8673263 ],\n",
       "       [ 1.1510502 , -2.5839133 ],\n",
       "       [ 0.39044124, -2.1132483 ],\n",
       "       [-1.0199287 , -0.9052682 ],\n",
       "       [-1.228757  , -0.8034372 ],\n",
       "       [ 1.3383183 , -2.6382828 ],\n",
       "       [-0.89336   , -0.9632708 ],\n",
       "       [ 0.7248424 , -2.1133583 ],\n",
       "       [ 0.644431  , -2.2834773 ],\n",
       "       [-1.9118047 , -0.06978659],\n",
       "       [-1.4835681 , -0.52475715],\n",
       "       [-1.9476589 , -0.06381039],\n",
       "       [-0.74713206, -0.9309412 ],\n",
       "       [-0.39226422, -1.3029927 ],\n",
       "       [ 0.7787428 , -2.1839693 ],\n",
       "       [-1.5760939 , -0.41806948],\n",
       "       [ 0.4718849 , -1.989049  ],\n",
       "       [ 0.2063036 , -1.8291248 ],\n",
       "       [-1.8165622 , -0.14282528],\n",
       "       [ 1.1732551 , -2.6244724 ],\n",
       "       [ 1.5831902 , -2.648839  ],\n",
       "       [-1.4973807 , -0.43832117],\n",
       "       [-0.13079272, -1.4892447 ],\n",
       "       [ 0.83852744, -2.051831  ],\n",
       "       [ 1.3967865 , -2.525841  ],\n",
       "       [-1.7476311 , -0.30134487],\n",
       "       [ 1.5944419 , -2.6209526 ],\n",
       "       [ 2.070655  , -2.979445  ],\n",
       "       [-1.7610368 , -0.16238414],\n",
       "       [-0.39059657, -1.6036533 ],\n",
       "       [-1.9009883 , -0.03005408],\n",
       "       [ 0.3628667 , -2.0177746 ],\n",
       "       [ 0.9278319 , -2.3371158 ],\n",
       "       [ 1.6811029 , -2.7345035 ],\n",
       "       [-0.32241696, -1.224257  ],\n",
       "       [ 0.46625346, -2.0514297 ],\n",
       "       [ 0.10186371, -1.94376   ],\n",
       "       [ 1.7450858 , -2.8556123 ],\n",
       "       [-1.978307  , -0.09439555],\n",
       "       [ 0.75603026, -2.277709  ],\n",
       "       [-1.6364236 , -0.31246758],\n",
       "       [ 0.7023796 , -2.1404345 ],\n",
       "       [-0.6886666 , -1.0627933 ],\n",
       "       [-1.1708088 , -0.799024  ],\n",
       "       [-1.1271948 , -0.77540743],\n",
       "       [-1.4282203 , -0.57487684],\n",
       "       [-0.9414401 , -0.86942935],\n",
       "       [ 1.0036284 , -2.393711  ],\n",
       "       [ 1.8694935 , -2.7993927 ],\n",
       "       [-0.34040508, -1.2984264 ],\n",
       "       [ 0.2844104 , -1.9256659 ],\n",
       "       [ 0.50046337, -1.9790249 ],\n",
       "       [ 1.1806474 , -2.519035  ],\n",
       "       [ 1.7317506 , -2.8362298 ],\n",
       "       [ 1.3654752 , -2.4494314 ],\n",
       "       [-0.76040506, -1.0748241 ],\n",
       "       [ 0.08038424, -1.741874  ],\n",
       "       [ 1.7870717 , -2.5503511 ],\n",
       "       [ 0.0577549 , -1.8167953 ],\n",
       "       [-0.42612362, -1.4851534 ],\n",
       "       [-1.4657754 , -0.3375436 ],\n",
       "       [ 0.7131336 , -2.2800155 ],\n",
       "       [ 1.384227  , -2.6685793 ],\n",
       "       [-0.273633  , -1.473563  ],\n",
       "       [ 2.2031636 , -2.936883  ],\n",
       "       [ 1.2329029 , -2.4834795 ],\n",
       "       [-0.4932139 , -1.265858  ],\n",
       "       [ 0.7245554 , -2.3735316 ],\n",
       "       [ 1.4005957 , -2.5286036 ],\n",
       "       [-1.6455564 , -0.23089038],\n",
       "       [-0.9116622 , -0.9956112 ],\n",
       "       [-1.7943091 , -0.21895877],\n",
       "       [-1.0535398 , -0.6135081 ],\n",
       "       [ 0.48363936, -2.082379  ],\n",
       "       [-0.80071497, -1.0223258 ],\n",
       "       [-1.5826249 , -0.15607435],\n",
       "       [-1.5870887 , -0.5091357 ],\n",
       "       [ 1.288063  , -2.4938993 ],\n",
       "       [ 0.44297674, -2.0330462 ],\n",
       "       [ 0.99452925, -2.4713142 ],\n",
       "       [-1.5177032 , -0.2861302 ],\n",
       "       [ 1.5020064 , -2.5440164 ],\n",
       "       [-0.60037005, -1.2545562 ],\n",
       "       [ 2.3144035 , -3.003808  ],\n",
       "       [-0.55764836, -1.3530138 ],\n",
       "       [ 1.4032596 , -2.367652  ],\n",
       "       [-1.640389  , -0.2160095 ],\n",
       "       [ 1.7770711 , -2.838945  ],\n",
       "       [-0.74309856, -1.2060131 ],\n",
       "       [-1.920126  , -0.01444747],\n",
       "       [-0.12981766, -1.6886125 ],\n",
       "       [-0.8265787 , -1.0501089 ],\n",
       "       [ 1.0854422 , -2.5160413 ],\n",
       "       [ 1.8043909 , -2.7446628 ],\n",
       "       [ 1.3889685 , -2.5645514 ],\n",
       "       [-0.96030426, -0.8297907 ],\n",
       "       [ 0.78338116, -2.3543243 ],\n",
       "       [ 0.5985153 , -1.9669287 ],\n",
       "       [ 0.750734  , -2.1470282 ],\n",
       "       [ 1.3698578 , -2.0342867 ],\n",
       "       [ 0.6597949 , -2.2130866 ],\n",
       "       [-1.400861  , -0.5469628 ],\n",
       "       [-0.7435241 , -1.0003293 ],\n",
       "       [-1.586719  , -0.4141727 ],\n",
       "       [-0.44776857, -1.3891575 ],\n",
       "       [-1.8532575 , -0.05609892],\n",
       "       [-1.4297702 , -0.48833197],\n",
       "       [ 0.59764934, -1.7204224 ],\n",
       "       [ 1.3299663 , -2.5454893 ],\n",
       "       [-1.8344818 , -0.10797386],\n",
       "       [-1.6501541 , -0.30441707],\n",
       "       [-0.33106065, -1.3419178 ],\n",
       "       [-0.7948058 , -1.0754032 ],\n",
       "       [ 0.97954774, -2.3080413 ],\n",
       "       [-1.1301503 , -0.73620397],\n",
       "       [ 0.8224135 , -2.2678928 ],\n",
       "       [-1.0043373 , -0.77290785],\n",
       "       [ 0.3031945 , -1.9720109 ],\n",
       "       [ 1.4604003 , -2.6564286 ],\n",
       "       [-0.64564174, -1.279849  ],\n",
       "       [-1.2850187 , -0.7354287 ],\n",
       "       [-0.4361436 , -1.3661582 ],\n",
       "       [-1.9726561 ,  0.04792662],\n",
       "       [ 0.16601096, -1.7805395 ],\n",
       "       [ 1.206475  , -2.48207   ],\n",
       "       [-0.31582105, -1.4287589 ],\n",
       "       [ 1.0461884 , -2.331661  ],\n",
       "       [-0.62460387, -1.3417469 ],\n",
       "       [ 1.5887138 , -2.677948  ],\n",
       "       [-1.8379269 , -0.10642468],\n",
       "       [-0.7007135 , -1.113672  ],\n",
       "       [ 1.2910829 , -2.5367565 ],\n",
       "       [-1.2217135 , -0.6122438 ],\n",
       "       [-0.71530247, -1.1213917 ],\n",
       "       [-0.22116572, -1.4451966 ],\n",
       "       [ 0.35429436, -2.035375  ],\n",
       "       [ 0.15110424, -1.7840669 ],\n",
       "       [-1.6377192 , -0.18572435],\n",
       "       [ 0.9492365 , -2.4866338 ],\n",
       "       [-1.3342015 , -0.57247293],\n",
       "       [-1.7538564 , -0.25390244],\n",
       "       [ 0.71190065, -2.1250434 ],\n",
       "       [-0.8184001 , -1.0706621 ],\n",
       "       [ 1.1224617 , -1.4813036 ],\n",
       "       [-1.7422631 , -0.30521348],\n",
       "       [ 1.4344834 , -2.5583766 ],\n",
       "       [-1.8023219 ,  0.00585192],\n",
       "       [-1.8827041 , -0.08675979],\n",
       "       [-1.8816164 ,  0.00375083],\n",
       "       [-0.67564285, -1.2697823 ],\n",
       "       [ 0.5366119 , -2.1101859 ],\n",
       "       [ 0.830012  , -2.1828809 ],\n",
       "       [ 1.2872632 , -2.3850489 ],\n",
       "       [ 0.8567598 , -2.277625  ],\n",
       "       [ 0.13962267, -1.8039465 ],\n",
       "       [-1.8709233 , -0.0709866 ],\n",
       "       [ 1.3517188 , -2.3840609 ],\n",
       "       [-0.11023281, -1.5660582 ],\n",
       "       [ 1.4798685 , -2.6813908 ],\n",
       "       [-1.0966479 , -0.83692795],\n",
       "       [ 0.9547269 , -2.3075209 ],\n",
       "       [ 0.3279165 , -1.9114308 ],\n",
       "       [ 0.53601277, -1.9514437 ],\n",
       "       [-1.7027719 , -0.23898382],\n",
       "       [ 0.9801942 , -2.3972728 ],\n",
       "       [ 0.22022541, -1.8772035 ],\n",
       "       [ 0.6561929 , -2.1249619 ],\n",
       "       [ 0.9144448 , -2.1361232 ],\n",
       "       [ 1.0677168 , -1.997576  ],\n",
       "       [-1.7630723 , -0.15983489],\n",
       "       [ 0.87450886, -1.663893  ],\n",
       "       [ 0.293175  , -1.8110182 ],\n",
       "       [-0.90282494, -0.93500626],\n",
       "       [ 0.7649684 , -2.2855453 ],\n",
       "       [-1.742031  , -0.2167476 ],\n",
       "       [ 0.8150188 , -2.3179727 ],\n",
       "       [ 1.0297151 , -2.2986634 ],\n",
       "       [ 0.36332735, -1.8962247 ],\n",
       "       [ 0.51992166, -2.2077065 ],\n",
       "       [ 0.9498848 , -1.1153824 ],\n",
       "       [-1.9606484 , -0.02912148],\n",
       "       [-0.04345191, -1.7038944 ],\n",
       "       [ 0.9144454 , -2.279755  ],\n",
       "       [-0.64684707, -1.3353003 ],\n",
       "       [ 1.0160065 , -2.426019  ],\n",
       "       [-1.6784972 , -0.29497883],\n",
       "       [-0.00966276, -1.6510485 ],\n",
       "       [ 1.6299776 , -2.631895  ],\n",
       "       [-1.7712429 , -0.16426563],\n",
       "       [-1.8546154 , -0.11422522],\n",
       "       [ 0.16360834, -1.8044157 ],\n",
       "       [-1.7698858 , -0.07665528],\n",
       "       [ 1.4862387 , -2.5498018 ],\n",
       "       [-1.9057025 , -0.03315258],\n",
       "       [-0.28315574, -1.4424998 ],\n",
       "       [ 1.1516905 , -2.4475386 ],\n",
       "       [ 1.7283854 , -2.6616855 ],\n",
       "       [-0.3139532 , -1.7498581 ]], dtype=float32), label_ids=array([1, 1, 0, 0, 0, 0, 0, 0, 0, 1, 0, 1, 0, 1, 0, 0, 0, 1, 0, 1, 1, 0,\n",
       "       1, 0, 1, 0, 1, 0, 1, 0, 0, 0, 0, 0, 0, 1, 0, 0, 0, 0, 1, 0, 1, 0,\n",
       "       0, 0, 0, 0, 0, 0, 0, 1, 0, 0, 0, 1, 0, 0, 1, 0, 0, 0, 0, 1, 0, 0,\n",
       "       0, 1, 0, 0, 0, 0, 1, 1, 0, 0, 1, 0, 0, 0, 0, 1, 0, 1, 0, 0, 1, 0,\n",
       "       1, 0, 0, 0, 0, 0, 0, 0, 1, 0, 0, 0, 1, 0, 0, 0, 1, 0, 1, 0, 0, 0,\n",
       "       1, 1, 0, 1, 1, 0, 1, 0, 1, 0, 1, 1, 0, 0, 0, 1, 1, 0, 0, 1, 0, 1,\n",
       "       0, 0, 1, 1, 0, 0, 0, 0, 0, 1, 1, 0, 0, 0, 0, 0, 0, 0, 0, 0, 1, 0,\n",
       "       1, 0, 1, 0, 0, 0, 0, 0, 0, 0, 1, 0, 0, 0, 0, 0, 0, 0, 0, 0, 0, 0,\n",
       "       1, 1, 0, 0, 0, 0, 0, 0, 1, 0, 0, 1, 0, 1, 0, 0, 0, 0, 1, 1, 0, 1,\n",
       "       1, 1, 0, 0, 0, 1, 0, 0, 0, 0, 0, 0, 0, 0, 0, 1, 1, 1, 0, 0, 0, 1,\n",
       "       0, 0, 1, 0, 0, 1, 0, 0, 0, 1, 0, 0, 1, 0, 1, 0, 0, 0, 1, 0, 0, 0,\n",
       "       1, 0, 0, 0, 0, 1, 1, 1, 0, 0, 0, 0, 0, 0, 0, 0, 0, 0, 0, 0, 0, 0,\n",
       "       0, 0, 0, 0, 0, 0, 0, 0, 0, 1, 0, 1, 1, 0, 0, 1, 1, 0, 0, 0, 0, 0,\n",
       "       0, 0, 0, 0, 1, 0, 0, 1, 0, 0, 0, 0, 0, 0, 0, 0, 0, 0, 0, 0, 0, 1,\n",
       "       0, 1, 1, 0, 0, 1, 1, 0, 0, 0, 0, 0, 0, 0, 0, 1, 0, 0, 1, 0, 0, 0,\n",
       "       0, 0, 0, 1, 0, 0, 0, 1, 0, 0, 0, 1, 0, 0, 1, 0, 0, 0, 1, 0, 1, 1,\n",
       "       1, 0, 0, 0, 0, 0, 0, 1, 0, 0, 0, 1, 0, 0, 0, 1, 0, 0, 0, 0, 0, 1,\n",
       "       0, 0, 0, 0, 1, 0, 0, 0, 0, 0, 1, 0, 0, 0, 0, 1, 0, 0, 1, 1, 0, 1,\n",
       "       0, 1, 0, 0, 0, 0]), metrics={'test_loss': 0.2509373426437378, 'test_accuracy': 0.9079601990049752, 'test_runtime': 67.2287, 'test_samples_per_second': 5.98, 'test_steps_per_second': 0.193})"
      ]
     },
     "execution_count": 20,
     "metadata": {},
     "output_type": "execute_result"
    }
   ],
   "source": [
    "outputs"
   ]
  },
  {
   "cell_type": "code",
   "execution_count": 21,
   "id": "3be0e585-96b2-44cd-8f32-4b037fcdfe17",
   "metadata": {},
   "outputs": [
    {
     "data": {
      "text/plain": [
       "array([1, 0, 0, 0, 0, 0, 0, 0, 0, 1, 0, 1, 0, 1, 0, 0, 0, 1, 0, 1, 1, 0,\n",
       "       1, 0, 1, 0, 1, 0, 0, 1, 0, 0, 0, 0, 0, 1, 0, 1, 0, 0, 1, 0, 1, 0,\n",
       "       0, 0, 0, 1, 0, 0, 0, 1, 0, 0, 1, 1, 0, 0, 1, 0, 0, 0, 0, 1, 0, 0,\n",
       "       0, 1, 0, 0, 0, 0, 1, 1, 0, 0, 1, 0, 1, 0, 0, 1, 0, 1, 0, 0, 1, 0,\n",
       "       1, 0, 0, 0, 0, 1, 0, 0, 0, 0, 0, 0, 1, 1, 0, 0, 1, 0, 1, 0, 1, 0,\n",
       "       1, 1, 0, 1, 1, 0, 0, 0, 1, 0, 1, 1, 0, 0, 1, 1, 1, 0, 0, 1, 1, 1,\n",
       "       0, 0, 1, 1, 0, 0, 1, 0, 1, 1, 1, 0, 0, 0, 0, 0, 0, 0, 0, 0, 1, 0,\n",
       "       1, 0, 1, 0, 0, 0, 0, 0, 0, 0, 0, 0, 0, 0, 0, 0, 0, 1, 1, 0, 0, 1,\n",
       "       1, 1, 0, 0, 0, 0, 0, 0, 1, 0, 0, 1, 0, 1, 0, 0, 0, 0, 1, 1, 0, 1,\n",
       "       1, 1, 0, 1, 0, 1, 0, 0, 0, 1, 1, 0, 0, 0, 0, 1, 1, 1, 0, 0, 0, 1,\n",
       "       0, 0, 1, 0, 0, 1, 0, 0, 0, 1, 0, 0, 1, 0, 1, 0, 0, 0, 0, 0, 0, 0,\n",
       "       1, 0, 1, 0, 0, 1, 1, 1, 1, 0, 0, 0, 0, 0, 0, 0, 0, 0, 0, 0, 0, 0,\n",
       "       1, 0, 0, 0, 0, 0, 0, 0, 0, 1, 0, 1, 1, 0, 0, 1, 1, 0, 0, 0, 1, 0,\n",
       "       0, 0, 0, 0, 1, 0, 0, 1, 0, 0, 0, 0, 0, 1, 0, 0, 0, 0, 0, 1, 0, 1,\n",
       "       0, 1, 1, 0, 0, 1, 1, 0, 0, 0, 1, 0, 1, 0, 0, 0, 1, 0, 1, 0, 0, 0,\n",
       "       0, 0, 0, 1, 0, 0, 1, 0, 0, 0, 0, 1, 0, 1, 1, 0, 0, 0, 1, 0, 1, 1,\n",
       "       1, 0, 0, 0, 0, 0, 0, 1, 0, 0, 0, 1, 0, 0, 0, 1, 0, 0, 0, 0, 0, 1,\n",
       "       0, 0, 0, 0, 1, 0, 0, 0, 0, 0, 1, 0, 0, 0, 0, 1, 0, 0, 1, 1, 0, 1,\n",
       "       0, 1, 0, 0, 0, 0])"
      ]
     },
     "execution_count": 21,
     "metadata": {},
     "output_type": "execute_result"
    }
   ],
   "source": [
    "y_pred"
   ]
  },
  {
   "cell_type": "code",
   "execution_count": 22,
   "id": "d68b7f8c-d3c7-44b5-8ea0-0a71ad0d0c2d",
   "metadata": {},
   "outputs": [
    {
     "data": {
      "text/plain": [
       "array([1, 1, 0, 0, 0, 0, 0, 0, 0, 1, 0, 1, 0, 1, 0, 0, 0, 1, 0, 1, 1, 0,\n",
       "       1, 0, 1, 0, 1, 0, 1, 0, 0, 0, 0, 0, 0, 1, 0, 0, 0, 0, 1, 0, 1, 0,\n",
       "       0, 0, 0, 0, 0, 0, 0, 1, 0, 0, 0, 1, 0, 0, 1, 0, 0, 0, 0, 1, 0, 0,\n",
       "       0, 1, 0, 0, 0, 0, 1, 1, 0, 0, 1, 0, 0, 0, 0, 1, 0, 1, 0, 0, 1, 0,\n",
       "       1, 0, 0, 0, 0, 0, 0, 0, 1, 0, 0, 0, 1, 0, 0, 0, 1, 0, 1, 0, 0, 0,\n",
       "       1, 1, 0, 1, 1, 0, 1, 0, 1, 0, 1, 1, 0, 0, 0, 1, 1, 0, 0, 1, 0, 1,\n",
       "       0, 0, 1, 1, 0, 0, 0, 0, 0, 1, 1, 0, 0, 0, 0, 0, 0, 0, 0, 0, 1, 0,\n",
       "       1, 0, 1, 0, 0, 0, 0, 0, 0, 0, 1, 0, 0, 0, 0, 0, 0, 0, 0, 0, 0, 0,\n",
       "       1, 1, 0, 0, 0, 0, 0, 0, 1, 0, 0, 1, 0, 1, 0, 0, 0, 0, 1, 1, 0, 1,\n",
       "       1, 1, 0, 0, 0, 1, 0, 0, 0, 0, 0, 0, 0, 0, 0, 1, 1, 1, 0, 0, 0, 1,\n",
       "       0, 0, 1, 0, 0, 1, 0, 0, 0, 1, 0, 0, 1, 0, 1, 0, 0, 0, 1, 0, 0, 0,\n",
       "       1, 0, 0, 0, 0, 1, 1, 1, 0, 0, 0, 0, 0, 0, 0, 0, 0, 0, 0, 0, 0, 0,\n",
       "       0, 0, 0, 0, 0, 0, 0, 0, 0, 1, 0, 1, 1, 0, 0, 1, 1, 0, 0, 0, 0, 0,\n",
       "       0, 0, 0, 0, 1, 0, 0, 1, 0, 0, 0, 0, 0, 0, 0, 0, 0, 0, 0, 0, 0, 1,\n",
       "       0, 1, 1, 0, 0, 1, 1, 0, 0, 0, 0, 0, 0, 0, 0, 1, 0, 0, 1, 0, 0, 0,\n",
       "       0, 0, 0, 1, 0, 0, 0, 1, 0, 0, 0, 1, 0, 0, 1, 0, 0, 0, 1, 0, 1, 1,\n",
       "       1, 0, 0, 0, 0, 0, 0, 1, 0, 0, 0, 1, 0, 0, 0, 1, 0, 0, 0, 0, 0, 1,\n",
       "       0, 0, 0, 0, 1, 0, 0, 0, 0, 0, 1, 0, 0, 0, 0, 1, 0, 0, 1, 1, 0, 1,\n",
       "       0, 1, 0, 0, 0, 0])"
      ]
     },
     "execution_count": 22,
     "metadata": {},
     "output_type": "execute_result"
    }
   ],
   "source": [
    "y_true = np.array(test_ds[:]['label'])\n",
    "y_true"
   ]
  },
  {
   "cell_type": "code",
   "execution_count": 23,
   "id": "dff4e6f8-4cbd-4725-bbdf-6ff1cbbae763",
   "metadata": {},
   "outputs": [
    {
     "data": {
      "text/plain": [
       "array([[264,  29],\n",
       "       [  8, 101]])"
      ]
     },
     "execution_count": 23,
     "metadata": {},
     "output_type": "execute_result"
    }
   ],
   "source": [
    "from sklearn.metrics import confusion_matrix\n",
    "confusion_matrix(y_true, y_pred)"
   ]
  },
  {
   "cell_type": "code",
   "execution_count": null,
   "id": "9f1ad9c5-a7f4-4fc6-b788-e50415770018",
   "metadata": {},
   "outputs": [],
   "source": []
  },
  {
   "cell_type": "code",
   "execution_count": null,
   "id": "42e0dbb1-d40d-4bdd-a39c-7c9dd7b17888",
   "metadata": {},
   "outputs": [],
   "source": []
  }
 ],
 "metadata": {
  "kernelspec": {
   "display_name": "PRUEBA:Python",
   "language": "python",
   "name": "conda-env-PRUEBA-py"
  },
  "language_info": {
   "codemirror_mode": {
    "name": "ipython",
    "version": 3
   },
   "file_extension": ".py",
   "mimetype": "text/x-python",
   "name": "python",
   "nbconvert_exporter": "python",
   "pygments_lexer": "ipython3",
   "version": "3.9.13"
  }
 },
 "nbformat": 4,
 "nbformat_minor": 5
}
