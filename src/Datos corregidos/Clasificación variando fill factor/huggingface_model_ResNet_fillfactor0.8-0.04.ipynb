{
 "cells": [
  {
   "cell_type": "code",
   "execution_count": 1,
   "id": "882c7827-d492-48aa-8cb6-a77614297265",
   "metadata": {},
   "outputs": [],
   "source": [
    "#First, we choose the pretrained model to use \n",
    "\n",
    "#model_id = \"google/vit-base-patch16-224\"\n",
    "#model_id = 'microsoft/swin-tiny-patch4-window7-224'\n",
    "#model_id = 'facebook/deit-base-patch16-224'\n",
    "model_id = 'microsoft/resnet-50'\n"
   ]
  },
  {
   "cell_type": "markdown",
   "id": "0c1f530c-0b87-4a91-82f4-a60bf626cdb9",
   "metadata": {},
   "source": [
    "Now we load the feature extractor to process the image into a tensor."
   ]
  },
  {
   "cell_type": "code",
   "execution_count": 2,
   "id": "02cc9044-cb70-47c5-b31f-1657558d1df7",
   "metadata": {},
   "outputs": [
    {
     "name": "stderr",
     "output_type": "stream",
     "text": [
      "/home/studio-lab-user/.conda/envs/PRUEBA/lib/python3.9/site-packages/tqdm/auto.py:22: TqdmWarning: IProgress not found. Please update jupyter and ipywidgets. See https://ipywidgets.readthedocs.io/en/stable/user_install.html\n",
      "  from .autonotebook import tqdm as notebook_tqdm\n"
     ]
    }
   ],
   "source": [
    "from transformers import AutoFeatureExtractor, ViTFeatureExtractor, DeiTFeatureExtractor\n",
    "feature_extractor = AutoFeatureExtractor.from_pretrained(model_id)\n",
    "#feature_extractor = ViTFeatureExtractor.from_pretrained(model_id)\n",
    "#feature_extractor = DeiTFeatureExtractor.from_pretrained(model_id)"
   ]
  },
  {
   "cell_type": "markdown",
   "id": "d4166d1c-1a73-4190-8e82-624200047301",
   "metadata": {},
   "source": [
    "This feature extractor will resize every image to the resolution that the model expects and normalize channels. "
   ]
  },
  {
   "cell_type": "markdown",
   "id": "0491140c-c230-4655-9f89-e005c4d3a426",
   "metadata": {},
   "source": [
    "We define 2 functions, one for training and one for validation, including resizing, center cropping and normalizing."
   ]
  },
  {
   "cell_type": "code",
   "execution_count": 3,
   "id": "fd82a8a4-462b-4f15-ab70-da22f3a57f3b",
   "metadata": {},
   "outputs": [],
   "source": [
    "from torchvision.transforms import (\n",
    "    CenterCrop,\n",
    "    Compose,\n",
    "    Normalize,\n",
    "    RandomResizedCrop,\n",
    "    Resize,\n",
    "    ToTensor,\n",
    ")\n",
    "\n",
    "normalize = Normalize(mean=feature_extractor.image_mean, std=feature_extractor.image_std)\n",
    "train_transforms = Compose(\n",
    "        [\n",
    "            RandomResizedCrop(feature_extractor.size),\n",
    "            ToTensor(),\n",
    "            normalize,\n",
    "        ]\n",
    "    )\n",
    "\n",
    "val_transforms = Compose(\n",
    "        [\n",
    "            Resize(feature_extractor.size),\n",
    "            CenterCrop(feature_extractor.size),\n",
    "            ToTensor(),\n",
    "            normalize,\n",
    "        ]\n",
    "    )\n",
    "\n",
    "def preprocess_train(example_batch):\n",
    "    \"\"\"Apply train_transforms across a batch.\"\"\"\n",
    "    example_batch[\"pixel_values\"] = [\n",
    "        train_transforms(image.convert(\"RGB\")) for image in example_batch[\"img\"]\n",
    "    ]\n",
    "    return example_batch\n",
    "\n",
    "def preprocess_val(example_batch):\n",
    "    \"\"\"Apply val_transforms across a batch.\"\"\"\n",
    "    example_batch[\"pixel_values\"] = [val_transforms(image.convert(\"RGB\")) for image in example_batch[\"img\"]]\n",
    "    return example_batch"
   ]
  },
  {
   "cell_type": "markdown",
   "id": "346a291a-fafd-4580-b8ca-a40b9a71640b",
   "metadata": {},
   "source": [
    "Next, we can preprocess our dataset by applying these functions."
   ]
  },
  {
   "cell_type": "code",
   "execution_count": 4,
   "id": "a9f48cb2-035f-4b64-844d-36911beb1f7e",
   "metadata": {},
   "outputs": [
    {
     "data": {
      "text/plain": [
       "DatasetDict({\n",
       "    train: Dataset({\n",
       "        features: ['img', 'label'],\n",
       "        num_rows: 2044\n",
       "    })\n",
       "    val: Dataset({\n",
       "        features: ['img', 'label'],\n",
       "        num_rows: 228\n",
       "    })\n",
       "    test: Dataset({\n",
       "        features: ['img', 'label'],\n",
       "        num_rows: 402\n",
       "    })\n",
       "})"
      ]
     },
     "execution_count": 4,
     "metadata": {},
     "output_type": "execute_result"
    }
   ],
   "source": [
    "#Load data\n",
    "import datasets\n",
    "from datasets import Dataset, DatasetDict, load_dataset, load_from_disk\n",
    "ds = load_from_disk('./fillfactor_dict')\n",
    "ds"
   ]
  },
  {
   "cell_type": "code",
   "execution_count": 5,
   "id": "300c5553-6b86-4086-ad35-a15c5875c5d6",
   "metadata": {},
   "outputs": [],
   "source": [
    "# split up training into training + validation\n",
    "train_ds = ds['train']\n",
    "val_ds = ds['val']\n",
    "test_ds = ds['test']"
   ]
  },
  {
   "cell_type": "code",
   "execution_count": 6,
   "id": "256e4b28-52e6-4572-886a-a2aaaf814b9f",
   "metadata": {},
   "outputs": [
    {
     "name": "stdout",
     "output_type": "stream",
     "text": [
      "['gamma', 'proton']\n"
     ]
    }
   ],
   "source": [
    "#Classes names\n",
    "labels = train_ds.features[\"label\"].names\n",
    "print(labels)"
   ]
  },
  {
   "cell_type": "code",
   "execution_count": 7,
   "id": "97d151d8-791d-4eaf-ac20-0e22aab9454c",
   "metadata": {},
   "outputs": [
    {
     "name": "stderr",
     "output_type": "stream",
     "text": [
      "Parameter 'transform'=<function preprocess_train at 0x7fbde6932e50> of the transform datasets.arrow_dataset.Dataset.set_format couldn't be hashed properly, a random hash was used instead. Make sure your transforms and parameters are serializable with pickle or dill for the dataset fingerprinting and caching to work. If you reuse this transform, the caching mechanism will consider it to be different from the previous calls and recompute everything. This warning is only showed once. Subsequent hashing failures won't be showed.\n"
     ]
    }
   ],
   "source": [
    "train_ds.set_transform(preprocess_train)\n",
    "val_ds.set_transform(preprocess_val)"
   ]
  },
  {
   "cell_type": "code",
   "execution_count": 8,
   "id": "cfc4ed91-ffab-4e6f-bf0e-e90db0e8b8a1",
   "metadata": {},
   "outputs": [
    {
     "data": {
      "text/plain": [
       "{'img': <PIL.JpegImagePlugin.JpegImageFile image mode=RGB size=288x288>,\n",
       " 'label': 1,\n",
       " 'pixel_values': tensor([[[2.2489, 2.2489, 2.2489,  ..., 2.2147, 2.2147, 2.2318],\n",
       "          [2.2489, 2.2489, 2.2489,  ..., 2.1804, 2.1975, 2.2147],\n",
       "          [2.2489, 2.2489, 2.2489,  ..., 2.2147, 2.2318, 2.2489],\n",
       "          ...,\n",
       "          [2.2489, 2.2489, 2.2489,  ..., 2.2489, 2.2489, 2.2489],\n",
       "          [2.2489, 2.2489, 2.2489,  ..., 2.2489, 2.2489, 2.2489],\n",
       "          [2.2489, 2.2489, 2.2489,  ..., 2.2489, 2.2489, 2.2489]],\n",
       " \n",
       "         [[2.4286, 2.4286, 2.4286,  ..., 2.3761, 2.3761, 2.3936],\n",
       "          [2.4286, 2.4286, 2.4286,  ..., 2.3410, 2.3585, 2.3761],\n",
       "          [2.4286, 2.4286, 2.4286,  ..., 2.3761, 2.4111, 2.4111],\n",
       "          ...,\n",
       "          [2.4286, 2.4286, 2.4286,  ..., 2.4286, 2.4286, 2.4286],\n",
       "          [2.4286, 2.4286, 2.4286,  ..., 2.4286, 2.4286, 2.4286],\n",
       "          [2.4286, 2.4286, 2.4286,  ..., 2.4286, 2.4286, 2.4286]],\n",
       " \n",
       "         [[2.6400, 2.6400, 2.6400,  ..., 2.5529, 2.5529, 2.5703],\n",
       "          [2.6400, 2.6400, 2.6400,  ..., 2.5180, 2.5354, 2.5529],\n",
       "          [2.6400, 2.6400, 2.6400,  ..., 2.5529, 2.5877, 2.5877],\n",
       "          ...,\n",
       "          [2.6400, 2.6400, 2.6400,  ..., 2.6400, 2.6400, 2.6400],\n",
       "          [2.6400, 2.6400, 2.6400,  ..., 2.6400, 2.6400, 2.6400],\n",
       "          [2.6400, 2.6400, 2.6400,  ..., 2.6400, 2.6400, 2.6400]]])}"
      ]
     },
     "execution_count": 8,
     "metadata": {},
     "output_type": "execute_result"
    }
   ],
   "source": [
    "train_ds[0]"
   ]
  },
  {
   "cell_type": "markdown",
   "id": "7ffaa161-cffe-4796-8012-91e66d879fd1",
   "metadata": {},
   "source": [
    "Now that our data is ready, we can download the pretrained model and fine-tune it. We use the modelViTForImageClassification.  "
   ]
  },
  {
   "cell_type": "code",
   "execution_count": 9,
   "id": "22aa812a-f91f-4b38-8b18-eab8d71163f7",
   "metadata": {},
   "outputs": [],
   "source": [
    "#We create a dictionary that maps a label name to an integer and vice versa. \n",
    "#The mapping will help the model recover the label name from the label number.\n",
    "\n",
    "label2id, id2label = dict(), dict()\n",
    "for i, label in enumerate(labels):\n",
    "    label2id[label] = str(i)\n",
    "    id2label[str(i)] = label"
   ]
  },
  {
   "cell_type": "code",
   "execution_count": 10,
   "id": "43fba3aa-f533-4ba3-ae49-a57b117002d0",
   "metadata": {},
   "outputs": [
    {
     "name": "stderr",
     "output_type": "stream",
     "text": [
      "Some weights of ResNetForImageClassification were not initialized from the model checkpoint at microsoft/resnet-50 and are newly initialized because the shapes did not match:\n",
      "- classifier.1.weight: found shape torch.Size([1000, 2048]) in the checkpoint and torch.Size([2, 2048]) in the model instantiated\n",
      "- classifier.1.bias: found shape torch.Size([1000]) in the checkpoint and torch.Size([2]) in the model instantiated\n",
      "You should probably TRAIN this model on a down-stream task to be able to use it for predictions and inference.\n"
     ]
    }
   ],
   "source": [
    "from transformers import ViTForImageClassification, SwinForImageClassification,ResNetForImageClassification, TrainingArguments, Trainer, SegformerForImageClassification\n",
    "\n",
    "#model = ViTForImageClassification.from_pretrained(model_id,\n",
    "#                                                 label2id=label2id,\n",
    "#                                                 id2label=id2label,\n",
    "#                                                 ignore_mismatched_sizes = True, # provide this in case you're planning to fine-tune an already fine-tuned checkpoint\n",
    "#                                                 )\n",
    "\n",
    "#model = SwinForImageClassification.from_pretrained(model_id,\n",
    "#                                                 label2id=label2id,\n",
    "#                                                 id2label=id2label,\n",
    "#                                                 ignore_mismatched_sizes = True, # provide this in case you're planning to fine-tune an already fine-tuned checkpoint\n",
    "#) \n",
    "\n",
    "model = ResNetForImageClassification.from_pretrained(model_id,\n",
    "                                                 label2id=label2id,\n",
    "                                                 id2label=id2label,\n",
    "                                                 ignore_mismatched_sizes = True, # provide this in case you're planning to fine-tune an already fine-tuned checkpoint\n",
    ")\n",
    "\n",
    "\n"
   ]
  },
  {
   "cell_type": "markdown",
   "id": "b6b3e17f-979c-47ca-bad5-76f087d1b333",
   "metadata": {},
   "source": [
    "The warning is telling us we are throwing away some weights (the weights and bias of the classifier layer) and randomly initializing some other (the weights and bias of a new classifier layer). This is expected in this case, because we are adding a new head for which we don't have pretrained weights, so the library warns us we should fine-tune this model before using it for inference, which is exactly what we are going to do."
   ]
  },
  {
   "cell_type": "markdown",
   "id": "6fc7ce9b-a0f0-4f10-90a1-77b8e5613dd1",
   "metadata": {},
   "source": [
    "To instantiate a Trainer, we will need to define the training configuration and the evaluation metric. The most important is the TrainingArguments, which is a class that contains all the attributes to customize the training. It requires one folder name, which will be used to save the checkpoints of the model.\n",
    "\n",
    "Most of the training arguments are pretty self-explanatory, but one that is quite important here is remove_unused_columns=False. This one will drop any features not used by the model's call function. By default it's True because usually it's ideal to drop unused feature columns, making it easier to unpack inputs into the model's call function. But, in our case, we need the unused features ('image' in particular) in order to create 'pixel_values'."
   ]
  },
  {
   "cell_type": "code",
   "execution_count": 11,
   "id": "ede566e3-36e9-473d-baeb-30b0c2cf2ee7",
   "metadata": {},
   "outputs": [],
   "source": [
    "model_name = model_id.split(\"/\")[-1]\n",
    "batch_size = 32\n",
    "learning_rate = 5e-5\n",
    "gradient_accumulation_steps = 4\n",
    "epochs = 3\n",
    "warmup_ratio= 0.1\n",
    "logging_steps=10\n",
    "\n",
    "args = TrainingArguments(\n",
    "    f\"{model_name}-finetuned-ds\",\n",
    "    remove_unused_columns=False,\n",
    "    evaluation_strategy = \"epoch\",\n",
    "    save_strategy = \"epoch\",\n",
    "    learning_rate=learning_rate,\n",
    "    per_device_train_batch_size=batch_size,\n",
    "    gradient_accumulation_steps=gradient_accumulation_steps,\n",
    "    per_device_eval_batch_size=batch_size,\n",
    "    num_train_epochs=epochs,\n",
    "    warmup_ratio=warmup_ratio,\n",
    "    logging_steps=logging_steps,\n",
    "    load_best_model_at_end=True,\n",
    "    metric_for_best_model=\"accuracy\",\n",
    "   # push_to_hub=True,\n",
    ")"
   ]
  },
  {
   "cell_type": "markdown",
   "id": "0f1464cb-4b0a-4621-b65a-6056e36cad1c",
   "metadata": {},
   "source": [
    "Next, we need to define a function for how to compute the metrics from the predictions, which will just use the metric we loaded earlier. Let us also load the Accuracy metric, which we'll use to evaluate our model both during and after training. The only preprocessing we have to do is to take the argmax of our predicted logits:"
   ]
  },
  {
   "cell_type": "code",
   "execution_count": 12,
   "id": "be8d4103-623c-41be-816f-71aba0fad059",
   "metadata": {},
   "outputs": [],
   "source": [
    "import numpy as np\n",
    "\n",
    "from datasets import load_metric\n",
    "\n",
    "metric = load_metric(\"accuracy\")\n",
    "\n",
    "# the compute_metrics function takes a Named Tuple as input:\n",
    "# predictions, which are the logits of the model as Numpy arrays,\n",
    "# and label_ids, which are the ground-truth labels as Numpy arrays.\n",
    "def compute_metrics(eval_pred):\n",
    "    \"\"\"Computes accuracy on a batch of predictions\"\"\"\n",
    "    predictions = np.argmax(eval_pred.predictions, axis=1)\n",
    "    return metric.compute(predictions=predictions, references=eval_pred.label_ids)"
   ]
  },
  {
   "cell_type": "markdown",
   "id": "96a2b985-b913-4849-b3f4-2fdbe77fe455",
   "metadata": {},
   "source": [
    "We also define a collate_fn, which will be used to batch examples together. Each batch consists of 2 keys, namely pixel_values and labels."
   ]
  },
  {
   "cell_type": "code",
   "execution_count": 13,
   "id": "649a749c-d111-47f8-807b-0ba04b53d2a6",
   "metadata": {},
   "outputs": [],
   "source": [
    "import torch\n",
    "\n",
    "def collate_fn(examples):\n",
    "    pixel_values = torch.stack([example[\"pixel_values\"] for example in examples])\n",
    "    labels = torch.tensor([example[\"label\"] for example in examples])\n",
    "    return {\"pixel_values\": pixel_values, \"labels\": labels}"
   ]
  },
  {
   "cell_type": "markdown",
   "id": "4b265339-7eec-44e3-8c38-1ce884527253",
   "metadata": {},
   "source": [
    "Then we just need to pass all of this along with our datasets to the Trainer:"
   ]
  },
  {
   "cell_type": "code",
   "execution_count": 14,
   "id": "5780f1c8-20f9-4694-b90a-099b5b02a3ac",
   "metadata": {},
   "outputs": [],
   "source": [
    "trainer = Trainer(\n",
    "    model,\n",
    "    args,\n",
    "    train_dataset=train_ds,\n",
    "    eval_dataset=val_ds,\n",
    "    tokenizer=feature_extractor,\n",
    "    compute_metrics=compute_metrics,\n",
    "    data_collator=collate_fn,\n",
    ")"
   ]
  },
  {
   "cell_type": "markdown",
   "id": "9c9bc7b0-35ce-496f-a8ef-27f59326e421",
   "metadata": {},
   "source": [
    "Now we can finetune our model by calling the train method:"
   ]
  },
  {
   "cell_type": "code",
   "execution_count": 15,
   "id": "9afe1d3f-c7e2-47a8-9411-5d8509d89f75",
   "metadata": {},
   "outputs": [
    {
     "name": "stderr",
     "output_type": "stream",
     "text": [
      "/home/studio-lab-user/.conda/envs/PRUEBA/lib/python3.9/site-packages/transformers/optimization.py:306: FutureWarning: This implementation of AdamW is deprecated and will be removed in a future version. Use the PyTorch implementation torch.optim.AdamW instead, or set `no_deprecation_warning=True` to disable this warning\n",
      "  warnings.warn(\n",
      "***** Running training *****\n",
      "  Num examples = 2044\n",
      "  Num Epochs = 3\n",
      "  Instantaneous batch size per device = 32\n",
      "  Total train batch size (w. parallel, distributed & accumulation) = 128\n",
      "  Gradient Accumulation steps = 4\n",
      "  Total optimization steps = 48\n"
     ]
    },
    {
     "data": {
      "text/html": [
       "\n",
       "    <div>\n",
       "      \n",
       "      <progress value='48' max='48' style='width:300px; height:20px; vertical-align: middle;'></progress>\n",
       "      [48/48 26:29, Epoch 3/3]\n",
       "    </div>\n",
       "    <table border=\"1\" class=\"dataframe\">\n",
       "  <thead>\n",
       " <tr style=\"text-align: left;\">\n",
       "      <th>Epoch</th>\n",
       "      <th>Training Loss</th>\n",
       "      <th>Validation Loss</th>\n",
       "      <th>Accuracy</th>\n",
       "    </tr>\n",
       "  </thead>\n",
       "  <tbody>\n",
       "    <tr>\n",
       "      <td>1</td>\n",
       "      <td>0.666900</td>\n",
       "      <td>0.635906</td>\n",
       "      <td>0.728070</td>\n",
       "    </tr>\n",
       "    <tr>\n",
       "      <td>2</td>\n",
       "      <td>0.625300</td>\n",
       "      <td>0.617917</td>\n",
       "      <td>0.728070</td>\n",
       "    </tr>\n",
       "    <tr>\n",
       "      <td>3</td>\n",
       "      <td>0.619400</td>\n",
       "      <td>0.611081</td>\n",
       "      <td>0.728070</td>\n",
       "    </tr>\n",
       "  </tbody>\n",
       "</table><p>"
      ],
      "text/plain": [
       "<IPython.core.display.HTML object>"
      ]
     },
     "metadata": {},
     "output_type": "display_data"
    },
    {
     "name": "stderr",
     "output_type": "stream",
     "text": [
      "***** Running Evaluation *****\n",
      "  Num examples = 228\n",
      "  Batch size = 32\n",
      "Saving model checkpoint to resnet-50-finetuned-ds/checkpoint-16\n",
      "Configuration saved in resnet-50-finetuned-ds/checkpoint-16/config.json\n",
      "Model weights saved in resnet-50-finetuned-ds/checkpoint-16/pytorch_model.bin\n",
      "Feature extractor saved in resnet-50-finetuned-ds/checkpoint-16/preprocessor_config.json\n",
      "***** Running Evaluation *****\n",
      "  Num examples = 228\n",
      "  Batch size = 32\n",
      "Saving model checkpoint to resnet-50-finetuned-ds/checkpoint-32\n",
      "Configuration saved in resnet-50-finetuned-ds/checkpoint-32/config.json\n",
      "Model weights saved in resnet-50-finetuned-ds/checkpoint-32/pytorch_model.bin\n",
      "Feature extractor saved in resnet-50-finetuned-ds/checkpoint-32/preprocessor_config.json\n",
      "***** Running Evaluation *****\n",
      "  Num examples = 228\n",
      "  Batch size = 32\n",
      "Saving model checkpoint to resnet-50-finetuned-ds/checkpoint-48\n",
      "Configuration saved in resnet-50-finetuned-ds/checkpoint-48/config.json\n",
      "Model weights saved in resnet-50-finetuned-ds/checkpoint-48/pytorch_model.bin\n",
      "Feature extractor saved in resnet-50-finetuned-ds/checkpoint-48/preprocessor_config.json\n",
      "\n",
      "\n",
      "Training completed. Do not forget to share your model on huggingface.co/models =)\n",
      "\n",
      "\n",
      "Loading best model from resnet-50-finetuned-ds/checkpoint-16 (score: 0.7280701754385965).\n"
     ]
    }
   ],
   "source": [
    "train_results = trainer.train()\n"
   ]
  },
  {
   "cell_type": "code",
   "execution_count": 16,
   "id": "70610cf9-8570-4b37-b43c-bdc964a2c8e6",
   "metadata": {},
   "outputs": [
    {
     "name": "stderr",
     "output_type": "stream",
     "text": [
      "***** Running Evaluation *****\n",
      "  Num examples = 228\n",
      "  Batch size = 32\n"
     ]
    },
    {
     "data": {
      "text/html": [
       "\n",
       "    <div>\n",
       "      \n",
       "      <progress value='21' max='8' style='width:300px; height:20px; vertical-align: middle;'></progress>\n",
       "      [8/8 00:42]\n",
       "    </div>\n",
       "    "
      ],
      "text/plain": [
       "<IPython.core.display.HTML object>"
      ]
     },
     "metadata": {},
     "output_type": "display_data"
    },
    {
     "name": "stdout",
     "output_type": "stream",
     "text": [
      "***** eval metrics *****\n",
      "  epoch                   =        3.0\n",
      "  eval_accuracy           =     0.7281\n",
      "  eval_loss               =     0.6359\n",
      "  eval_runtime            = 0:00:16.15\n",
      "  eval_samples_per_second =     14.114\n",
      "  eval_steps_per_second   =      0.495\n"
     ]
    }
   ],
   "source": [
    "\n",
    "metrics = trainer.evaluate()\n",
    "# some nice to haves:\n",
    "trainer.log_metrics(\"eval\", metrics)\n",
    "trainer.save_metrics(\"eval\", metrics)"
   ]
  },
  {
   "cell_type": "code",
   "execution_count": 17,
   "id": "43c9156b-84a2-4d28-875f-6c9796f41d46",
   "metadata": {},
   "outputs": [],
   "source": [
    "\n",
    "test_ds.set_transform(preprocess_val)"
   ]
  },
  {
   "cell_type": "code",
   "execution_count": 18,
   "id": "96167b9c-d84b-43c0-a85f-fae3ccf58ab0",
   "metadata": {},
   "outputs": [
    {
     "name": "stderr",
     "output_type": "stream",
     "text": [
      "***** Running Prediction *****\n",
      "  Num examples = 402\n",
      "  Batch size = 32\n"
     ]
    }
   ],
   "source": [
    "outputs = trainer.predict(test_ds)\n",
    "y_pred = outputs.predictions.argmax(1)"
   ]
  },
  {
   "cell_type": "code",
   "execution_count": 19,
   "id": "a35c48e8-a78e-47d1-85f8-97fc7a5c91c6",
   "metadata": {},
   "outputs": [
    {
     "data": {
      "text/plain": [
       "{'accuracy': 0.7288557213930348}"
      ]
     },
     "execution_count": 19,
     "metadata": {},
     "output_type": "execute_result"
    }
   ],
   "source": [
    "compute_metrics(outputs)"
   ]
  },
  {
   "cell_type": "code",
   "execution_count": 20,
   "id": "f847d7ab-5acd-454d-af4d-044049cab94e",
   "metadata": {},
   "outputs": [
    {
     "data": {
      "text/plain": [
       "PredictionOutput(predictions=array([[-0.24030846,  0.13216585],\n",
       "       [-0.13444103,  0.08416521],\n",
       "       [-0.13464794,  0.0944342 ],\n",
       "       [-0.18346351,  0.11364201],\n",
       "       [-0.16044831,  0.06918806],\n",
       "       [-0.16644925,  0.11214588],\n",
       "       [-0.22708614,  0.08126349],\n",
       "       [-0.14824599,  0.0695819 ],\n",
       "       [-0.21465442,  0.15166916],\n",
       "       [-0.13117585,  0.04680207],\n",
       "       [-0.21478988,  0.08141774],\n",
       "       [-0.19406539,  0.16639759],\n",
       "       [-0.14768003,  0.09568999],\n",
       "       [-0.12909903,  0.09171882],\n",
       "       [-0.15031227,  0.09106483],\n",
       "       [-0.16154608,  0.17008603],\n",
       "       [-0.18347216,  0.12333495],\n",
       "       [-0.16582881,  0.06527293],\n",
       "       [-0.14503379,  0.19030398],\n",
       "       [-0.14945766,  0.06440954],\n",
       "       [-0.1621727 ,  0.0643989 ],\n",
       "       [-0.19698972,  0.09360421],\n",
       "       [-0.2103506 ,  0.10598561],\n",
       "       [-0.15721466,  0.08413122],\n",
       "       [-0.1764131 ,  0.04465323],\n",
       "       [-0.21131366,  0.11650621],\n",
       "       [-0.14515153,  0.07539909],\n",
       "       [-0.13418059,  0.14158478],\n",
       "       [-0.2451903 ,  0.15150383],\n",
       "       [-0.20137456,  0.1178377 ],\n",
       "       [-0.19694737,  0.13796723],\n",
       "       [-0.12809815,  0.04517148],\n",
       "       [-0.15375322,  0.04295411],\n",
       "       [-0.19459386,  0.13247555],\n",
       "       [-0.19555104,  0.09822449],\n",
       "       [-0.16028911,  0.09402581],\n",
       "       [-0.1839563 ,  0.11022938],\n",
       "       [-0.14751434,  0.08996863],\n",
       "       [-0.16421069,  0.15973559],\n",
       "       [-0.13988566,  0.0781149 ],\n",
       "       [-0.15714526,  0.16406545],\n",
       "       [-0.06294027,  0.1266091 ],\n",
       "       [-0.10123312,  0.03398041],\n",
       "       [-0.1846004 ,  0.07917954],\n",
       "       [-0.20004737,  0.12281324],\n",
       "       [-0.14621615,  0.14659491],\n",
       "       [-0.11572108,  0.09842575],\n",
       "       [-0.08028626,  0.04922334],\n",
       "       [-0.19027574,  0.06427297],\n",
       "       [-0.21329026,  0.1438994 ],\n",
       "       [-0.18445276,  0.09206282],\n",
       "       [-0.19193728,  0.10017903],\n",
       "       [-0.185859  ,  0.1185158 ],\n",
       "       [-0.11126393,  0.0659141 ],\n",
       "       [-0.24498564,  0.11554518],\n",
       "       [-0.1778023 ,  0.12683259],\n",
       "       [-0.13120542,  0.19511986],\n",
       "       [-0.14414251,  0.0856553 ],\n",
       "       [-0.16012058,  0.05908974],\n",
       "       [-0.12925787,  0.10210147],\n",
       "       [-0.19431558,  0.0475402 ],\n",
       "       [-0.20921329,  0.11940484],\n",
       "       [-0.19207184,  0.12971169],\n",
       "       [-0.1625272 ,  0.11977877],\n",
       "       [-0.18405074,  0.11574233],\n",
       "       [-0.18962315,  0.10592806],\n",
       "       [-0.15628348,  0.15220228],\n",
       "       [-0.21166062,  0.08956599],\n",
       "       [-0.17880113,  0.11787321],\n",
       "       [-0.22819093,  0.16487867],\n",
       "       [-0.15030089,  0.12391162],\n",
       "       [-0.21546298,  0.04203067],\n",
       "       [-0.24353606,  0.14400515],\n",
       "       [-0.20938516,  0.12947658],\n",
       "       [-0.20270708,  0.10455073],\n",
       "       [-0.21466064,  0.11167383],\n",
       "       [-0.19178376,  0.0669975 ],\n",
       "       [-0.15488543,  0.14356418],\n",
       "       [-0.12418683,  0.08963642],\n",
       "       [-0.17477886,  0.07724899],\n",
       "       [-0.147424  ,  0.109838  ],\n",
       "       [-0.11781281,  0.14169723],\n",
       "       [-0.17796554,  0.09470862],\n",
       "       [-0.17239404,  0.12574261],\n",
       "       [-0.24979508,  0.12674317],\n",
       "       [-0.18251622,  0.09108227],\n",
       "       [-0.17660438,  0.09921417],\n",
       "       [-0.19920999,  0.14199641],\n",
       "       [-0.15550822,  0.09598239],\n",
       "       [-0.17869923,  0.1108647 ],\n",
       "       [-0.19574818,  0.10730305],\n",
       "       [-0.13819252,  0.09559588],\n",
       "       [-0.177369  ,  0.10693635],\n",
       "       [-0.16906624,  0.0718141 ],\n",
       "       [-0.14109077,  0.0799325 ],\n",
       "       [-0.20451953,  0.11194724],\n",
       "       [-0.20482445,  0.12337795],\n",
       "       [-0.15048125,  0.15568405],\n",
       "       [-0.16586225,  0.14036481],\n",
       "       [-0.18948834,  0.1204119 ],\n",
       "       [-0.18036339,  0.08862598],\n",
       "       [-0.16949905,  0.07454424],\n",
       "       [-0.17989528,  0.06173976],\n",
       "       [-0.16030455,  0.09077303],\n",
       "       [-0.17702654,  0.03855179],\n",
       "       [-0.18102044,  0.08469272],\n",
       "       [-0.22835767,  0.0525867 ],\n",
       "       [-0.20441556,  0.15578622],\n",
       "       [-0.13919935,  0.0401078 ],\n",
       "       [-0.21309641,  0.07440414],\n",
       "       [-0.06550594,  0.04153384],\n",
       "       [-0.18212244,  0.13412315],\n",
       "       [-0.21472237,  0.15380852],\n",
       "       [-0.1967759 ,  0.09990761],\n",
       "       [-0.21437865,  0.12434787],\n",
       "       [-0.18576032,  0.13078864],\n",
       "       [-0.18612906,  0.09212155],\n",
       "       [-0.2059602 ,  0.16019401],\n",
       "       [-0.17453083,  0.05352794],\n",
       "       [-0.1874519 ,  0.11100319],\n",
       "       [-0.18127623,  0.13568747],\n",
       "       [-0.14741752,  0.12602428],\n",
       "       [-0.20542547,  0.12851077],\n",
       "       [-0.1793769 ,  0.13146727],\n",
       "       [-0.15485382,  0.12803568],\n",
       "       [-0.13788134,  0.10359923],\n",
       "       [-0.16191748,  0.10800328],\n",
       "       [-0.18661283,  0.09056506],\n",
       "       [-0.10575536,  0.16324645],\n",
       "       [-0.20079663,  0.09945226],\n",
       "       [-0.13037248,  0.07776909],\n",
       "       [-0.18961672,  0.09942492],\n",
       "       [-0.15517709,  0.09106562],\n",
       "       [-0.13003922,  0.10612798],\n",
       "       [-0.1875067 ,  0.10632256],\n",
       "       [-0.15910172,  0.10274732],\n",
       "       [-0.15894207,  0.13179754],\n",
       "       [-0.13422264,  0.11951328],\n",
       "       [-0.11262801,  0.13323686],\n",
       "       [-0.15904278,  0.10884744],\n",
       "       [-0.24373925,  0.09886451],\n",
       "       [-0.10628276,  0.13552052],\n",
       "       [-0.22712268,  0.13116801],\n",
       "       [-0.26309466,  0.17714956],\n",
       "       [-0.18809396,  0.17458725],\n",
       "       [-0.12505499,  0.09566294],\n",
       "       [-0.09011464,  0.12685835],\n",
       "       [-0.16090201,  0.08587565],\n",
       "       [-0.18091166,  0.08207743],\n",
       "       [-0.17017096,  0.16942628],\n",
       "       [-0.19833618,  0.06504241],\n",
       "       [-0.15268713,  0.07108667],\n",
       "       [-0.16377175,  0.14023529],\n",
       "       [-0.18690002,  0.11018545],\n",
       "       [-0.13939725,  0.16288628],\n",
       "       [-0.16196713,  0.11368471],\n",
       "       [-0.18624085,  0.15679523],\n",
       "       [-0.17785715,  0.11861631],\n",
       "       [-0.20439804,  0.0806326 ],\n",
       "       [-0.24513705,  0.08102021],\n",
       "       [-0.18864837,  0.10078683],\n",
       "       [-0.17301263,  0.09647485],\n",
       "       [-0.13011229,  0.09251039],\n",
       "       [-0.12419492,  0.09582547],\n",
       "       [-0.13962367,  0.15094635],\n",
       "       [-0.11510132,  0.06614951],\n",
       "       [-0.11226811,  0.1202281 ],\n",
       "       [-0.13722707,  0.16281706],\n",
       "       [-0.10856576,  0.06759491],\n",
       "       [-0.19129016,  0.154196  ],\n",
       "       [-0.14617562,  0.09258061],\n",
       "       [-0.18039437,  0.12043539],\n",
       "       [-0.18853289,  0.06558751],\n",
       "       [-0.21952324,  0.05757472],\n",
       "       [-0.19206974,  0.14557676],\n",
       "       [-0.17359065,  0.17875595],\n",
       "       [-0.1940912 ,  0.08991434],\n",
       "       [-0.1304039 ,  0.12576446],\n",
       "       [-0.14872137,  0.05123248],\n",
       "       [-0.17772181,  0.10781077],\n",
       "       [-0.14951201,  0.12872553],\n",
       "       [-0.20449337,  0.11860079],\n",
       "       [-0.18343729,  0.07555538],\n",
       "       [-0.13360721,  0.1244434 ],\n",
       "       [-0.1597197 ,  0.10799856],\n",
       "       [-0.11824071,  0.06581348],\n",
       "       [-0.14618525,  0.03643097],\n",
       "       [-0.15889415,  0.15171157],\n",
       "       [-0.1827912 ,  0.14586471],\n",
       "       [-0.17277202,  0.07566468],\n",
       "       [-0.1072229 ,  0.04499146],\n",
       "       [-0.22310425,  0.08482572],\n",
       "       [-0.12890834,  0.12170496],\n",
       "       [-0.14916076,  0.07381296],\n",
       "       [-0.1863608 ,  0.08538229],\n",
       "       [-0.15953779,  0.14194842],\n",
       "       [-0.15675926,  0.07558217],\n",
       "       [-0.17305022,  0.10369249],\n",
       "       [-0.13257843,  0.13368326],\n",
       "       [-0.15786356,  0.05996335],\n",
       "       [-0.15206182,  0.04476484],\n",
       "       [-0.19233108,  0.12014072],\n",
       "       [-0.2548612 ,  0.13943142],\n",
       "       [-0.1715846 ,  0.14339279],\n",
       "       [-0.11578006,  0.0860404 ],\n",
       "       [-0.12486297,  0.10232134],\n",
       "       [-0.13454597,  0.10564281],\n",
       "       [-0.22873063,  0.1132862 ],\n",
       "       [-0.14980721,  0.11840874],\n",
       "       [-0.21564035,  0.06603776],\n",
       "       [-0.2380835 ,  0.10532733],\n",
       "       [-0.14041454,  0.21655887],\n",
       "       [-0.12398577,  0.14400022],\n",
       "       [-0.10906899,  0.07870941],\n",
       "       [-0.1407418 ,  0.11395062],\n",
       "       [-0.22205395,  0.12688197],\n",
       "       [-0.2214886 ,  0.0709482 ],\n",
       "       [-0.18351655,  0.06940846],\n",
       "       [-0.11291119,  0.1202561 ],\n",
       "       [-0.15060002,  0.09786186],\n",
       "       [-0.17858312,  0.08308962],\n",
       "       [-0.16505879,  0.09721549],\n",
       "       [-0.15642367,  0.16308689],\n",
       "       [-0.17223647,  0.1310754 ],\n",
       "       [-0.14105234,  0.09492754],\n",
       "       [-0.19770312,  0.10540526],\n",
       "       [-0.17153108,  0.11854522],\n",
       "       [-0.16636448,  0.04250403],\n",
       "       [-0.22517887,  0.01150084],\n",
       "       [-0.15218645,  0.07753461],\n",
       "       [-0.14663643,  0.04450813],\n",
       "       [-0.13970688,  0.1051752 ],\n",
       "       [-0.15800893,  0.1370426 ],\n",
       "       [-0.16746408,  0.06736321],\n",
       "       [-0.1827454 ,  0.10426391],\n",
       "       [-0.14824957,  0.08159133],\n",
       "       [-0.17486736,  0.12853476],\n",
       "       [-0.15590265,  0.07955195],\n",
       "       [-0.21020006,  0.07182703],\n",
       "       [-0.20083   ,  0.08278348],\n",
       "       [-0.15364188,  0.08904827],\n",
       "       [-0.14786611,  0.16843192],\n",
       "       [-0.13356096,  0.04303094],\n",
       "       [-0.14272492,  0.05451914],\n",
       "       [-0.15354861,  0.08355873],\n",
       "       [-0.17722054,  0.14635317],\n",
       "       [-0.14071748,  0.13391389],\n",
       "       [-0.18689723,  0.03975926],\n",
       "       [-0.15770018,  0.09786741],\n",
       "       [-0.14313205,  0.08611581],\n",
       "       [-0.12882996,  0.08086462],\n",
       "       [-0.15837194,  0.08643485],\n",
       "       [-0.24328825,  0.11304483],\n",
       "       [-0.21914412,  0.10604925],\n",
       "       [-0.13998565,  0.07151277],\n",
       "       [-0.1704539 ,  0.10025772],\n",
       "       [-0.17545624,  0.02965418],\n",
       "       [-0.15671942,  0.1510917 ],\n",
       "       [-0.22396955,  0.10872548],\n",
       "       [-0.16890904,  0.08532799],\n",
       "       [-0.13087848,  0.08625627],\n",
       "       [-0.15777111,  0.10460033],\n",
       "       [-0.19091839,  0.10178111],\n",
       "       [-0.19290936,  0.10091341],\n",
       "       [-0.15770446,  0.15279554],\n",
       "       [-0.1772789 ,  0.08001325],\n",
       "       [-0.13971904,  0.18917413],\n",
       "       [-0.14744598,  0.13621467],\n",
       "       [-0.16577235,  0.08793366],\n",
       "       [-0.21700093,  0.09158109],\n",
       "       [-0.16832432,  0.05529234],\n",
       "       [-0.15511544,  0.08130115],\n",
       "       [-0.12872353,  0.10876936],\n",
       "       [-0.21100688,  0.12809512],\n",
       "       [-0.20695123,  0.12665167],\n",
       "       [-0.21483544,  0.09086238],\n",
       "       [-0.11759267,  0.1138809 ],\n",
       "       [-0.16324958,  0.11369776],\n",
       "       [-0.18978678,  0.09794655],\n",
       "       [-0.25061387,  0.12693432],\n",
       "       [-0.20319617,  0.07802327],\n",
       "       [-0.08568288,  0.06455851],\n",
       "       [-0.19154763,  0.03886372],\n",
       "       [-0.15322573,  0.05964744],\n",
       "       [-0.20850077,  0.11000798],\n",
       "       [-0.16426706,  0.08193569],\n",
       "       [-0.17384656,  0.12674068],\n",
       "       [-0.11029067,  0.09729902],\n",
       "       [-0.20978469,  0.12349255],\n",
       "       [-0.12099878,  0.11219841],\n",
       "       [-0.2512256 ,  0.1020503 ],\n",
       "       [-0.1267766 ,  0.13498688],\n",
       "       [-0.19414188,  0.11235493],\n",
       "       [-0.18782014,  0.07140681],\n",
       "       [-0.2183357 ,  0.11104386],\n",
       "       [-0.1577689 ,  0.1039864 ],\n",
       "       [-0.16143543,  0.0783284 ],\n",
       "       [-0.1390963 ,  0.07133612],\n",
       "       [-0.16198808,  0.15376075],\n",
       "       [-0.19141181,  0.05359462],\n",
       "       [-0.18049946,  0.09303284],\n",
       "       [-0.11261854,  0.11578992],\n",
       "       [-0.1497353 ,  0.09567602],\n",
       "       [-0.1887745 ,  0.10469805],\n",
       "       [-0.1931602 ,  0.09490261],\n",
       "       [-0.18539938,  0.05206462],\n",
       "       [-0.23168135,  0.06445196],\n",
       "       [-0.22980608,  0.17735222],\n",
       "       [-0.14856544,  0.08015453],\n",
       "       [-0.10253216,  0.0855899 ],\n",
       "       [-0.2135063 ,  0.08170799],\n",
       "       [-0.21803938,  0.15612884],\n",
       "       [-0.17367285,  0.11052088],\n",
       "       [-0.1373204 ,  0.06025117],\n",
       "       [-0.24898884,  0.0941182 ],\n",
       "       [-0.20751229,  0.0778728 ],\n",
       "       [-0.20431113,  0.09670126],\n",
       "       [-0.14452279,  0.10267283],\n",
       "       [-0.18662883,  0.06309286],\n",
       "       [-0.1154511 ,  0.06888132],\n",
       "       [-0.19472209,  0.13679045],\n",
       "       [-0.20978871,  0.09783366],\n",
       "       [-0.1147493 ,  0.02785616],\n",
       "       [-0.1797857 ,  0.07925864],\n",
       "       [-0.19463761,  0.15625075],\n",
       "       [-0.13536137,  0.07120859],\n",
       "       [-0.15981148,  0.10979842],\n",
       "       [-0.19925568,  0.0676492 ],\n",
       "       [-0.22518913,  0.11021328],\n",
       "       [-0.1170295 ,  0.13758975],\n",
       "       [-0.18285969,  0.14554992],\n",
       "       [-0.16688353,  0.1063243 ],\n",
       "       [-0.2011629 ,  0.07376254],\n",
       "       [-0.15580982,  0.1397496 ],\n",
       "       [-0.18070109,  0.11013849],\n",
       "       [-0.15807982,  0.0528632 ],\n",
       "       [-0.14452621,  0.10221054],\n",
       "       [-0.12231537,  0.09465494],\n",
       "       [-0.13651744,  0.09533255],\n",
       "       [-0.06464157,  0.12879446],\n",
       "       [-0.15479323,  0.10329566],\n",
       "       [-0.18686303,  0.09058476],\n",
       "       [-0.17820919,  0.12923859],\n",
       "       [-0.18160301,  0.10434525],\n",
       "       [-0.15892246,  0.14320345],\n",
       "       [-0.166807  ,  0.00636242],\n",
       "       [-0.21783927,  0.11701456],\n",
       "       [-0.1838387 ,  0.13983655],\n",
       "       [-0.20905577,  0.14000975],\n",
       "       [-0.1581401 ,  0.16350584],\n",
       "       [-0.16009119,  0.14552206],\n",
       "       [-0.15728173,  0.1064938 ],\n",
       "       [-0.18006763,  0.16842821],\n",
       "       [-0.16558675,  0.03434432],\n",
       "       [-0.14789878,  0.12195101],\n",
       "       [-0.23532972,  0.04423061],\n",
       "       [-0.13351557,  0.09449838],\n",
       "       [-0.15683904,  0.06359521],\n",
       "       [-0.13810533,  0.09928404],\n",
       "       [-0.20583321,  0.12554023],\n",
       "       [-0.17573017,  0.09352757],\n",
       "       [-0.21633288,  0.11720575],\n",
       "       [-0.15163317,  0.08548186],\n",
       "       [-0.14520437,  0.03518026],\n",
       "       [-0.20063344,  0.06132628],\n",
       "       [-0.17118824,  0.08095115],\n",
       "       [-0.22167158,  0.06030585],\n",
       "       [-0.16320702,  0.08403636],\n",
       "       [-0.15762308,  0.10734518],\n",
       "       [-0.18385777,  0.03337939],\n",
       "       [-0.14950323,  0.07215858],\n",
       "       [-0.21491717,  0.09713098],\n",
       "       [-0.20041993,  0.06837991],\n",
       "       [-0.19323748,  0.19892837],\n",
       "       [-0.1634883 ,  0.09868272],\n",
       "       [-0.10485938,  0.10521051],\n",
       "       [-0.13958296,  0.15685074],\n",
       "       [-0.16036308,  0.08891102],\n",
       "       [-0.17874685,  0.0487712 ],\n",
       "       [-0.17071518,  0.06080799],\n",
       "       [-0.13360833,  0.0829799 ],\n",
       "       [-0.12857556,  0.07154663],\n",
       "       [-0.15850113,  0.09251269],\n",
       "       [-0.24883395,  0.07839784],\n",
       "       [-0.16157421,  0.10719097],\n",
       "       [-0.1722037 ,  0.11166104],\n",
       "       [-0.11968972,  0.08261021],\n",
       "       [-0.13852848,  0.08940987],\n",
       "       [-0.20391196,  0.12048957],\n",
       "       [-0.19572271,  0.16040778],\n",
       "       [-0.15524226,  0.14816615],\n",
       "       [-0.1090323 ,  0.11928336],\n",
       "       [-0.13462779,  0.06417071],\n",
       "       [-0.16215056,  0.10670797],\n",
       "       [-0.0960324 ,  0.05722395],\n",
       "       [-0.21176092,  0.10193513],\n",
       "       [-0.16450216,  0.14623414],\n",
       "       [-0.19254607,  0.07257991],\n",
       "       [-0.12906742,  0.01384169],\n",
       "       [-0.09912859,  0.1228186 ],\n",
       "       [-0.2122025 ,  0.08855371],\n",
       "       [-0.14799346,  0.10701611]], dtype=float32), label_ids=array([1, 1, 0, 1, 1, 1, 1, 1, 1, 0, 1, 1, 0, 0, 0, 1, 1, 1, 1, 1, 0, 1,\n",
       "       1, 1, 1, 0, 1, 1, 1, 1, 1, 0, 1, 1, 1, 1, 1, 1, 0, 0, 0, 1, 1, 1,\n",
       "       1, 1, 1, 1, 1, 1, 1, 1, 1, 1, 1, 1, 1, 1, 1, 1, 0, 1, 0, 0, 1, 0,\n",
       "       0, 1, 1, 0, 0, 1, 1, 1, 0, 1, 1, 0, 1, 1, 0, 1, 0, 1, 1, 1, 1, 1,\n",
       "       1, 1, 1, 1, 1, 1, 1, 1, 1, 1, 1, 0, 1, 1, 1, 1, 0, 1, 1, 1, 1, 1,\n",
       "       0, 0, 1, 0, 1, 1, 1, 1, 0, 1, 1, 1, 1, 1, 1, 1, 1, 0, 1, 1, 0, 1,\n",
       "       0, 1, 1, 0, 1, 1, 1, 0, 1, 1, 1, 1, 1, 0, 1, 0, 1, 1, 1, 0, 1, 1,\n",
       "       1, 1, 1, 1, 1, 1, 1, 1, 0, 0, 0, 0, 1, 0, 1, 1, 0, 1, 0, 1, 1, 1,\n",
       "       1, 1, 0, 1, 1, 0, 1, 0, 1, 1, 0, 1, 1, 1, 1, 1, 1, 1, 1, 1, 0, 0,\n",
       "       1, 0, 1, 1, 1, 1, 1, 0, 1, 1, 0, 1, 1, 1, 1, 1, 1, 1, 0, 1, 0, 0,\n",
       "       1, 0, 1, 1, 0, 0, 1, 0, 0, 1, 0, 0, 1, 1, 1, 1, 1, 0, 1, 1, 1, 1,\n",
       "       1, 0, 1, 1, 1, 1, 0, 1, 1, 1, 0, 1, 1, 1, 1, 0, 1, 1, 1, 0, 0, 1,\n",
       "       0, 1, 0, 0, 1, 1, 1, 1, 0, 1, 1, 0, 0, 0, 1, 1, 0, 1, 1, 1, 1, 1,\n",
       "       1, 0, 1, 0, 1, 0, 1, 1, 1, 0, 1, 0, 1, 1, 1, 1, 0, 0, 0, 1, 1, 1,\n",
       "       1, 0, 1, 1, 1, 1, 1, 1, 1, 1, 0, 1, 1, 1, 1, 0, 0, 1, 1, 1, 0, 1,\n",
       "       1, 0, 1, 1, 1, 1, 0, 0, 1, 0, 0, 1, 1, 1, 1, 1, 1, 1, 1, 1, 1, 1,\n",
       "       1, 0, 1, 1, 1, 0, 1, 1, 1, 1, 1, 1, 1, 1, 0, 1, 1, 1, 1, 1, 1, 1,\n",
       "       1, 1, 1, 0, 0, 1, 1, 0, 1, 1, 0, 1, 1, 0, 0, 1, 1, 1, 1, 1, 0, 0,\n",
       "       1, 0, 0, 1, 1, 0]), metrics={'test_loss': 0.6357594728469849, 'test_accuracy': 0.7288557213930348, 'test_runtime': 28.4841, 'test_samples_per_second': 14.113, 'test_steps_per_second': 0.456})"
      ]
     },
     "execution_count": 20,
     "metadata": {},
     "output_type": "execute_result"
    }
   ],
   "source": [
    "outputs"
   ]
  },
  {
   "cell_type": "code",
   "execution_count": 21,
   "id": "3be0e585-96b2-44cd-8f32-4b037fcdfe17",
   "metadata": {},
   "outputs": [
    {
     "data": {
      "text/plain": [
       "array([1, 1, 1, 1, 1, 1, 1, 1, 1, 1, 1, 1, 1, 1, 1, 1, 1, 1, 1, 1, 1, 1,\n",
       "       1, 1, 1, 1, 1, 1, 1, 1, 1, 1, 1, 1, 1, 1, 1, 1, 1, 1, 1, 1, 1, 1,\n",
       "       1, 1, 1, 1, 1, 1, 1, 1, 1, 1, 1, 1, 1, 1, 1, 1, 1, 1, 1, 1, 1, 1,\n",
       "       1, 1, 1, 1, 1, 1, 1, 1, 1, 1, 1, 1, 1, 1, 1, 1, 1, 1, 1, 1, 1, 1,\n",
       "       1, 1, 1, 1, 1, 1, 1, 1, 1, 1, 1, 1, 1, 1, 1, 1, 1, 1, 1, 1, 1, 1,\n",
       "       1, 1, 1, 1, 1, 1, 1, 1, 1, 1, 1, 1, 1, 1, 1, 1, 1, 1, 1, 1, 1, 1,\n",
       "       1, 1, 1, 1, 1, 1, 1, 1, 1, 1, 1, 1, 1, 1, 1, 1, 1, 1, 1, 1, 1, 1,\n",
       "       1, 1, 1, 1, 1, 1, 1, 1, 1, 1, 1, 1, 1, 1, 1, 1, 1, 1, 1, 1, 1, 1,\n",
       "       1, 1, 1, 1, 1, 1, 1, 1, 1, 1, 1, 1, 1, 1, 1, 1, 1, 1, 1, 1, 1, 1,\n",
       "       1, 1, 1, 1, 1, 1, 1, 1, 1, 1, 1, 1, 1, 1, 1, 1, 1, 1, 1, 1, 1, 1,\n",
       "       1, 1, 1, 1, 1, 1, 1, 1, 1, 1, 1, 1, 1, 1, 1, 1, 1, 1, 1, 1, 1, 1,\n",
       "       1, 1, 1, 1, 1, 1, 1, 1, 1, 1, 1, 1, 1, 1, 1, 1, 1, 1, 1, 1, 1, 1,\n",
       "       1, 1, 1, 1, 1, 1, 1, 1, 1, 1, 1, 1, 1, 1, 1, 1, 1, 1, 1, 1, 1, 1,\n",
       "       1, 1, 1, 1, 1, 1, 1, 1, 1, 1, 1, 1, 1, 1, 1, 1, 1, 1, 1, 1, 1, 1,\n",
       "       1, 1, 1, 1, 1, 1, 1, 1, 1, 1, 1, 1, 1, 1, 1, 1, 1, 1, 1, 1, 1, 1,\n",
       "       1, 1, 1, 1, 1, 1, 1, 1, 1, 1, 1, 1, 1, 1, 1, 1, 1, 1, 1, 1, 1, 1,\n",
       "       1, 1, 1, 1, 1, 1, 1, 1, 1, 1, 1, 1, 1, 1, 1, 1, 1, 1, 1, 1, 1, 1,\n",
       "       1, 1, 1, 1, 1, 1, 1, 1, 1, 1, 1, 1, 1, 1, 1, 1, 1, 1, 1, 1, 1, 1,\n",
       "       1, 1, 1, 1, 1, 1])"
      ]
     },
     "execution_count": 21,
     "metadata": {},
     "output_type": "execute_result"
    }
   ],
   "source": [
    "y_pred"
   ]
  },
  {
   "cell_type": "code",
   "execution_count": 22,
   "id": "d68b7f8c-d3c7-44b5-8ea0-0a71ad0d0c2d",
   "metadata": {},
   "outputs": [
    {
     "data": {
      "text/plain": [
       "array([1, 1, 0, 1, 1, 1, 1, 1, 1, 0, 1, 1, 0, 0, 0, 1, 1, 1, 1, 1, 0, 1,\n",
       "       1, 1, 1, 0, 1, 1, 1, 1, 1, 0, 1, 1, 1, 1, 1, 1, 0, 0, 0, 1, 1, 1,\n",
       "       1, 1, 1, 1, 1, 1, 1, 1, 1, 1, 1, 1, 1, 1, 1, 1, 0, 1, 0, 0, 1, 0,\n",
       "       0, 1, 1, 0, 0, 1, 1, 1, 0, 1, 1, 0, 1, 1, 0, 1, 0, 1, 1, 1, 1, 1,\n",
       "       1, 1, 1, 1, 1, 1, 1, 1, 1, 1, 1, 0, 1, 1, 1, 1, 0, 1, 1, 1, 1, 1,\n",
       "       0, 0, 1, 0, 1, 1, 1, 1, 0, 1, 1, 1, 1, 1, 1, 1, 1, 0, 1, 1, 0, 1,\n",
       "       0, 1, 1, 0, 1, 1, 1, 0, 1, 1, 1, 1, 1, 0, 1, 0, 1, 1, 1, 0, 1, 1,\n",
       "       1, 1, 1, 1, 1, 1, 1, 1, 0, 0, 0, 0, 1, 0, 1, 1, 0, 1, 0, 1, 1, 1,\n",
       "       1, 1, 0, 1, 1, 0, 1, 0, 1, 1, 0, 1, 1, 1, 1, 1, 1, 1, 1, 1, 0, 0,\n",
       "       1, 0, 1, 1, 1, 1, 1, 0, 1, 1, 0, 1, 1, 1, 1, 1, 1, 1, 0, 1, 0, 0,\n",
       "       1, 0, 1, 1, 0, 0, 1, 0, 0, 1, 0, 0, 1, 1, 1, 1, 1, 0, 1, 1, 1, 1,\n",
       "       1, 0, 1, 1, 1, 1, 0, 1, 1, 1, 0, 1, 1, 1, 1, 0, 1, 1, 1, 0, 0, 1,\n",
       "       0, 1, 0, 0, 1, 1, 1, 1, 0, 1, 1, 0, 0, 0, 1, 1, 0, 1, 1, 1, 1, 1,\n",
       "       1, 0, 1, 0, 1, 0, 1, 1, 1, 0, 1, 0, 1, 1, 1, 1, 0, 0, 0, 1, 1, 1,\n",
       "       1, 0, 1, 1, 1, 1, 1, 1, 1, 1, 0, 1, 1, 1, 1, 0, 0, 1, 1, 1, 0, 1,\n",
       "       1, 0, 1, 1, 1, 1, 0, 0, 1, 0, 0, 1, 1, 1, 1, 1, 1, 1, 1, 1, 1, 1,\n",
       "       1, 0, 1, 1, 1, 0, 1, 1, 1, 1, 1, 1, 1, 1, 0, 1, 1, 1, 1, 1, 1, 1,\n",
       "       1, 1, 1, 0, 0, 1, 1, 0, 1, 1, 0, 1, 1, 0, 0, 1, 1, 1, 1, 1, 0, 0,\n",
       "       1, 0, 0, 1, 1, 0])"
      ]
     },
     "execution_count": 22,
     "metadata": {},
     "output_type": "execute_result"
    }
   ],
   "source": [
    "y_true = np.array(test_ds[:]['label'])\n",
    "y_true"
   ]
  },
  {
   "cell_type": "code",
   "execution_count": 23,
   "id": "dff4e6f8-4cbd-4725-bbdf-6ff1cbbae763",
   "metadata": {},
   "outputs": [
    {
     "data": {
      "text/plain": [
       "array([[  0, 109],\n",
       "       [  0, 293]])"
      ]
     },
     "execution_count": 23,
     "metadata": {},
     "output_type": "execute_result"
    }
   ],
   "source": [
    "from sklearn.metrics import confusion_matrix\n",
    "confusion_matrix(y_true, y_pred)"
   ]
  },
  {
   "cell_type": "code",
   "execution_count": null,
   "id": "9f1ad9c5-a7f4-4fc6-b788-e50415770018",
   "metadata": {},
   "outputs": [],
   "source": []
  },
  {
   "cell_type": "code",
   "execution_count": null,
   "id": "42e0dbb1-d40d-4bdd-a39c-7c9dd7b17888",
   "metadata": {},
   "outputs": [],
   "source": []
  }
 ],
 "metadata": {
  "kernelspec": {
   "display_name": "PRUEBA:Python",
   "language": "python",
   "name": "conda-env-PRUEBA-py"
  },
  "language_info": {
   "codemirror_mode": {
    "name": "ipython",
    "version": 3
   },
   "file_extension": ".py",
   "mimetype": "text/x-python",
   "name": "python",
   "nbconvert_exporter": "python",
   "pygments_lexer": "ipython3",
   "version": "3.9.13"
  }
 },
 "nbformat": 4,
 "nbformat_minor": 5
}
