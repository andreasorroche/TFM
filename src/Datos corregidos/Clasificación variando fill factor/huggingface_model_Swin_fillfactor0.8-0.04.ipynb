{
 "cells": [
  {
   "cell_type": "code",
   "execution_count": 1,
   "id": "882c7827-d492-48aa-8cb6-a77614297265",
   "metadata": {},
   "outputs": [],
   "source": [
    "#First, we choose the pretrained model to use \n",
    "\n",
    "#model_id = \"google/vit-base-patch16-224\"\n",
    "model_id = 'microsoft/swin-tiny-patch4-window7-224'\n",
    "#model_id = 'facebook/deit-base-patch16-224'\n",
    "#model_id = 'microsoft/resnet-50'\n"
   ]
  },
  {
   "cell_type": "markdown",
   "id": "0c1f530c-0b87-4a91-82f4-a60bf626cdb9",
   "metadata": {},
   "source": [
    "Now we load the feature extractor to process the image into a tensor."
   ]
  },
  {
   "cell_type": "code",
   "execution_count": 2,
   "id": "02cc9044-cb70-47c5-b31f-1657558d1df7",
   "metadata": {},
   "outputs": [
    {
     "name": "stderr",
     "output_type": "stream",
     "text": [
      "/home/studio-lab-user/.conda/envs/PRUEBA/lib/python3.9/site-packages/tqdm/auto.py:22: TqdmWarning: IProgress not found. Please update jupyter and ipywidgets. See https://ipywidgets.readthedocs.io/en/stable/user_install.html\n",
      "  from .autonotebook import tqdm as notebook_tqdm\n"
     ]
    }
   ],
   "source": [
    "from transformers import AutoFeatureExtractor, ViTFeatureExtractor, DeiTFeatureExtractor\n",
    "feature_extractor = AutoFeatureExtractor.from_pretrained(model_id)\n",
    "#feature_extractor = ViTFeatureExtractor.from_pretrained(model_id)\n",
    "#feature_extractor = DeiTFeatureExtractor.from_pretrained(model_id)"
   ]
  },
  {
   "cell_type": "markdown",
   "id": "d4166d1c-1a73-4190-8e82-624200047301",
   "metadata": {},
   "source": [
    "This feature extractor will resize every image to the resolution that the model expects and normalize channels. "
   ]
  },
  {
   "cell_type": "markdown",
   "id": "0491140c-c230-4655-9f89-e005c4d3a426",
   "metadata": {},
   "source": [
    "We define 2 functions, one for training and one for validation, including resizing, center cropping and normalizing."
   ]
  },
  {
   "cell_type": "code",
   "execution_count": 3,
   "id": "fd82a8a4-462b-4f15-ab70-da22f3a57f3b",
   "metadata": {},
   "outputs": [],
   "source": [
    "from torchvision.transforms import (\n",
    "    CenterCrop,\n",
    "    Compose,\n",
    "    Normalize,\n",
    "    RandomResizedCrop,\n",
    "    Resize,\n",
    "    ToTensor,\n",
    ")\n",
    "\n",
    "normalize = Normalize(mean=feature_extractor.image_mean, std=feature_extractor.image_std)\n",
    "train_transforms = Compose(\n",
    "        [\n",
    "            RandomResizedCrop(feature_extractor.size),\n",
    "            ToTensor(),\n",
    "            normalize,\n",
    "        ]\n",
    "    )\n",
    "\n",
    "val_transforms = Compose(\n",
    "        [\n",
    "            Resize(feature_extractor.size),\n",
    "            CenterCrop(feature_extractor.size),\n",
    "            ToTensor(),\n",
    "            normalize,\n",
    "        ]\n",
    "    )\n",
    "\n",
    "def preprocess_train(example_batch):\n",
    "    \"\"\"Apply train_transforms across a batch.\"\"\"\n",
    "    example_batch[\"pixel_values\"] = [\n",
    "        train_transforms(image.convert(\"RGB\")) for image in example_batch[\"img\"]\n",
    "    ]\n",
    "    return example_batch\n",
    "\n",
    "def preprocess_val(example_batch):\n",
    "    \"\"\"Apply val_transforms across a batch.\"\"\"\n",
    "    example_batch[\"pixel_values\"] = [val_transforms(image.convert(\"RGB\")) for image in example_batch[\"img\"]]\n",
    "    return example_batch"
   ]
  },
  {
   "cell_type": "markdown",
   "id": "346a291a-fafd-4580-b8ca-a40b9a71640b",
   "metadata": {},
   "source": [
    "Next, we can preprocess our dataset by applying these functions."
   ]
  },
  {
   "cell_type": "code",
   "execution_count": 4,
   "id": "a9f48cb2-035f-4b64-844d-36911beb1f7e",
   "metadata": {},
   "outputs": [
    {
     "data": {
      "text/plain": [
       "DatasetDict({\n",
       "    train: Dataset({\n",
       "        features: ['img', 'label'],\n",
       "        num_rows: 2044\n",
       "    })\n",
       "    val: Dataset({\n",
       "        features: ['img', 'label'],\n",
       "        num_rows: 228\n",
       "    })\n",
       "    test: Dataset({\n",
       "        features: ['img', 'label'],\n",
       "        num_rows: 402\n",
       "    })\n",
       "})"
      ]
     },
     "execution_count": 4,
     "metadata": {},
     "output_type": "execute_result"
    }
   ],
   "source": [
    "#Load data\n",
    "import datasets\n",
    "from datasets import Dataset, DatasetDict, load_dataset, load_from_disk\n",
    "ds = load_from_disk('./fillfactor_dict')\n",
    "ds"
   ]
  },
  {
   "cell_type": "code",
   "execution_count": 5,
   "id": "300c5553-6b86-4086-ad35-a15c5875c5d6",
   "metadata": {},
   "outputs": [],
   "source": [
    "# split up training into training + validation\n",
    "train_ds = ds['train']\n",
    "val_ds = ds['val']\n",
    "test_ds = ds['test']"
   ]
  },
  {
   "cell_type": "code",
   "execution_count": 6,
   "id": "256e4b28-52e6-4572-886a-a2aaaf814b9f",
   "metadata": {},
   "outputs": [
    {
     "name": "stdout",
     "output_type": "stream",
     "text": [
      "['gamma', 'proton']\n"
     ]
    }
   ],
   "source": [
    "#Classes names\n",
    "labels = train_ds.features[\"label\"].names\n",
    "print(labels)"
   ]
  },
  {
   "cell_type": "code",
   "execution_count": 7,
   "id": "97d151d8-791d-4eaf-ac20-0e22aab9454c",
   "metadata": {},
   "outputs": [
    {
     "name": "stderr",
     "output_type": "stream",
     "text": [
      "Parameter 'transform'=<function preprocess_train at 0x7f9fe282ac10> of the transform datasets.arrow_dataset.Dataset.set_format couldn't be hashed properly, a random hash was used instead. Make sure your transforms and parameters are serializable with pickle or dill for the dataset fingerprinting and caching to work. If you reuse this transform, the caching mechanism will consider it to be different from the previous calls and recompute everything. This warning is only showed once. Subsequent hashing failures won't be showed.\n"
     ]
    }
   ],
   "source": [
    "train_ds.set_transform(preprocess_train)\n",
    "val_ds.set_transform(preprocess_val)"
   ]
  },
  {
   "cell_type": "code",
   "execution_count": 8,
   "id": "cfc4ed91-ffab-4e6f-bf0e-e90db0e8b8a1",
   "metadata": {},
   "outputs": [
    {
     "data": {
      "text/plain": [
       "{'img': <PIL.JpegImagePlugin.JpegImageFile image mode=RGB size=288x288>,\n",
       " 'label': 1,\n",
       " 'pixel_values': tensor([[[2.2489, 2.2489, 2.2489,  ..., 2.2489, 2.2489, 2.2489],\n",
       "          [2.2489, 2.2489, 2.2489,  ..., 2.2489, 2.2489, 2.2489],\n",
       "          [2.2489, 2.2489, 2.2489,  ..., 2.2489, 2.2489, 2.2489],\n",
       "          ...,\n",
       "          [2.2489, 2.2489, 2.2489,  ..., 2.2489, 2.2489, 2.2489],\n",
       "          [2.2489, 2.2489, 2.2489,  ..., 2.2489, 2.2489, 2.2489],\n",
       "          [2.2489, 2.2489, 2.2489,  ..., 2.2489, 2.2489, 2.2489]],\n",
       " \n",
       "         [[2.4286, 2.4286, 2.4286,  ..., 2.4286, 2.4286, 2.4286],\n",
       "          [2.4286, 2.4286, 2.4286,  ..., 2.4286, 2.4286, 2.4286],\n",
       "          [2.4286, 2.4286, 2.4286,  ..., 2.4286, 2.4286, 2.4286],\n",
       "          ...,\n",
       "          [2.4286, 2.4286, 2.4286,  ..., 2.4286, 2.4286, 2.4286],\n",
       "          [2.4286, 2.4286, 2.4286,  ..., 2.4286, 2.4286, 2.4286],\n",
       "          [2.4286, 2.4286, 2.4286,  ..., 2.4286, 2.4286, 2.4286]],\n",
       " \n",
       "         [[2.6400, 2.6400, 2.6400,  ..., 2.6400, 2.6400, 2.6400],\n",
       "          [2.6400, 2.6400, 2.6400,  ..., 2.6400, 2.6400, 2.6400],\n",
       "          [2.6400, 2.6400, 2.6400,  ..., 2.6400, 2.6400, 2.6400],\n",
       "          ...,\n",
       "          [2.6400, 2.6400, 2.6400,  ..., 2.6400, 2.6400, 2.6400],\n",
       "          [2.6400, 2.6400, 2.6400,  ..., 2.6400, 2.6400, 2.6400],\n",
       "          [2.6400, 2.6400, 2.6400,  ..., 2.6400, 2.6400, 2.6400]]])}"
      ]
     },
     "execution_count": 8,
     "metadata": {},
     "output_type": "execute_result"
    }
   ],
   "source": [
    "train_ds[0]"
   ]
  },
  {
   "cell_type": "markdown",
   "id": "7ffaa161-cffe-4796-8012-91e66d879fd1",
   "metadata": {},
   "source": [
    "Now that our data is ready, we can download the pretrained model and fine-tune it. We use the modelViTForImageClassification.  "
   ]
  },
  {
   "cell_type": "code",
   "execution_count": 9,
   "id": "22aa812a-f91f-4b38-8b18-eab8d71163f7",
   "metadata": {},
   "outputs": [],
   "source": [
    "#We create a dictionary that maps a label name to an integer and vice versa. \n",
    "#The mapping will help the model recover the label name from the label number.\n",
    "\n",
    "label2id, id2label = dict(), dict()\n",
    "for i, label in enumerate(labels):\n",
    "    label2id[label] = str(i)\n",
    "    id2label[str(i)] = label"
   ]
  },
  {
   "cell_type": "code",
   "execution_count": 10,
   "id": "43fba3aa-f533-4ba3-ae49-a57b117002d0",
   "metadata": {},
   "outputs": [
    {
     "name": "stderr",
     "output_type": "stream",
     "text": [
      "/home/studio-lab-user/.conda/envs/PRUEBA/lib/python3.9/site-packages/torch/functional.py:478: UserWarning: torch.meshgrid: in an upcoming release, it will be required to pass the indexing argument. (Triggered internally at  ../aten/src/ATen/native/TensorShape.cpp:2895.)\n",
      "  return _VF.meshgrid(tensors, **kwargs)  # type: ignore[attr-defined]\n",
      "Some weights of SwinForImageClassification were not initialized from the model checkpoint at microsoft/swin-tiny-patch4-window7-224 and are newly initialized because the shapes did not match:\n",
      "- classifier.weight: found shape torch.Size([1000, 768]) in the checkpoint and torch.Size([2, 768]) in the model instantiated\n",
      "- classifier.bias: found shape torch.Size([1000]) in the checkpoint and torch.Size([2]) in the model instantiated\n",
      "You should probably TRAIN this model on a down-stream task to be able to use it for predictions and inference.\n"
     ]
    }
   ],
   "source": [
    "from transformers import ViTForImageClassification, SwinForImageClassification,ResNetForImageClassification, TrainingArguments, Trainer, SegformerForImageClassification\n",
    "\n",
    "#model = ViTForImageClassification.from_pretrained(model_id,\n",
    "#                                                 label2id=label2id,\n",
    "#                                                 id2label=id2label,\n",
    "#                                                 ignore_mismatched_sizes = True, # provide this in case you're planning to fine-tune an already fine-tuned checkpoint\n",
    "#                                                 )\n",
    "\n",
    "model = SwinForImageClassification.from_pretrained(model_id,\n",
    "                                                 label2id=label2id,\n",
    "                                                 id2label=id2label,\n",
    "                                                 ignore_mismatched_sizes = True, # provide this in case you're planning to fine-tune an already fine-tuned checkpoint\n",
    ") \n",
    "\n",
    "#model = ResNetForImageClassification.from_pretrained(model_id,\n",
    "#                                                 label2id=label2id,\n",
    "#                                                 id2label=id2label,\n",
    "#                                                 ignore_mismatched_sizes = True, # provide this in case you're planning to fine-tune an already fine-tuned checkpoint\n",
    "#)\n",
    "\n",
    "\n"
   ]
  },
  {
   "cell_type": "markdown",
   "id": "b6b3e17f-979c-47ca-bad5-76f087d1b333",
   "metadata": {},
   "source": [
    "The warning is telling us we are throwing away some weights (the weights and bias of the classifier layer) and randomly initializing some other (the weights and bias of a new classifier layer). This is expected in this case, because we are adding a new head for which we don't have pretrained weights, so the library warns us we should fine-tune this model before using it for inference, which is exactly what we are going to do."
   ]
  },
  {
   "cell_type": "markdown",
   "id": "6fc7ce9b-a0f0-4f10-90a1-77b8e5613dd1",
   "metadata": {},
   "source": [
    "To instantiate a Trainer, we will need to define the training configuration and the evaluation metric. The most important is the TrainingArguments, which is a class that contains all the attributes to customize the training. It requires one folder name, which will be used to save the checkpoints of the model.\n",
    "\n",
    "Most of the training arguments are pretty self-explanatory, but one that is quite important here is remove_unused_columns=False. This one will drop any features not used by the model's call function. By default it's True because usually it's ideal to drop unused feature columns, making it easier to unpack inputs into the model's call function. But, in our case, we need the unused features ('image' in particular) in order to create 'pixel_values'."
   ]
  },
  {
   "cell_type": "code",
   "execution_count": 11,
   "id": "ede566e3-36e9-473d-baeb-30b0c2cf2ee7",
   "metadata": {},
   "outputs": [],
   "source": [
    "model_name = model_id.split(\"/\")[-1]\n",
    "batch_size = 32\n",
    "learning_rate = 5e-5\n",
    "gradient_accumulation_steps = 4\n",
    "epochs = 3\n",
    "warmup_ratio= 0.1\n",
    "logging_steps=10\n",
    "\n",
    "args = TrainingArguments(\n",
    "    f\"{model_name}-finetuned-ds\",\n",
    "    remove_unused_columns=False,\n",
    "    evaluation_strategy = \"epoch\",\n",
    "    save_strategy = \"epoch\",\n",
    "    learning_rate=learning_rate,\n",
    "    per_device_train_batch_size=batch_size,\n",
    "    gradient_accumulation_steps=gradient_accumulation_steps,\n",
    "    per_device_eval_batch_size=batch_size,\n",
    "    num_train_epochs=epochs,\n",
    "    warmup_ratio=warmup_ratio,\n",
    "    logging_steps=logging_steps,\n",
    "    load_best_model_at_end=True,\n",
    "    metric_for_best_model=\"accuracy\",\n",
    "   # push_to_hub=True,\n",
    ")"
   ]
  },
  {
   "cell_type": "markdown",
   "id": "0f1464cb-4b0a-4621-b65a-6056e36cad1c",
   "metadata": {},
   "source": [
    "Next, we need to define a function for how to compute the metrics from the predictions, which will just use the metric we loaded earlier. Let us also load the Accuracy metric, which we'll use to evaluate our model both during and after training. The only preprocessing we have to do is to take the argmax of our predicted logits:"
   ]
  },
  {
   "cell_type": "code",
   "execution_count": 12,
   "id": "be8d4103-623c-41be-816f-71aba0fad059",
   "metadata": {},
   "outputs": [],
   "source": [
    "import numpy as np\n",
    "\n",
    "from datasets import load_metric\n",
    "\n",
    "metric = load_metric(\"accuracy\")\n",
    "\n",
    "# the compute_metrics function takes a Named Tuple as input:\n",
    "# predictions, which are the logits of the model as Numpy arrays,\n",
    "# and label_ids, which are the ground-truth labels as Numpy arrays.\n",
    "def compute_metrics(eval_pred):\n",
    "    \"\"\"Computes accuracy on a batch of predictions\"\"\"\n",
    "    predictions = np.argmax(eval_pred.predictions, axis=1)\n",
    "    return metric.compute(predictions=predictions, references=eval_pred.label_ids)"
   ]
  },
  {
   "cell_type": "markdown",
   "id": "96a2b985-b913-4849-b3f4-2fdbe77fe455",
   "metadata": {},
   "source": [
    "We also define a collate_fn, which will be used to batch examples together. Each batch consists of 2 keys, namely pixel_values and labels."
   ]
  },
  {
   "cell_type": "code",
   "execution_count": 13,
   "id": "649a749c-d111-47f8-807b-0ba04b53d2a6",
   "metadata": {},
   "outputs": [],
   "source": [
    "import torch\n",
    "\n",
    "def collate_fn(examples):\n",
    "    pixel_values = torch.stack([example[\"pixel_values\"] for example in examples])\n",
    "    labels = torch.tensor([example[\"label\"] for example in examples])\n",
    "    return {\"pixel_values\": pixel_values, \"labels\": labels}"
   ]
  },
  {
   "cell_type": "markdown",
   "id": "4b265339-7eec-44e3-8c38-1ce884527253",
   "metadata": {},
   "source": [
    "Then we just need to pass all of this along with our datasets to the Trainer:"
   ]
  },
  {
   "cell_type": "code",
   "execution_count": 14,
   "id": "5780f1c8-20f9-4694-b90a-099b5b02a3ac",
   "metadata": {},
   "outputs": [],
   "source": [
    "trainer = Trainer(\n",
    "    model,\n",
    "    args,\n",
    "    train_dataset=train_ds,\n",
    "    eval_dataset=val_ds,\n",
    "    tokenizer=feature_extractor,\n",
    "    compute_metrics=compute_metrics,\n",
    "    data_collator=collate_fn,\n",
    ")"
   ]
  },
  {
   "cell_type": "markdown",
   "id": "9c9bc7b0-35ce-496f-a8ef-27f59326e421",
   "metadata": {},
   "source": [
    "Now we can finetune our model by calling the train method:"
   ]
  },
  {
   "cell_type": "code",
   "execution_count": 15,
   "id": "9afe1d3f-c7e2-47a8-9411-5d8509d89f75",
   "metadata": {},
   "outputs": [
    {
     "name": "stderr",
     "output_type": "stream",
     "text": [
      "/home/studio-lab-user/.conda/envs/PRUEBA/lib/python3.9/site-packages/transformers/optimization.py:306: FutureWarning: This implementation of AdamW is deprecated and will be removed in a future version. Use the PyTorch implementation torch.optim.AdamW instead, or set `no_deprecation_warning=True` to disable this warning\n",
      "  warnings.warn(\n",
      "***** Running training *****\n",
      "  Num examples = 2044\n",
      "  Num Epochs = 3\n",
      "  Instantaneous batch size per device = 32\n",
      "  Total train batch size (w. parallel, distributed & accumulation) = 128\n",
      "  Gradient Accumulation steps = 4\n",
      "  Total optimization steps = 48\n"
     ]
    },
    {
     "data": {
      "text/html": [
       "\n",
       "    <div>\n",
       "      \n",
       "      <progress value='48' max='48' style='width:300px; height:20px; vertical-align: middle;'></progress>\n",
       "      [48/48 24:55, Epoch 3/3]\n",
       "    </div>\n",
       "    <table border=\"1\" class=\"dataframe\">\n",
       "  <thead>\n",
       " <tr style=\"text-align: left;\">\n",
       "      <th>Epoch</th>\n",
       "      <th>Training Loss</th>\n",
       "      <th>Validation Loss</th>\n",
       "      <th>Accuracy</th>\n",
       "    </tr>\n",
       "  </thead>\n",
       "  <tbody>\n",
       "    <tr>\n",
       "      <td>1</td>\n",
       "      <td>0.609800</td>\n",
       "      <td>0.577610</td>\n",
       "      <td>0.728070</td>\n",
       "    </tr>\n",
       "    <tr>\n",
       "      <td>2</td>\n",
       "      <td>0.579300</td>\n",
       "      <td>0.560983</td>\n",
       "      <td>0.728070</td>\n",
       "    </tr>\n",
       "    <tr>\n",
       "      <td>3</td>\n",
       "      <td>0.566100</td>\n",
       "      <td>0.546811</td>\n",
       "      <td>0.728070</td>\n",
       "    </tr>\n",
       "  </tbody>\n",
       "</table><p>"
      ],
      "text/plain": [
       "<IPython.core.display.HTML object>"
      ]
     },
     "metadata": {},
     "output_type": "display_data"
    },
    {
     "name": "stderr",
     "output_type": "stream",
     "text": [
      "***** Running Evaluation *****\n",
      "  Num examples = 228\n",
      "  Batch size = 32\n",
      "Saving model checkpoint to swin-tiny-patch4-window7-224-finetuned-ds/checkpoint-16\n",
      "Configuration saved in swin-tiny-patch4-window7-224-finetuned-ds/checkpoint-16/config.json\n",
      "Model weights saved in swin-tiny-patch4-window7-224-finetuned-ds/checkpoint-16/pytorch_model.bin\n",
      "Feature extractor saved in swin-tiny-patch4-window7-224-finetuned-ds/checkpoint-16/preprocessor_config.json\n",
      "***** Running Evaluation *****\n",
      "  Num examples = 228\n",
      "  Batch size = 32\n",
      "Saving model checkpoint to swin-tiny-patch4-window7-224-finetuned-ds/checkpoint-32\n",
      "Configuration saved in swin-tiny-patch4-window7-224-finetuned-ds/checkpoint-32/config.json\n",
      "Model weights saved in swin-tiny-patch4-window7-224-finetuned-ds/checkpoint-32/pytorch_model.bin\n",
      "Feature extractor saved in swin-tiny-patch4-window7-224-finetuned-ds/checkpoint-32/preprocessor_config.json\n",
      "***** Running Evaluation *****\n",
      "  Num examples = 228\n",
      "  Batch size = 32\n",
      "Saving model checkpoint to swin-tiny-patch4-window7-224-finetuned-ds/checkpoint-48\n",
      "Configuration saved in swin-tiny-patch4-window7-224-finetuned-ds/checkpoint-48/config.json\n",
      "Model weights saved in swin-tiny-patch4-window7-224-finetuned-ds/checkpoint-48/pytorch_model.bin\n",
      "Feature extractor saved in swin-tiny-patch4-window7-224-finetuned-ds/checkpoint-48/preprocessor_config.json\n",
      "\n",
      "\n",
      "Training completed. Do not forget to share your model on huggingface.co/models =)\n",
      "\n",
      "\n",
      "Loading best model from swin-tiny-patch4-window7-224-finetuned-ds/checkpoint-16 (score: 0.7280701754385965).\n"
     ]
    }
   ],
   "source": [
    "train_results = trainer.train()\n"
   ]
  },
  {
   "cell_type": "code",
   "execution_count": 16,
   "id": "70610cf9-8570-4b37-b43c-bdc964a2c8e6",
   "metadata": {},
   "outputs": [
    {
     "name": "stderr",
     "output_type": "stream",
     "text": [
      "***** Running Evaluation *****\n",
      "  Num examples = 228\n",
      "  Batch size = 32\n"
     ]
    },
    {
     "data": {
      "text/html": [
       "\n",
       "    <div>\n",
       "      \n",
       "      <progress value='21' max='8' style='width:300px; height:20px; vertical-align: middle;'></progress>\n",
       "      [8/8 00:46]\n",
       "    </div>\n",
       "    "
      ],
      "text/plain": [
       "<IPython.core.display.HTML object>"
      ]
     },
     "metadata": {},
     "output_type": "display_data"
    },
    {
     "name": "stdout",
     "output_type": "stream",
     "text": [
      "***** eval metrics *****\n",
      "  epoch                   =        3.0\n",
      "  eval_accuracy           =     0.7281\n",
      "  eval_loss               =     0.5776\n",
      "  eval_runtime            = 0:00:17.83\n",
      "  eval_samples_per_second =     12.787\n",
      "  eval_steps_per_second   =      0.449\n"
     ]
    }
   ],
   "source": [
    "\n",
    "metrics = trainer.evaluate()\n",
    "# some nice to haves:\n",
    "trainer.log_metrics(\"eval\", metrics)\n",
    "trainer.save_metrics(\"eval\", metrics)"
   ]
  },
  {
   "cell_type": "code",
   "execution_count": 17,
   "id": "43c9156b-84a2-4d28-875f-6c9796f41d46",
   "metadata": {},
   "outputs": [],
   "source": [
    "\n",
    "test_ds.set_transform(preprocess_val)"
   ]
  },
  {
   "cell_type": "code",
   "execution_count": 18,
   "id": "96167b9c-d84b-43c0-a85f-fae3ccf58ab0",
   "metadata": {},
   "outputs": [
    {
     "name": "stderr",
     "output_type": "stream",
     "text": [
      "***** Running Prediction *****\n",
      "  Num examples = 402\n",
      "  Batch size = 32\n"
     ]
    }
   ],
   "source": [
    "outputs = trainer.predict(test_ds)\n",
    "y_pred = outputs.predictions.argmax(1)"
   ]
  },
  {
   "cell_type": "code",
   "execution_count": 19,
   "id": "a35c48e8-a78e-47d1-85f8-97fc7a5c91c6",
   "metadata": {},
   "outputs": [
    {
     "data": {
      "text/plain": [
       "{'accuracy': 0.7288557213930348}"
      ]
     },
     "execution_count": 19,
     "metadata": {},
     "output_type": "execute_result"
    }
   ],
   "source": [
    "compute_metrics(outputs)"
   ]
  },
  {
   "cell_type": "code",
   "execution_count": 20,
   "id": "f847d7ab-5acd-454d-af4d-044049cab94e",
   "metadata": {},
   "outputs": [
    {
     "data": {
      "text/plain": [
       "PredictionOutput(predictions=array([[-0.20058426,  0.59495914],\n",
       "       [-0.2736026 ,  0.5456122 ],\n",
       "       [-0.18920109,  0.47407126],\n",
       "       [-0.20439999,  0.55588555],\n",
       "       [-0.22117189,  0.5340438 ],\n",
       "       [-0.20113228,  0.5391056 ],\n",
       "       [-0.18891294,  0.60305446],\n",
       "       [-0.21842615,  0.5838802 ],\n",
       "       [-0.1945034 ,  0.5375458 ],\n",
       "       [-0.2023244 ,  0.46548688],\n",
       "       [-0.20687875,  0.5715054 ],\n",
       "       [-0.22464201,  0.5070647 ],\n",
       "       [-0.21384634,  0.47966614],\n",
       "       [-0.18451001,  0.5262954 ],\n",
       "       [-0.21594602,  0.50173396],\n",
       "       [-0.2176287 ,  0.5356065 ],\n",
       "       [-0.21092679,  0.5615773 ],\n",
       "       [-0.19759339,  0.57001483],\n",
       "       [-0.24210429,  0.58025503],\n",
       "       [-0.20307267,  0.57313144],\n",
       "       [-0.17982739,  0.5101217 ],\n",
       "       [-0.18967612,  0.59700906],\n",
       "       [-0.18880811,  0.5313167 ],\n",
       "       [-0.21677706,  0.49672228],\n",
       "       [-0.20198347,  0.60359216],\n",
       "       [-0.1951516 ,  0.547377  ],\n",
       "       [-0.24187374,  0.55166566],\n",
       "       [-0.20281398,  0.5889618 ],\n",
       "       [-0.2041659 ,  0.5895901 ],\n",
       "       [-0.21392235,  0.592754  ],\n",
       "       [-0.24780212,  0.54660535],\n",
       "       [-0.22663736,  0.48208982],\n",
       "       [-0.18899786,  0.54364085],\n",
       "       [-0.19899595,  0.53356385],\n",
       "       [-0.19961143,  0.5498691 ],\n",
       "       [-0.23505773,  0.60085523],\n",
       "       [-0.2136566 ,  0.5870757 ],\n",
       "       [-0.18502828,  0.555881  ],\n",
       "       [-0.19679345,  0.4854095 ],\n",
       "       [-0.20153241,  0.47341293],\n",
       "       [-0.19323605,  0.49608892],\n",
       "       [-0.25004637,  0.55357397],\n",
       "       [-0.20893122,  0.5421929 ],\n",
       "       [-0.1969993 ,  0.5551053 ],\n",
       "       [-0.19932607,  0.5771776 ],\n",
       "       [-0.25736865,  0.5255254 ],\n",
       "       [-0.25473857,  0.49242154],\n",
       "       [-0.20145658,  0.5612507 ],\n",
       "       [-0.1991354 ,  0.56192   ],\n",
       "       [-0.21031673,  0.55075777],\n",
       "       [-0.17925276,  0.57876384],\n",
       "       [-0.22573528,  0.52630043],\n",
       "       [-0.20026219,  0.5840099 ],\n",
       "       [-0.19624692,  0.5364195 ],\n",
       "       [-0.20550646,  0.51262116],\n",
       "       [-0.19798993,  0.5895441 ],\n",
       "       [-0.20518069,  0.5404636 ],\n",
       "       [-0.19305912,  0.5420486 ],\n",
       "       [-0.21136369,  0.5358894 ],\n",
       "       [-0.23746519,  0.493747  ],\n",
       "       [-0.19568157,  0.5447052 ],\n",
       "       [-0.18949562,  0.5625385 ],\n",
       "       [-0.1905595 ,  0.5300794 ],\n",
       "       [-0.18545699,  0.47543785],\n",
       "       [-0.19902466,  0.5334983 ],\n",
       "       [-0.18840642,  0.53384864],\n",
       "       [-0.18128836,  0.5143708 ],\n",
       "       [-0.210763  ,  0.5950239 ],\n",
       "       [-0.20725945,  0.58837783],\n",
       "       [-0.19704574,  0.5131926 ],\n",
       "       [-0.19724208,  0.49663457],\n",
       "       [-0.1971468 ,  0.5732175 ],\n",
       "       [-0.20134252,  0.55274403],\n",
       "       [-0.21241301,  0.5513388 ],\n",
       "       [-0.20323007,  0.5523095 ],\n",
       "       [-0.2240843 ,  0.5433774 ],\n",
       "       [-0.20227362,  0.55240023],\n",
       "       [-0.19187282,  0.46510595],\n",
       "       [-0.226756  ,  0.5083145 ],\n",
       "       [-0.20775974,  0.565874  ],\n",
       "       [-0.19852749,  0.5187828 ],\n",
       "       [-0.22934967,  0.48001677],\n",
       "       [-0.20498553,  0.53708327],\n",
       "       [-0.21267076,  0.5597236 ],\n",
       "       [-0.2042361 ,  0.54429567],\n",
       "       [-0.2067425 ,  0.51193583],\n",
       "       [-0.21523064,  0.533404  ],\n",
       "       [-0.24136154,  0.5589724 ],\n",
       "       [-0.22191906,  0.54713976],\n",
       "       [-0.20406207,  0.542616  ],\n",
       "       [-0.19987655,  0.52364826],\n",
       "       [-0.21879958,  0.55784106],\n",
       "       [-0.2844979 ,  0.5716975 ],\n",
       "       [-0.20781139,  0.55010533],\n",
       "       [-0.20134175,  0.49824744],\n",
       "       [-0.22017293,  0.5890702 ],\n",
       "       [-0.1978322 ,  0.597777  ],\n",
       "       [-0.19215007,  0.5290168 ],\n",
       "       [-0.22442627,  0.55305743],\n",
       "       [-0.20879519,  0.52005064],\n",
       "       [-0.23083822,  0.5789696 ],\n",
       "       [-0.18916288,  0.5407921 ],\n",
       "       [-0.20705473,  0.59335613],\n",
       "       [-0.1994261 ,  0.55908716],\n",
       "       [-0.19516195,  0.52839583],\n",
       "       [-0.20940521,  0.54879487],\n",
       "       [-0.22174335,  0.5897808 ],\n",
       "       [-0.21582662,  0.52900606],\n",
       "       [-0.23090978,  0.5443127 ],\n",
       "       [-0.19912095,  0.55465853],\n",
       "       [-0.36254507,  0.5760888 ],\n",
       "       [-0.19627729,  0.5031204 ],\n",
       "       [-0.19431178,  0.5547378 ],\n",
       "       [-0.18826461,  0.5099687 ],\n",
       "       [-0.19511095,  0.5586896 ],\n",
       "       [-0.24117835,  0.524091  ],\n",
       "       [-0.22729897,  0.5369058 ],\n",
       "       [-0.21058728,  0.56379265],\n",
       "       [-0.19404036,  0.5379909 ],\n",
       "       [-0.20355651,  0.5638114 ],\n",
       "       [-0.1954563 ,  0.5098003 ],\n",
       "       [-0.26987618,  0.53551066],\n",
       "       [-0.20182367,  0.5670428 ],\n",
       "       [-0.20398572,  0.5349774 ],\n",
       "       [-0.20638528,  0.58783853],\n",
       "       [-0.19148073,  0.5597731 ],\n",
       "       [-0.1935776 ,  0.595818  ],\n",
       "       [-0.21967828,  0.54909945],\n",
       "       [-0.21386069,  0.5239215 ],\n",
       "       [-0.21587434,  0.54994106],\n",
       "       [-0.2095682 ,  0.49630076],\n",
       "       [-0.3468735 ,  0.59188265],\n",
       "       [-0.19855727,  0.53501517],\n",
       "       [-0.22540702,  0.54623735],\n",
       "       [-0.21810842,  0.5671259 ],\n",
       "       [-0.41714215,  0.52919257],\n",
       "       [-0.2337586 ,  0.55195135],\n",
       "       [-0.19964823,  0.52425766],\n",
       "       [-0.22651581,  0.4886514 ],\n",
       "       [-0.1898896 ,  0.53428817],\n",
       "       [-0.20199141,  0.5551887 ],\n",
       "       [-0.21004257,  0.5675243 ],\n",
       "       [-0.19634031,  0.53708255],\n",
       "       [-0.20091076,  0.5697372 ],\n",
       "       [-0.18861707,  0.54414874],\n",
       "       [-0.1911746 ,  0.52940214],\n",
       "       [-0.21188094,  0.5315523 ],\n",
       "       [-0.19384545,  0.48519728],\n",
       "       [-0.22040594,  0.5868559 ],\n",
       "       [-0.18846187,  0.5286163 ],\n",
       "       [-0.20323664,  0.5737401 ],\n",
       "       [-0.21202259,  0.5313332 ],\n",
       "       [-0.21487026,  0.5393523 ],\n",
       "       [-0.19465962,  0.51366735],\n",
       "       [-0.2297074 ,  0.51636195],\n",
       "       [-0.20369023,  0.573761  ],\n",
       "       [-0.20260441,  0.54741   ],\n",
       "       [-0.19519155,  0.5479467 ],\n",
       "       [-0.19398159,  0.5478723 ],\n",
       "       [-0.20333366,  0.51095045],\n",
       "       [-0.21326753,  0.51528597],\n",
       "       [-0.22060233,  0.5437163 ],\n",
       "       [-0.20301035,  0.4902681 ],\n",
       "       [-0.24103928,  0.50007266],\n",
       "       [-0.19108094,  0.48360425],\n",
       "       [-0.19783908,  0.49799514],\n",
       "       [-0.2471227 ,  0.56989247],\n",
       "       [-0.22071502,  0.4551831 ],\n",
       "       [-0.20056956,  0.61216855],\n",
       "       [-0.21369892,  0.5526265 ],\n",
       "       [-0.19863099,  0.50718606],\n",
       "       [-0.22030616,  0.52437896],\n",
       "       [-0.20805503,  0.47131422],\n",
       "       [-0.20228255,  0.5652414 ],\n",
       "       [-0.21104819,  0.5453379 ],\n",
       "       [-0.19877492,  0.58572733],\n",
       "       [-0.21312591,  0.5515618 ],\n",
       "       [-0.26306412,  0.5415212 ],\n",
       "       [-0.19864984,  0.504613  ],\n",
       "       [-0.20285305,  0.53040415],\n",
       "       [-0.21546108,  0.5383568 ],\n",
       "       [-0.31155276,  0.53085077],\n",
       "       [-0.20734417,  0.55890936],\n",
       "       [-0.2081018 ,  0.5670633 ],\n",
       "       [-0.19699848,  0.56554395],\n",
       "       [-0.22527984,  0.5659086 ],\n",
       "       [-0.20100237,  0.54340345],\n",
       "       [-0.20809281,  0.5416502 ],\n",
       "       [-0.20387751,  0.54251367],\n",
       "       [-0.23238264,  0.51315653],\n",
       "       [-0.21203512,  0.513445  ],\n",
       "       [-0.326581  ,  0.6490692 ],\n",
       "       [-0.19069311,  0.5535516 ],\n",
       "       [-0.3092549 ,  0.5643451 ],\n",
       "       [-0.21642758,  0.55665183],\n",
       "       [-0.21532844,  0.5241076 ],\n",
       "       [-0.21904995,  0.49794903],\n",
       "       [-0.2084551 ,  0.51181567],\n",
       "       [-0.19764999,  0.5359758 ],\n",
       "       [-0.189998  ,  0.512733  ],\n",
       "       [-0.21525538,  0.55653703],\n",
       "       [-0.19311507,  0.5488508 ],\n",
       "       [-0.2136141 ,  0.60259205],\n",
       "       [-0.2411147 ,  0.53616166],\n",
       "       [-0.1964137 ,  0.5605997 ],\n",
       "       [-0.19230857,  0.5134619 ],\n",
       "       [-0.20955187,  0.53690135],\n",
       "       [-0.21722567,  0.56641066],\n",
       "       [-0.19074197,  0.5031517 ],\n",
       "       [-0.22354579,  0.5443295 ],\n",
       "       [-0.20480339,  0.54959214],\n",
       "       [-0.22560365,  0.49862897],\n",
       "       [-0.21861961,  0.5515013 ],\n",
       "       [-0.35628498,  0.59399915],\n",
       "       [-0.2050836 ,  0.53492075],\n",
       "       [-0.20982471,  0.5042429 ],\n",
       "       [-0.19613054,  0.49768615],\n",
       "       [-0.2017095 ,  0.5563183 ],\n",
       "       [-0.19895662,  0.5491605 ],\n",
       "       [-0.19405529,  0.52718294],\n",
       "       [-0.20504953,  0.5724441 ],\n",
       "       [-0.19991961,  0.51904047],\n",
       "       [-0.21456197,  0.5104276 ],\n",
       "       [-0.20677666,  0.51651764],\n",
       "       [-0.1923355 ,  0.48674247],\n",
       "       [-0.18789658,  0.49801314],\n",
       "       [-0.20727412,  0.49922308],\n",
       "       [-0.20526963,  0.47562212],\n",
       "       [-0.18722206,  0.5396341 ],\n",
       "       [-0.19914624,  0.5392139 ],\n",
       "       [-0.1942934 ,  0.4950322 ],\n",
       "       [-0.21448024,  0.49503455],\n",
       "       [-0.19694978,  0.54452884],\n",
       "       [-0.18312524,  0.5332111 ],\n",
       "       [-0.19983163,  0.49773848],\n",
       "       [-0.25346068,  0.55659467],\n",
       "       [-0.22044873,  0.56343925],\n",
       "       [-0.20232533,  0.5042621 ],\n",
       "       [-0.19793183,  0.58300626],\n",
       "       [-0.20151244,  0.4803737 ],\n",
       "       [-0.21607707,  0.555845  ],\n",
       "       [-0.19780365,  0.5082351 ],\n",
       "       [-0.20316124,  0.5993167 ],\n",
       "       [-0.21108553,  0.47681442],\n",
       "       [-0.22398005,  0.63011473],\n",
       "       [-0.19567725,  0.53333116],\n",
       "       [-0.22086295,  0.5069339 ],\n",
       "       [-0.20354316,  0.60446006],\n",
       "       [-0.19223063,  0.5520743 ],\n",
       "       [-0.24691564,  0.58117735],\n",
       "       [-0.20510519,  0.5676049 ],\n",
       "       [-0.20292763,  0.5246514 ],\n",
       "       [-0.20108175,  0.55537367],\n",
       "       [-0.20461291,  0.55173326],\n",
       "       [-0.22349048,  0.5067917 ],\n",
       "       [-0.20409298,  0.5855739 ],\n",
       "       [-0.19508034,  0.55417436],\n",
       "       [-0.25839874,  0.5209733 ],\n",
       "       [-0.19825032,  0.5900346 ],\n",
       "       [-0.21313962,  0.5586849 ],\n",
       "       [-0.19483504,  0.5404278 ],\n",
       "       [-0.19607693,  0.5360397 ],\n",
       "       [-0.20181046,  0.49420825],\n",
       "       [-0.20877932,  0.57286525],\n",
       "       [-0.18690309,  0.54144764],\n",
       "       [-0.21939439,  0.58510494],\n",
       "       [-0.18197486,  0.48909703],\n",
       "       [-0.20040718,  0.5117996 ],\n",
       "       [-0.18803734,  0.56068957],\n",
       "       [-0.20544541,  0.57249296],\n",
       "       [-0.18978524,  0.5392054 ],\n",
       "       [-0.21431857,  0.56760097],\n",
       "       [-0.30465728,  0.4967553 ],\n",
       "       [-0.19206502,  0.5581986 ],\n",
       "       [-0.19410115,  0.5918466 ],\n",
       "       [-0.21333554,  0.49923348],\n",
       "       [-0.18372826,  0.5048685 ],\n",
       "       [-0.18686658,  0.54016197],\n",
       "       [-0.20257394,  0.5833477 ],\n",
       "       [-0.20442836,  0.531118  ],\n",
       "       [-0.19930916,  0.5433786 ],\n",
       "       [-0.21321934,  0.5169097 ],\n",
       "       [-0.1898447 ,  0.5526423 ],\n",
       "       [-0.19987905,  0.5628057 ],\n",
       "       [-0.20865805,  0.54824847],\n",
       "       [-0.21615866,  0.5272918 ],\n",
       "       [-0.2071968 ,  0.53804404],\n",
       "       [-0.19345751,  0.5403329 ],\n",
       "       [-0.2195666 ,  0.54694605],\n",
       "       [-0.2190796 ,  0.46962667],\n",
       "       [-0.21022159,  0.58348286],\n",
       "       [-0.19698068,  0.48132384],\n",
       "       [-0.22665742,  0.56064576],\n",
       "       [-0.20372161,  0.53697884],\n",
       "       [-0.20845258,  0.5541141 ],\n",
       "       [-0.18772599,  0.5143478 ],\n",
       "       [-0.26330492,  0.53538316],\n",
       "       [-0.19772673,  0.50140226],\n",
       "       [-0.21493445,  0.49304062],\n",
       "       [-0.20549193,  0.5790483 ],\n",
       "       [-0.20186663,  0.5210439 ],\n",
       "       [-0.22130577,  0.55998075],\n",
       "       [-0.21363154,  0.46148318],\n",
       "       [-0.19978249,  0.5500232 ],\n",
       "       [-0.17940357,  0.5212333 ],\n",
       "       [-0.21497536,  0.55351806],\n",
       "       [-0.2174946 ,  0.57054555],\n",
       "       [-0.22003007,  0.5602272 ],\n",
       "       [-0.20491156,  0.5961412 ],\n",
       "       [-0.19225496,  0.519452  ],\n",
       "       [-0.20149724,  0.56983864],\n",
       "       [-0.19631927,  0.54528224],\n",
       "       [-0.21493386,  0.53540117],\n",
       "       [-0.18797317,  0.56035864],\n",
       "       [-0.21865752,  0.54922235],\n",
       "       [-0.20169815,  0.54919946],\n",
       "       [-0.20764   ,  0.55860543],\n",
       "       [-0.22386616,  0.56709933],\n",
       "       [-0.20228282,  0.5079123 ],\n",
       "       [-0.20334962,  0.5665442 ],\n",
       "       [-0.19964208,  0.54868484],\n",
       "       [-0.21121004,  0.58782136],\n",
       "       [-0.1962085 ,  0.59363663],\n",
       "       [-0.17798704,  0.5103887 ],\n",
       "       [-0.18249358,  0.52762413],\n",
       "       [-0.21136603,  0.51942   ],\n",
       "       [-0.19309983,  0.5446446 ],\n",
       "       [-0.20636049,  0.5744289 ],\n",
       "       [-0.19011152,  0.55326664],\n",
       "       [-0.30685356,  0.5794809 ],\n",
       "       [-0.19769603,  0.55941105],\n",
       "       [-0.19568346,  0.5165821 ],\n",
       "       [-0.18774737,  0.59109926],\n",
       "       [-0.19744205,  0.57635224],\n",
       "       [-0.19487512,  0.5508077 ],\n",
       "       [-0.20662361,  0.5765941 ],\n",
       "       [-0.20330852,  0.4566764 ],\n",
       "       [-0.20647056,  0.55188453],\n",
       "       [-0.21466774,  0.5232234 ],\n",
       "       [-0.22428638,  0.505382  ],\n",
       "       [-0.1917714 ,  0.5379683 ],\n",
       "       [-0.21395154,  0.5672673 ],\n",
       "       [-0.22027421,  0.5490489 ],\n",
       "       [-0.20362319,  0.5283239 ],\n",
       "       [-0.19248278,  0.5387998 ],\n",
       "       [-0.19342376,  0.5723907 ],\n",
       "       [-0.21285054,  0.5456207 ],\n",
       "       [-0.20493755,  0.5506588 ],\n",
       "       [-0.20660222,  0.52334607],\n",
       "       [-0.20930481,  0.580653  ],\n",
       "       [-0.20868528,  0.5405868 ],\n",
       "       [-0.20085159,  0.5313593 ],\n",
       "       [-0.20507279,  0.55558014],\n",
       "       [-0.20695174,  0.45786968],\n",
       "       [-0.1915946 ,  0.5208709 ],\n",
       "       [-0.21036907,  0.5738549 ],\n",
       "       [-0.24806955,  0.510733  ],\n",
       "       [-0.23183537,  0.47470847],\n",
       "       [-0.23060502,  0.5390828 ],\n",
       "       [-0.19751345,  0.5461619 ],\n",
       "       [-0.30381855,  0.5842591 ],\n",
       "       [-0.20237109,  0.55548185],\n",
       "       [-0.2279072 ,  0.58757985],\n",
       "       [-0.20916978,  0.55129886],\n",
       "       [-0.20562217,  0.58311254],\n",
       "       [-0.20428552,  0.5150451 ],\n",
       "       [-0.18606214,  0.5330389 ],\n",
       "       [-0.19623491,  0.5863974 ],\n",
       "       [-0.18467155,  0.5221741 ],\n",
       "       [-0.21105239,  0.59366596],\n",
       "       [-0.22810818,  0.561188  ],\n",
       "       [-0.20254216,  0.526103  ],\n",
       "       [-0.2164313 ,  0.5919527 ],\n",
       "       [-0.1789895 ,  0.54649436],\n",
       "       [-0.21874326,  0.5321003 ],\n",
       "       [-0.22342408,  0.54064894],\n",
       "       [-0.2216618 ,  0.5153551 ],\n",
       "       [-0.19846618,  0.5406884 ],\n",
       "       [-0.21762134,  0.4845248 ],\n",
       "       [-0.19267827,  0.57884234],\n",
       "       [-0.21915697,  0.5740406 ],\n",
       "       [-0.19118607,  0.5231017 ],\n",
       "       [-0.22807711,  0.56936145],\n",
       "       [-0.30586028,  0.58436894],\n",
       "       [-0.18393792,  0.5137721 ],\n",
       "       [-0.22227538,  0.55066013],\n",
       "       [-0.21362999,  0.5302418 ],\n",
       "       [-0.19778241,  0.5156001 ],\n",
       "       [-0.19920099,  0.48385373],\n",
       "       [-0.20429769,  0.5993146 ],\n",
       "       [-0.19724645,  0.5819086 ],\n",
       "       [-0.1922532 ,  0.55185294],\n",
       "       [-0.25633994,  0.55108464],\n",
       "       [-0.17463683,  0.5803191 ],\n",
       "       [-0.19656807,  0.49669176],\n",
       "       [-0.21248043,  0.54708785],\n",
       "       [-0.21511224,  0.5678468 ],\n",
       "       [-0.18208419,  0.5326143 ],\n",
       "       [-0.2030448 ,  0.5745311 ],\n",
       "       [-0.21223389,  0.5021249 ],\n",
       "       [-0.18988675,  0.5644241 ],\n",
       "       [-0.17558363,  0.52360284]], dtype=float32), label_ids=array([1, 1, 0, 1, 1, 1, 1, 1, 1, 0, 1, 1, 0, 0, 0, 1, 1, 1, 1, 1, 0, 1,\n",
       "       1, 1, 1, 0, 1, 1, 1, 1, 1, 0, 1, 1, 1, 1, 1, 1, 0, 0, 0, 1, 1, 1,\n",
       "       1, 1, 1, 1, 1, 1, 1, 1, 1, 1, 1, 1, 1, 1, 1, 1, 0, 1, 0, 0, 1, 0,\n",
       "       0, 1, 1, 0, 0, 1, 1, 1, 0, 1, 1, 0, 1, 1, 0, 1, 0, 1, 1, 1, 1, 1,\n",
       "       1, 1, 1, 1, 1, 1, 1, 1, 1, 1, 1, 0, 1, 1, 1, 1, 0, 1, 1, 1, 1, 1,\n",
       "       0, 0, 1, 0, 1, 1, 1, 1, 0, 1, 1, 1, 1, 1, 1, 1, 1, 0, 1, 1, 0, 1,\n",
       "       0, 1, 1, 0, 1, 1, 1, 0, 1, 1, 1, 1, 1, 0, 1, 0, 1, 1, 1, 0, 1, 1,\n",
       "       1, 1, 1, 1, 1, 1, 1, 1, 0, 0, 0, 0, 1, 0, 1, 1, 0, 1, 0, 1, 1, 1,\n",
       "       1, 1, 0, 1, 1, 0, 1, 0, 1, 1, 0, 1, 1, 1, 1, 1, 1, 1, 1, 1, 0, 0,\n",
       "       1, 0, 1, 1, 1, 1, 1, 0, 1, 1, 0, 1, 1, 1, 1, 1, 1, 1, 0, 1, 0, 0,\n",
       "       1, 0, 1, 1, 0, 0, 1, 0, 0, 1, 0, 0, 1, 1, 1, 1, 1, 0, 1, 1, 1, 1,\n",
       "       1, 0, 1, 1, 1, 1, 0, 1, 1, 1, 0, 1, 1, 1, 1, 0, 1, 1, 1, 0, 0, 1,\n",
       "       0, 1, 0, 0, 1, 1, 1, 1, 0, 1, 1, 0, 0, 0, 1, 1, 0, 1, 1, 1, 1, 1,\n",
       "       1, 0, 1, 0, 1, 0, 1, 1, 1, 0, 1, 0, 1, 1, 1, 1, 0, 0, 0, 1, 1, 1,\n",
       "       1, 0, 1, 1, 1, 1, 1, 1, 1, 1, 0, 1, 1, 1, 1, 0, 0, 1, 1, 1, 0, 1,\n",
       "       1, 0, 1, 1, 1, 1, 0, 0, 1, 0, 0, 1, 1, 1, 1, 1, 1, 1, 1, 1, 1, 1,\n",
       "       1, 0, 1, 1, 1, 0, 1, 1, 1, 1, 1, 1, 1, 1, 0, 1, 1, 1, 1, 1, 1, 1,\n",
       "       1, 1, 1, 0, 0, 1, 1, 0, 1, 1, 0, 1, 1, 0, 0, 1, 1, 1, 1, 1, 0, 0,\n",
       "       1, 0, 0, 1, 1, 0]), metrics={'test_loss': 0.5807666778564453, 'test_accuracy': 0.7288557213930348, 'test_runtime': 31.4102, 'test_samples_per_second': 12.798, 'test_steps_per_second': 0.414})"
      ]
     },
     "execution_count": 20,
     "metadata": {},
     "output_type": "execute_result"
    }
   ],
   "source": [
    "outputs"
   ]
  },
  {
   "cell_type": "code",
   "execution_count": 21,
   "id": "3be0e585-96b2-44cd-8f32-4b037fcdfe17",
   "metadata": {},
   "outputs": [
    {
     "data": {
      "text/plain": [
       "array([1, 1, 1, 1, 1, 1, 1, 1, 1, 1, 1, 1, 1, 1, 1, 1, 1, 1, 1, 1, 1, 1,\n",
       "       1, 1, 1, 1, 1, 1, 1, 1, 1, 1, 1, 1, 1, 1, 1, 1, 1, 1, 1, 1, 1, 1,\n",
       "       1, 1, 1, 1, 1, 1, 1, 1, 1, 1, 1, 1, 1, 1, 1, 1, 1, 1, 1, 1, 1, 1,\n",
       "       1, 1, 1, 1, 1, 1, 1, 1, 1, 1, 1, 1, 1, 1, 1, 1, 1, 1, 1, 1, 1, 1,\n",
       "       1, 1, 1, 1, 1, 1, 1, 1, 1, 1, 1, 1, 1, 1, 1, 1, 1, 1, 1, 1, 1, 1,\n",
       "       1, 1, 1, 1, 1, 1, 1, 1, 1, 1, 1, 1, 1, 1, 1, 1, 1, 1, 1, 1, 1, 1,\n",
       "       1, 1, 1, 1, 1, 1, 1, 1, 1, 1, 1, 1, 1, 1, 1, 1, 1, 1, 1, 1, 1, 1,\n",
       "       1, 1, 1, 1, 1, 1, 1, 1, 1, 1, 1, 1, 1, 1, 1, 1, 1, 1, 1, 1, 1, 1,\n",
       "       1, 1, 1, 1, 1, 1, 1, 1, 1, 1, 1, 1, 1, 1, 1, 1, 1, 1, 1, 1, 1, 1,\n",
       "       1, 1, 1, 1, 1, 1, 1, 1, 1, 1, 1, 1, 1, 1, 1, 1, 1, 1, 1, 1, 1, 1,\n",
       "       1, 1, 1, 1, 1, 1, 1, 1, 1, 1, 1, 1, 1, 1, 1, 1, 1, 1, 1, 1, 1, 1,\n",
       "       1, 1, 1, 1, 1, 1, 1, 1, 1, 1, 1, 1, 1, 1, 1, 1, 1, 1, 1, 1, 1, 1,\n",
       "       1, 1, 1, 1, 1, 1, 1, 1, 1, 1, 1, 1, 1, 1, 1, 1, 1, 1, 1, 1, 1, 1,\n",
       "       1, 1, 1, 1, 1, 1, 1, 1, 1, 1, 1, 1, 1, 1, 1, 1, 1, 1, 1, 1, 1, 1,\n",
       "       1, 1, 1, 1, 1, 1, 1, 1, 1, 1, 1, 1, 1, 1, 1, 1, 1, 1, 1, 1, 1, 1,\n",
       "       1, 1, 1, 1, 1, 1, 1, 1, 1, 1, 1, 1, 1, 1, 1, 1, 1, 1, 1, 1, 1, 1,\n",
       "       1, 1, 1, 1, 1, 1, 1, 1, 1, 1, 1, 1, 1, 1, 1, 1, 1, 1, 1, 1, 1, 1,\n",
       "       1, 1, 1, 1, 1, 1, 1, 1, 1, 1, 1, 1, 1, 1, 1, 1, 1, 1, 1, 1, 1, 1,\n",
       "       1, 1, 1, 1, 1, 1])"
      ]
     },
     "execution_count": 21,
     "metadata": {},
     "output_type": "execute_result"
    }
   ],
   "source": [
    "y_pred"
   ]
  },
  {
   "cell_type": "code",
   "execution_count": 22,
   "id": "d68b7f8c-d3c7-44b5-8ea0-0a71ad0d0c2d",
   "metadata": {},
   "outputs": [
    {
     "data": {
      "text/plain": [
       "array([1, 1, 0, 1, 1, 1, 1, 1, 1, 0, 1, 1, 0, 0, 0, 1, 1, 1, 1, 1, 0, 1,\n",
       "       1, 1, 1, 0, 1, 1, 1, 1, 1, 0, 1, 1, 1, 1, 1, 1, 0, 0, 0, 1, 1, 1,\n",
       "       1, 1, 1, 1, 1, 1, 1, 1, 1, 1, 1, 1, 1, 1, 1, 1, 0, 1, 0, 0, 1, 0,\n",
       "       0, 1, 1, 0, 0, 1, 1, 1, 0, 1, 1, 0, 1, 1, 0, 1, 0, 1, 1, 1, 1, 1,\n",
       "       1, 1, 1, 1, 1, 1, 1, 1, 1, 1, 1, 0, 1, 1, 1, 1, 0, 1, 1, 1, 1, 1,\n",
       "       0, 0, 1, 0, 1, 1, 1, 1, 0, 1, 1, 1, 1, 1, 1, 1, 1, 0, 1, 1, 0, 1,\n",
       "       0, 1, 1, 0, 1, 1, 1, 0, 1, 1, 1, 1, 1, 0, 1, 0, 1, 1, 1, 0, 1, 1,\n",
       "       1, 1, 1, 1, 1, 1, 1, 1, 0, 0, 0, 0, 1, 0, 1, 1, 0, 1, 0, 1, 1, 1,\n",
       "       1, 1, 0, 1, 1, 0, 1, 0, 1, 1, 0, 1, 1, 1, 1, 1, 1, 1, 1, 1, 0, 0,\n",
       "       1, 0, 1, 1, 1, 1, 1, 0, 1, 1, 0, 1, 1, 1, 1, 1, 1, 1, 0, 1, 0, 0,\n",
       "       1, 0, 1, 1, 0, 0, 1, 0, 0, 1, 0, 0, 1, 1, 1, 1, 1, 0, 1, 1, 1, 1,\n",
       "       1, 0, 1, 1, 1, 1, 0, 1, 1, 1, 0, 1, 1, 1, 1, 0, 1, 1, 1, 0, 0, 1,\n",
       "       0, 1, 0, 0, 1, 1, 1, 1, 0, 1, 1, 0, 0, 0, 1, 1, 0, 1, 1, 1, 1, 1,\n",
       "       1, 0, 1, 0, 1, 0, 1, 1, 1, 0, 1, 0, 1, 1, 1, 1, 0, 0, 0, 1, 1, 1,\n",
       "       1, 0, 1, 1, 1, 1, 1, 1, 1, 1, 0, 1, 1, 1, 1, 0, 0, 1, 1, 1, 0, 1,\n",
       "       1, 0, 1, 1, 1, 1, 0, 0, 1, 0, 0, 1, 1, 1, 1, 1, 1, 1, 1, 1, 1, 1,\n",
       "       1, 0, 1, 1, 1, 0, 1, 1, 1, 1, 1, 1, 1, 1, 0, 1, 1, 1, 1, 1, 1, 1,\n",
       "       1, 1, 1, 0, 0, 1, 1, 0, 1, 1, 0, 1, 1, 0, 0, 1, 1, 1, 1, 1, 0, 0,\n",
       "       1, 0, 0, 1, 1, 0])"
      ]
     },
     "execution_count": 22,
     "metadata": {},
     "output_type": "execute_result"
    }
   ],
   "source": [
    "y_true = np.array(test_ds[:]['label'])\n",
    "y_true"
   ]
  },
  {
   "cell_type": "code",
   "execution_count": 23,
   "id": "dff4e6f8-4cbd-4725-bbdf-6ff1cbbae763",
   "metadata": {},
   "outputs": [
    {
     "data": {
      "text/plain": [
       "array([[  0, 109],\n",
       "       [  0, 293]])"
      ]
     },
     "execution_count": 23,
     "metadata": {},
     "output_type": "execute_result"
    }
   ],
   "source": [
    "from sklearn.metrics import confusion_matrix\n",
    "confusion_matrix(y_true, y_pred)"
   ]
  },
  {
   "cell_type": "code",
   "execution_count": null,
   "id": "9f1ad9c5-a7f4-4fc6-b788-e50415770018",
   "metadata": {},
   "outputs": [],
   "source": []
  }
 ],
 "metadata": {
  "kernelspec": {
   "display_name": "PRUEBA:Python",
   "language": "python",
   "name": "conda-env-PRUEBA-py"
  },
  "language_info": {
   "codemirror_mode": {
    "name": "ipython",
    "version": 3
   },
   "file_extension": ".py",
   "mimetype": "text/x-python",
   "name": "python",
   "nbconvert_exporter": "python",
   "pygments_lexer": "ipython3",
   "version": "3.9.13"
  }
 },
 "nbformat": 4,
 "nbformat_minor": 5
}
