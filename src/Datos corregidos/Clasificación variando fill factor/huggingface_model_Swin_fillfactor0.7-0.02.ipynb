{
 "cells": [
  {
   "cell_type": "code",
   "execution_count": 1,
   "id": "882c7827-d492-48aa-8cb6-a77614297265",
   "metadata": {},
   "outputs": [],
   "source": [
    "#First, we choose the pretrained model to use \n",
    "\n",
    "#model_id = \"google/vit-base-patch16-224\"\n",
    "model_id = 'microsoft/swin-tiny-patch4-window7-224'\n",
    "#model_id = 'facebook/deit-base-patch16-224'\n",
    "#model_id = 'microsoft/resnet-50'\n"
   ]
  },
  {
   "cell_type": "markdown",
   "id": "0c1f530c-0b87-4a91-82f4-a60bf626cdb9",
   "metadata": {},
   "source": [
    "Now we load the feature extractor to process the image into a tensor."
   ]
  },
  {
   "cell_type": "code",
   "execution_count": 2,
   "id": "02cc9044-cb70-47c5-b31f-1657558d1df7",
   "metadata": {},
   "outputs": [
    {
     "name": "stderr",
     "output_type": "stream",
     "text": [
      "/home/studio-lab-user/.conda/envs/PRUEBA/lib/python3.9/site-packages/tqdm/auto.py:22: TqdmWarning: IProgress not found. Please update jupyter and ipywidgets. See https://ipywidgets.readthedocs.io/en/stable/user_install.html\n",
      "  from .autonotebook import tqdm as notebook_tqdm\n"
     ]
    }
   ],
   "source": [
    "from transformers import AutoFeatureExtractor, ViTFeatureExtractor, DeiTFeatureExtractor\n",
    "feature_extractor = AutoFeatureExtractor.from_pretrained(model_id)\n",
    "#feature_extractor = ViTFeatureExtractor.from_pretrained(model_id)\n",
    "#feature_extractor = DeiTFeatureExtractor.from_pretrained(model_id)"
   ]
  },
  {
   "cell_type": "markdown",
   "id": "d4166d1c-1a73-4190-8e82-624200047301",
   "metadata": {},
   "source": [
    "This feature extractor will resize every image to the resolution that the model expects and normalize channels. "
   ]
  },
  {
   "cell_type": "markdown",
   "id": "0491140c-c230-4655-9f89-e005c4d3a426",
   "metadata": {},
   "source": [
    "We define 2 functions, one for training and one for validation, including resizing, center cropping and normalizing."
   ]
  },
  {
   "cell_type": "code",
   "execution_count": 3,
   "id": "fd82a8a4-462b-4f15-ab70-da22f3a57f3b",
   "metadata": {},
   "outputs": [],
   "source": [
    "from torchvision.transforms import (\n",
    "    CenterCrop,\n",
    "    Compose,\n",
    "    Normalize,\n",
    "    RandomResizedCrop,\n",
    "    Resize,\n",
    "    ToTensor,\n",
    ")\n",
    "\n",
    "normalize = Normalize(mean=feature_extractor.image_mean, std=feature_extractor.image_std)\n",
    "train_transforms = Compose(\n",
    "        [\n",
    "            RandomResizedCrop(feature_extractor.size),\n",
    "            ToTensor(),\n",
    "            normalize,\n",
    "        ]\n",
    "    )\n",
    "\n",
    "val_transforms = Compose(\n",
    "        [\n",
    "            Resize(feature_extractor.size),\n",
    "            CenterCrop(feature_extractor.size),\n",
    "            ToTensor(),\n",
    "            normalize,\n",
    "        ]\n",
    "    )\n",
    "\n",
    "def preprocess_train(example_batch):\n",
    "    \"\"\"Apply train_transforms across a batch.\"\"\"\n",
    "    example_batch[\"pixel_values\"] = [\n",
    "        train_transforms(image.convert(\"RGB\")) for image in example_batch[\"img\"]\n",
    "    ]\n",
    "    return example_batch\n",
    "\n",
    "def preprocess_val(example_batch):\n",
    "    \"\"\"Apply val_transforms across a batch.\"\"\"\n",
    "    example_batch[\"pixel_values\"] = [val_transforms(image.convert(\"RGB\")) for image in example_batch[\"img\"]]\n",
    "    return example_batch"
   ]
  },
  {
   "cell_type": "markdown",
   "id": "346a291a-fafd-4580-b8ca-a40b9a71640b",
   "metadata": {},
   "source": [
    "Next, we can preprocess our dataset by applying these functions."
   ]
  },
  {
   "cell_type": "code",
   "execution_count": 4,
   "id": "a9f48cb2-035f-4b64-844d-36911beb1f7e",
   "metadata": {},
   "outputs": [
    {
     "data": {
      "text/plain": [
       "DatasetDict({\n",
       "    train: Dataset({\n",
       "        features: ['img', 'label'],\n",
       "        num_rows: 2050\n",
       "    })\n",
       "    val: Dataset({\n",
       "        features: ['img', 'label'],\n",
       "        num_rows: 228\n",
       "    })\n",
       "    test: Dataset({\n",
       "        features: ['img', 'label'],\n",
       "        num_rows: 402\n",
       "    })\n",
       "})"
      ]
     },
     "execution_count": 4,
     "metadata": {},
     "output_type": "execute_result"
    }
   ],
   "source": [
    "#Load data\n",
    "import datasets\n",
    "from datasets import Dataset, DatasetDict, load_dataset, load_from_disk\n",
    "ds = load_from_disk('./fillfactor_dict_0.7-0.02')\n",
    "ds"
   ]
  },
  {
   "cell_type": "code",
   "execution_count": 5,
   "id": "300c5553-6b86-4086-ad35-a15c5875c5d6",
   "metadata": {},
   "outputs": [],
   "source": [
    "# split up training into training + validation\n",
    "train_ds = ds['train']\n",
    "val_ds = ds['val']\n",
    "test_ds = ds['test']"
   ]
  },
  {
   "cell_type": "code",
   "execution_count": 6,
   "id": "256e4b28-52e6-4572-886a-a2aaaf814b9f",
   "metadata": {},
   "outputs": [
    {
     "name": "stdout",
     "output_type": "stream",
     "text": [
      "['proton', 'gamma']\n"
     ]
    }
   ],
   "source": [
    "#Classes names\n",
    "labels = train_ds.features[\"label\"].names\n",
    "print(labels)"
   ]
  },
  {
   "cell_type": "code",
   "execution_count": 7,
   "id": "97d151d8-791d-4eaf-ac20-0e22aab9454c",
   "metadata": {},
   "outputs": [
    {
     "name": "stderr",
     "output_type": "stream",
     "text": [
      "Parameter 'transform'=<function preprocess_train at 0x7fefd9aabf70> of the transform datasets.arrow_dataset.Dataset.set_format couldn't be hashed properly, a random hash was used instead. Make sure your transforms and parameters are serializable with pickle or dill for the dataset fingerprinting and caching to work. If you reuse this transform, the caching mechanism will consider it to be different from the previous calls and recompute everything. This warning is only showed once. Subsequent hashing failures won't be showed.\n"
     ]
    }
   ],
   "source": [
    "train_ds.set_transform(preprocess_train)\n",
    "val_ds.set_transform(preprocess_val)"
   ]
  },
  {
   "cell_type": "code",
   "execution_count": 8,
   "id": "cfc4ed91-ffab-4e6f-bf0e-e90db0e8b8a1",
   "metadata": {},
   "outputs": [
    {
     "data": {
      "text/plain": [
       "{'img': <PIL.JpegImagePlugin.JpegImageFile image mode=RGB size=288x288>,\n",
       " 'label': 1,\n",
       " 'pixel_values': tensor([[[2.2489, 2.2489, 2.2489,  ..., 2.2489, 2.2489, 2.2489],\n",
       "          [2.2489, 2.2489, 2.2489,  ..., 2.2489, 2.2489, 2.2489],\n",
       "          [2.2489, 2.2489, 2.2489,  ..., 2.2489, 2.2489, 2.2489],\n",
       "          ...,\n",
       "          [2.2489, 2.2489, 2.2489,  ..., 2.2489, 2.2489, 2.2489],\n",
       "          [2.2489, 2.2489, 2.2489,  ..., 2.2318, 2.2489, 2.2489],\n",
       "          [2.2489, 2.2489, 2.2489,  ..., 2.2318, 2.2318, 2.2489]],\n",
       " \n",
       "         [[2.4286, 2.4286, 2.4286,  ..., 2.4286, 2.4286, 2.4286],\n",
       "          [2.4286, 2.4286, 2.4286,  ..., 2.4286, 2.4286, 2.4286],\n",
       "          [2.4286, 2.4286, 2.4286,  ..., 2.4286, 2.4286, 2.4286],\n",
       "          ...,\n",
       "          [2.4286, 2.4286, 2.4286,  ..., 2.4111, 2.4286, 2.4111],\n",
       "          [2.4286, 2.4286, 2.4286,  ..., 2.3936, 2.4286, 2.4111],\n",
       "          [2.4286, 2.4286, 2.4286,  ..., 2.3761, 2.3936, 2.4111]],\n",
       " \n",
       "         [[2.6400, 2.6400, 2.6400,  ..., 2.6400, 2.6400, 2.6400],\n",
       "          [2.6400, 2.6400, 2.6400,  ..., 2.6400, 2.6400, 2.6400],\n",
       "          [2.6400, 2.6400, 2.6400,  ..., 2.6400, 2.6400, 2.6400],\n",
       "          ...,\n",
       "          [2.6400, 2.6400, 2.6400,  ..., 2.5877, 2.6051, 2.5877],\n",
       "          [2.6400, 2.6400, 2.6400,  ..., 2.5703, 2.6051, 2.5877],\n",
       "          [2.6400, 2.6400, 2.6400,  ..., 2.5529, 2.5703, 2.5877]]])}"
      ]
     },
     "execution_count": 8,
     "metadata": {},
     "output_type": "execute_result"
    }
   ],
   "source": [
    "train_ds[0]"
   ]
  },
  {
   "cell_type": "markdown",
   "id": "7ffaa161-cffe-4796-8012-91e66d879fd1",
   "metadata": {},
   "source": [
    "Now that our data is ready, we can download the pretrained model and fine-tune it. We use the modelViTForImageClassification.  "
   ]
  },
  {
   "cell_type": "code",
   "execution_count": 9,
   "id": "22aa812a-f91f-4b38-8b18-eab8d71163f7",
   "metadata": {},
   "outputs": [],
   "source": [
    "#We create a dictionary that maps a label name to an integer and vice versa. \n",
    "#The mapping will help the model recover the label name from the label number.\n",
    "\n",
    "label2id, id2label = dict(), dict()\n",
    "for i, label in enumerate(labels):\n",
    "    label2id[label] = str(i)\n",
    "    id2label[str(i)] = label"
   ]
  },
  {
   "cell_type": "code",
   "execution_count": 10,
   "id": "43fba3aa-f533-4ba3-ae49-a57b117002d0",
   "metadata": {},
   "outputs": [
    {
     "name": "stderr",
     "output_type": "stream",
     "text": [
      "/home/studio-lab-user/.conda/envs/PRUEBA/lib/python3.9/site-packages/torch/functional.py:478: UserWarning: torch.meshgrid: in an upcoming release, it will be required to pass the indexing argument. (Triggered internally at  ../aten/src/ATen/native/TensorShape.cpp:2895.)\n",
      "  return _VF.meshgrid(tensors, **kwargs)  # type: ignore[attr-defined]\n",
      "Some weights of SwinForImageClassification were not initialized from the model checkpoint at microsoft/swin-tiny-patch4-window7-224 and are newly initialized because the shapes did not match:\n",
      "- classifier.weight: found shape torch.Size([1000, 768]) in the checkpoint and torch.Size([2, 768]) in the model instantiated\n",
      "- classifier.bias: found shape torch.Size([1000]) in the checkpoint and torch.Size([2]) in the model instantiated\n",
      "You should probably TRAIN this model on a down-stream task to be able to use it for predictions and inference.\n"
     ]
    }
   ],
   "source": [
    "from transformers import ViTForImageClassification, SwinForImageClassification,ResNetForImageClassification, TrainingArguments, Trainer, SegformerForImageClassification\n",
    "\n",
    "#model = ViTForImageClassification.from_pretrained(model_id,\n",
    "#                                                 label2id=label2id,\n",
    "#                                                 id2label=id2label,\n",
    "#                                                 ignore_mismatched_sizes = True, # provide this in case you're planning to fine-tune an already fine-tuned checkpoint\n",
    "#                                                 )\n",
    "\n",
    "model = SwinForImageClassification.from_pretrained(model_id,\n",
    "                                                 label2id=label2id,\n",
    "                                                 id2label=id2label,\n",
    "                                                 ignore_mismatched_sizes = True, # provide this in case you're planning to fine-tune an already fine-tuned checkpoint\n",
    ") \n",
    "\n",
    "#model = ResNetForImageClassification.from_pretrained(model_id,\n",
    "#                                                 label2id=label2id,\n",
    "#                                                 id2label=id2label,\n",
    "#                                                 ignore_mismatched_sizes = True, # provide this in case you're planning to fine-tune an already fine-tuned checkpoint\n",
    "#)\n",
    "\n",
    "\n"
   ]
  },
  {
   "cell_type": "markdown",
   "id": "b6b3e17f-979c-47ca-bad5-76f087d1b333",
   "metadata": {},
   "source": [
    "The warning is telling us we are throwing away some weights (the weights and bias of the classifier layer) and randomly initializing some other (the weights and bias of a new classifier layer). This is expected in this case, because we are adding a new head for which we don't have pretrained weights, so the library warns us we should fine-tune this model before using it for inference, which is exactly what we are going to do."
   ]
  },
  {
   "cell_type": "markdown",
   "id": "6fc7ce9b-a0f0-4f10-90a1-77b8e5613dd1",
   "metadata": {},
   "source": [
    "To instantiate a Trainer, we will need to define the training configuration and the evaluation metric. The most important is the TrainingArguments, which is a class that contains all the attributes to customize the training. It requires one folder name, which will be used to save the checkpoints of the model.\n",
    "\n",
    "Most of the training arguments are pretty self-explanatory, but one that is quite important here is remove_unused_columns=False. This one will drop any features not used by the model's call function. By default it's True because usually it's ideal to drop unused feature columns, making it easier to unpack inputs into the model's call function. But, in our case, we need the unused features ('image' in particular) in order to create 'pixel_values'."
   ]
  },
  {
   "cell_type": "code",
   "execution_count": 11,
   "id": "ede566e3-36e9-473d-baeb-30b0c2cf2ee7",
   "metadata": {},
   "outputs": [],
   "source": [
    "model_name = model_id.split(\"/\")[-1]\n",
    "batch_size = 32\n",
    "learning_rate = 5e-5\n",
    "gradient_accumulation_steps = 4\n",
    "epochs = 3\n",
    "warmup_ratio= 0.1\n",
    "logging_steps=10\n",
    "\n",
    "args = TrainingArguments(\n",
    "    f\"{model_name}-finetuned-ds\",\n",
    "    remove_unused_columns=False,\n",
    "    evaluation_strategy = \"epoch\",\n",
    "    save_strategy = \"epoch\",\n",
    "    learning_rate=learning_rate,\n",
    "    per_device_train_batch_size=batch_size,\n",
    "    gradient_accumulation_steps=gradient_accumulation_steps,\n",
    "    per_device_eval_batch_size=batch_size,\n",
    "    num_train_epochs=epochs,\n",
    "    warmup_ratio=warmup_ratio,\n",
    "    logging_steps=logging_steps,\n",
    "    load_best_model_at_end=True,\n",
    "    metric_for_best_model=\"accuracy\",\n",
    "   # push_to_hub=True,\n",
    ")"
   ]
  },
  {
   "cell_type": "markdown",
   "id": "0f1464cb-4b0a-4621-b65a-6056e36cad1c",
   "metadata": {},
   "source": [
    "Next, we need to define a function for how to compute the metrics from the predictions, which will just use the metric we loaded earlier. Let us also load the Accuracy metric, which we'll use to evaluate our model both during and after training. The only preprocessing we have to do is to take the argmax of our predicted logits:"
   ]
  },
  {
   "cell_type": "code",
   "execution_count": 12,
   "id": "be8d4103-623c-41be-816f-71aba0fad059",
   "metadata": {},
   "outputs": [],
   "source": [
    "import numpy as np\n",
    "\n",
    "from datasets import load_metric\n",
    "\n",
    "metric = load_metric(\"accuracy\")\n",
    "\n",
    "# the compute_metrics function takes a Named Tuple as input:\n",
    "# predictions, which are the logits of the model as Numpy arrays,\n",
    "# and label_ids, which are the ground-truth labels as Numpy arrays.\n",
    "def compute_metrics(eval_pred):\n",
    "    \"\"\"Computes accuracy on a batch of predictions\"\"\"\n",
    "    predictions = np.argmax(eval_pred.predictions, axis=1)\n",
    "    return metric.compute(predictions=predictions, references=eval_pred.label_ids)"
   ]
  },
  {
   "cell_type": "markdown",
   "id": "96a2b985-b913-4849-b3f4-2fdbe77fe455",
   "metadata": {},
   "source": [
    "We also define a collate_fn, which will be used to batch examples together. Each batch consists of 2 keys, namely pixel_values and labels."
   ]
  },
  {
   "cell_type": "code",
   "execution_count": 13,
   "id": "649a749c-d111-47f8-807b-0ba04b53d2a6",
   "metadata": {},
   "outputs": [],
   "source": [
    "import torch\n",
    "\n",
    "def collate_fn(examples):\n",
    "    pixel_values = torch.stack([example[\"pixel_values\"] for example in examples])\n",
    "    labels = torch.tensor([example[\"label\"] for example in examples])\n",
    "    return {\"pixel_values\": pixel_values, \"labels\": labels}"
   ]
  },
  {
   "cell_type": "markdown",
   "id": "4b265339-7eec-44e3-8c38-1ce884527253",
   "metadata": {},
   "source": [
    "Then we just need to pass all of this along with our datasets to the Trainer:"
   ]
  },
  {
   "cell_type": "code",
   "execution_count": 14,
   "id": "5780f1c8-20f9-4694-b90a-099b5b02a3ac",
   "metadata": {},
   "outputs": [],
   "source": [
    "trainer = Trainer(\n",
    "    model,\n",
    "    args,\n",
    "    train_dataset=train_ds,\n",
    "    eval_dataset=val_ds,\n",
    "    tokenizer=feature_extractor,\n",
    "    compute_metrics=compute_metrics,\n",
    "    data_collator=collate_fn,\n",
    ")"
   ]
  },
  {
   "cell_type": "markdown",
   "id": "9c9bc7b0-35ce-496f-a8ef-27f59326e421",
   "metadata": {},
   "source": [
    "Now we can finetune our model by calling the train method:"
   ]
  },
  {
   "cell_type": "code",
   "execution_count": 15,
   "id": "9afe1d3f-c7e2-47a8-9411-5d8509d89f75",
   "metadata": {},
   "outputs": [
    {
     "name": "stderr",
     "output_type": "stream",
     "text": [
      "/home/studio-lab-user/.conda/envs/PRUEBA/lib/python3.9/site-packages/transformers/optimization.py:306: FutureWarning: This implementation of AdamW is deprecated and will be removed in a future version. Use the PyTorch implementation torch.optim.AdamW instead, or set `no_deprecation_warning=True` to disable this warning\n",
      "  warnings.warn(\n",
      "***** Running training *****\n",
      "  Num examples = 2050\n",
      "  Num Epochs = 3\n",
      "  Instantaneous batch size per device = 32\n",
      "  Total train batch size (w. parallel, distributed & accumulation) = 128\n",
      "  Gradient Accumulation steps = 4\n",
      "  Total optimization steps = 48\n"
     ]
    },
    {
     "data": {
      "text/html": [
       "\n",
       "    <div>\n",
       "      \n",
       "      <progress value='48' max='48' style='width:300px; height:20px; vertical-align: middle;'></progress>\n",
       "      [48/48 22:40, Epoch 2/3]\n",
       "    </div>\n",
       "    <table border=\"1\" class=\"dataframe\">\n",
       "  <thead>\n",
       " <tr style=\"text-align: left;\">\n",
       "      <th>Epoch</th>\n",
       "      <th>Training Loss</th>\n",
       "      <th>Validation Loss</th>\n",
       "      <th>Accuracy</th>\n",
       "    </tr>\n",
       "  </thead>\n",
       "  <tbody>\n",
       "    <tr>\n",
       "      <td>0</td>\n",
       "      <td>0.625000</td>\n",
       "      <td>0.591399</td>\n",
       "      <td>0.728070</td>\n",
       "    </tr>\n",
       "    <tr>\n",
       "      <td>1</td>\n",
       "      <td>0.581700</td>\n",
       "      <td>0.577915</td>\n",
       "      <td>0.728070</td>\n",
       "    </tr>\n",
       "    <tr>\n",
       "      <td>2</td>\n",
       "      <td>0.588800</td>\n",
       "      <td>0.576124</td>\n",
       "      <td>0.728070</td>\n",
       "    </tr>\n",
       "  </tbody>\n",
       "</table><p>"
      ],
      "text/plain": [
       "<IPython.core.display.HTML object>"
      ]
     },
     "metadata": {},
     "output_type": "display_data"
    },
    {
     "name": "stderr",
     "output_type": "stream",
     "text": [
      "***** Running Evaluation *****\n",
      "  Num examples = 228\n",
      "  Batch size = 32\n",
      "Saving model checkpoint to swin-tiny-patch4-window7-224-finetuned-ds/checkpoint-16\n",
      "Configuration saved in swin-tiny-patch4-window7-224-finetuned-ds/checkpoint-16/config.json\n",
      "Model weights saved in swin-tiny-patch4-window7-224-finetuned-ds/checkpoint-16/pytorch_model.bin\n",
      "Feature extractor saved in swin-tiny-patch4-window7-224-finetuned-ds/checkpoint-16/preprocessor_config.json\n",
      "***** Running Evaluation *****\n",
      "  Num examples = 228\n",
      "  Batch size = 32\n",
      "Saving model checkpoint to swin-tiny-patch4-window7-224-finetuned-ds/checkpoint-32\n",
      "Configuration saved in swin-tiny-patch4-window7-224-finetuned-ds/checkpoint-32/config.json\n",
      "Model weights saved in swin-tiny-patch4-window7-224-finetuned-ds/checkpoint-32/pytorch_model.bin\n",
      "Feature extractor saved in swin-tiny-patch4-window7-224-finetuned-ds/checkpoint-32/preprocessor_config.json\n",
      "***** Running Evaluation *****\n",
      "  Num examples = 228\n",
      "  Batch size = 32\n",
      "Saving model checkpoint to swin-tiny-patch4-window7-224-finetuned-ds/checkpoint-48\n",
      "Configuration saved in swin-tiny-patch4-window7-224-finetuned-ds/checkpoint-48/config.json\n",
      "Model weights saved in swin-tiny-patch4-window7-224-finetuned-ds/checkpoint-48/pytorch_model.bin\n",
      "Feature extractor saved in swin-tiny-patch4-window7-224-finetuned-ds/checkpoint-48/preprocessor_config.json\n",
      "\n",
      "\n",
      "Training completed. Do not forget to share your model on huggingface.co/models =)\n",
      "\n",
      "\n",
      "Loading best model from swin-tiny-patch4-window7-224-finetuned-ds/checkpoint-16 (score: 0.7280701754385965).\n"
     ]
    }
   ],
   "source": [
    "train_results = trainer.train()\n"
   ]
  },
  {
   "cell_type": "code",
   "execution_count": 16,
   "id": "70610cf9-8570-4b37-b43c-bdc964a2c8e6",
   "metadata": {},
   "outputs": [
    {
     "name": "stderr",
     "output_type": "stream",
     "text": [
      "***** Running Evaluation *****\n",
      "  Num examples = 228\n",
      "  Batch size = 32\n"
     ]
    },
    {
     "data": {
      "text/html": [
       "\n",
       "    <div>\n",
       "      \n",
       "      <progress value='21' max='8' style='width:300px; height:20px; vertical-align: middle;'></progress>\n",
       "      [8/8 00:45]\n",
       "    </div>\n",
       "    "
      ],
      "text/plain": [
       "<IPython.core.display.HTML object>"
      ]
     },
     "metadata": {},
     "output_type": "display_data"
    },
    {
     "name": "stdout",
     "output_type": "stream",
     "text": [
      "***** eval metrics *****\n",
      "  epoch                   =       2.98\n",
      "  eval_accuracy           =     0.7281\n",
      "  eval_loss               =     0.5914\n",
      "  eval_runtime            = 0:00:17.35\n",
      "  eval_samples_per_second =     13.134\n",
      "  eval_steps_per_second   =      0.461\n"
     ]
    }
   ],
   "source": [
    "\n",
    "metrics = trainer.evaluate()\n",
    "# some nice to haves:\n",
    "trainer.log_metrics(\"eval\", metrics)\n",
    "trainer.save_metrics(\"eval\", metrics)"
   ]
  },
  {
   "cell_type": "code",
   "execution_count": 17,
   "id": "43c9156b-84a2-4d28-875f-6c9796f41d46",
   "metadata": {},
   "outputs": [],
   "source": [
    "\n",
    "test_ds.set_transform(preprocess_val)"
   ]
  },
  {
   "cell_type": "code",
   "execution_count": 18,
   "id": "96167b9c-d84b-43c0-a85f-fae3ccf58ab0",
   "metadata": {},
   "outputs": [
    {
     "name": "stderr",
     "output_type": "stream",
     "text": [
      "***** Running Prediction *****\n",
      "  Num examples = 402\n",
      "  Batch size = 32\n"
     ]
    }
   ],
   "source": [
    "outputs = trainer.predict(test_ds)\n",
    "y_pred = outputs.predictions.argmax(1)"
   ]
  },
  {
   "cell_type": "code",
   "execution_count": 19,
   "id": "a35c48e8-a78e-47d1-85f8-97fc7a5c91c6",
   "metadata": {},
   "outputs": [
    {
     "data": {
      "text/plain": [
       "{'accuracy': 0.7288557213930348}"
      ]
     },
     "execution_count": 19,
     "metadata": {},
     "output_type": "execute_result"
    }
   ],
   "source": [
    "compute_metrics(outputs)"
   ]
  },
  {
   "cell_type": "code",
   "execution_count": 20,
   "id": "f847d7ab-5acd-454d-af4d-044049cab94e",
   "metadata": {},
   "outputs": [
    {
     "data": {
      "text/plain": [
       "PredictionOutput(predictions=array([[ 0.29491794, -0.3603454 ],\n",
       "       [ 0.35610878, -0.375682  ],\n",
       "       [ 0.3055102 , -0.3636948 ],\n",
       "       [ 0.3307831 , -0.36737645],\n",
       "       [ 0.31414768, -0.37368828],\n",
       "       [ 0.3456011 , -0.38905224],\n",
       "       [ 0.31463286, -0.3569066 ],\n",
       "       [ 0.3083463 , -0.35711896],\n",
       "       [ 0.3014019 , -0.37939325],\n",
       "       [ 0.26788604, -0.3569405 ],\n",
       "       [ 0.3107623 , -0.34823918],\n",
       "       [ 0.3109921 , -0.34867194],\n",
       "       [ 0.30943286, -0.37285626],\n",
       "       [ 0.27761477, -0.35752434],\n",
       "       [ 0.29807442, -0.36670935],\n",
       "       [ 0.2832995 , -0.34811243],\n",
       "       [ 0.32128993, -0.38504142],\n",
       "       [ 0.28556705, -0.34728658],\n",
       "       [ 0.3035313 , -0.35354927],\n",
       "       [ 0.26146498, -0.3603493 ],\n",
       "       [ 0.2933905 , -0.35287762],\n",
       "       [ 0.28513178, -0.3551707 ],\n",
       "       [ 0.26876247, -0.36276206],\n",
       "       [ 0.37386537, -0.40079454],\n",
       "       [ 0.2668796 , -0.35541362],\n",
       "       [ 0.30855063, -0.375682  ],\n",
       "       [ 0.27970347, -0.3805136 ],\n",
       "       [ 0.34135464, -0.36394882],\n",
       "       [ 0.37941563, -0.40239012],\n",
       "       [ 0.31196618, -0.37804085],\n",
       "       [ 0.29282644, -0.36271942],\n",
       "       [ 0.32518938, -0.3609569 ],\n",
       "       [ 0.31333378, -0.34299955],\n",
       "       [ 0.285311  , -0.39353764],\n",
       "       [ 0.3087572 , -0.38351482],\n",
       "       [ 0.3038553 , -0.35832164],\n",
       "       [ 0.295873  , -0.38619465],\n",
       "       [ 0.31102216, -0.37128103],\n",
       "       [ 0.33033907, -0.38306582],\n",
       "       [ 0.27697244, -0.36539465],\n",
       "       [ 0.2577628 , -0.34875998],\n",
       "       [ 0.29386666, -0.35425472],\n",
       "       [ 0.3417917 , -0.37709713],\n",
       "       [ 0.32586053, -0.3713287 ],\n",
       "       [ 0.31790808, -0.3691811 ],\n",
       "       [ 0.2786178 , -0.34835902],\n",
       "       [ 0.32273963, -0.38771027],\n",
       "       [ 0.28466114, -0.34884334],\n",
       "       [ 0.28738967, -0.36269915],\n",
       "       [ 0.33056557, -0.363938  ],\n",
       "       [ 0.31508908, -0.38461894],\n",
       "       [ 0.29771572, -0.35659754],\n",
       "       [ 0.30544585, -0.37035203],\n",
       "       [ 0.36630177, -0.38133878],\n",
       "       [ 0.28144374, -0.35534522],\n",
       "       [ 0.30478013, -0.35470235],\n",
       "       [ 0.3173426 , -0.35915858],\n",
       "       [ 0.29516453, -0.38776705],\n",
       "       [ 0.2984506 , -0.36301553],\n",
       "       [ 0.3029329 , -0.3861239 ],\n",
       "       [ 0.31902972, -0.38511205],\n",
       "       [ 0.394251  , -0.40522683],\n",
       "       [ 0.31293276, -0.36906266],\n",
       "       [ 0.30118325, -0.36367023],\n",
       "       [ 0.36315504, -0.37758666],\n",
       "       [ 0.28638434, -0.35451522],\n",
       "       [ 0.28281605, -0.37390175],\n",
       "       [ 0.30615157, -0.35769358],\n",
       "       [ 0.3407994 , -0.35133168],\n",
       "       [ 0.3364062 , -0.37472773],\n",
       "       [ 0.32276964, -0.38671708],\n",
       "       [ 0.29607436, -0.37843016],\n",
       "       [ 0.294413  , -0.36572146],\n",
       "       [ 0.29588035, -0.3579452 ],\n",
       "       [ 0.31485537, -0.3661021 ],\n",
       "       [ 0.34703085, -0.38797596],\n",
       "       [ 0.26448232, -0.36679956],\n",
       "       [ 0.31333494, -0.38126895],\n",
       "       [ 0.3175871 , -0.368082  ],\n",
       "       [ 0.32872668, -0.37418392],\n",
       "       [ 0.30859   , -0.36491007],\n",
       "       [ 0.3296773 , -0.36877072],\n",
       "       [ 0.35848796, -0.3730812 ],\n",
       "       [ 0.2832752 , -0.35488576],\n",
       "       [ 0.31704584, -0.37174153],\n",
       "       [ 0.32257473, -0.37179777],\n",
       "       [ 0.2819805 , -0.33650842],\n",
       "       [ 0.2965079 , -0.36379093],\n",
       "       [ 0.29650298, -0.35463178],\n",
       "       [ 0.37497997, -0.39395404],\n",
       "       [ 0.3268443 , -0.37991717],\n",
       "       [ 0.32705986, -0.37193564],\n",
       "       [ 0.30404693, -0.37171423],\n",
       "       [ 0.27946785, -0.36618346],\n",
       "       [ 0.3002767 , -0.35665548],\n",
       "       [ 0.31095427, -0.36096996],\n",
       "       [ 0.30686337, -0.3791986 ],\n",
       "       [ 0.29124925, -0.36451054],\n",
       "       [ 0.28491458, -0.35625046],\n",
       "       [ 0.33818957, -0.3623455 ],\n",
       "       [ 0.31343725, -0.35316157],\n",
       "       [ 0.3008566 , -0.37043115],\n",
       "       [ 0.33039135, -0.38148817],\n",
       "       [ 0.29884833, -0.37160987],\n",
       "       [ 0.24911547, -0.35379633],\n",
       "       [ 0.32305223, -0.3699503 ],\n",
       "       [ 0.2990724 , -0.36443454],\n",
       "       [ 0.31087705, -0.37247992],\n",
       "       [ 0.30446088, -0.35815138],\n",
       "       [ 0.31048694, -0.35673955],\n",
       "       [ 0.2691534 , -0.358759  ],\n",
       "       [ 0.29020885, -0.3513627 ],\n",
       "       [ 0.2896671 , -0.36984453],\n",
       "       [ 0.2947337 , -0.34530216],\n",
       "       [ 0.29648128, -0.36616895],\n",
       "       [ 0.33609924, -0.37215346],\n",
       "       [ 0.31707123, -0.3635664 ],\n",
       "       [ 0.31375688, -0.35359535],\n",
       "       [ 0.3097571 , -0.38220018],\n",
       "       [ 0.31707507, -0.3568664 ],\n",
       "       [ 0.29576793, -0.37019274],\n",
       "       [ 0.2634536 , -0.35351896],\n",
       "       [ 0.26510322, -0.3498439 ],\n",
       "       [ 0.30938274, -0.3709122 ],\n",
       "       [ 0.27615428, -0.34608972],\n",
       "       [ 0.29123983, -0.348773  ],\n",
       "       [ 0.26115835, -0.3494257 ],\n",
       "       [ 0.2982702 , -0.3612495 ],\n",
       "       [ 0.33337748, -0.37664768],\n",
       "       [ 0.31203434, -0.34901416],\n",
       "       [ 0.31228772, -0.34783107],\n",
       "       [ 0.24845286, -0.35395196],\n",
       "       [ 0.36370188, -0.39477414],\n",
       "       [ 0.3391325 , -0.38619798],\n",
       "       [ 0.2739042 , -0.3563673 ],\n",
       "       [ 0.29473388, -0.36845845],\n",
       "       [ 0.30434683, -0.3746697 ],\n",
       "       [ 0.29079986, -0.3638902 ],\n",
       "       [ 0.30927852, -0.35097358],\n",
       "       [ 0.32829276, -0.35762617],\n",
       "       [ 0.31747505, -0.36276338],\n",
       "       [ 0.29879448, -0.36935976],\n",
       "       [ 0.28842574, -0.37070054],\n",
       "       [ 0.28486946, -0.36898574],\n",
       "       [ 0.33988956, -0.37951916],\n",
       "       [ 0.3666728 , -0.37597838],\n",
       "       [ 0.27649912, -0.37780544],\n",
       "       [ 0.31047112, -0.34498817],\n",
       "       [ 0.29769194, -0.3667034 ],\n",
       "       [ 0.31205755, -0.36493477],\n",
       "       [ 0.30142403, -0.36094064],\n",
       "       [ 0.3020323 , -0.35958374],\n",
       "       [ 0.29009086, -0.37010175],\n",
       "       [ 0.33272558, -0.38951662],\n",
       "       [ 0.2920582 , -0.35491735],\n",
       "       [ 0.30168578, -0.35608548],\n",
       "       [ 0.27875113, -0.34472796],\n",
       "       [ 0.33209735, -0.37485877],\n",
       "       [ 0.32017106, -0.36281064],\n",
       "       [ 0.32081202, -0.35618195],\n",
       "       [ 0.34873134, -0.40567172],\n",
       "       [ 0.337651  , -0.38241324],\n",
       "       [ 0.32502702, -0.36916444],\n",
       "       [ 0.27046683, -0.338071  ],\n",
       "       [ 0.3108111 , -0.36123043],\n",
       "       [ 0.3196416 , -0.37377387],\n",
       "       [ 0.3395882 , -0.36833617],\n",
       "       [ 0.30299115, -0.34698132],\n",
       "       [ 0.3386079 , -0.38757098],\n",
       "       [ 0.32753307, -0.35612574],\n",
       "       [ 0.28220442, -0.36587256],\n",
       "       [ 0.32776287, -0.36002076],\n",
       "       [ 0.3034549 , -0.35773894],\n",
       "       [ 0.2907468 , -0.36896414],\n",
       "       [ 0.3695417 , -0.38722917],\n",
       "       [ 0.2840386 , -0.37135708],\n",
       "       [ 0.28661108, -0.34973708],\n",
       "       [ 0.29285127, -0.3512369 ],\n",
       "       [ 0.33649296, -0.3838566 ],\n",
       "       [ 0.3101831 , -0.3677401 ],\n",
       "       [ 0.29794082, -0.36008254],\n",
       "       [ 0.31239283, -0.38020763],\n",
       "       [ 0.2919457 , -0.3571246 ],\n",
       "       [ 0.30964968, -0.36571044],\n",
       "       [ 0.28475758, -0.34471914],\n",
       "       [ 0.3722717 , -0.39229944],\n",
       "       [ 0.303106  , -0.36080384],\n",
       "       [ 0.28659958, -0.3526724 ],\n",
       "       [ 0.30481488, -0.38950053],\n",
       "       [ 0.26742852, -0.35339797],\n",
       "       [ 0.31660283, -0.38650355],\n",
       "       [ 0.30048588, -0.35691008],\n",
       "       [ 0.31525877, -0.39531237],\n",
       "       [ 0.2800507 , -0.35250676],\n",
       "       [ 0.30349678, -0.37141195],\n",
       "       [ 0.26905784, -0.350672  ],\n",
       "       [ 0.30085903, -0.35318142],\n",
       "       [ 0.26193005, -0.3622415 ],\n",
       "       [ 0.26415223, -0.34759274],\n",
       "       [ 0.30881923, -0.35711527],\n",
       "       [ 0.3230793 , -0.36271942],\n",
       "       [ 0.3095941 , -0.36148667],\n",
       "       [ 0.3172156 , -0.38390884],\n",
       "       [ 0.30615762, -0.35473406],\n",
       "       [ 0.3333937 , -0.37205684],\n",
       "       [ 0.31639075, -0.3603322 ],\n",
       "       [ 0.32449448, -0.36091018],\n",
       "       [ 0.28832972, -0.351443  ],\n",
       "       [ 0.30943215, -0.35632503],\n",
       "       [ 0.29764235, -0.36934283],\n",
       "       [ 0.29552773, -0.3527224 ],\n",
       "       [ 0.36306924, -0.40878695],\n",
       "       [ 0.33285716, -0.3940785 ],\n",
       "       [ 0.2989901 , -0.34975517],\n",
       "       [ 0.3248702 , -0.37802178],\n",
       "       [ 0.29553494, -0.3687529 ],\n",
       "       [ 0.30037192, -0.37090176],\n",
       "       [ 0.311679  , -0.36212167],\n",
       "       [ 0.32092273, -0.365404  ],\n",
       "       [ 0.28463215, -0.36867017],\n",
       "       [ 0.30142277, -0.36528325],\n",
       "       [ 0.2991393 , -0.3764386 ],\n",
       "       [ 0.30266982, -0.3621825 ],\n",
       "       [ 0.33795306, -0.37942496],\n",
       "       [ 0.33405674, -0.37176242],\n",
       "       [ 0.28557506, -0.36908555],\n",
       "       [ 0.26611248, -0.34663367],\n",
       "       [ 0.32567352, -0.34337032],\n",
       "       [ 0.30889487, -0.3588718 ],\n",
       "       [ 0.31102094, -0.37732956],\n",
       "       [ 0.2909431 , -0.37116084],\n",
       "       [ 0.32346642, -0.36407095],\n",
       "       [ 0.31661424, -0.37149647],\n",
       "       [ 0.30062586, -0.36543116],\n",
       "       [ 0.28244257, -0.3456975 ],\n",
       "       [ 0.2765532 , -0.35619646],\n",
       "       [ 0.2850993 , -0.35877287],\n",
       "       [ 0.31219375, -0.37082613],\n",
       "       [ 0.38183695, -0.37759042],\n",
       "       [ 0.29693016, -0.3918875 ],\n",
       "       [ 0.29189566, -0.37787822],\n",
       "       [ 0.31296957, -0.37797445],\n",
       "       [ 0.28281793, -0.36759773],\n",
       "       [ 0.32532206, -0.38280913],\n",
       "       [ 0.2875843 , -0.35403985],\n",
       "       [ 0.2813335 , -0.36482537],\n",
       "       [ 0.31057543, -0.3662383 ],\n",
       "       [ 0.28999665, -0.34463412],\n",
       "       [ 0.28084007, -0.35429093],\n",
       "       [ 0.28737587, -0.35499477],\n",
       "       [ 0.28387737, -0.37357292],\n",
       "       [ 0.30047208, -0.38158938],\n",
       "       [ 0.28664684, -0.37239474],\n",
       "       [ 0.3357014 , -0.3668964 ],\n",
       "       [ 0.28859684, -0.3587966 ],\n",
       "       [ 0.30965352, -0.3797128 ],\n",
       "       [ 0.31485578, -0.3542526 ],\n",
       "       [ 0.39129645, -0.3855087 ],\n",
       "       [ 0.33586875, -0.3695116 ],\n",
       "       [ 0.30448443, -0.36456242],\n",
       "       [ 0.29764462, -0.35737678],\n",
       "       [ 0.32182643, -0.38134608],\n",
       "       [ 0.31568626, -0.36804277],\n",
       "       [ 0.32322145, -0.3659739 ],\n",
       "       [ 0.29913446, -0.36105406],\n",
       "       [ 0.32544494, -0.3721034 ],\n",
       "       [ 0.31662935, -0.3438768 ],\n",
       "       [ 0.29744935, -0.3599502 ],\n",
       "       [ 0.32300186, -0.37045488],\n",
       "       [ 0.30612692, -0.35651618],\n",
       "       [ 0.29700416, -0.35924643],\n",
       "       [ 0.3457903 , -0.36989942],\n",
       "       [ 0.30845726, -0.36598212],\n",
       "       [ 0.29750547, -0.37256506],\n",
       "       [ 0.29317445, -0.3615134 ],\n",
       "       [ 0.2931009 , -0.35737306],\n",
       "       [ 0.31344134, -0.36830252],\n",
       "       [ 0.3039912 , -0.37882072],\n",
       "       [ 0.27210703, -0.3540414 ],\n",
       "       [ 0.29618937, -0.36002594],\n",
       "       [ 0.29778063, -0.35643515],\n",
       "       [ 0.36212227, -0.37132227],\n",
       "       [ 0.288907  , -0.3786541 ],\n",
       "       [ 0.34568658, -0.3719831 ],\n",
       "       [ 0.30840802, -0.3539859 ],\n",
       "       [ 0.310591  , -0.38164675],\n",
       "       [ 0.32493412, -0.38870034],\n",
       "       [ 0.31410575, -0.37318575],\n",
       "       [ 0.3409931 , -0.37119234],\n",
       "       [ 0.33797422, -0.3775665 ],\n",
       "       [ 0.28083053, -0.36531034],\n",
       "       [ 0.31152606, -0.3574368 ],\n",
       "       [ 0.29342195, -0.35344082],\n",
       "       [ 0.3007302 , -0.36280486],\n",
       "       [ 0.27736226, -0.37542787],\n",
       "       [ 0.29875156, -0.34979105],\n",
       "       [ 0.30835682, -0.37057865],\n",
       "       [ 0.33911142, -0.35357463],\n",
       "       [ 0.3057039 , -0.3578309 ],\n",
       "       [ 0.2808655 , -0.37181604],\n",
       "       [ 0.32428145, -0.37737218],\n",
       "       [ 0.27169934, -0.36947033],\n",
       "       [ 0.29476443, -0.35201472],\n",
       "       [ 0.41797334, -0.42077082],\n",
       "       [ 0.3280698 , -0.37467194],\n",
       "       [ 0.32968456, -0.3591312 ],\n",
       "       [ 0.3063414 , -0.36224952],\n",
       "       [ 0.32486546, -0.37566477],\n",
       "       [ 0.27878687, -0.38220367],\n",
       "       [ 0.28045502, -0.3649617 ],\n",
       "       [ 0.2979307 , -0.37670398],\n",
       "       [ 0.36185104, -0.36714807],\n",
       "       [ 0.32527432, -0.37724963],\n",
       "       [ 0.2932511 , -0.34773058],\n",
       "       [ 0.2902521 , -0.36005908],\n",
       "       [ 0.3194408 , -0.36463326],\n",
       "       [ 0.2678771 , -0.36753166],\n",
       "       [ 0.31846857, -0.38547593],\n",
       "       [ 0.32661918, -0.38816613],\n",
       "       [ 0.29291353, -0.34189838],\n",
       "       [ 0.30866763, -0.37403286],\n",
       "       [ 0.28750613, -0.36262432],\n",
       "       [ 0.31351385, -0.37062612],\n",
       "       [ 0.27648026, -0.36681515],\n",
       "       [ 0.3080613 , -0.34423342],\n",
       "       [ 0.33246636, -0.37398303],\n",
       "       [ 0.30326897, -0.3797219 ],\n",
       "       [ 0.3229931 , -0.37029397],\n",
       "       [ 0.34471425, -0.38083786],\n",
       "       [ 0.2950643 , -0.36528963],\n",
       "       [ 0.2817568 , -0.37105966],\n",
       "       [ 0.3071891 , -0.34913927],\n",
       "       [ 0.3061174 , -0.39010668],\n",
       "       [ 0.26994956, -0.36253166],\n",
       "       [ 0.2873344 , -0.357924  ],\n",
       "       [ 0.2783634 , -0.3561867 ],\n",
       "       [ 0.30283988, -0.35254636],\n",
       "       [ 0.28503698, -0.36908597],\n",
       "       [ 0.2893126 , -0.35215387],\n",
       "       [ 0.31674737, -0.3589183 ],\n",
       "       [ 0.339221  , -0.37201372],\n",
       "       [ 0.30975777, -0.37023297],\n",
       "       [ 0.32116756, -0.36132196],\n",
       "       [ 0.29692546, -0.36372113],\n",
       "       [ 0.30084994, -0.3628394 ],\n",
       "       [ 0.32292676, -0.36317605],\n",
       "       [ 0.2986027 , -0.3608681 ],\n",
       "       [ 0.46009833, -0.46310645],\n",
       "       [ 0.29281938, -0.35183945],\n",
       "       [ 0.33045545, -0.36541706],\n",
       "       [ 0.2930199 , -0.34847936],\n",
       "       [ 0.30663624, -0.36220276],\n",
       "       [ 0.30699712, -0.35345533],\n",
       "       [ 0.29522958, -0.3647496 ],\n",
       "       [ 0.28930613, -0.34280473],\n",
       "       [ 0.31438795, -0.38018462],\n",
       "       [ 0.31572685, -0.3734149 ],\n",
       "       [ 0.31410906, -0.36157107],\n",
       "       [ 0.29496032, -0.38056222],\n",
       "       [ 0.28577712, -0.35170847],\n",
       "       [ 0.32313985, -0.35855156],\n",
       "       [ 0.29018584, -0.37469625],\n",
       "       [ 0.2824864 , -0.37830627],\n",
       "       [ 0.27119377, -0.357018  ],\n",
       "       [ 0.3254676 , -0.37852868],\n",
       "       [ 0.3274294 , -0.36002034],\n",
       "       [ 0.30960736, -0.37779942],\n",
       "       [ 0.2581938 , -0.37435663],\n",
       "       [ 0.32410625, -0.3743233 ],\n",
       "       [ 0.31761792, -0.3751683 ],\n",
       "       [ 0.32413238, -0.3498227 ],\n",
       "       [ 0.29888085, -0.3655989 ],\n",
       "       [ 0.39298284, -0.4054374 ],\n",
       "       [ 0.27388057, -0.3491015 ],\n",
       "       [ 0.43999505, -0.43986714],\n",
       "       [ 0.30824742, -0.3725524 ],\n",
       "       [ 0.2847966 , -0.37469876],\n",
       "       [ 0.2803454 , -0.3619594 ],\n",
       "       [ 0.29336536, -0.34097397],\n",
       "       [ 0.3138177 , -0.3882251 ],\n",
       "       [ 0.27449176, -0.36999884],\n",
       "       [ 0.29417792, -0.36235645],\n",
       "       [ 0.31927845, -0.36533105],\n",
       "       [ 0.4109951 , -0.45031992],\n",
       "       [ 0.29802492, -0.35648137],\n",
       "       [ 0.30549088, -0.36724526],\n",
       "       [ 0.30392417, -0.36424184],\n",
       "       [ 0.3032097 , -0.38229176],\n",
       "       [ 0.31724772, -0.36432543],\n",
       "       [ 0.30624864, -0.3469513 ],\n",
       "       [ 0.3413125 , -0.39795107],\n",
       "       [ 0.335342  , -0.37517524],\n",
       "       [ 0.27742705, -0.33857906],\n",
       "       [ 0.27274582, -0.37268943],\n",
       "       [ 0.29404852, -0.35489252],\n",
       "       [ 0.28668633, -0.34865817],\n",
       "       [ 0.31756762, -0.3835091 ],\n",
       "       [ 0.27852595, -0.36218038],\n",
       "       [ 0.3186266 , -0.3813041 ],\n",
       "       [ 0.32326978, -0.3506477 ],\n",
       "       [ 0.31158784, -0.3718459 ],\n",
       "       [ 0.32986078, -0.3796322 ]], dtype=float32), label_ids=array([1, 1, 0, 0, 0, 0, 0, 0, 0, 1, 0, 1, 0, 1, 0, 0, 0, 1, 0, 1, 1, 0,\n",
       "       1, 0, 1, 0, 1, 0, 1, 0, 0, 0, 0, 0, 0, 1, 0, 0, 0, 0, 1, 0, 1, 0,\n",
       "       0, 0, 0, 0, 0, 0, 0, 1, 0, 0, 0, 1, 0, 0, 1, 0, 0, 0, 0, 1, 0, 0,\n",
       "       0, 1, 0, 0, 0, 0, 1, 1, 0, 0, 1, 0, 0, 0, 0, 1, 0, 1, 0, 0, 1, 0,\n",
       "       1, 0, 0, 0, 0, 0, 0, 0, 1, 0, 0, 0, 1, 0, 0, 0, 1, 0, 1, 0, 0, 0,\n",
       "       1, 1, 0, 1, 1, 0, 1, 0, 1, 0, 1, 1, 0, 0, 0, 1, 1, 0, 0, 1, 0, 1,\n",
       "       0, 0, 1, 1, 0, 0, 0, 0, 0, 1, 1, 0, 0, 0, 0, 0, 0, 0, 0, 0, 1, 0,\n",
       "       1, 0, 1, 0, 0, 0, 0, 0, 0, 0, 1, 0, 0, 0, 0, 0, 0, 0, 0, 0, 0, 0,\n",
       "       1, 1, 0, 0, 0, 0, 0, 0, 1, 0, 0, 1, 0, 1, 0, 0, 0, 0, 1, 1, 0, 1,\n",
       "       1, 1, 0, 0, 0, 1, 0, 0, 0, 0, 0, 0, 0, 0, 0, 1, 1, 1, 0, 0, 0, 1,\n",
       "       0, 0, 1, 0, 0, 1, 0, 0, 0, 1, 0, 0, 1, 0, 1, 0, 0, 0, 1, 0, 0, 0,\n",
       "       1, 0, 0, 0, 0, 1, 1, 1, 0, 0, 0, 0, 0, 0, 0, 0, 0, 0, 0, 0, 0, 0,\n",
       "       0, 0, 0, 0, 0, 0, 0, 0, 0, 1, 0, 1, 1, 0, 0, 1, 1, 0, 0, 0, 0, 0,\n",
       "       0, 0, 0, 0, 1, 0, 0, 1, 0, 0, 0, 0, 0, 0, 0, 0, 0, 0, 0, 0, 0, 1,\n",
       "       0, 1, 1, 0, 0, 1, 1, 0, 0, 0, 0, 0, 0, 0, 0, 1, 0, 0, 1, 0, 0, 0,\n",
       "       0, 0, 0, 1, 0, 0, 0, 1, 0, 0, 0, 1, 0, 0, 1, 0, 0, 0, 1, 0, 1, 1,\n",
       "       1, 0, 0, 0, 0, 0, 0, 1, 0, 0, 0, 1, 0, 0, 0, 1, 0, 0, 0, 0, 0, 1,\n",
       "       0, 0, 0, 0, 1, 0, 0, 0, 0, 0, 1, 0, 0, 0, 0, 1, 0, 0, 1, 1, 0, 1,\n",
       "       0, 1, 0, 0, 0, 0]), metrics={'test_loss': 0.5886465311050415, 'test_accuracy': 0.7288557213930348, 'test_runtime': 31.0204, 'test_samples_per_second': 12.959, 'test_steps_per_second': 0.419})"
      ]
     },
     "execution_count": 20,
     "metadata": {},
     "output_type": "execute_result"
    }
   ],
   "source": [
    "outputs"
   ]
  },
  {
   "cell_type": "code",
   "execution_count": 21,
   "id": "3be0e585-96b2-44cd-8f32-4b037fcdfe17",
   "metadata": {},
   "outputs": [
    {
     "data": {
      "text/plain": [
       "array([0, 0, 0, 0, 0, 0, 0, 0, 0, 0, 0, 0, 0, 0, 0, 0, 0, 0, 0, 0, 0, 0,\n",
       "       0, 0, 0, 0, 0, 0, 0, 0, 0, 0, 0, 0, 0, 0, 0, 0, 0, 0, 0, 0, 0, 0,\n",
       "       0, 0, 0, 0, 0, 0, 0, 0, 0, 0, 0, 0, 0, 0, 0, 0, 0, 0, 0, 0, 0, 0,\n",
       "       0, 0, 0, 0, 0, 0, 0, 0, 0, 0, 0, 0, 0, 0, 0, 0, 0, 0, 0, 0, 0, 0,\n",
       "       0, 0, 0, 0, 0, 0, 0, 0, 0, 0, 0, 0, 0, 0, 0, 0, 0, 0, 0, 0, 0, 0,\n",
       "       0, 0, 0, 0, 0, 0, 0, 0, 0, 0, 0, 0, 0, 0, 0, 0, 0, 0, 0, 0, 0, 0,\n",
       "       0, 0, 0, 0, 0, 0, 0, 0, 0, 0, 0, 0, 0, 0, 0, 0, 0, 0, 0, 0, 0, 0,\n",
       "       0, 0, 0, 0, 0, 0, 0, 0, 0, 0, 0, 0, 0, 0, 0, 0, 0, 0, 0, 0, 0, 0,\n",
       "       0, 0, 0, 0, 0, 0, 0, 0, 0, 0, 0, 0, 0, 0, 0, 0, 0, 0, 0, 0, 0, 0,\n",
       "       0, 0, 0, 0, 0, 0, 0, 0, 0, 0, 0, 0, 0, 0, 0, 0, 0, 0, 0, 0, 0, 0,\n",
       "       0, 0, 0, 0, 0, 0, 0, 0, 0, 0, 0, 0, 0, 0, 0, 0, 0, 0, 0, 0, 0, 0,\n",
       "       0, 0, 0, 0, 0, 0, 0, 0, 0, 0, 0, 0, 0, 0, 0, 0, 0, 0, 0, 0, 0, 0,\n",
       "       0, 0, 0, 0, 0, 0, 0, 0, 0, 0, 0, 0, 0, 0, 0, 0, 0, 0, 0, 0, 0, 0,\n",
       "       0, 0, 0, 0, 0, 0, 0, 0, 0, 0, 0, 0, 0, 0, 0, 0, 0, 0, 0, 0, 0, 0,\n",
       "       0, 0, 0, 0, 0, 0, 0, 0, 0, 0, 0, 0, 0, 0, 0, 0, 0, 0, 0, 0, 0, 0,\n",
       "       0, 0, 0, 0, 0, 0, 0, 0, 0, 0, 0, 0, 0, 0, 0, 0, 0, 0, 0, 0, 0, 0,\n",
       "       0, 0, 0, 0, 0, 0, 0, 0, 0, 0, 0, 0, 0, 0, 0, 0, 0, 0, 0, 0, 0, 0,\n",
       "       0, 0, 0, 0, 0, 0, 0, 0, 0, 0, 0, 0, 0, 0, 0, 0, 0, 0, 0, 0, 0, 0,\n",
       "       0, 0, 0, 0, 0, 0])"
      ]
     },
     "execution_count": 21,
     "metadata": {},
     "output_type": "execute_result"
    }
   ],
   "source": [
    "y_pred"
   ]
  },
  {
   "cell_type": "code",
   "execution_count": 22,
   "id": "d68b7f8c-d3c7-44b5-8ea0-0a71ad0d0c2d",
   "metadata": {},
   "outputs": [
    {
     "data": {
      "text/plain": [
       "array([1, 1, 0, 0, 0, 0, 0, 0, 0, 1, 0, 1, 0, 1, 0, 0, 0, 1, 0, 1, 1, 0,\n",
       "       1, 0, 1, 0, 1, 0, 1, 0, 0, 0, 0, 0, 0, 1, 0, 0, 0, 0, 1, 0, 1, 0,\n",
       "       0, 0, 0, 0, 0, 0, 0, 1, 0, 0, 0, 1, 0, 0, 1, 0, 0, 0, 0, 1, 0, 0,\n",
       "       0, 1, 0, 0, 0, 0, 1, 1, 0, 0, 1, 0, 0, 0, 0, 1, 0, 1, 0, 0, 1, 0,\n",
       "       1, 0, 0, 0, 0, 0, 0, 0, 1, 0, 0, 0, 1, 0, 0, 0, 1, 0, 1, 0, 0, 0,\n",
       "       1, 1, 0, 1, 1, 0, 1, 0, 1, 0, 1, 1, 0, 0, 0, 1, 1, 0, 0, 1, 0, 1,\n",
       "       0, 0, 1, 1, 0, 0, 0, 0, 0, 1, 1, 0, 0, 0, 0, 0, 0, 0, 0, 0, 1, 0,\n",
       "       1, 0, 1, 0, 0, 0, 0, 0, 0, 0, 1, 0, 0, 0, 0, 0, 0, 0, 0, 0, 0, 0,\n",
       "       1, 1, 0, 0, 0, 0, 0, 0, 1, 0, 0, 1, 0, 1, 0, 0, 0, 0, 1, 1, 0, 1,\n",
       "       1, 1, 0, 0, 0, 1, 0, 0, 0, 0, 0, 0, 0, 0, 0, 1, 1, 1, 0, 0, 0, 1,\n",
       "       0, 0, 1, 0, 0, 1, 0, 0, 0, 1, 0, 0, 1, 0, 1, 0, 0, 0, 1, 0, 0, 0,\n",
       "       1, 0, 0, 0, 0, 1, 1, 1, 0, 0, 0, 0, 0, 0, 0, 0, 0, 0, 0, 0, 0, 0,\n",
       "       0, 0, 0, 0, 0, 0, 0, 0, 0, 1, 0, 1, 1, 0, 0, 1, 1, 0, 0, 0, 0, 0,\n",
       "       0, 0, 0, 0, 1, 0, 0, 1, 0, 0, 0, 0, 0, 0, 0, 0, 0, 0, 0, 0, 0, 1,\n",
       "       0, 1, 1, 0, 0, 1, 1, 0, 0, 0, 0, 0, 0, 0, 0, 1, 0, 0, 1, 0, 0, 0,\n",
       "       0, 0, 0, 1, 0, 0, 0, 1, 0, 0, 0, 1, 0, 0, 1, 0, 0, 0, 1, 0, 1, 1,\n",
       "       1, 0, 0, 0, 0, 0, 0, 1, 0, 0, 0, 1, 0, 0, 0, 1, 0, 0, 0, 0, 0, 1,\n",
       "       0, 0, 0, 0, 1, 0, 0, 0, 0, 0, 1, 0, 0, 0, 0, 1, 0, 0, 1, 1, 0, 1,\n",
       "       0, 1, 0, 0, 0, 0])"
      ]
     },
     "execution_count": 22,
     "metadata": {},
     "output_type": "execute_result"
    }
   ],
   "source": [
    "y_true = np.array(test_ds[:]['label'])\n",
    "y_true"
   ]
  },
  {
   "cell_type": "code",
   "execution_count": 23,
   "id": "dff4e6f8-4cbd-4725-bbdf-6ff1cbbae763",
   "metadata": {},
   "outputs": [
    {
     "data": {
      "text/plain": [
       "array([[293,   0],\n",
       "       [109,   0]])"
      ]
     },
     "execution_count": 23,
     "metadata": {},
     "output_type": "execute_result"
    }
   ],
   "source": [
    "from sklearn.metrics import confusion_matrix\n",
    "confusion_matrix(y_true, y_pred)"
   ]
  },
  {
   "cell_type": "code",
   "execution_count": null,
   "id": "9f1ad9c5-a7f4-4fc6-b788-e50415770018",
   "metadata": {},
   "outputs": [],
   "source": []
  },
  {
   "cell_type": "code",
   "execution_count": null,
   "id": "42e0dbb1-d40d-4bdd-a39c-7c9dd7b17888",
   "metadata": {},
   "outputs": [],
   "source": []
  }
 ],
 "metadata": {
  "kernelspec": {
   "display_name": "PRUEBA:Python",
   "language": "python",
   "name": "conda-env-PRUEBA-py"
  },
  "language_info": {
   "codemirror_mode": {
    "name": "ipython",
    "version": 3
   },
   "file_extension": ".py",
   "mimetype": "text/x-python",
   "name": "python",
   "nbconvert_exporter": "python",
   "pygments_lexer": "ipython3",
   "version": "3.9.13"
  }
 },
 "nbformat": 4,
 "nbformat_minor": 5
}
