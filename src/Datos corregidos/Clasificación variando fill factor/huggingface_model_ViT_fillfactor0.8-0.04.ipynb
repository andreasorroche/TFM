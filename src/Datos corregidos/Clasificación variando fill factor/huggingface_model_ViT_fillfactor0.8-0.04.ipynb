{
 "cells": [
  {
   "cell_type": "code",
   "execution_count": 1,
   "id": "882c7827-d492-48aa-8cb6-a77614297265",
   "metadata": {},
   "outputs": [],
   "source": [
    "#First, we choose the pretrained model to use \n",
    "\n",
    "model_id = \"google/vit-base-patch16-224\"\n",
    "#model_id = 'microsoft/swin-tiny-patch4-window7-224'\n",
    "#model_id = 'facebook/deit-base-patch16-224'\n",
    "#model_id = 'microsoft/resnet-50'\n"
   ]
  },
  {
   "cell_type": "markdown",
   "id": "0c1f530c-0b87-4a91-82f4-a60bf626cdb9",
   "metadata": {},
   "source": [
    "Now we load the feature extractor to process the image into a tensor."
   ]
  },
  {
   "cell_type": "code",
   "execution_count": 2,
   "id": "02cc9044-cb70-47c5-b31f-1657558d1df7",
   "metadata": {},
   "outputs": [
    {
     "name": "stderr",
     "output_type": "stream",
     "text": [
      "/home/studio-lab-user/.conda/envs/PRUEBA/lib/python3.9/site-packages/tqdm/auto.py:22: TqdmWarning: IProgress not found. Please update jupyter and ipywidgets. See https://ipywidgets.readthedocs.io/en/stable/user_install.html\n",
      "  from .autonotebook import tqdm as notebook_tqdm\n"
     ]
    }
   ],
   "source": [
    "from transformers import AutoFeatureExtractor, ViTFeatureExtractor, DeiTFeatureExtractor\n",
    "#feature_extractor = AutoFeatureExtractor.from_pretrained(model_id)\n",
    "feature_extractor = ViTFeatureExtractor.from_pretrained(model_id)\n",
    "#feature_extractor = DeiTFeatureExtractor.from_pretrained(model_id)"
   ]
  },
  {
   "cell_type": "markdown",
   "id": "d4166d1c-1a73-4190-8e82-624200047301",
   "metadata": {},
   "source": [
    "This feature extractor will resize every image to the resolution that the model expects and normalize channels. "
   ]
  },
  {
   "cell_type": "markdown",
   "id": "0491140c-c230-4655-9f89-e005c4d3a426",
   "metadata": {},
   "source": [
    "We define 2 functions, one for training and one for validation, including resizing, center cropping and normalizing."
   ]
  },
  {
   "cell_type": "code",
   "execution_count": 3,
   "id": "fd82a8a4-462b-4f15-ab70-da22f3a57f3b",
   "metadata": {},
   "outputs": [],
   "source": [
    "from torchvision.transforms import (\n",
    "    CenterCrop,\n",
    "    Compose,\n",
    "    Normalize,\n",
    "    RandomResizedCrop,\n",
    "    Resize,\n",
    "    ToTensor,\n",
    ")\n",
    "\n",
    "normalize = Normalize(mean=feature_extractor.image_mean, std=feature_extractor.image_std)\n",
    "train_transforms = Compose(\n",
    "        [\n",
    "            RandomResizedCrop(feature_extractor.size),\n",
    "            ToTensor(),\n",
    "            normalize,\n",
    "        ]\n",
    "    )\n",
    "\n",
    "val_transforms = Compose(\n",
    "        [\n",
    "            Resize(feature_extractor.size),\n",
    "            CenterCrop(feature_extractor.size),\n",
    "            ToTensor(),\n",
    "            normalize,\n",
    "        ]\n",
    "    )\n",
    "\n",
    "def preprocess_train(example_batch):\n",
    "    \"\"\"Apply train_transforms across a batch.\"\"\"\n",
    "    example_batch[\"pixel_values\"] = [\n",
    "        train_transforms(image.convert(\"RGB\")) for image in example_batch[\"img\"]\n",
    "    ]\n",
    "    return example_batch\n",
    "\n",
    "def preprocess_val(example_batch):\n",
    "    \"\"\"Apply val_transforms across a batch.\"\"\"\n",
    "    example_batch[\"pixel_values\"] = [val_transforms(image.convert(\"RGB\")) for image in example_batch[\"img\"]]\n",
    "    return example_batch"
   ]
  },
  {
   "cell_type": "markdown",
   "id": "346a291a-fafd-4580-b8ca-a40b9a71640b",
   "metadata": {},
   "source": [
    "Next, we can preprocess our dataset by applying these functions."
   ]
  },
  {
   "cell_type": "code",
   "execution_count": 4,
   "id": "a9f48cb2-035f-4b64-844d-36911beb1f7e",
   "metadata": {},
   "outputs": [
    {
     "data": {
      "text/plain": [
       "DatasetDict({\n",
       "    train: Dataset({\n",
       "        features: ['img', 'label'],\n",
       "        num_rows: 2044\n",
       "    })\n",
       "    val: Dataset({\n",
       "        features: ['img', 'label'],\n",
       "        num_rows: 228\n",
       "    })\n",
       "    test: Dataset({\n",
       "        features: ['img', 'label'],\n",
       "        num_rows: 402\n",
       "    })\n",
       "})"
      ]
     },
     "execution_count": 4,
     "metadata": {},
     "output_type": "execute_result"
    }
   ],
   "source": [
    "#Load data\n",
    "import datasets\n",
    "from datasets import Dataset, DatasetDict, load_dataset, load_from_disk\n",
    "ds = load_from_disk('./fillfactor_dict')\n",
    "ds"
   ]
  },
  {
   "cell_type": "code",
   "execution_count": 5,
   "id": "300c5553-6b86-4086-ad35-a15c5875c5d6",
   "metadata": {},
   "outputs": [],
   "source": [
    "# split up training into training + validation\n",
    "train_ds = ds['train']\n",
    "val_ds = ds['val']\n",
    "test_ds = ds['test']"
   ]
  },
  {
   "cell_type": "code",
   "execution_count": 6,
   "id": "256e4b28-52e6-4572-886a-a2aaaf814b9f",
   "metadata": {},
   "outputs": [
    {
     "name": "stdout",
     "output_type": "stream",
     "text": [
      "['gamma', 'proton']\n"
     ]
    }
   ],
   "source": [
    "#Classes names\n",
    "labels = train_ds.features[\"label\"].names\n",
    "print(labels)"
   ]
  },
  {
   "cell_type": "code",
   "execution_count": 7,
   "id": "97d151d8-791d-4eaf-ac20-0e22aab9454c",
   "metadata": {},
   "outputs": [
    {
     "name": "stderr",
     "output_type": "stream",
     "text": [
      "Parameter 'transform'=<function preprocess_train at 0x7f132e8eedc0> of the transform datasets.arrow_dataset.Dataset.set_format couldn't be hashed properly, a random hash was used instead. Make sure your transforms and parameters are serializable with pickle or dill for the dataset fingerprinting and caching to work. If you reuse this transform, the caching mechanism will consider it to be different from the previous calls and recompute everything. This warning is only showed once. Subsequent hashing failures won't be showed.\n"
     ]
    }
   ],
   "source": [
    "train_ds.set_transform(preprocess_train)\n",
    "val_ds.set_transform(preprocess_val)"
   ]
  },
  {
   "cell_type": "code",
   "execution_count": 8,
   "id": "cfc4ed91-ffab-4e6f-bf0e-e90db0e8b8a1",
   "metadata": {},
   "outputs": [
    {
     "data": {
      "text/plain": [
       "{'img': <PIL.JpegImagePlugin.JpegImageFile image mode=RGB size=288x288>,\n",
       " 'label': 1,\n",
       " 'pixel_values': tensor([[[0.9686, 0.9686, 0.9686,  ..., 1.0000, 1.0000, 1.0000],\n",
       "          [0.9843, 0.9765, 0.9765,  ..., 1.0000, 1.0000, 1.0000],\n",
       "          [0.9922, 0.9843, 0.9765,  ..., 1.0000, 1.0000, 1.0000],\n",
       "          ...,\n",
       "          [1.0000, 1.0000, 1.0000,  ..., 1.0000, 1.0000, 1.0000],\n",
       "          [1.0000, 1.0000, 1.0000,  ..., 1.0000, 1.0000, 1.0000],\n",
       "          [1.0000, 1.0000, 1.0000,  ..., 1.0000, 1.0000, 1.0000]],\n",
       " \n",
       "         [[0.9608, 0.9608, 0.9608,  ..., 1.0000, 1.0000, 1.0000],\n",
       "          [0.9765, 0.9686, 0.9686,  ..., 1.0000, 1.0000, 1.0000],\n",
       "          [0.9843, 0.9765, 0.9686,  ..., 1.0000, 1.0000, 1.0000],\n",
       "          ...,\n",
       "          [1.0000, 1.0000, 1.0000,  ..., 1.0000, 1.0000, 1.0000],\n",
       "          [1.0000, 1.0000, 1.0000,  ..., 1.0000, 1.0000, 1.0000],\n",
       "          [1.0000, 1.0000, 1.0000,  ..., 1.0000, 1.0000, 1.0000]],\n",
       " \n",
       "         [[0.9451, 0.9451, 0.9451,  ..., 1.0000, 1.0000, 1.0000],\n",
       "          [0.9608, 0.9529, 0.9529,  ..., 1.0000, 1.0000, 1.0000],\n",
       "          [0.9686, 0.9608, 0.9529,  ..., 1.0000, 1.0000, 1.0000],\n",
       "          ...,\n",
       "          [1.0000, 1.0000, 1.0000,  ..., 1.0000, 1.0000, 1.0000],\n",
       "          [1.0000, 1.0000, 1.0000,  ..., 1.0000, 1.0000, 1.0000],\n",
       "          [1.0000, 1.0000, 1.0000,  ..., 1.0000, 1.0000, 1.0000]]])}"
      ]
     },
     "execution_count": 8,
     "metadata": {},
     "output_type": "execute_result"
    }
   ],
   "source": [
    "train_ds[0]"
   ]
  },
  {
   "cell_type": "markdown",
   "id": "7ffaa161-cffe-4796-8012-91e66d879fd1",
   "metadata": {},
   "source": [
    "Now that our data is ready, we can download the pretrained model and fine-tune it. We use the modelViTForImageClassification.  "
   ]
  },
  {
   "cell_type": "code",
   "execution_count": 9,
   "id": "22aa812a-f91f-4b38-8b18-eab8d71163f7",
   "metadata": {},
   "outputs": [],
   "source": [
    "#We create a dictionary that maps a label name to an integer and vice versa. \n",
    "#The mapping will help the model recover the label name from the label number.\n",
    "\n",
    "label2id, id2label = dict(), dict()\n",
    "for i, label in enumerate(labels):\n",
    "    label2id[label] = str(i)\n",
    "    id2label[str(i)] = label"
   ]
  },
  {
   "cell_type": "code",
   "execution_count": 10,
   "id": "43fba3aa-f533-4ba3-ae49-a57b117002d0",
   "metadata": {},
   "outputs": [
    {
     "name": "stderr",
     "output_type": "stream",
     "text": [
      "Some weights of ViTForImageClassification were not initialized from the model checkpoint at google/vit-base-patch16-224 and are newly initialized because the shapes did not match:\n",
      "- classifier.weight: found shape torch.Size([1000, 768]) in the checkpoint and torch.Size([2, 768]) in the model instantiated\n",
      "- classifier.bias: found shape torch.Size([1000]) in the checkpoint and torch.Size([2]) in the model instantiated\n",
      "You should probably TRAIN this model on a down-stream task to be able to use it for predictions and inference.\n"
     ]
    }
   ],
   "source": [
    "from transformers import ViTForImageClassification, SwinForImageClassification,ResNetForImageClassification, TrainingArguments, Trainer, SegformerForImageClassification\n",
    "\n",
    "model = ViTForImageClassification.from_pretrained(model_id,\n",
    "                                                 label2id=label2id,\n",
    "                                                 id2label=id2label,\n",
    "                                                 ignore_mismatched_sizes = True, # provide this in case you're planning to fine-tune an already fine-tuned checkpoint\n",
    "                                                 )\n",
    "\n",
    "#model = SwinForImageClassification.from_pretrained(model_id,\n",
    "#                                                 label2id=label2id,\n",
    "#                                                 id2label=id2label,\n",
    "#                                                 ignore_mismatched_sizes = True, # provide this in case you're planning to fine-tune an already fine-tuned checkpoint\n",
    "#) \n",
    "\n",
    "#model = ResNetForImageClassification.from_pretrained(model_id,\n",
    "#                                                 label2id=label2id,\n",
    "#                                                 id2label=id2label,\n",
    "#                                                 ignore_mismatched_sizes = True, # provide this in case you're planning to fine-tune an already fine-tuned checkpoint\n",
    "#)\n",
    "\n",
    "\n"
   ]
  },
  {
   "cell_type": "markdown",
   "id": "b6b3e17f-979c-47ca-bad5-76f087d1b333",
   "metadata": {},
   "source": [
    "The warning is telling us we are throwing away some weights (the weights and bias of the classifier layer) and randomly initializing some other (the weights and bias of a new classifier layer). This is expected in this case, because we are adding a new head for which we don't have pretrained weights, so the library warns us we should fine-tune this model before using it for inference, which is exactly what we are going to do."
   ]
  },
  {
   "cell_type": "markdown",
   "id": "6fc7ce9b-a0f0-4f10-90a1-77b8e5613dd1",
   "metadata": {},
   "source": [
    "To instantiate a Trainer, we will need to define the training configuration and the evaluation metric. The most important is the TrainingArguments, which is a class that contains all the attributes to customize the training. It requires one folder name, which will be used to save the checkpoints of the model.\n",
    "\n",
    "Most of the training arguments are pretty self-explanatory, but one that is quite important here is remove_unused_columns=False. This one will drop any features not used by the model's call function. By default it's True because usually it's ideal to drop unused feature columns, making it easier to unpack inputs into the model's call function. But, in our case, we need the unused features ('image' in particular) in order to create 'pixel_values'."
   ]
  },
  {
   "cell_type": "code",
   "execution_count": 11,
   "id": "ede566e3-36e9-473d-baeb-30b0c2cf2ee7",
   "metadata": {},
   "outputs": [],
   "source": [
    "model_name = model_id.split(\"/\")[-1]\n",
    "batch_size = 32\n",
    "learning_rate = 5e-5\n",
    "gradient_accumulation_steps = 4\n",
    "epochs = 3\n",
    "warmup_ratio= 0.1\n",
    "logging_steps=10\n",
    "\n",
    "args = TrainingArguments(\n",
    "    f\"{model_name}-finetuned-ds\",\n",
    "    remove_unused_columns=False,\n",
    "    evaluation_strategy = \"epoch\",\n",
    "    save_strategy = \"epoch\",\n",
    "    learning_rate=learning_rate,\n",
    "    per_device_train_batch_size=batch_size,\n",
    "    gradient_accumulation_steps=gradient_accumulation_steps,\n",
    "    per_device_eval_batch_size=batch_size,\n",
    "    num_train_epochs=epochs,\n",
    "    warmup_ratio=warmup_ratio,\n",
    "    logging_steps=logging_steps,\n",
    "    load_best_model_at_end=True,\n",
    "    metric_for_best_model=\"accuracy\",\n",
    "   # push_to_hub=True,\n",
    ")"
   ]
  },
  {
   "cell_type": "markdown",
   "id": "0f1464cb-4b0a-4621-b65a-6056e36cad1c",
   "metadata": {},
   "source": [
    "Next, we need to define a function for how to compute the metrics from the predictions, which will just use the metric we loaded earlier. Let us also load the Accuracy metric, which we'll use to evaluate our model both during and after training. The only preprocessing we have to do is to take the argmax of our predicted logits:"
   ]
  },
  {
   "cell_type": "code",
   "execution_count": 12,
   "id": "be8d4103-623c-41be-816f-71aba0fad059",
   "metadata": {},
   "outputs": [],
   "source": [
    "import numpy as np\n",
    "\n",
    "from datasets import load_metric\n",
    "\n",
    "metric = load_metric(\"accuracy\")\n",
    "\n",
    "# the compute_metrics function takes a Named Tuple as input:\n",
    "# predictions, which are the logits of the model as Numpy arrays,\n",
    "# and label_ids, which are the ground-truth labels as Numpy arrays.\n",
    "def compute_metrics(eval_pred):\n",
    "    \"\"\"Computes accuracy on a batch of predictions\"\"\"\n",
    "    predictions = np.argmax(eval_pred.predictions, axis=1)\n",
    "    return metric.compute(predictions=predictions, references=eval_pred.label_ids)"
   ]
  },
  {
   "cell_type": "markdown",
   "id": "96a2b985-b913-4849-b3f4-2fdbe77fe455",
   "metadata": {},
   "source": [
    "We also define a collate_fn, which will be used to batch examples together. Each batch consists of 2 keys, namely pixel_values and labels."
   ]
  },
  {
   "cell_type": "code",
   "execution_count": 13,
   "id": "649a749c-d111-47f8-807b-0ba04b53d2a6",
   "metadata": {},
   "outputs": [],
   "source": [
    "import torch\n",
    "\n",
    "def collate_fn(examples):\n",
    "    pixel_values = torch.stack([example[\"pixel_values\"] for example in examples])\n",
    "    labels = torch.tensor([example[\"label\"] for example in examples])\n",
    "    return {\"pixel_values\": pixel_values, \"labels\": labels}"
   ]
  },
  {
   "cell_type": "markdown",
   "id": "4b265339-7eec-44e3-8c38-1ce884527253",
   "metadata": {},
   "source": [
    "Then we just need to pass all of this along with our datasets to the Trainer:"
   ]
  },
  {
   "cell_type": "code",
   "execution_count": 14,
   "id": "5780f1c8-20f9-4694-b90a-099b5b02a3ac",
   "metadata": {},
   "outputs": [],
   "source": [
    "trainer = Trainer(\n",
    "    model,\n",
    "    args,\n",
    "    train_dataset=train_ds,\n",
    "    eval_dataset=val_ds,\n",
    "    tokenizer=feature_extractor,\n",
    "    compute_metrics=compute_metrics,\n",
    "    data_collator=collate_fn,\n",
    ")"
   ]
  },
  {
   "cell_type": "markdown",
   "id": "9c9bc7b0-35ce-496f-a8ef-27f59326e421",
   "metadata": {},
   "source": [
    "Now we can finetune our model by calling the train method:"
   ]
  },
  {
   "cell_type": "code",
   "execution_count": 15,
   "id": "9afe1d3f-c7e2-47a8-9411-5d8509d89f75",
   "metadata": {},
   "outputs": [
    {
     "name": "stderr",
     "output_type": "stream",
     "text": [
      "/home/studio-lab-user/.conda/envs/PRUEBA/lib/python3.9/site-packages/transformers/optimization.py:306: FutureWarning: This implementation of AdamW is deprecated and will be removed in a future version. Use the PyTorch implementation torch.optim.AdamW instead, or set `no_deprecation_warning=True` to disable this warning\n",
      "  warnings.warn(\n",
      "***** Running training *****\n",
      "  Num examples = 2044\n",
      "  Num Epochs = 3\n",
      "  Instantaneous batch size per device = 32\n",
      "  Total train batch size (w. parallel, distributed & accumulation) = 128\n",
      "  Gradient Accumulation steps = 4\n",
      "  Total optimization steps = 48\n"
     ]
    },
    {
     "data": {
      "text/html": [
       "\n",
       "    <div>\n",
       "      \n",
       "      <progress value='48' max='48' style='width:300px; height:20px; vertical-align: middle;'></progress>\n",
       "      [48/48 58:52, Epoch 3/3]\n",
       "    </div>\n",
       "    <table border=\"1\" class=\"dataframe\">\n",
       "  <thead>\n",
       " <tr style=\"text-align: left;\">\n",
       "      <th>Epoch</th>\n",
       "      <th>Training Loss</th>\n",
       "      <th>Validation Loss</th>\n",
       "      <th>Accuracy</th>\n",
       "    </tr>\n",
       "  </thead>\n",
       "  <tbody>\n",
       "    <tr>\n",
       "      <td>1</td>\n",
       "      <td>0.614100</td>\n",
       "      <td>0.549476</td>\n",
       "      <td>0.728070</td>\n",
       "    </tr>\n",
       "    <tr>\n",
       "      <td>2</td>\n",
       "      <td>0.503500</td>\n",
       "      <td>0.373794</td>\n",
       "      <td>0.929825</td>\n",
       "    </tr>\n",
       "    <tr>\n",
       "      <td>3</td>\n",
       "      <td>0.419500</td>\n",
       "      <td>0.279482</td>\n",
       "      <td>0.929825</td>\n",
       "    </tr>\n",
       "  </tbody>\n",
       "</table><p>"
      ],
      "text/plain": [
       "<IPython.core.display.HTML object>"
      ]
     },
     "metadata": {},
     "output_type": "display_data"
    },
    {
     "name": "stderr",
     "output_type": "stream",
     "text": [
      "***** Running Evaluation *****\n",
      "  Num examples = 228\n",
      "  Batch size = 32\n",
      "Saving model checkpoint to vit-base-patch16-224-finetuned-ds/checkpoint-16\n",
      "Configuration saved in vit-base-patch16-224-finetuned-ds/checkpoint-16/config.json\n",
      "Model weights saved in vit-base-patch16-224-finetuned-ds/checkpoint-16/pytorch_model.bin\n",
      "Feature extractor saved in vit-base-patch16-224-finetuned-ds/checkpoint-16/preprocessor_config.json\n",
      "***** Running Evaluation *****\n",
      "  Num examples = 228\n",
      "  Batch size = 32\n",
      "Saving model checkpoint to vit-base-patch16-224-finetuned-ds/checkpoint-32\n",
      "Configuration saved in vit-base-patch16-224-finetuned-ds/checkpoint-32/config.json\n",
      "Model weights saved in vit-base-patch16-224-finetuned-ds/checkpoint-32/pytorch_model.bin\n",
      "Feature extractor saved in vit-base-patch16-224-finetuned-ds/checkpoint-32/preprocessor_config.json\n",
      "***** Running Evaluation *****\n",
      "  Num examples = 228\n",
      "  Batch size = 32\n",
      "Saving model checkpoint to vit-base-patch16-224-finetuned-ds/checkpoint-48\n",
      "Configuration saved in vit-base-patch16-224-finetuned-ds/checkpoint-48/config.json\n",
      "Model weights saved in vit-base-patch16-224-finetuned-ds/checkpoint-48/pytorch_model.bin\n",
      "Feature extractor saved in vit-base-patch16-224-finetuned-ds/checkpoint-48/preprocessor_config.json\n",
      "\n",
      "\n",
      "Training completed. Do not forget to share your model on huggingface.co/models =)\n",
      "\n",
      "\n",
      "Loading best model from vit-base-patch16-224-finetuned-ds/checkpoint-32 (score: 0.9298245614035088).\n"
     ]
    }
   ],
   "source": [
    "train_results = trainer.train()\n"
   ]
  },
  {
   "cell_type": "code",
   "execution_count": 16,
   "id": "70610cf9-8570-4b37-b43c-bdc964a2c8e6",
   "metadata": {},
   "outputs": [
    {
     "name": "stderr",
     "output_type": "stream",
     "text": [
      "***** Running Evaluation *****\n",
      "  Num examples = 228\n",
      "  Batch size = 32\n"
     ]
    },
    {
     "data": {
      "text/html": [
       "\n",
       "    <div>\n",
       "      \n",
       "      <progress value='21' max='8' style='width:300px; height:20px; vertical-align: middle;'></progress>\n",
       "      [8/8 01:42]\n",
       "    </div>\n",
       "    "
      ],
      "text/plain": [
       "<IPython.core.display.HTML object>"
      ]
     },
     "metadata": {},
     "output_type": "display_data"
    },
    {
     "name": "stdout",
     "output_type": "stream",
     "text": [
      "***** eval metrics *****\n",
      "  epoch                   =       2.98\n",
      "  eval_accuracy           =     0.9956\n",
      "  eval_loss               =     0.0158\n",
      "  eval_runtime            = 0:00:39.39\n",
      "  eval_samples_per_second =      5.787\n",
      "  eval_steps_per_second   =      0.203\n"
     ]
    }
   ],
   "source": [
    "\n",
    "metrics = trainer.evaluate()\n",
    "# some nice to haves:\n",
    "trainer.log_metrics(\"eval\", metrics)\n",
    "trainer.save_metrics(\"eval\", metrics)"
   ]
  },
  {
   "cell_type": "code",
   "execution_count": 16,
   "id": "43c9156b-84a2-4d28-875f-6c9796f41d46",
   "metadata": {},
   "outputs": [],
   "source": [
    "\n",
    "test_ds.set_transform(preprocess_val)"
   ]
  },
  {
   "cell_type": "code",
   "execution_count": 17,
   "id": "96167b9c-d84b-43c0-a85f-fae3ccf58ab0",
   "metadata": {},
   "outputs": [
    {
     "name": "stderr",
     "output_type": "stream",
     "text": [
      "***** Running Prediction *****\n",
      "  Num examples = 402\n",
      "  Batch size = 32\n"
     ]
    },
    {
     "data": {
      "text/html": [
       "\n",
       "    <div>\n",
       "      \n",
       "      <progress value='13' max='13' style='width:300px; height:20px; vertical-align: middle;'></progress>\n",
       "      [13/13 01:02]\n",
       "    </div>\n",
       "    "
      ],
      "text/plain": [
       "<IPython.core.display.HTML object>"
      ]
     },
     "metadata": {},
     "output_type": "display_data"
    }
   ],
   "source": [
    "outputs = trainer.predict(test_ds)\n",
    "y_pred = outputs.predictions.argmax(1)"
   ]
  },
  {
   "cell_type": "code",
   "execution_count": 18,
   "id": "a35c48e8-a78e-47d1-85f8-97fc7a5c91c6",
   "metadata": {},
   "outputs": [
    {
     "data": {
      "text/plain": [
       "{'accuracy': 0.9427860696517413}"
      ]
     },
     "execution_count": 18,
     "metadata": {},
     "output_type": "execute_result"
    }
   ],
   "source": [
    "compute_metrics(outputs)"
   ]
  },
  {
   "cell_type": "code",
   "execution_count": 19,
   "id": "f847d7ab-5acd-454d-af4d-044049cab94e",
   "metadata": {},
   "outputs": [
    {
     "data": {
      "text/plain": [
       "PredictionOutput(predictions=array([[-1.14416218e+00,  9.55663323e-01],\n",
       "       [-7.81753004e-01,  1.39746928e+00],\n",
       "       [ 4.33955699e-01, -2.71643519e-01],\n",
       "       [-4.19816971e-01,  4.27662671e-01],\n",
       "       [-3.61591727e-01,  5.79687834e-01],\n",
       "       [-3.39747012e-01,  5.35327137e-01],\n",
       "       [-9.82848287e-01,  8.41285706e-01],\n",
       "       [-9.82541800e-01,  9.30580378e-01],\n",
       "       [-1.84639841e-02,  2.40253806e-01],\n",
       "       [ 6.89258933e-01, -1.49669632e-01],\n",
       "       [-2.89360732e-02,  3.38356018e-01],\n",
       "       [-5.91232657e-01,  6.79622173e-01],\n",
       "       [ 5.21820545e-01, -1.86477304e-01],\n",
       "       [ 2.11738199e-01, -1.77288875e-01],\n",
       "       [ 4.45146501e-01, -2.48431981e-01],\n",
       "       [-4.23141360e-01,  8.13230753e-01],\n",
       "       [-4.12879646e-01,  5.15477777e-01],\n",
       "       [-5.39735198e-01,  4.59055185e-01],\n",
       "       [-1.03144836e+00,  1.01251948e+00],\n",
       "       [-7.00994551e-01,  9.35009360e-01],\n",
       "       [ 5.22156239e-01, -2.66043007e-01],\n",
       "       [-8.67330551e-01,  9.14246917e-01],\n",
       "       [-3.60703200e-01,  3.07374269e-01],\n",
       "       [ 3.87574583e-01,  2.56473541e-01],\n",
       "       [-8.49145532e-01,  1.03812981e+00],\n",
       "       [ 2.69593112e-02, -1.17304787e-01],\n",
       "       [-1.08831930e+00,  1.13453019e+00],\n",
       "       [-1.03625798e+00,  1.26503181e+00],\n",
       "       [-9.00592446e-01,  7.83099055e-01],\n",
       "       [-8.87700796e-01,  1.16838837e+00],\n",
       "       [-8.09134483e-01,  1.20697689e+00],\n",
       "       [ 6.54243112e-01, -2.51687527e-01],\n",
       "       [-8.36817384e-01,  5.63468933e-01],\n",
       "       [-4.57256407e-01,  3.50254536e-01],\n",
       "       [-7.27608204e-01,  8.98322105e-01],\n",
       "       [-8.24393749e-01,  9.72145081e-01],\n",
       "       [-1.10900307e+00,  1.04580760e+00],\n",
       "       [-4.45795506e-01,  4.96283412e-01],\n",
       "       [ 4.62572634e-01, -5.13634458e-02],\n",
       "       [ 6.32734299e-01, -2.46358112e-01],\n",
       "       [ 5.00479937e-01, -3.32726002e-01],\n",
       "       [-7.52741754e-01,  1.13306630e+00],\n",
       "       [-6.45299911e-01,  8.82069707e-01],\n",
       "       [-7.34258294e-02,  3.40311259e-01],\n",
       "       [-7.28697419e-01,  7.58293867e-01],\n",
       "       [-4.16644871e-01,  9.17577684e-01],\n",
       "       [-2.75417507e-01,  1.05756521e+00],\n",
       "       [-1.06807756e+00,  1.11197376e+00],\n",
       "       [-3.68605763e-01,  3.15564692e-01],\n",
       "       [-4.94501829e-01,  3.93968314e-01],\n",
       "       [-7.01251864e-01,  9.13349032e-01],\n",
       "       [-1.91028297e-01,  8.54175568e-01],\n",
       "       [-6.09354258e-01,  9.61284161e-01],\n",
       "       [-2.83444792e-01,  9.75599468e-01],\n",
       "       [-3.33141446e-01,  4.13607985e-01],\n",
       "       [-4.81432915e-01,  6.13946199e-01],\n",
       "       [-4.74265337e-01,  6.53964639e-01],\n",
       "       [-7.63038397e-01,  4.29422230e-01],\n",
       "       [-9.75214481e-01,  1.17313147e+00],\n",
       "       [ 1.03914104e-01,  6.84229493e-01],\n",
       "       [ 1.78429186e-01, -1.28266990e-01],\n",
       "       [-9.81760323e-01,  8.94769967e-01],\n",
       "       [ 2.13373825e-01, -2.27508262e-01],\n",
       "       [ 4.13009763e-01,  1.98570136e-02],\n",
       "       [-2.42186829e-01,  6.04527652e-01],\n",
       "       [-3.53454202e-02, -1.05762467e-01],\n",
       "       [ 4.20071483e-01, -2.23258853e-01],\n",
       "       [-1.12218571e+00,  9.13712025e-01],\n",
       "       [-9.75320697e-01,  1.34609509e+00],\n",
       "       [ 3.74339134e-01, -2.13277012e-01],\n",
       "       [ 1.97273478e-01, -6.69591129e-02],\n",
       "       [-1.14688301e+00,  1.02546918e+00],\n",
       "       [-4.11256135e-01,  5.89996696e-01],\n",
       "       [-6.38636351e-01,  5.87939918e-01],\n",
       "       [ 1.47782207e-01, -1.22836962e-01],\n",
       "       [-4.41546738e-01,  6.08669162e-01],\n",
       "       [-5.52232623e-01,  5.59882760e-01],\n",
       "       [ 5.89054942e-01, -1.81370109e-01],\n",
       "       [-2.31350347e-01,  8.80198956e-01],\n",
       "       [-5.57587743e-01,  8.19085598e-01],\n",
       "       [ 2.94797450e-01, -1.15786821e-01],\n",
       "       [ 8.50610211e-02,  6.16524160e-01],\n",
       "       [ 5.44964612e-01, -2.74083406e-01],\n",
       "       [-1.36386946e-01,  1.05922326e-01],\n",
       "       [-4.90493923e-02, -2.46376023e-02],\n",
       "       [-1.90173090e-02,  5.53171992e-01],\n",
       "       [ 1.06360346e-01,  2.53241509e-02],\n",
       "       [-3.91652882e-01,  7.89354146e-01],\n",
       "       [-5.78637123e-01,  6.25503838e-01],\n",
       "       [-1.90473646e-01,  7.49018610e-01],\n",
       "       [-7.42926240e-01,  7.66581297e-01],\n",
       "       [-8.03912759e-01,  9.00012612e-01],\n",
       "       [-1.11842012e+00,  1.41208541e+00],\n",
       "       [-5.98082900e-01,  7.03692436e-01],\n",
       "       [-1.41800463e-01,  2.92856753e-01],\n",
       "       [-7.34913051e-01,  7.09623158e-01],\n",
       "       [-7.15610385e-01,  7.70062327e-01],\n",
       "       [ 1.93562031e-01, -1.10463418e-01],\n",
       "       [-7.36754179e-01,  1.02021289e+00],\n",
       "       [ 3.35453600e-02,  3.34355310e-02],\n",
       "       [-8.66046906e-01,  9.75832582e-01],\n",
       "       [-5.41822851e-01,  5.60967267e-01],\n",
       "       [-1.06734407e+00,  1.05899394e+00],\n",
       "       [-7.45154738e-01,  9.43262100e-01],\n",
       "       [ 3.23920429e-01, -2.19177827e-01],\n",
       "       [-6.02863908e-01,  6.00220084e-01],\n",
       "       [-1.10710883e+00,  9.89524722e-01],\n",
       "       [-5.19846380e-02,  2.69441515e-01],\n",
       "       [-4.65922832e-01,  9.72318053e-01],\n",
       "       [-3.64748508e-01,  4.28558111e-01],\n",
       "       [-3.29303116e-01,  5.01354933e-01],\n",
       "       [ 5.25251448e-01, -3.11406821e-01],\n",
       "       [-2.09067583e-01,  4.61161703e-01],\n",
       "       [ 3.55488539e-01,  4.73357886e-02],\n",
       "       [-2.19423786e-01,  1.68316185e-01],\n",
       "       [ 3.30654263e-01,  6.08046353e-03],\n",
       "       [-9.89489079e-01,  1.00174093e+00],\n",
       "       [-1.09348440e+00,  1.05929530e+00],\n",
       "       [ 2.49296963e-01, -3.15167874e-01],\n",
       "       [-4.05091256e-01,  4.02065933e-01],\n",
       "       [-5.41443706e-01,  1.02057934e+00],\n",
       "       [-5.36169469e-01,  9.66516256e-01],\n",
       "       [-1.06319284e+00,  1.07737184e+00],\n",
       "       [-3.54877770e-01,  3.58134151e-01],\n",
       "       [-9.13770914e-01,  7.14818001e-01],\n",
       "       [-4.31058258e-01,  3.09749693e-01],\n",
       "       [-8.28456998e-01,  8.42356086e-01],\n",
       "       [ 3.26961368e-01, -1.67582840e-01],\n",
       "       [-7.39674568e-01,  9.19495940e-01],\n",
       "       [-2.36825839e-01,  2.12188661e-01],\n",
       "       [ 7.16365099e-01, -3.02208215e-01],\n",
       "       [-5.14565766e-01,  9.10797000e-01],\n",
       "       [ 4.55629885e-01, -2.49790102e-01],\n",
       "       [-5.19049883e-01,  8.36722851e-01],\n",
       "       [-9.38786209e-01,  1.02361608e+00],\n",
       "       [ 3.09563339e-01,  1.80476263e-01],\n",
       "       [-6.49556279e-01,  1.01605558e+00],\n",
       "       [ 2.40781173e-01,  2.63597369e-01],\n",
       "       [-5.05794346e-01,  7.22834647e-01],\n",
       "       [ 7.80497342e-02,  1.69248581e-02],\n",
       "       [-5.31116009e-01,  6.37479722e-01],\n",
       "       [-9.74556983e-01,  9.67754602e-01],\n",
       "       [-4.59433317e-01,  8.36629570e-01],\n",
       "       [-6.69031858e-01,  9.59503531e-01],\n",
       "       [-2.80661315e-01,  4.33053792e-01],\n",
       "       [ 3.72491002e-01, -1.20346606e-01],\n",
       "       [ 1.38420850e-01,  4.34541553e-01],\n",
       "       [ 5.61045289e-01, -2.99253911e-01],\n",
       "       [-1.06489730e+00,  1.03209209e+00],\n",
       "       [-3.52301359e-01,  6.06959939e-01],\n",
       "       [-4.28498834e-01,  6.62198305e-01],\n",
       "       [ 3.38958234e-01, -4.89258766e-02],\n",
       "       [-1.49650887e-01,  6.87126398e-01],\n",
       "       [ 2.29611456e-01, -1.73464328e-01],\n",
       "       [-8.68414491e-02,  6.88524008e-01],\n",
       "       [-1.04191995e+00,  1.13450837e+00],\n",
       "       [-1.64288238e-01,  3.61699313e-01],\n",
       "       [-5.88857532e-01,  6.05689585e-01],\n",
       "       [-6.33380830e-01,  8.75545561e-01],\n",
       "       [-8.64384919e-02,  1.07383505e-01],\n",
       "       [-1.65049255e-01,  3.23881656e-01],\n",
       "       [-3.15234870e-01,  6.85350835e-01],\n",
       "       [ 4.68320131e-01, -3.20460230e-01],\n",
       "       [ 4.88620102e-01,  1.54698864e-02],\n",
       "       [ 5.36842763e-01,  1.07134590e-02],\n",
       "       [ 5.85218012e-01, -3.02225590e-01],\n",
       "       [-9.56231713e-01,  1.37779379e+00],\n",
       "       [ 6.42606437e-01, -2.49661803e-01],\n",
       "       [-1.24666452e+00,  1.48204207e+00],\n",
       "       [-3.45171988e-01,  6.64388657e-01],\n",
       "       [ 2.59222627e-01, -1.21826336e-01],\n",
       "       [-2.78012753e-02,  3.63052994e-01],\n",
       "       [ 8.20270896e-01, -2.04574332e-01],\n",
       "       [-1.50115550e-01,  1.91079110e-01],\n",
       "       [-2.18977794e-01,  3.40863407e-01],\n",
       "       [-3.39939296e-01,  5.20406306e-01],\n",
       "       [-6.73536539e-01,  6.11651659e-01],\n",
       "       [-8.33785295e-01,  1.20347738e+00],\n",
       "       [ 5.64620852e-01, -2.50113040e-01],\n",
       "       [-1.67651772e-01,  2.15331659e-01],\n",
       "       [-9.57570493e-01,  1.18077302e+00],\n",
       "       [-1.21858723e-01,  6.87432051e-01],\n",
       "       [-7.11242318e-01,  5.38283467e-01],\n",
       "       [ 1.67073444e-01, -8.26365650e-02],\n",
       "       [-8.95369202e-02,  2.92302340e-01],\n",
       "       [-1.32793236e+00,  1.48323894e+00],\n",
       "       [ 1.23308480e-01, -2.90354453e-02],\n",
       "       [-2.96393968e-02,  2.64685631e-01],\n",
       "       [-3.73840183e-01,  5.80782533e-01],\n",
       "       [ 2.53069252e-02,  2.64278859e-01],\n",
       "       [ 2.55505562e-01,  2.41381913e-01],\n",
       "       [-6.98985040e-01,  8.41871858e-01],\n",
       "       [-2.14136958e-01,  2.69153059e-01],\n",
       "       [-1.37604162e-01,  6.97109938e-01],\n",
       "       [-6.19610369e-01,  7.59153128e-01],\n",
       "       [-2.17402726e-01,  6.05258107e-01],\n",
       "       [ 5.61179936e-01, -2.22423926e-01],\n",
       "       [ 4.58239496e-01,  8.84638876e-02],\n",
       "       [-1.80168450e-02,  1.65957987e-01],\n",
       "       [ 2.81305313e-01, -2.94631243e-01],\n",
       "       [-8.45522285e-01,  1.30124211e+00],\n",
       "       [-1.27652168e+00,  1.14806163e+00],\n",
       "       [-8.36681247e-01,  9.18352365e-01],\n",
       "       [-7.74833858e-01,  1.02948308e+00],\n",
       "       [-5.46280324e-01,  6.48656011e-01],\n",
       "       [ 3.10569584e-01, -2.34699190e-01],\n",
       "       [-7.96403468e-01,  8.29429865e-01],\n",
       "       [-3.91555607e-01,  2.84150183e-01],\n",
       "       [ 5.91445982e-01, -2.85852075e-01],\n",
       "       [-8.01688075e-01,  1.12961602e+00],\n",
       "       [-5.05226135e-01,  5.25540948e-01],\n",
       "       [-1.19495809e+00,  8.26170444e-01],\n",
       "       [-7.91601062e-01,  1.17151809e+00],\n",
       "       [-8.52308989e-01,  1.03996825e+00],\n",
       "       [-6.76876724e-01,  1.05293179e+00],\n",
       "       [ 9.44284275e-02,  2.30917066e-01],\n",
       "       [ 7.84948826e-01, -2.89845675e-01],\n",
       "       [-7.37121940e-01,  8.46217871e-01],\n",
       "       [ 2.58587927e-01, -2.58131236e-01],\n",
       "       [ 6.37214720e-01, -2.67628610e-01],\n",
       "       [-6.73927069e-01,  8.03537607e-01],\n",
       "       [ 5.12875259e-01,  9.40530226e-02],\n",
       "       [-6.33651167e-02,  3.70354533e-01],\n",
       "       [ 5.54365814e-02,  2.96546102e-01],\n",
       "       [ 3.95059109e-01, -1.08899407e-01],\n",
       "       [ 5.62226117e-01, -2.00589776e-01],\n",
       "       [ 1.30870521e-01,  4.76616919e-01],\n",
       "       [ 7.72615194e-01, -3.59435380e-01],\n",
       "       [ 7.49791116e-02, -5.38314357e-02],\n",
       "       [ 1.75323486e-02,  1.65434062e-01],\n",
       "       [ 5.78362584e-01, -2.79528052e-01],\n",
       "       [ 6.28878713e-01, -2.55108595e-01],\n",
       "       [-4.04492915e-02,  2.15440869e-01],\n",
       "       [-2.03823507e-01,  1.91212445e-01],\n",
       "       [ 7.30615854e-02,  2.88776278e-01],\n",
       "       [-3.03888440e-01,  1.01984537e+00],\n",
       "       [-1.34473443e-01,  2.16572821e-01],\n",
       "       [ 4.32710171e-01, -1.02508053e-01],\n",
       "       [-1.15455770e+00,  1.28056884e+00],\n",
       "       [ 2.18831778e-01,  2.22672492e-01],\n",
       "       [-1.14076507e+00,  1.07653320e+00],\n",
       "       [ 4.55292463e-01, -6.20114058e-03],\n",
       "       [-5.85592031e-01,  5.13575733e-01],\n",
       "       [ 7.80458808e-01, -2.06350982e-01],\n",
       "       [-8.24505091e-01,  6.91499650e-01],\n",
       "       [-5.37145376e-01,  8.84748697e-01],\n",
       "       [ 2.75283724e-01,  1.47197708e-01],\n",
       "       [-8.12558353e-01,  6.87203526e-01],\n",
       "       [ 5.98783679e-02, -2.42608935e-02],\n",
       "       [-5.52135646e-01,  1.16221023e+00],\n",
       "       [-7.09030390e-01,  5.01499891e-01],\n",
       "       [-5.96451998e-01,  6.08312249e-01],\n",
       "       [ 4.77837846e-02, -1.73447162e-01],\n",
       "       [-7.71510243e-01,  4.81677562e-01],\n",
       "       [-3.09111178e-01,  4.79141057e-01],\n",
       "       [-5.86137354e-01,  6.83379591e-01],\n",
       "       [-6.27795577e-01,  4.86266911e-01],\n",
       "       [ 3.41683775e-01,  4.27569121e-01],\n",
       "       [-1.24173069e+00,  1.45999193e+00],\n",
       "       [-1.55558258e-01,  2.98068643e-01],\n",
       "       [-8.33253145e-01,  8.75722945e-01],\n",
       "       [ 7.42435306e-02,  8.81875865e-03],\n",
       "       [ 6.38412237e-01, -3.71533722e-01],\n",
       "       [-1.95057690e-01,  6.86628699e-01],\n",
       "       [ 3.95513713e-01, -2.59857863e-01],\n",
       "       [-1.13973713e+00,  9.08048272e-01],\n",
       "       [ 5.54801941e-01, -2.03462481e-01],\n",
       "       [ 7.04236567e-01, -4.23620164e-01],\n",
       "       [-5.58202118e-02,  1.13404185e-01],\n",
       "       [-9.50925708e-01,  9.79333222e-01],\n",
       "       [-3.84756774e-02,  1.12826884e-01],\n",
       "       [-1.31893194e+00,  1.34062266e+00],\n",
       "       [-1.37783289e-01,  8.49708080e-01],\n",
       "       [-7.13480532e-01,  5.35851002e-01],\n",
       "       [-9.82928753e-01,  1.10644436e+00],\n",
       "       [ 7.24506676e-01, -3.01791072e-01],\n",
       "       [ 4.13946241e-01, -2.16416717e-01],\n",
       "       [ 1.05456375e-01,  5.88127971e-02],\n",
       "       [-4.03507292e-01,  5.09661019e-01],\n",
       "       [-7.42539167e-01,  9.12395477e-01],\n",
       "       [-1.06919676e-01,  2.83402056e-01],\n",
       "       [ 1.27375871e-03,  4.14315075e-01],\n",
       "       [-7.12974146e-02,  5.58889210e-02],\n",
       "       [-7.91321844e-02,  5.08746207e-01],\n",
       "       [-1.99352399e-01,  3.98849785e-01],\n",
       "       [-2.42310181e-01,  2.16207787e-01],\n",
       "       [-7.66667724e-01,  9.81048524e-01],\n",
       "       [ 3.52967143e-01, -3.29266429e-01],\n",
       "       [-1.47215271e+00,  1.48567951e+00],\n",
       "       [ 7.55781293e-01, -1.84606671e-01],\n",
       "       [-8.00999403e-01,  7.66383231e-01],\n",
       "       [ 6.64361000e-01, -3.99488628e-01],\n",
       "       [-5.37974954e-01,  6.71666622e-01],\n",
       "       [-2.37207562e-01,  4.60639358e-01],\n",
       "       [ 2.82060355e-04,  7.03317225e-02],\n",
       "       [ 5.45392692e-01, -2.01087549e-01],\n",
       "       [-3.42066646e-01,  1.14804935e+00],\n",
       "       [ 6.00553989e-01, -2.15487629e-01],\n",
       "       [ 3.19746912e-01,  1.03351191e-01],\n",
       "       [-3.90957415e-01,  5.83826542e-01],\n",
       "       [ 3.90949473e-03,  2.42237538e-01],\n",
       "       [-7.84129143e-01,  1.32884228e+00],\n",
       "       [ 6.53979957e-01, -1.77898169e-01],\n",
       "       [ 6.64885193e-02, -6.92462325e-02],\n",
       "       [ 5.43317795e-01, -3.49834025e-01],\n",
       "       [-5.47035158e-01,  6.59814954e-01],\n",
       "       [-1.17517185e+00,  1.03093636e+00],\n",
       "       [-7.62805641e-01,  7.01921105e-01],\n",
       "       [-1.17554474e+00,  1.00661302e+00],\n",
       "       [ 1.73785806e-01, -6.78198710e-02],\n",
       "       [-1.39538980e+00,  1.07510197e+00],\n",
       "       [-3.54111612e-01,  5.45718253e-01],\n",
       "       [-3.24936897e-01,  4.06839132e-01],\n",
       "       [-2.11459875e-01,  4.30988938e-01],\n",
       "       [-3.80507886e-01,  4.36576366e-01],\n",
       "       [ 3.74377012e-01, -1.41267568e-01],\n",
       "       [-2.36067727e-01,  2.95825720e-01],\n",
       "       [-7.19006717e-01,  5.34597039e-01],\n",
       "       [ 4.49725598e-01, -2.60972440e-01],\n",
       "       [-6.47234380e-01,  5.45145988e-01],\n",
       "       [-1.17597699e-01,  4.70504999e-01],\n",
       "       [-6.08685255e-01,  6.62258387e-01],\n",
       "       [-9.68794227e-01,  8.31193089e-01],\n",
       "       [ 4.30462867e-01, -1.80228531e-01],\n",
       "       [ 6.13758981e-01, -4.29864824e-01],\n",
       "       [-5.70979655e-01,  7.81669497e-01],\n",
       "       [-3.31961423e-01,  3.21151376e-01],\n",
       "       [-1.12303114e+00,  1.10135436e+00],\n",
       "       [ 2.01337859e-01, -1.18090190e-01],\n",
       "       [-1.36805558e+00,  1.27276516e+00],\n",
       "       [-2.55472958e-01,  5.81748724e-01],\n",
       "       [ 4.73890752e-01,  4.10376638e-02],\n",
       "       [-8.25298548e-01,  7.90170074e-01],\n",
       "       [-1.19411588e+00,  1.07024884e+00],\n",
       "       [-7.02156782e-01,  5.99236131e-01],\n",
       "       [ 8.53493214e-02,  4.32838462e-02],\n",
       "       [ 5.58815300e-01, -6.96209148e-02],\n",
       "       [ 1.53874233e-01, -2.63515651e-01],\n",
       "       [-2.15873033e-01,  7.55813897e-01],\n",
       "       [ 5.19098282e-01, -7.56627321e-02],\n",
       "       [-8.50514024e-02,  2.81793654e-01],\n",
       "       [-3.97662610e-01,  2.78753161e-01],\n",
       "       [-6.23180330e-01,  8.32401991e-01],\n",
       "       [-2.10867941e-01,  3.68938237e-01],\n",
       "       [-6.35456741e-02,  2.16745198e-01],\n",
       "       [-4.96947140e-01,  6.03206396e-01],\n",
       "       [-6.32079422e-01,  7.17483997e-01],\n",
       "       [-1.55896157e-01,  3.74828041e-01],\n",
       "       [-6.41387701e-02,  5.17845079e-02],\n",
       "       [-1.03702259e+00,  1.03069842e+00],\n",
       "       [-6.58465028e-01,  8.92791271e-01],\n",
       "       [ 1.45667672e-01,  1.18183866e-02],\n",
       "       [-6.21255279e-01,  7.72389650e-01],\n",
       "       [ 6.78905010e-01, -2.06882715e-01],\n",
       "       [-3.97299111e-01,  6.06540143e-01],\n",
       "       [-1.32120717e+00,  1.16808307e+00],\n",
       "       [ 2.12995522e-02,  8.81941676e-01],\n",
       "       [ 5.47333121e-01, -9.12228376e-02],\n",
       "       [-6.27880633e-01,  8.88957620e-01],\n",
       "       [ 3.59635472e-01, -1.65588289e-01],\n",
       "       [-8.65370870e-01,  1.23723769e+00],\n",
       "       [ 2.56885365e-02, -1.27023961e-02],\n",
       "       [-9.56542850e-01,  8.54417205e-01],\n",
       "       [-8.31929088e-01,  1.49373388e+00],\n",
       "       [-1.03709364e+00,  1.03318906e+00],\n",
       "       [-7.87186623e-02,  3.41232643e-02],\n",
       "       [ 3.45788747e-01, -2.30021298e-01],\n",
       "       [-4.92563128e-01,  6.03304625e-01],\n",
       "       [ 2.23962069e-02,  3.89587104e-01],\n",
       "       [-9.77686405e-01,  9.24261332e-01],\n",
       "       [-4.96169806e-01,  8.09791923e-01],\n",
       "       [-4.08312619e-01,  7.30293155e-01],\n",
       "       [-7.02519417e-01,  6.23224735e-01],\n",
       "       [ 6.84151426e-02, -1.65482938e-01],\n",
       "       [-1.67090625e-01,  2.26219475e-01],\n",
       "       [-6.06573582e-01,  1.13385057e+00],\n",
       "       [-4.80594695e-01,  7.22128391e-01],\n",
       "       [ 5.76447248e-01, -2.50419348e-01],\n",
       "       [ 5.36858916e-01, -1.29602671e-01],\n",
       "       [-3.05988431e-01,  3.59709293e-01],\n",
       "       [-6.50175095e-01,  6.95282698e-01],\n",
       "       [ 1.79628015e-01, -1.29458249e-01],\n",
       "       [-7.51876235e-01,  1.10778952e+00],\n",
       "       [-6.27345860e-01,  8.29330325e-01],\n",
       "       [ 7.44531304e-02, -1.51594520e-01],\n",
       "       [-7.56807446e-01,  7.34800577e-01],\n",
       "       [ 1.01570629e-01,  3.17087382e-01],\n",
       "       [ 3.53838593e-01, -3.37051332e-01],\n",
       "       [ 3.90984356e-01, -5.93894757e-02],\n",
       "       [-1.15835404e+00,  1.19485474e+00],\n",
       "       [-4.61765170e-01,  5.29936671e-01],\n",
       "       [-6.56866491e-01,  9.51418638e-01],\n",
       "       [-2.61287779e-01,  8.38250041e-01],\n",
       "       [-2.30138272e-01,  1.19477026e-01],\n",
       "       [ 4.75752860e-01, -2.08757356e-01],\n",
       "       [ 6.67470470e-02,  2.42477655e-01],\n",
       "       [-3.77791703e-01,  4.89640892e-01],\n",
       "       [ 3.82386714e-01, -3.48138064e-01],\n",
       "       [-6.79187477e-03, -3.84842865e-02],\n",
       "       [ 4.13461924e-01, -5.02520427e-02],\n",
       "       [-5.85332632e-01,  6.97370708e-01],\n",
       "       [ 4.46537137e-01, -3.27444851e-01]], dtype=float32), label_ids=array([1, 1, 0, 1, 1, 1, 1, 1, 1, 0, 1, 1, 0, 0, 0, 1, 1, 1, 1, 1, 0, 1,\n",
       "       1, 1, 1, 0, 1, 1, 1, 1, 1, 0, 1, 1, 1, 1, 1, 1, 0, 0, 0, 1, 1, 1,\n",
       "       1, 1, 1, 1, 1, 1, 1, 1, 1, 1, 1, 1, 1, 1, 1, 1, 0, 1, 0, 0, 1, 0,\n",
       "       0, 1, 1, 0, 0, 1, 1, 1, 0, 1, 1, 0, 1, 1, 0, 1, 0, 1, 1, 1, 1, 1,\n",
       "       1, 1, 1, 1, 1, 1, 1, 1, 1, 1, 1, 0, 1, 1, 1, 1, 0, 1, 1, 1, 1, 1,\n",
       "       0, 0, 1, 0, 1, 1, 1, 1, 0, 1, 1, 1, 1, 1, 1, 1, 1, 0, 1, 1, 0, 1,\n",
       "       0, 1, 1, 0, 1, 1, 1, 0, 1, 1, 1, 1, 1, 0, 1, 0, 1, 1, 1, 0, 1, 1,\n",
       "       1, 1, 1, 1, 1, 1, 1, 1, 0, 0, 0, 0, 1, 0, 1, 1, 0, 1, 0, 1, 1, 1,\n",
       "       1, 1, 0, 1, 1, 0, 1, 0, 1, 1, 0, 1, 1, 1, 1, 1, 1, 1, 1, 1, 0, 0,\n",
       "       1, 0, 1, 1, 1, 1, 1, 0, 1, 1, 0, 1, 1, 1, 1, 1, 1, 1, 0, 1, 0, 0,\n",
       "       1, 0, 1, 1, 0, 0, 1, 0, 0, 1, 0, 0, 1, 1, 1, 1, 1, 0, 1, 1, 1, 1,\n",
       "       1, 0, 1, 1, 1, 1, 0, 1, 1, 1, 0, 1, 1, 1, 1, 0, 1, 1, 1, 0, 0, 1,\n",
       "       0, 1, 0, 0, 1, 1, 1, 1, 0, 1, 1, 0, 0, 0, 1, 1, 0, 1, 1, 1, 1, 1,\n",
       "       1, 0, 1, 0, 1, 0, 1, 1, 1, 0, 1, 0, 1, 1, 1, 1, 0, 0, 0, 1, 1, 1,\n",
       "       1, 0, 1, 1, 1, 1, 1, 1, 1, 1, 0, 1, 1, 1, 1, 0, 0, 1, 1, 1, 0, 1,\n",
       "       1, 0, 1, 1, 1, 1, 0, 0, 1, 0, 0, 1, 1, 1, 1, 1, 1, 1, 1, 1, 1, 1,\n",
       "       1, 0, 1, 1, 1, 0, 1, 1, 1, 1, 1, 1, 1, 1, 0, 1, 1, 1, 1, 1, 1, 1,\n",
       "       1, 1, 1, 0, 0, 1, 1, 0, 1, 1, 0, 1, 1, 0, 0, 1, 1, 1, 1, 1, 0, 0,\n",
       "       1, 0, 0, 1, 1, 0]), metrics={'test_loss': 0.36174270510673523, 'test_accuracy': 0.9427860696517413, 'test_runtime': 68.4147, 'test_samples_per_second': 5.876, 'test_steps_per_second': 0.19})"
      ]
     },
     "execution_count": 19,
     "metadata": {},
     "output_type": "execute_result"
    }
   ],
   "source": [
    "outputs"
   ]
  },
  {
   "cell_type": "code",
   "execution_count": 20,
   "id": "3be0e585-96b2-44cd-8f32-4b037fcdfe17",
   "metadata": {},
   "outputs": [
    {
     "data": {
      "text/plain": [
       "array([1, 1, 0, 1, 1, 1, 1, 1, 1, 0, 1, 1, 0, 0, 0, 1, 1, 1, 1, 1, 0, 1,\n",
       "       1, 0, 1, 0, 1, 1, 1, 1, 1, 0, 1, 1, 1, 1, 1, 1, 0, 0, 0, 1, 1, 1,\n",
       "       1, 1, 1, 1, 1, 1, 1, 1, 1, 1, 1, 1, 1, 1, 1, 1, 0, 1, 0, 0, 1, 0,\n",
       "       0, 1, 1, 0, 0, 1, 1, 1, 0, 1, 1, 0, 1, 1, 0, 1, 0, 1, 1, 1, 0, 1,\n",
       "       1, 1, 1, 1, 1, 1, 1, 1, 1, 0, 1, 0, 1, 1, 1, 1, 0, 1, 1, 1, 1, 1,\n",
       "       1, 0, 1, 0, 1, 0, 1, 1, 0, 1, 1, 1, 1, 1, 1, 1, 1, 0, 1, 1, 0, 1,\n",
       "       0, 1, 1, 0, 1, 1, 1, 0, 1, 1, 1, 1, 1, 0, 1, 0, 1, 1, 1, 0, 1, 0,\n",
       "       1, 1, 1, 1, 1, 1, 1, 1, 0, 0, 0, 0, 1, 0, 1, 1, 0, 1, 0, 1, 1, 1,\n",
       "       1, 1, 0, 1, 1, 1, 1, 0, 1, 1, 0, 1, 1, 1, 0, 1, 1, 1, 1, 1, 0, 0,\n",
       "       1, 0, 1, 1, 1, 1, 1, 0, 1, 1, 0, 1, 1, 1, 1, 1, 1, 1, 0, 1, 0, 0,\n",
       "       1, 0, 1, 1, 0, 0, 1, 0, 0, 1, 0, 0, 1, 1, 1, 1, 1, 0, 1, 1, 1, 0,\n",
       "       1, 0, 1, 1, 0, 1, 0, 1, 1, 1, 0, 1, 1, 1, 1, 1, 1, 1, 1, 0, 0, 1,\n",
       "       0, 1, 0, 0, 1, 1, 1, 1, 1, 1, 1, 0, 0, 0, 1, 1, 1, 1, 1, 1, 1, 1,\n",
       "       1, 0, 1, 0, 1, 0, 1, 1, 1, 0, 1, 0, 0, 1, 1, 1, 0, 0, 0, 1, 1, 1,\n",
       "       1, 0, 1, 1, 1, 1, 1, 0, 1, 1, 0, 1, 1, 1, 1, 0, 0, 1, 1, 1, 0, 1,\n",
       "       1, 0, 1, 1, 1, 0, 0, 0, 1, 0, 1, 1, 1, 1, 1, 1, 1, 1, 1, 1, 1, 0,\n",
       "       1, 0, 1, 1, 1, 0, 1, 0, 1, 0, 1, 1, 1, 1, 0, 1, 1, 1, 1, 1, 1, 0,\n",
       "       1, 1, 1, 0, 0, 1, 1, 0, 1, 1, 0, 1, 1, 0, 0, 1, 1, 1, 1, 1, 0, 1,\n",
       "       1, 0, 0, 0, 1, 0])"
      ]
     },
     "execution_count": 20,
     "metadata": {},
     "output_type": "execute_result"
    }
   ],
   "source": [
    "y_pred"
   ]
  },
  {
   "cell_type": "code",
   "execution_count": 21,
   "id": "d68b7f8c-d3c7-44b5-8ea0-0a71ad0d0c2d",
   "metadata": {},
   "outputs": [
    {
     "data": {
      "text/plain": [
       "array([1, 1, 0, 1, 1, 1, 1, 1, 1, 0, 1, 1, 0, 0, 0, 1, 1, 1, 1, 1, 0, 1,\n",
       "       1, 1, 1, 0, 1, 1, 1, 1, 1, 0, 1, 1, 1, 1, 1, 1, 0, 0, 0, 1, 1, 1,\n",
       "       1, 1, 1, 1, 1, 1, 1, 1, 1, 1, 1, 1, 1, 1, 1, 1, 0, 1, 0, 0, 1, 0,\n",
       "       0, 1, 1, 0, 0, 1, 1, 1, 0, 1, 1, 0, 1, 1, 0, 1, 0, 1, 1, 1, 1, 1,\n",
       "       1, 1, 1, 1, 1, 1, 1, 1, 1, 1, 1, 0, 1, 1, 1, 1, 0, 1, 1, 1, 1, 1,\n",
       "       0, 0, 1, 0, 1, 1, 1, 1, 0, 1, 1, 1, 1, 1, 1, 1, 1, 0, 1, 1, 0, 1,\n",
       "       0, 1, 1, 0, 1, 1, 1, 0, 1, 1, 1, 1, 1, 0, 1, 0, 1, 1, 1, 0, 1, 1,\n",
       "       1, 1, 1, 1, 1, 1, 1, 1, 0, 0, 0, 0, 1, 0, 1, 1, 0, 1, 0, 1, 1, 1,\n",
       "       1, 1, 0, 1, 1, 0, 1, 0, 1, 1, 0, 1, 1, 1, 1, 1, 1, 1, 1, 1, 0, 0,\n",
       "       1, 0, 1, 1, 1, 1, 1, 0, 1, 1, 0, 1, 1, 1, 1, 1, 1, 1, 0, 1, 0, 0,\n",
       "       1, 0, 1, 1, 0, 0, 1, 0, 0, 1, 0, 0, 1, 1, 1, 1, 1, 0, 1, 1, 1, 1,\n",
       "       1, 0, 1, 1, 1, 1, 0, 1, 1, 1, 0, 1, 1, 1, 1, 0, 1, 1, 1, 0, 0, 1,\n",
       "       0, 1, 0, 0, 1, 1, 1, 1, 0, 1, 1, 0, 0, 0, 1, 1, 0, 1, 1, 1, 1, 1,\n",
       "       1, 0, 1, 0, 1, 0, 1, 1, 1, 0, 1, 0, 1, 1, 1, 1, 0, 0, 0, 1, 1, 1,\n",
       "       1, 0, 1, 1, 1, 1, 1, 1, 1, 1, 0, 1, 1, 1, 1, 0, 0, 1, 1, 1, 0, 1,\n",
       "       1, 0, 1, 1, 1, 1, 0, 0, 1, 0, 0, 1, 1, 1, 1, 1, 1, 1, 1, 1, 1, 1,\n",
       "       1, 0, 1, 1, 1, 0, 1, 1, 1, 1, 1, 1, 1, 1, 0, 1, 1, 1, 1, 1, 1, 1,\n",
       "       1, 1, 1, 0, 0, 1, 1, 0, 1, 1, 0, 1, 1, 0, 0, 1, 1, 1, 1, 1, 0, 0,\n",
       "       1, 0, 0, 1, 1, 0])"
      ]
     },
     "execution_count": 21,
     "metadata": {},
     "output_type": "execute_result"
    }
   ],
   "source": [
    "y_true = np.array(test_ds[:]['label'])\n",
    "y_true"
   ]
  },
  {
   "cell_type": "code",
   "execution_count": 22,
   "id": "dff4e6f8-4cbd-4725-bbdf-6ff1cbbae763",
   "metadata": {},
   "outputs": [
    {
     "data": {
      "text/plain": [
       "array([[102,   7],\n",
       "       [ 16, 277]])"
      ]
     },
     "execution_count": 22,
     "metadata": {},
     "output_type": "execute_result"
    }
   ],
   "source": [
    "from sklearn.metrics import confusion_matrix\n",
    "confusion_matrix(y_true, y_pred)"
   ]
  },
  {
   "cell_type": "code",
   "execution_count": 23,
   "id": "efb58431-e3b8-4967-85bc-76a959e4d9b0",
   "metadata": {},
   "outputs": [
    {
     "data": {
      "text/plain": [
       "(array([ 23,  86,  97, 110, 115, 153, 181, 190, 241, 246, 257, 272, 280,\n",
       "        298, 315, 335, 340, 351, 359, 361, 373, 395, 399]),)"
      ]
     },
     "execution_count": 23,
     "metadata": {},
     "output_type": "execute_result"
    }
   ],
   "source": [
    "np.where(y_true!=y_pred)"
   ]
  },
  {
   "cell_type": "code",
   "execution_count": 24,
   "id": "e42676a9-08a3-4401-95df-7b0abbf6cce3",
   "metadata": {},
   "outputs": [
    {
     "data": {
      "text/plain": [
       "1"
      ]
     },
     "execution_count": 24,
     "metadata": {},
     "output_type": "execute_result"
    }
   ],
   "source": [
    "y_true[23]"
   ]
  },
  {
   "cell_type": "code",
   "execution_count": 25,
   "id": "dd43ab7d-bcc7-42de-8b49-833d313d9465",
   "metadata": {},
   "outputs": [
    {
     "data": {
      "text/plain": [
       "'proton'"
      ]
     },
     "execution_count": 25,
     "metadata": {},
     "output_type": "execute_result"
    }
   ],
   "source": [
    "id2label[str(1)]"
   ]
  },
  {
   "cell_type": "code",
   "execution_count": 26,
   "id": "472cf39b-8a1e-4a75-9867-db5ea41e1279",
   "metadata": {},
   "outputs": [
    {
     "data": {
      "image/png": "[encoded data removed]",
      "text/plain": [
       "<PIL.JpegImagePlugin.JpegImageFile image mode=RGB size=288x288>"
      ]
     },
     "execution_count": 26,
     "metadata": {},
     "output_type": "execute_result"
    }
   ],
   "source": [
    "test_ds[23]['img']"
   ]
  },
  {
   "cell_type": "code",
   "execution_count": null,
   "id": "9f1ad9c5-a7f4-4fc6-b788-e50415770018",
   "metadata": {},
   "outputs": [],
   "source": []
  }
 ],
 "metadata": {
  "kernelspec": {
   "display_name": "PRUEBA:Python",
   "language": "python",
   "name": "conda-env-PRUEBA-py"
  },
  "language_info": {
   "codemirror_mode": {
    "name": "ipython",
    "version": 3
   },
   "file_extension": ".py",
   "mimetype": "text/x-python",
   "name": "python",
   "nbconvert_exporter": "python",
   "pygments_lexer": "ipython3",
   "version": "3.9.13"
  }
 },
 "nbformat": 4,
 "nbformat_minor": 5
}
