{
 "cells": [
  {
   "cell_type": "code",
   "execution_count": 1,
   "id": "882c7827-d492-48aa-8cb6-a77614297265",
   "metadata": {},
   "outputs": [],
   "source": [
    "#First, we choose the pretrained model to use \n",
    "\n",
    "model_id = \"google/vit-base-patch16-224\"\n",
    "#model_id = 'microsoft/swin-tiny-patch4-window7-224'\n",
    "#model_id = 'facebook/deit-base-patch16-224'"
   ]
  },
  {
   "cell_type": "markdown",
   "id": "0c1f530c-0b87-4a91-82f4-a60bf626cdb9",
   "metadata": {},
   "source": [
    "Now we load the ViT feature extractor to process the image into a tensor."
   ]
  },
  {
   "cell_type": "code",
   "execution_count": 2,
   "id": "02cc9044-cb70-47c5-b31f-1657558d1df7",
   "metadata": {},
   "outputs": [
    {
     "name": "stderr",
     "output_type": "stream",
     "text": [
      "/home/studio-lab-user/.conda/envs/PRUEBA/lib/python3.9/site-packages/tqdm/auto.py:22: TqdmWarning: IProgress not found. Please update jupyter and ipywidgets. See https://ipywidgets.readthedocs.io/en/stable/user_install.html\n",
      "  from .autonotebook import tqdm as notebook_tqdm\n"
     ]
    }
   ],
   "source": [
    "from transformers import AutoFeatureExtractor, ViTFeatureExtractor\n",
    "#feature_extractor = AutoFeatureExtractor.from_pretrained(model_id)\n",
    "feature_extractor = ViTFeatureExtractor.from_pretrained(model_id)"
   ]
  },
  {
   "cell_type": "markdown",
   "id": "d4166d1c-1a73-4190-8e82-624200047301",
   "metadata": {},
   "source": [
    "This feature extractor will resize every image to the resolution that the model expects and normalize channels. "
   ]
  },
  {
   "cell_type": "markdown",
   "id": "0491140c-c230-4655-9f89-e005c4d3a426",
   "metadata": {},
   "source": [
    "We define 2 functions, one for training and one for validation, including resizing, center cropping and normalizing."
   ]
  },
  {
   "cell_type": "code",
   "execution_count": 3,
   "id": "fd82a8a4-462b-4f15-ab70-da22f3a57f3b",
   "metadata": {},
   "outputs": [],
   "source": [
    "from torchvision.transforms import (\n",
    "    CenterCrop,\n",
    "    Compose,\n",
    "    Normalize,\n",
    "    RandomResizedCrop,\n",
    "    Resize,\n",
    "    ToTensor,\n",
    ")\n",
    "\n",
    "normalize = Normalize(mean=feature_extractor.image_mean, std=feature_extractor.image_std)\n",
    "train_transforms = Compose(\n",
    "        [\n",
    "            RandomResizedCrop(feature_extractor.size),\n",
    "            ToTensor(),\n",
    "            normalize,\n",
    "        ]\n",
    "    )\n",
    "\n",
    "val_transforms = Compose(\n",
    "        [\n",
    "            Resize(feature_extractor.size),\n",
    "            CenterCrop(feature_extractor.size),\n",
    "            ToTensor(),\n",
    "            normalize,\n",
    "        ]\n",
    "    )\n",
    "\n",
    "def preprocess_train(example_batch):\n",
    "    \"\"\"Apply train_transforms across a batch.\"\"\"\n",
    "    example_batch[\"pixel_values\"] = [\n",
    "        train_transforms(image.convert(\"RGB\")) for image in example_batch[\"img\"]\n",
    "    ]\n",
    "    return example_batch\n",
    "\n",
    "def preprocess_val(example_batch):\n",
    "    \"\"\"Apply val_transforms across a batch.\"\"\"\n",
    "    example_batch[\"pixel_values\"] = [val_transforms(image.convert(\"RGB\")) for image in example_batch[\"img\"]]\n",
    "    return example_batch"
   ]
  },
  {
   "cell_type": "markdown",
   "id": "346a291a-fafd-4580-b8ca-a40b9a71640b",
   "metadata": {},
   "source": [
    "Next, we can preprocess our dataset by applying these functions."
   ]
  },
  {
   "cell_type": "code",
   "execution_count": 4,
   "id": "a9f48cb2-035f-4b64-844d-36911beb1f7e",
   "metadata": {},
   "outputs": [
    {
     "data": {
      "text/plain": [
       "DatasetDict({\n",
       "    train: Dataset({\n",
       "        features: ['img', 'label'],\n",
       "        num_rows: 2050\n",
       "    })\n",
       "    val: Dataset({\n",
       "        features: ['img', 'label'],\n",
       "        num_rows: 228\n",
       "    })\n",
       "    test: Dataset({\n",
       "        features: ['img', 'label'],\n",
       "        num_rows: 402\n",
       "    })\n",
       "})"
      ]
     },
     "execution_count": 4,
     "metadata": {},
     "output_type": "execute_result"
    }
   ],
   "source": [
    "#Load data\n",
    "import datasets\n",
    "from datasets import Dataset, DatasetDict, load_dataset, load_from_disk\n",
    "ds = load_from_disk('./data_dict_cut')\n",
    "ds"
   ]
  },
  {
   "cell_type": "code",
   "execution_count": 5,
   "id": "300c5553-6b86-4086-ad35-a15c5875c5d6",
   "metadata": {},
   "outputs": [],
   "source": [
    "# split up training into training + validation\n",
    "train_ds = ds['train']\n",
    "val_ds = ds['val']\n",
    "test_ds = ds['test']"
   ]
  },
  {
   "cell_type": "code",
   "execution_count": 6,
   "id": "256e4b28-52e6-4572-886a-a2aaaf814b9f",
   "metadata": {},
   "outputs": [
    {
     "name": "stdout",
     "output_type": "stream",
     "text": [
      "['proton', 'gamma']\n"
     ]
    }
   ],
   "source": [
    "#Classes names\n",
    "labels = train_ds.features[\"label\"].names\n",
    "print(labels)"
   ]
  },
  {
   "cell_type": "code",
   "execution_count": 7,
   "id": "97d151d8-791d-4eaf-ac20-0e22aab9454c",
   "metadata": {},
   "outputs": [
    {
     "name": "stderr",
     "output_type": "stream",
     "text": [
      "Parameter 'transform'=<function preprocess_train at 0x7f13880f0940> of the transform datasets.arrow_dataset.Dataset.set_format couldn't be hashed properly, a random hash was used instead. Make sure your transforms and parameters are serializable with pickle or dill for the dataset fingerprinting and caching to work. If you reuse this transform, the caching mechanism will consider it to be different from the previous calls and recompute everything. This warning is only showed once. Subsequent hashing failures won't be showed.\n"
     ]
    }
   ],
   "source": [
    "train_ds.set_transform(preprocess_train)\n",
    "val_ds.set_transform(preprocess_val)"
   ]
  },
  {
   "cell_type": "code",
   "execution_count": 8,
   "id": "cfc4ed91-ffab-4e6f-bf0e-e90db0e8b8a1",
   "metadata": {},
   "outputs": [
    {
     "data": {
      "text/plain": [
       "{'img': <PIL.JpegImagePlugin.JpegImageFile image mode=RGB size=288x288>,\n",
       " 'label': 0,\n",
       " 'pixel_values': tensor([[[ 0.9059,  0.9059,  0.8902,  ...,  0.8196,  0.7412,  0.7098],\n",
       "          [ 0.9059,  0.9059,  0.8902,  ...,  0.7961,  0.7098,  0.6784],\n",
       "          [ 0.8902,  0.8902,  0.8745,  ...,  0.7412,  0.6314,  0.5922],\n",
       "          ...,\n",
       "          [ 1.0000,  0.9922,  0.9608,  ...,  1.0000,  1.0000,  1.0000],\n",
       "          [ 1.0000,  0.9765,  0.9294,  ...,  1.0000,  1.0000,  1.0000],\n",
       "          [ 1.0000,  0.9765,  0.9137,  ...,  1.0000,  1.0000,  1.0000]],\n",
       " \n",
       "         [[-0.1608, -0.1686, -0.1922,  ...,  0.5608,  0.4745,  0.4431],\n",
       "          [-0.1608, -0.1686, -0.1922,  ...,  0.5373,  0.4353,  0.4039],\n",
       "          [-0.1608, -0.1686, -0.1922,  ...,  0.4667,  0.3255,  0.2784],\n",
       "          ...,\n",
       "          [ 0.9294,  0.9216,  0.8980,  ...,  1.0000,  1.0000,  1.0000],\n",
       "          [ 0.8980,  0.8902,  0.8431,  ...,  1.0000,  1.0000,  1.0000],\n",
       "          [ 0.8902,  0.8745,  0.8275,  ...,  1.0000,  1.0000,  1.0000]],\n",
       " \n",
       "         [[-0.2863, -0.2941, -0.3020,  ...,  0.4667,  0.3961,  0.3725],\n",
       "          [-0.2863, -0.2941, -0.3020,  ...,  0.4431,  0.3647,  0.3333],\n",
       "          [-0.2941, -0.3020, -0.3176,  ...,  0.3804,  0.2706,  0.2235],\n",
       "          ...,\n",
       "          [ 0.8980,  0.8902,  0.8588,  ...,  1.0000,  1.0000,  1.0000],\n",
       "          [ 0.8667,  0.8510,  0.7961,  ...,  1.0000,  1.0000,  1.0000],\n",
       "          [ 0.8588,  0.8353,  0.7725,  ...,  1.0000,  1.0000,  1.0000]]])}"
      ]
     },
     "execution_count": 8,
     "metadata": {},
     "output_type": "execute_result"
    }
   ],
   "source": [
    "train_ds[0]"
   ]
  },
  {
   "cell_type": "markdown",
   "id": "7ffaa161-cffe-4796-8012-91e66d879fd1",
   "metadata": {},
   "source": [
    "Now that our data is ready, we can download the pretrained model and fine-tune it. We use the modelViTForImageClassification.  "
   ]
  },
  {
   "cell_type": "code",
   "execution_count": 9,
   "id": "22aa812a-f91f-4b38-8b18-eab8d71163f7",
   "metadata": {},
   "outputs": [],
   "source": [
    "#We create a dictionary that maps a label name to an integer and vice versa. \n",
    "#The mapping will help the model recover the label name from the label number.\n",
    "\n",
    "label2id, id2label = dict(), dict()\n",
    "for i, label in enumerate(labels):\n",
    "    label2id[label] = str(i)\n",
    "    id2label[str(i)] = label"
   ]
  },
  {
   "cell_type": "code",
   "execution_count": 10,
   "id": "43fba3aa-f533-4ba3-ae49-a57b117002d0",
   "metadata": {},
   "outputs": [
    {
     "name": "stderr",
     "output_type": "stream",
     "text": [
      "Some weights of ViTForImageClassification were not initialized from the model checkpoint at google/vit-base-patch16-224 and are newly initialized because the shapes did not match:\n",
      "- classifier.weight: found shape torch.Size([1000, 768]) in the checkpoint and torch.Size([2, 768]) in the model instantiated\n",
      "- classifier.bias: found shape torch.Size([1000]) in the checkpoint and torch.Size([2]) in the model instantiated\n",
      "You should probably TRAIN this model on a down-stream task to be able to use it for predictions and inference.\n"
     ]
    }
   ],
   "source": [
    "from transformers import ViTForImageClassification, TrainingArguments, Trainer\n",
    "\n",
    "model = ViTForImageClassification.from_pretrained(model_id,\n",
    "                                                 label2id=label2id,\n",
    "                                                 id2label=id2label,\n",
    "                                                ignore_mismatched_sizes = True, # provide this in case you're planning to fine-tune an already fine-tuned checkpoint\n",
    ")"
   ]
  },
  {
   "cell_type": "markdown",
   "id": "b6b3e17f-979c-47ca-bad5-76f087d1b333",
   "metadata": {},
   "source": [
    "The warning is telling us we are throwing away some weights (the weights and bias of the classifier layer) and randomly initializing some other (the weights and bias of a new classifier layer). This is expected in this case, because we are adding a new head for which we don't have pretrained weights, so the library warns us we should fine-tune this model before using it for inference, which is exactly what we are going to do."
   ]
  },
  {
   "cell_type": "markdown",
   "id": "6fc7ce9b-a0f0-4f10-90a1-77b8e5613dd1",
   "metadata": {},
   "source": [
    "To instantiate a Trainer, we will need to define the training configuration and the evaluation metric. The most important is the TrainingArguments, which is a class that contains all the attributes to customize the training. It requires one folder name, which will be used to save the checkpoints of the model.\n",
    "\n",
    "Most of the training arguments are pretty self-explanatory, but one that is quite important here is remove_unused_columns=False. This one will drop any features not used by the model's call function. By default it's True because usually it's ideal to drop unused feature columns, making it easier to unpack inputs into the model's call function. But, in our case, we need the unused features ('image' in particular) in order to create 'pixel_values'."
   ]
  },
  {
   "cell_type": "code",
   "execution_count": 11,
   "id": "ede566e3-36e9-473d-baeb-30b0c2cf2ee7",
   "metadata": {},
   "outputs": [],
   "source": [
    "model_name = model_id.split(\"/\")[-1]\n",
    "batch_size = 32\n",
    "learning_rate = 5e-5\n",
    "gradient_accumulation_steps = 4\n",
    "epochs = 3\n",
    "warmup_ratio= 0.1\n",
    "logging_steps=10\n",
    "\n",
    "args = TrainingArguments(\n",
    "    f\"{model_name}-finetuned-ds\",\n",
    "    remove_unused_columns=False,\n",
    "    evaluation_strategy = \"epoch\",\n",
    "    save_strategy = \"epoch\",\n",
    "    learning_rate=learning_rate,\n",
    "    per_device_train_batch_size=batch_size,\n",
    "    gradient_accumulation_steps=gradient_accumulation_steps,\n",
    "    per_device_eval_batch_size=batch_size,\n",
    "    num_train_epochs=epochs,\n",
    "    warmup_ratio=warmup_ratio,\n",
    "    logging_steps=logging_steps,\n",
    "    load_best_model_at_end=True,\n",
    "    metric_for_best_model=\"accuracy\",\n",
    "   # push_to_hub=True,\n",
    ")"
   ]
  },
  {
   "cell_type": "markdown",
   "id": "0f1464cb-4b0a-4621-b65a-6056e36cad1c",
   "metadata": {},
   "source": [
    "Next, we need to define a function for how to compute the metrics from the predictions, which will just use the metric we loaded earlier. Let us also load the Accuracy metric, which we'll use to evaluate our model both during and after training. The only preprocessing we have to do is to take the argmax of our predicted logits:"
   ]
  },
  {
   "cell_type": "code",
   "execution_count": 12,
   "id": "be8d4103-623c-41be-816f-71aba0fad059",
   "metadata": {},
   "outputs": [],
   "source": [
    "import numpy as np\n",
    "\n",
    "from datasets import load_metric\n",
    "\n",
    "metric = load_metric(\"accuracy\")\n",
    "\n",
    "# the compute_metrics function takes a Named Tuple as input:\n",
    "# predictions, which are the logits of the model as Numpy arrays,\n",
    "# and label_ids, which are the ground-truth labels as Numpy arrays.\n",
    "def compute_metrics(eval_pred):\n",
    "    \"\"\"Computes accuracy on a batch of predictions\"\"\"\n",
    "    predictions = np.argmax(eval_pred.predictions, axis=1)\n",
    "    return metric.compute(predictions=predictions, references=eval_pred.label_ids)"
   ]
  },
  {
   "cell_type": "markdown",
   "id": "96a2b985-b913-4849-b3f4-2fdbe77fe455",
   "metadata": {},
   "source": [
    "We also define a collate_fn, which will be used to batch examples together. Each batch consists of 2 keys, namely pixel_values and labels."
   ]
  },
  {
   "cell_type": "code",
   "execution_count": 13,
   "id": "649a749c-d111-47f8-807b-0ba04b53d2a6",
   "metadata": {},
   "outputs": [],
   "source": [
    "import torch\n",
    "\n",
    "def collate_fn(examples):\n",
    "    pixel_values = torch.stack([example[\"pixel_values\"] for example in examples])\n",
    "    labels = torch.tensor([example[\"label\"] for example in examples])\n",
    "    return {\"pixel_values\": pixel_values, \"labels\": labels}"
   ]
  },
  {
   "cell_type": "markdown",
   "id": "4b265339-7eec-44e3-8c38-1ce884527253",
   "metadata": {},
   "source": [
    "Then we just need to pass all of this along with our datasets to the Trainer:"
   ]
  },
  {
   "cell_type": "code",
   "execution_count": 14,
   "id": "5780f1c8-20f9-4694-b90a-099b5b02a3ac",
   "metadata": {},
   "outputs": [],
   "source": [
    "trainer = Trainer(\n",
    "    model,\n",
    "    args,\n",
    "    train_dataset=train_ds,\n",
    "    eval_dataset=val_ds,\n",
    "    tokenizer=feature_extractor,\n",
    "    compute_metrics=compute_metrics,\n",
    "    data_collator=collate_fn,\n",
    ")"
   ]
  },
  {
   "cell_type": "markdown",
   "id": "9c9bc7b0-35ce-496f-a8ef-27f59326e421",
   "metadata": {},
   "source": [
    "Now we can finetune our model by calling the train method:"
   ]
  },
  {
   "cell_type": "code",
   "execution_count": 15,
   "id": "9afe1d3f-c7e2-47a8-9411-5d8509d89f75",
   "metadata": {},
   "outputs": [
    {
     "name": "stderr",
     "output_type": "stream",
     "text": [
      "/home/studio-lab-user/.conda/envs/PRUEBA/lib/python3.9/site-packages/transformers/optimization.py:306: FutureWarning: This implementation of AdamW is deprecated and will be removed in a future version. Use the PyTorch implementation torch.optim.AdamW instead, or set `no_deprecation_warning=True` to disable this warning\n",
      "  warnings.warn(\n",
      "***** Running training *****\n",
      "  Num examples = 2050\n",
      "  Num Epochs = 3\n",
      "  Instantaneous batch size per device = 32\n",
      "  Total train batch size (w. parallel, distributed & accumulation) = 128\n",
      "  Gradient Accumulation steps = 4\n",
      "  Total optimization steps = 48\n"
     ]
    },
    {
     "data": {
      "text/html": [
       "\n",
       "    <div>\n",
       "      \n",
       "      <progress value='48' max='48' style='width:300px; height:20px; vertical-align: middle;'></progress>\n",
       "      [48/48 54:24, Epoch 2/3]\n",
       "    </div>\n",
       "    <table border=\"1\" class=\"dataframe\">\n",
       "  <thead>\n",
       " <tr style=\"text-align: left;\">\n",
       "      <th>Epoch</th>\n",
       "      <th>Training Loss</th>\n",
       "      <th>Validation Loss</th>\n",
       "      <th>Accuracy</th>\n",
       "    </tr>\n",
       "  </thead>\n",
       "  <tbody>\n",
       "    <tr>\n",
       "      <td>0</td>\n",
       "      <td>0.554900</td>\n",
       "      <td>0.026385</td>\n",
       "      <td>0.991228</td>\n",
       "    </tr>\n",
       "    <tr>\n",
       "      <td>1</td>\n",
       "      <td>0.041300</td>\n",
       "      <td>0.296561</td>\n",
       "      <td>0.925439</td>\n",
       "    </tr>\n",
       "    <tr>\n",
       "      <td>2</td>\n",
       "      <td>0.026700</td>\n",
       "      <td>0.013910</td>\n",
       "      <td>0.995614</td>\n",
       "    </tr>\n",
       "  </tbody>\n",
       "</table><p>"
      ],
      "text/plain": [
       "<IPython.core.display.HTML object>"
      ]
     },
     "metadata": {},
     "output_type": "display_data"
    },
    {
     "name": "stderr",
     "output_type": "stream",
     "text": [
      "***** Running Evaluation *****\n",
      "  Num examples = 228\n",
      "  Batch size = 32\n",
      "Saving model checkpoint to vit-base-patch16-224-finetuned-ds/checkpoint-16\n",
      "Configuration saved in vit-base-patch16-224-finetuned-ds/checkpoint-16/config.json\n",
      "Model weights saved in vit-base-patch16-224-finetuned-ds/checkpoint-16/pytorch_model.bin\n",
      "Feature extractor saved in vit-base-patch16-224-finetuned-ds/checkpoint-16/preprocessor_config.json\n",
      "***** Running Evaluation *****\n",
      "  Num examples = 228\n",
      "  Batch size = 32\n",
      "Saving model checkpoint to vit-base-patch16-224-finetuned-ds/checkpoint-32\n",
      "Configuration saved in vit-base-patch16-224-finetuned-ds/checkpoint-32/config.json\n",
      "Model weights saved in vit-base-patch16-224-finetuned-ds/checkpoint-32/pytorch_model.bin\n",
      "Feature extractor saved in vit-base-patch16-224-finetuned-ds/checkpoint-32/preprocessor_config.json\n",
      "***** Running Evaluation *****\n",
      "  Num examples = 228\n",
      "  Batch size = 32\n",
      "Saving model checkpoint to vit-base-patch16-224-finetuned-ds/checkpoint-48\n",
      "Configuration saved in vit-base-patch16-224-finetuned-ds/checkpoint-48/config.json\n",
      "Model weights saved in vit-base-patch16-224-finetuned-ds/checkpoint-48/pytorch_model.bin\n",
      "Feature extractor saved in vit-base-patch16-224-finetuned-ds/checkpoint-48/preprocessor_config.json\n",
      "\n",
      "\n",
      "Training completed. Do not forget to share your model on huggingface.co/models =)\n",
      "\n",
      "\n",
      "Loading best model from vit-base-patch16-224-finetuned-ds/checkpoint-48 (score: 0.9956140350877193).\n",
      "Saving model checkpoint to vit-base-patch16-224-finetuned-ds\n",
      "Configuration saved in vit-base-patch16-224-finetuned-ds/config.json\n",
      "Model weights saved in vit-base-patch16-224-finetuned-ds/pytorch_model.bin\n",
      "Feature extractor saved in vit-base-patch16-224-finetuned-ds/preprocessor_config.json\n"
     ]
    },
    {
     "name": "stdout",
     "output_type": "stream",
     "text": [
      "***** train metrics *****\n",
      "  epoch                    =        2.98\n",
      "  total_flos               = 443701401GF\n",
      "  train_loss               =      0.1468\n",
      "  train_runtime            =  0:55:33.68\n",
      "  train_samples_per_second =       1.845\n",
      "  train_steps_per_second   =       0.014\n"
     ]
    }
   ],
   "source": [
    "train_results = trainer.train()\n",
    "# rest is optional but nice to have\n",
    "trainer.save_model()\n",
    "trainer.log_metrics(\"train\", train_results.metrics)\n",
    "trainer.save_metrics(\"train\", train_results.metrics)\n",
    "trainer.save_state()"
   ]
  },
  {
   "cell_type": "code",
   "execution_count": 16,
   "id": "70610cf9-8570-4b37-b43c-bdc964a2c8e6",
   "metadata": {},
   "outputs": [
    {
     "name": "stderr",
     "output_type": "stream",
     "text": [
      "***** Running Evaluation *****\n",
      "  Num examples = 228\n",
      "  Batch size = 32\n"
     ]
    },
    {
     "data": {
      "text/html": [
       "\n",
       "    <div>\n",
       "      \n",
       "      <progress value='21' max='8' style='width:300px; height:20px; vertical-align: middle;'></progress>\n",
       "      [8/8 01:42]\n",
       "    </div>\n",
       "    "
      ],
      "text/plain": [
       "<IPython.core.display.HTML object>"
      ]
     },
     "metadata": {},
     "output_type": "display_data"
    },
    {
     "name": "stdout",
     "output_type": "stream",
     "text": [
      "***** eval metrics *****\n",
      "  epoch                   =       2.98\n",
      "  eval_accuracy           =     0.9956\n",
      "  eval_loss               =     0.0139\n",
      "  eval_runtime            = 0:00:39.32\n",
      "  eval_samples_per_second =      5.798\n",
      "  eval_steps_per_second   =      0.203\n"
     ]
    }
   ],
   "source": [
    "\n",
    "metrics = trainer.evaluate()\n",
    "# some nice to haves:\n",
    "trainer.log_metrics(\"eval\", metrics)\n",
    "trainer.save_metrics(\"eval\", metrics)"
   ]
  },
  {
   "cell_type": "code",
   "execution_count": 17,
   "id": "43c9156b-84a2-4d28-875f-6c9796f41d46",
   "metadata": {},
   "outputs": [],
   "source": [
    "\n",
    "test_ds.set_transform(preprocess_val)"
   ]
  },
  {
   "cell_type": "code",
   "execution_count": 18,
   "id": "96167b9c-d84b-43c0-a85f-fae3ccf58ab0",
   "metadata": {},
   "outputs": [
    {
     "name": "stderr",
     "output_type": "stream",
     "text": [
      "***** Running Prediction *****\n",
      "  Num examples = 402\n",
      "  Batch size = 32\n"
     ]
    }
   ],
   "source": [
    "outputs = trainer.predict(test_ds)\n",
    "y_pred = outputs.predictions.argmax(1)"
   ]
  },
  {
   "cell_type": "code",
   "execution_count": 19,
   "id": "a35c48e8-a78e-47d1-85f8-97fc7a5c91c6",
   "metadata": {},
   "outputs": [
    {
     "data": {
      "text/plain": [
       "{'accuracy': 0.9975124378109452}"
      ]
     },
     "execution_count": 19,
     "metadata": {},
     "output_type": "execute_result"
    }
   ],
   "source": [
    "compute_metrics(outputs)"
   ]
  },
  {
   "cell_type": "code",
   "execution_count": 20,
   "id": "f847d7ab-5acd-454d-af4d-044049cab94e",
   "metadata": {},
   "outputs": [
    {
     "data": {
      "text/plain": [
       "PredictionOutput(predictions=array([[ 4.14941   , -3.4358993 ],\n",
       "       [ 3.770022  , -3.1469731 ],\n",
       "       [ 2.9274626 , -2.628194  ],\n",
       "       [ 3.953789  , -3.4419413 ],\n",
       "       [ 3.9053793 , -3.4369078 ],\n",
       "       [ 3.8186007 , -3.4067316 ],\n",
       "       [ 3.240419  , -2.8817315 ],\n",
       "       [ 3.9937456 , -3.4062965 ],\n",
       "       [ 4.0257745 , -3.491057  ],\n",
       "       [ 3.8432827 , -3.4442039 ],\n",
       "       [ 3.9319873 , -3.4783475 ],\n",
       "       [ 3.356958  , -2.9462247 ],\n",
       "       [-3.509983  ,  2.727879  ],\n",
       "       [ 3.8128757 , -3.1997373 ],\n",
       "       [ 3.987723  , -3.4266906 ],\n",
       "       [ 3.5828085 , -3.2077367 ],\n",
       "       [-2.6001444 ,  2.4411306 ],\n",
       "       [-2.8094702 ,  2.6761603 ],\n",
       "       [ 3.9432018 , -3.4876719 ],\n",
       "       [-3.10952   ,  2.6841755 ],\n",
       "       [ 3.4779587 , -2.849947  ],\n",
       "       [-3.2456102 ,  2.5189447 ],\n",
       "       [ 3.8877628 , -3.3638692 ],\n",
       "       [ 4.020675  , -3.4753523 ],\n",
       "       [ 3.929216  , -3.282154  ],\n",
       "       [ 3.7925575 , -3.4052587 ],\n",
       "       [ 3.6593316 , -3.149929  ],\n",
       "       [ 3.8685222 , -3.351447  ],\n",
       "       [ 4.0140367 , -3.339803  ],\n",
       "       [ 4.022686  , -3.4044337 ],\n",
       "       [-3.3189793 ,  2.237514  ],\n",
       "       [ 3.76802   , -3.377962  ],\n",
       "       [ 3.8005545 , -3.5226276 ],\n",
       "       [ 3.503079  , -3.1458669 ],\n",
       "       [-3.230409  ,  2.047748  ],\n",
       "       [ 4.005922  , -3.5343237 ],\n",
       "       [ 3.9623346 , -3.5045576 ],\n",
       "       [ 3.7236328 , -3.188458  ],\n",
       "       [ 4.0148525 , -3.474804  ],\n",
       "       [-1.5499264 ,  1.6961567 ],\n",
       "       [ 3.9446135 , -3.5234585 ],\n",
       "       [-2.9002123 ,  2.6020215 ],\n",
       "       [-2.9566283 ,  2.323154  ],\n",
       "       [ 3.8990083 , -3.4658294 ],\n",
       "       [-2.831174  ,  2.5436575 ],\n",
       "       [ 3.6092238 , -3.1609144 ],\n",
       "       [ 3.6626475 , -3.2225595 ],\n",
       "       [-3.775282  ,  2.4396996 ],\n",
       "       [ 4.0141764 , -3.4810734 ],\n",
       "       [-3.1213002 ,  2.6405034 ],\n",
       "       [-3.3232522 ,  1.7512736 ],\n",
       "       [ 3.834879  , -3.5473695 ],\n",
       "       [ 3.9436555 , -3.4612331 ],\n",
       "       [ 3.9998393 , -3.3687258 ],\n",
       "       [ 3.7885704 , -3.102693  ],\n",
       "       [ 3.8570309 , -3.4163392 ],\n",
       "       [ 2.8651936 , -2.0490642 ],\n",
       "       [-3.2426548 ,  2.7639718 ],\n",
       "       [ 3.889401  , -3.473779  ],\n",
       "       [ 1.9875329 , -1.2924256 ],\n",
       "       [ 3.9738927 , -3.4628558 ],\n",
       "       [-3.228443  ,  2.139017  ],\n",
       "       [-3.2413926 ,  2.7165568 ],\n",
       "       [ 3.8760347 , -3.438873  ],\n",
       "       [ 3.636121  , -3.2077703 ],\n",
       "       [ 3.8435817 , -3.4660597 ],\n",
       "       [-3.4725149 ,  2.3527985 ],\n",
       "       [ 4.0381866 , -3.5332522 ],\n",
       "       [ 3.7206702 , -3.1989934 ],\n",
       "       [ 4.003765  , -3.4545417 ],\n",
       "       [ 3.7714367 , -3.245726  ],\n",
       "       [-2.4978223 ,  1.4679687 ],\n",
       "       [-3.837533  ,  2.430859  ],\n",
       "       [ 3.9929533 , -3.490289  ],\n",
       "       [ 3.7141786 , -3.3348918 ],\n",
       "       [ 3.708715  , -3.2557664 ],\n",
       "       [-3.4740672 ,  2.3238013 ],\n",
       "       [-2.916553  ,  2.5838761 ],\n",
       "       [ 3.933603  , -3.3431516 ],\n",
       "       [ 3.9809456 , -3.579076  ],\n",
       "       [ 3.860002  , -3.3704417 ],\n",
       "       [ 4.013568  , -3.5424414 ],\n",
       "       [ 3.873784  , -3.516302  ],\n",
       "       [ 3.5806303 , -2.993904  ],\n",
       "       [ 2.375032  , -2.111855  ],\n",
       "       [ 3.7852957 , -3.1635597 ],\n",
       "       [ 3.996472  , -3.4168878 ],\n",
       "       [ 4.016654  , -3.4879212 ],\n",
       "       [ 4.0263853 , -3.4462557 ],\n",
       "       [ 3.0678139 , -2.400538  ],\n",
       "       [ 4.081515  , -3.500639  ],\n",
       "       [ 3.7571356 , -3.207273  ],\n",
       "       [ 3.6801593 , -2.9937255 ],\n",
       "       [ 3.8208961 , -3.4036598 ],\n",
       "       [ 3.933207  , -3.4471993 ],\n",
       "       [-3.2692742 ,  2.7558298 ],\n",
       "       [ 3.8743234 , -3.436139  ],\n",
       "       [ 3.3933344 , -2.9228978 ],\n",
       "       [-3.0741124 ,  2.608314  ],\n",
       "       [ 3.6500397 , -3.132728  ],\n",
       "       [-3.1336222 ,  2.6329498 ],\n",
       "       [-2.5679662 ,  2.6802232 ],\n",
       "       [-2.822838  ,  2.5689473 ],\n",
       "       [ 3.9761271 , -3.4812725 ],\n",
       "       [ 3.8102157 , -3.2581263 ],\n",
       "       [ 3.8952513 , -3.274394  ],\n",
       "       [ 3.9848528 , -3.4394102 ],\n",
       "       [-3.3543644 ,  2.1724882 ],\n",
       "       [ 3.8859553 , -3.39039   ],\n",
       "       [ 3.6924284 , -3.1216216 ],\n",
       "       [ 3.9604344 , -3.4013438 ],\n",
       "       [ 3.7537131 , -3.3011312 ],\n",
       "       [ 3.8110652 , -3.2894435 ],\n",
       "       [ 3.8692112 , -3.452215  ],\n",
       "       [ 3.5524259 , -3.247909  ],\n",
       "       [ 3.8594806 , -3.6225123 ],\n",
       "       [ 3.9020467 , -3.564362  ],\n",
       "       [-3.4775724 ,  2.2748373 ],\n",
       "       [-3.429603  ,  2.3206036 ],\n",
       "       [ 3.713386  , -3.1994023 ],\n",
       "       [ 3.7521868 , -3.2538643 ],\n",
       "       [-3.676794  ,  2.3620052 ],\n",
       "       [ 3.1224394 , -2.5698547 ],\n",
       "       [ 3.6993055 , -3.1134424 ],\n",
       "       [ 3.9482825 , -3.3315063 ],\n",
       "       [ 3.8790188 , -3.3626952 ],\n",
       "       [ 3.7578468 , -2.9435058 ],\n",
       "       [ 3.6460676 , -2.952562  ],\n",
       "       [ 3.7873588 , -3.3333821 ],\n",
       "       [ 2.1152053 , -1.3442856 ],\n",
       "       [-3.5259457 ,  2.1988978 ],\n",
       "       [ 3.9582677 , -3.5072212 ],\n",
       "       [ 3.5114052 , -2.97609   ],\n",
       "       [ 3.7768767 , -3.2941504 ],\n",
       "       [ 4.0389695 , -3.4229608 ],\n",
       "       [ 3.790791  , -3.3855906 ],\n",
       "       [-2.9209704 ,  2.2382607 ],\n",
       "       [-3.0104063 ,  2.3316503 ],\n",
       "       [ 3.6518607 , -3.2947307 ],\n",
       "       [ 3.9901738 , -3.3895137 ],\n",
       "       [ 4.018512  , -3.5061872 ],\n",
       "       [ 3.9096656 , -3.3031545 ],\n",
       "       [-3.277707  ,  2.6603613 ],\n",
       "       [ 3.9017096 , -3.3554358 ],\n",
       "       [ 3.9024835 , -3.487043  ],\n",
       "       [ 2.487921  , -2.2049346 ],\n",
       "       [-2.8384585 ,  2.5239944 ],\n",
       "       [ 4.022376  , -3.504867  ],\n",
       "       [-2.9421766 ,  2.583375  ],\n",
       "       [-3.645351  ,  2.4365711 ],\n",
       "       [ 3.831225  , -3.2647722 ],\n",
       "       [ 4.01433   , -3.4261093 ],\n",
       "       [-3.2556996 ,  2.4302645 ],\n",
       "       [-1.8590484 ,  1.717361  ],\n",
       "       [ 3.424436  , -3.02039   ],\n",
       "       [-3.148458  ,  2.5005555 ],\n",
       "       [ 3.5778909 , -3.2652988 ],\n",
       "       [-3.5594645 ,  2.2267494 ],\n",
       "       [-3.8397121 ,  2.4454417 ],\n",
       "       [ 3.9638162 , -3.3766904 ],\n",
       "       [-2.4698036 ,  2.495184  ],\n",
       "       [-2.9906182 ,  2.6463516 ],\n",
       "       [-2.9587893 ,  2.5184784 ],\n",
       "       [ 3.3873672 , -2.9689004 ],\n",
       "       [ 3.7548437 , -3.2814684 ],\n",
       "       [ 3.8541656 , -3.2710564 ],\n",
       "       [ 3.8013947 , -3.52344   ],\n",
       "       [ 3.9932737 , -3.3649778 ],\n",
       "       [ 2.5051088 , -1.9636192 ],\n",
       "       [ 3.885821  , -3.3985114 ],\n",
       "       [ 3.7794108 , -3.319314  ],\n",
       "       [-2.716895  ,  2.6111283 ],\n",
       "       [-2.637671  ,  2.4222522 ],\n",
       "       [ 3.8280458 , -3.3944368 ],\n",
       "       [ 3.9331164 , -3.5026393 ],\n",
       "       [ 3.6545916 , -3.211727  ],\n",
       "       [ 3.9051538 , -3.385049  ],\n",
       "       [-3.4845424 ,  2.7104008 ],\n",
       "       [-3.2129707 ,  2.6200747 ],\n",
       "       [-3.6438932 ,  2.37893   ],\n",
       "       [-3.1067638 ,  2.463036  ],\n",
       "       [-2.873756  ,  2.4828682 ],\n",
       "       [ 4.0781107 , -3.4688268 ],\n",
       "       [-1.7512987 ,  1.5057919 ],\n",
       "       [ 3.7706504 , -3.4142134 ],\n",
       "       [ 3.9997926 , -3.5389142 ],\n",
       "       [ 4.002705  , -3.4824152 ],\n",
       "       [-3.00009   ,  2.5037096 ],\n",
       "       [ 3.9384243 , -3.375597  ],\n",
       "       [ 3.787202  , -3.2356198 ],\n",
       "       [ 3.8455107 , -3.2996216 ],\n",
       "       [-3.1229544 ,  2.6402998 ],\n",
       "       [-2.8102956 ,  2.344985  ],\n",
       "       [ 3.9989772 , -3.488807  ],\n",
       "       [ 4.0027    , -3.4885325 ],\n",
       "       [ 3.9082322 , -3.4897199 ],\n",
       "       [ 3.8615193 , -3.3801403 ],\n",
       "       [ 3.7701936 , -3.25661   ],\n",
       "       [ 3.892302  , -3.3652897 ],\n",
       "       [-3.6392622 ,  2.3861465 ],\n",
       "       [-2.8328996 ,  2.4044862 ],\n",
       "       [ 3.9273443 , -3.536131  ],\n",
       "       [-3.1260362 ,  2.6200554 ],\n",
       "       [ 3.839641  , -3.3039894 ],\n",
       "       [ 2.3590755 , -1.8778883 ],\n",
       "       [ 2.0484772 , -1.6228133 ],\n",
       "       [ 3.6850924 , -3.1322467 ],\n",
       "       [ 3.9966252 , -3.5013895 ],\n",
       "       [ 3.6084871 , -3.0089734 ],\n",
       "       [ 3.9647665 , -3.4000392 ],\n",
       "       [-3.0890613 ,  2.0200977 ],\n",
       "       [ 2.4427795 , -2.0561662 ],\n",
       "       [-2.8210983 ,  2.5526323 ],\n",
       "       [-3.501514  ,  2.2440937 ],\n",
       "       [ 3.6598673 , -3.241664  ],\n",
       "       [ 3.7178416 , -3.29781   ],\n",
       "       [ 3.9024093 , -3.0741885 ],\n",
       "       [ 3.4368958 , -2.9153352 ],\n",
       "       [ 3.8375077 , -3.3977778 ],\n",
       "       [ 3.8201172 , -3.3961904 ],\n",
       "       [-3.6677904 ,  2.3816593 ],\n",
       "       [ 4.001329  , -3.4968903 ],\n",
       "       [ 3.7804165 , -3.2811847 ],\n",
       "       [ 3.3720145 , -2.832315  ],\n",
       "       [ 3.600917  , -2.9750447 ],\n",
       "       [ 2.353386  , -1.7654595 ],\n",
       "       [ 3.943074  , -3.4027786 ],\n",
       "       [ 4.003781  , -3.4724143 ],\n",
       "       [ 3.8509493 , -3.3769083 ],\n",
       "       [-3.2443333 ,  1.9822971 ],\n",
       "       [-3.5359898 ,  2.3317852 ],\n",
       "       [ 3.8105452 , -3.4927166 ],\n",
       "       [ 3.1420298 , -2.441762  ],\n",
       "       [-2.1259086 ,  2.0502033 ],\n",
       "       [-2.8124127 ,  2.183095  ],\n",
       "       [ 3.489461  , -2.8364313 ],\n",
       "       [ 2.7318883 , -2.3814044 ],\n",
       "       [ 3.8786926 , -3.4444852 ],\n",
       "       [ 0.33088362,  0.11955777],\n",
       "       [-3.381141  ,  2.616849  ],\n",
       "       [ 3.9215221 , -3.2830648 ],\n",
       "       [ 4.076217  , -3.427064  ],\n",
       "       [-3.2704096 ,  2.2536333 ],\n",
       "       [ 3.720014  , -3.30966   ],\n",
       "       [ 3.7464046 , -3.2616084 ],\n",
       "       [-3.6317515 ,  2.295461  ],\n",
       "       [ 3.9753451 , -3.4986424 ],\n",
       "       [ 3.9990747 , -3.4415221 ],\n",
       "       [ 3.744459  , -3.3623433 ],\n",
       "       [ 3.871235  , -3.5361924 ],\n",
       "       [ 3.8798609 , -3.494394  ],\n",
       "       [ 3.9085584 , -3.5331578 ],\n",
       "       [ 3.8038473 , -3.5116558 ],\n",
       "       [-3.3471103 ,  2.3473477 ],\n",
       "       [ 3.7889802 , -3.4104795 ],\n",
       "       [ 4.046629  , -3.3963916 ],\n",
       "       [-3.0018065 ,  2.7122874 ],\n",
       "       [ 1.8025007 , -1.2363878 ],\n",
       "       [-3.1688664 ,  2.7116828 ],\n",
       "       [ 3.4271688 , -2.7620168 ],\n",
       "       [ 3.9367871 , -3.344245  ],\n",
       "       [-2.8782701 ,  2.4382305 ],\n",
       "       [ 3.8450422 , -3.384656  ],\n",
       "       [ 2.99773   , -2.4779868 ],\n",
       "       [-3.6404123 ,  2.3761487 ],\n",
       "       [ 3.8555703 , -3.4261298 ],\n",
       "       [ 3.9726055 , -3.4617505 ],\n",
       "       [ 3.7684064 , -3.4438963 ],\n",
       "       [-0.20705304, -0.89099985],\n",
       "       [ 3.8282084 , -3.3899431 ],\n",
       "       [ 4.0720863 , -3.3931918 ],\n",
       "       [ 4.021559  , -3.462809  ],\n",
       "       [ 3.5152094 , -3.014448  ],\n",
       "       [ 3.6223936 , -3.207599  ],\n",
       "       [-3.1139507 ,  2.7682624 ],\n",
       "       [ 3.8385224 , -3.3878882 ],\n",
       "       [ 3.5481308 , -2.8278918 ],\n",
       "       [ 3.8242044 , -3.0445523 ],\n",
       "       [ 3.5035925 , -2.8131876 ],\n",
       "       [-3.5395534 ,  2.1861136 ],\n",
       "       [ 3.8887463 , -3.4589221 ],\n",
       "       [ 3.9617884 , -3.480744  ],\n",
       "       [ 3.6921098 , -3.279426  ],\n",
       "       [ 2.6592216 , -2.0722637 ],\n",
       "       [ 3.935225  , -3.3850298 ],\n",
       "       [ 3.84406   , -3.4237356 ],\n",
       "       [ 3.6460118 , -3.2454243 ],\n",
       "       [ 1.2494156 , -1.0380309 ],\n",
       "       [ 3.3442688 , -2.883356  ],\n",
       "       [-2.8922982 ,  2.6163824 ],\n",
       "       [ 3.9847045 , -3.4811826 ],\n",
       "       [ 2.8349934 , -2.4305906 ],\n",
       "       [ 3.5346437 , -3.0690835 ],\n",
       "       [ 3.9600387 , -3.4461074 ],\n",
       "       [ 3.9993935 , -3.4147763 ],\n",
       "       [ 3.7127147 , -3.135952  ],\n",
       "       [ 3.9362407 , -3.4141302 ],\n",
       "       [ 4.079689  , -3.4251766 ],\n",
       "       [ 4.0024905 , -3.4733896 ],\n",
       "       [ 4.0695963 , -3.521913  ],\n",
       "       [ 3.973646  , -3.5906115 ],\n",
       "       [ 3.782943  , -3.3274713 ],\n",
       "       [ 3.9675405 , -3.5174623 ],\n",
       "       [ 3.775713  , -3.4383814 ],\n",
       "       [ 3.7307558 , -3.287308  ],\n",
       "       [-2.8258407 ,  2.4447765 ],\n",
       "       [ 3.5686853 , -3.0451195 ],\n",
       "       [ 3.214458  , -2.8849783 ],\n",
       "       [-3.3967733 ,  2.6532545 ],\n",
       "       [ 3.8612885 , -3.5663207 ],\n",
       "       [-3.2596655 ,  2.2191849 ],\n",
       "       [ 3.7034018 , -3.2642202 ],\n",
       "       [ 3.6725426 , -3.1518016 ],\n",
       "       [ 3.9075603 , -3.3757005 ],\n",
       "       [ 3.9798806 , -3.4522593 ],\n",
       "       [ 3.9068089 , -3.2141752 ],\n",
       "       [ 3.550692  , -3.0977392 ],\n",
       "       [-2.41123   ,  2.409061  ],\n",
       "       [ 3.7198625 , -3.1651049 ],\n",
       "       [ 3.7996945 , -3.3802776 ],\n",
       "       [ 3.9166088 , -3.4176836 ],\n",
       "       [-2.4220126 ,  2.3985314 ],\n",
       "       [-2.6420784 ,  2.543766  ],\n",
       "       [-3.409982  ,  2.289438  ],\n",
       "       [ 4.118402  , -3.4136    ],\n",
       "       [ 3.9275355 , -3.5150154 ],\n",
       "       [ 3.9981368 , -3.4662757 ],\n",
       "       [-2.9098516 ,  2.5368989 ],\n",
       "       [ 3.9932313 , -3.533117  ],\n",
       "       [ 4.0137854 , -3.4759345 ],\n",
       "       [ 3.8119843 , -3.388084  ],\n",
       "       [-2.4662762 ,  2.4054904 ],\n",
       "       [-3.4328594 ,  2.1902823 ],\n",
       "       [ 3.6883492 , -3.2326686 ],\n",
       "       [-3.2113953 ,  2.7120738 ],\n",
       "       [-3.4030395 ,  2.2185252 ],\n",
       "       [ 3.8627014 , -3.4756093 ],\n",
       "       [-3.533     ,  2.1525965 ],\n",
       "       [ 3.966999  , -3.5299404 ],\n",
       "       [-3.0577443 ,  1.9747944 ],\n",
       "       [ 3.9151003 , -3.3795614 ],\n",
       "       [ 3.6408262 , -2.9655116 ],\n",
       "       [ 3.9493165 , -3.4882436 ],\n",
       "       [-3.6608872 ,  2.3890357 ],\n",
       "       [ 3.7443485 , -3.4459004 ],\n",
       "       [-3.3478484 ,  2.6816773 ],\n",
       "       [ 3.847693  , -3.4861875 ],\n",
       "       [ 4.0141354 , -3.3952506 ],\n",
       "       [ 3.5529084 , -3.128532  ],\n",
       "       [ 3.4315066 , -3.0612597 ],\n",
       "       [-3.4635    ,  2.366076  ],\n",
       "       [-3.8734772 ,  2.312757  ],\n",
       "       [-3.066804  ,  2.4770372 ],\n",
       "       [ 3.9247408 , -3.4786534 ],\n",
       "       [-2.8291702 ,  2.0263126 ],\n",
       "       [-3.0762506 ,  2.4624    ],\n",
       "       [ 1.6598696 , -1.2219115 ],\n",
       "       [-2.5146554 ,  1.2999008 ],\n",
       "       [ 3.6547494 , -2.9218783 ],\n",
       "       [ 3.6188614 , -3.2682676 ],\n",
       "       [ 2.5158505 , -1.8857014 ],\n",
       "       [ 3.6011558 , -2.8295126 ],\n",
       "       [ 4.01241   , -3.5138512 ],\n",
       "       [ 3.9469666 , -3.4110944 ],\n",
       "       [-2.8472605 ,  2.441077  ],\n",
       "       [-2.3276243 ,  1.9316561 ],\n",
       "       [ 3.3591256 , -2.8166113 ],\n",
       "       [ 3.7310224 , -3.3199086 ],\n",
       "       [ 3.8443677 , -3.4596477 ],\n",
       "       [ 3.0807524 , -2.2831106 ],\n",
       "       [ 3.8945763 , -3.4920971 ],\n",
       "       [ 4.080032  , -3.4896579 ],\n",
       "       [ 3.8723836 , -3.41631   ],\n",
       "       [-2.9629474 ,  2.6624064 ],\n",
       "       [ 3.7157843 , -3.2227778 ],\n",
       "       [ 3.1532137 , -2.6666832 ],\n",
       "       [ 3.6877298 , -3.0355396 ],\n",
       "       [ 3.8518052 , -3.353146  ],\n",
       "       [ 3.8740811 , -3.3831882 ],\n",
       "       [ 3.9409463 , -3.4736776 ],\n",
       "       [ 3.7706895 , -3.4183154 ],\n",
       "       [ 3.928742  , -3.3629627 ],\n",
       "       [ 2.8516593 , -2.065967  ],\n",
       "       [ 3.8368237 , -3.490365  ],\n",
       "       [ 3.8400226 , -2.9735472 ],\n",
       "       [-3.5886164 ,  2.2254667 ],\n",
       "       [ 3.7665384 , -3.0703983 ],\n",
       "       [ 3.925933  , -3.4223886 ],\n",
       "       [ 2.3170443 , -1.9550405 ],\n",
       "       [-3.465482  ,  2.736836  ],\n",
       "       [ 3.8058498 , -3.4669452 ],\n",
       "       [ 3.7391334 , -3.4166088 ],\n",
       "       [-3.2420805 ,  2.642761  ],\n",
       "       [ 3.2721994 , -2.9450173 ],\n",
       "       [-2.9848764 ,  2.5407803 ],\n",
       "       [ 3.5651808 , -3.1864216 ],\n",
       "       [ 3.7185273 , -3.191904  ],\n",
       "       [ 4.019679  , -3.4756348 ],\n",
       "       [ 3.7365866 , -3.2531352 ],\n",
       "       [ 3.8408716 , -3.1940994 ],\n",
       "       [ 3.9080334 , -3.4940271 ],\n",
       "       [ 3.6915762 , -2.9759965 ]], dtype=float32), label_ids=array([0, 0, 0, 0, 0, 0, 0, 0, 0, 0, 0, 0, 1, 0, 0, 0, 1, 1, 0, 1, 0, 1,\n",
       "       0, 0, 0, 0, 0, 0, 0, 0, 1, 0, 0, 0, 1, 0, 0, 0, 0, 1, 0, 1, 1, 0,\n",
       "       1, 0, 0, 1, 0, 1, 1, 0, 0, 0, 0, 0, 0, 1, 0, 0, 0, 1, 1, 0, 0, 0,\n",
       "       1, 0, 0, 0, 0, 1, 1, 0, 0, 0, 1, 1, 0, 0, 0, 0, 0, 0, 0, 0, 0, 0,\n",
       "       0, 0, 0, 0, 0, 0, 0, 1, 0, 0, 1, 0, 1, 1, 1, 0, 0, 0, 0, 1, 0, 0,\n",
       "       0, 0, 0, 0, 0, 0, 0, 1, 1, 0, 0, 1, 0, 0, 0, 0, 0, 0, 0, 0, 1, 0,\n",
       "       0, 0, 0, 0, 1, 1, 0, 0, 0, 0, 1, 0, 0, 0, 1, 0, 1, 1, 0, 0, 1, 1,\n",
       "       0, 1, 0, 1, 1, 0, 1, 1, 1, 0, 0, 0, 0, 0, 0, 0, 0, 1, 1, 0, 0, 0,\n",
       "       0, 1, 1, 1, 1, 1, 0, 1, 0, 0, 0, 1, 0, 0, 0, 1, 1, 0, 0, 0, 0, 0,\n",
       "       0, 1, 1, 0, 1, 0, 0, 0, 0, 0, 0, 0, 1, 0, 1, 1, 0, 0, 0, 0, 0, 0,\n",
       "       1, 0, 0, 0, 0, 0, 0, 0, 0, 1, 1, 0, 0, 1, 1, 0, 0, 0, 0, 1, 0, 0,\n",
       "       1, 0, 0, 1, 0, 0, 0, 0, 0, 0, 0, 1, 0, 0, 1, 0, 1, 0, 0, 1, 0, 0,\n",
       "       1, 0, 0, 0, 1, 0, 0, 0, 0, 0, 1, 0, 0, 0, 0, 1, 0, 0, 0, 0, 0, 0,\n",
       "       0, 0, 0, 1, 0, 0, 0, 0, 0, 0, 0, 0, 0, 0, 0, 0, 0, 0, 0, 1, 0, 0,\n",
       "       1, 0, 1, 0, 0, 0, 0, 0, 0, 1, 0, 0, 0, 1, 1, 1, 0, 0, 0, 1, 0, 0,\n",
       "       0, 1, 1, 0, 1, 1, 0, 1, 0, 1, 0, 0, 0, 1, 0, 1, 0, 0, 0, 0, 1, 1,\n",
       "       1, 0, 1, 1, 0, 1, 0, 0, 0, 0, 0, 0, 1, 1, 0, 0, 0, 0, 0, 0, 0, 1,\n",
       "       0, 0, 0, 0, 0, 0, 0, 0, 0, 0, 0, 1, 0, 0, 0, 1, 0, 0, 1, 0, 1, 0,\n",
       "       0, 0, 0, 0, 0, 0]), metrics={'test_loss': 0.0072791920974850655, 'test_accuracy': 0.9975124378109452, 'test_runtime': 69.154, 'test_samples_per_second': 5.813, 'test_steps_per_second': 0.188})"
      ]
     },
     "execution_count": 20,
     "metadata": {},
     "output_type": "execute_result"
    }
   ],
   "source": [
    "outputs"
   ]
  },
  {
   "cell_type": "code",
   "execution_count": 21,
   "id": "3be0e585-96b2-44cd-8f32-4b037fcdfe17",
   "metadata": {},
   "outputs": [
    {
     "data": {
      "text/plain": [
       "array([0, 0, 0, 0, 0, 0, 0, 0, 0, 0, 0, 0, 1, 0, 0, 0, 1, 1, 0, 1, 0, 1,\n",
       "       0, 0, 0, 0, 0, 0, 0, 0, 1, 0, 0, 0, 1, 0, 0, 0, 0, 1, 0, 1, 1, 0,\n",
       "       1, 0, 0, 1, 0, 1, 1, 0, 0, 0, 0, 0, 0, 1, 0, 0, 0, 1, 1, 0, 0, 0,\n",
       "       1, 0, 0, 0, 0, 1, 1, 0, 0, 0, 1, 1, 0, 0, 0, 0, 0, 0, 0, 0, 0, 0,\n",
       "       0, 0, 0, 0, 0, 0, 0, 1, 0, 0, 1, 0, 1, 1, 1, 0, 0, 0, 0, 1, 0, 0,\n",
       "       0, 0, 0, 0, 0, 0, 0, 1, 1, 0, 0, 1, 0, 0, 0, 0, 0, 0, 0, 0, 1, 0,\n",
       "       0, 0, 0, 0, 1, 1, 0, 0, 0, 0, 1, 0, 0, 0, 1, 0, 1, 1, 0, 0, 1, 1,\n",
       "       0, 1, 0, 1, 1, 0, 1, 1, 1, 0, 0, 0, 0, 0, 0, 0, 0, 1, 1, 0, 0, 0,\n",
       "       0, 1, 1, 1, 1, 1, 0, 1, 0, 0, 0, 1, 0, 0, 0, 1, 1, 0, 0, 0, 0, 0,\n",
       "       0, 1, 1, 0, 1, 0, 0, 0, 0, 0, 0, 0, 1, 0, 1, 1, 0, 0, 0, 0, 0, 0,\n",
       "       1, 0, 0, 0, 0, 0, 0, 0, 0, 1, 1, 0, 0, 1, 1, 0, 0, 0, 0, 1, 0, 0,\n",
       "       1, 0, 0, 1, 0, 0, 0, 0, 0, 0, 0, 1, 0, 0, 1, 0, 1, 0, 0, 1, 0, 0,\n",
       "       1, 0, 0, 0, 0, 0, 0, 0, 0, 0, 1, 0, 0, 0, 0, 1, 0, 0, 0, 0, 0, 0,\n",
       "       0, 0, 0, 1, 0, 0, 0, 0, 0, 0, 0, 0, 0, 0, 0, 0, 0, 0, 0, 1, 0, 0,\n",
       "       1, 0, 1, 0, 0, 0, 0, 0, 0, 1, 0, 0, 0, 1, 1, 1, 0, 0, 0, 1, 0, 0,\n",
       "       0, 1, 1, 0, 1, 1, 0, 1, 0, 1, 0, 0, 0, 1, 0, 1, 0, 0, 0, 0, 1, 1,\n",
       "       1, 0, 1, 1, 0, 1, 0, 0, 0, 0, 0, 0, 1, 1, 0, 0, 0, 0, 0, 0, 0, 1,\n",
       "       0, 0, 0, 0, 0, 0, 0, 0, 0, 0, 0, 1, 0, 0, 0, 1, 0, 0, 1, 0, 1, 0,\n",
       "       0, 0, 0, 0, 0, 0])"
      ]
     },
     "execution_count": 21,
     "metadata": {},
     "output_type": "execute_result"
    }
   ],
   "source": [
    "y_pred"
   ]
  },
  {
   "cell_type": "code",
   "execution_count": 22,
   "id": "d68b7f8c-d3c7-44b5-8ea0-0a71ad0d0c2d",
   "metadata": {},
   "outputs": [
    {
     "data": {
      "text/plain": [
       "array([0, 0, 0, 0, 0, 0, 0, 0, 0, 0, 0, 0, 1, 0, 0, 0, 1, 1, 0, 1, 0, 1,\n",
       "       0, 0, 0, 0, 0, 0, 0, 0, 1, 0, 0, 0, 1, 0, 0, 0, 0, 1, 0, 1, 1, 0,\n",
       "       1, 0, 0, 1, 0, 1, 1, 0, 0, 0, 0, 0, 0, 1, 0, 0, 0, 1, 1, 0, 0, 0,\n",
       "       1, 0, 0, 0, 0, 1, 1, 0, 0, 0, 1, 1, 0, 0, 0, 0, 0, 0, 0, 0, 0, 0,\n",
       "       0, 0, 0, 0, 0, 0, 0, 1, 0, 0, 1, 0, 1, 1, 1, 0, 0, 0, 0, 1, 0, 0,\n",
       "       0, 0, 0, 0, 0, 0, 0, 1, 1, 0, 0, 1, 0, 0, 0, 0, 0, 0, 0, 0, 1, 0,\n",
       "       0, 0, 0, 0, 1, 1, 0, 0, 0, 0, 1, 0, 0, 0, 1, 0, 1, 1, 0, 0, 1, 1,\n",
       "       0, 1, 0, 1, 1, 0, 1, 1, 1, 0, 0, 0, 0, 0, 0, 0, 0, 1, 1, 0, 0, 0,\n",
       "       0, 1, 1, 1, 1, 1, 0, 1, 0, 0, 0, 1, 0, 0, 0, 1, 1, 0, 0, 0, 0, 0,\n",
       "       0, 1, 1, 0, 1, 0, 0, 0, 0, 0, 0, 0, 1, 0, 1, 1, 0, 0, 0, 0, 0, 0,\n",
       "       1, 0, 0, 0, 0, 0, 0, 0, 0, 1, 1, 0, 0, 1, 1, 0, 0, 0, 0, 1, 0, 0,\n",
       "       1, 0, 0, 1, 0, 0, 0, 0, 0, 0, 0, 1, 0, 0, 1, 0, 1, 0, 0, 1, 0, 0,\n",
       "       1, 0, 0, 0, 1, 0, 0, 0, 0, 0, 1, 0, 0, 0, 0, 1, 0, 0, 0, 0, 0, 0,\n",
       "       0, 0, 0, 1, 0, 0, 0, 0, 0, 0, 0, 0, 0, 0, 0, 0, 0, 0, 0, 1, 0, 0,\n",
       "       1, 0, 1, 0, 0, 0, 0, 0, 0, 1, 0, 0, 0, 1, 1, 1, 0, 0, 0, 1, 0, 0,\n",
       "       0, 1, 1, 0, 1, 1, 0, 1, 0, 1, 0, 0, 0, 1, 0, 1, 0, 0, 0, 0, 1, 1,\n",
       "       1, 0, 1, 1, 0, 1, 0, 0, 0, 0, 0, 0, 1, 1, 0, 0, 0, 0, 0, 0, 0, 1,\n",
       "       0, 0, 0, 0, 0, 0, 0, 0, 0, 0, 0, 1, 0, 0, 0, 1, 0, 0, 1, 0, 1, 0,\n",
       "       0, 0, 0, 0, 0, 0])"
      ]
     },
     "execution_count": 22,
     "metadata": {},
     "output_type": "execute_result"
    }
   ],
   "source": [
    "y_true = np.array(test_ds[:]['label'])\n",
    "y_true"
   ]
  },
  {
   "cell_type": "code",
   "execution_count": 23,
   "id": "dff4e6f8-4cbd-4725-bbdf-6ff1cbbae763",
   "metadata": {},
   "outputs": [
    {
     "data": {
      "text/plain": [
       "array([[293,   0],\n",
       "       [  1, 108]])"
      ]
     },
     "execution_count": 23,
     "metadata": {},
     "output_type": "execute_result"
    }
   ],
   "source": [
    "from sklearn.metrics import confusion_matrix\n",
    "confusion_matrix(y_true, y_pred)"
   ]
  },
  {
   "cell_type": "code",
   "execution_count": 25,
   "id": "5644f690-a3c4-4e6f-8203-06a815a6791d",
   "metadata": {},
   "outputs": [
    {
     "data": {
      "text/plain": [
       "(array([268]),)"
      ]
     },
     "execution_count": 25,
     "metadata": {},
     "output_type": "execute_result"
    }
   ],
   "source": [
    "np.where(y_true!=y_pred)"
   ]
  },
  {
   "cell_type": "code",
   "execution_count": 29,
   "id": "4bf9ef91-1e10-42f4-88c1-3c9405cb59ab",
   "metadata": {},
   "outputs": [
    {
     "data": {
      "text/plain": [
       "1"
      ]
     },
     "execution_count": 29,
     "metadata": {},
     "output_type": "execute_result"
    }
   ],
   "source": [
    "y_true[268]"
   ]
  },
  {
   "cell_type": "code",
   "execution_count": 30,
   "id": "167945de-052b-4b97-84bc-7875b8c3735a",
   "metadata": {},
   "outputs": [
    {
     "data": {
      "text/plain": [
       "'gamma'"
      ]
     },
     "execution_count": 30,
     "metadata": {},
     "output_type": "execute_result"
    }
   ],
   "source": [
    "id2label[str(1)]"
   ]
  },
  {
   "cell_type": "code",
   "execution_count": 28,
   "id": "2346c480-7001-4f3f-b97b-ab2d6bfd9295",
   "metadata": {},
   "outputs": [
    {
     "data": {
      "image/png": "[encoded data removed]",
      "text/plain": [
       "<PIL.JpegImagePlugin.JpegImageFile image mode=RGB size=288x288>"
      ]
     },
     "execution_count": 28,
     "metadata": {},
     "output_type": "execute_result"
    }
   ],
   "source": [
    "test_ds[268]['img']"
   ]
  }
 ],
 "metadata": {
  "kernelspec": {
   "display_name": "PRUEBA:Python",
   "language": "python",
   "name": "conda-env-PRUEBA-py"
  },
  "language_info": {
   "codemirror_mode": {
    "name": "ipython",
    "version": 3
   },
   "file_extension": ".py",
   "mimetype": "text/x-python",
   "name": "python",
   "nbconvert_exporter": "python",
   "pygments_lexer": "ipython3",
   "version": "3.9.13"
  }
 },
 "nbformat": 4,
 "nbformat_minor": 5
}
