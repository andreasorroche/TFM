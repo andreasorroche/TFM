{
 "cells": [
  {
   "cell_type": "markdown",
   "id": "5047cd92-9982-4a38-b20d-9fd04dd92412",
   "metadata": {},
   "source": [
    "Preprocessing"
   ]
  },
  {
   "cell_type": "markdown",
   "id": "fa0abe1a-1db7-47de-8ae8-c4579c2d1f78",
   "metadata": {},
   "source": [
    "The input of the model will be the image, the rest of variables will be used to delimit and make statistics and later studies. We will take Nmuons and Class as output variables, since from the image we are going to classify the primary particle and estimate the number of muons."
   ]
  },
  {
   "cell_type": "code",
   "execution_count": 9,
   "id": "3b73ec96-d757-419a-82cb-4e165200e705",
   "metadata": {},
   "outputs": [],
   "source": [
    "##Libraries needed\n",
    "import numpy as np\n",
    "import pandas as pd\n",
    "import h5py \n",
    "import matplotlib.pyplot as plt\n",
    "import matplotlib as mpl\n",
    "import os"
   ]
  },
  {
   "cell_type": "code",
   "execution_count": 10,
   "id": "687d6aa2-ff49-4b3c-81cb-987fcf43005f",
   "metadata": {},
   "outputs": [],
   "source": [
    "\n",
    "primary = \"proton\"\n",
    "size = 560 #detector radius, area: 1km^2\n",
    "\n",
    "if (primary==\"gamma\"):\n",
    "    filename_train = \"Datosphoton_alt5200m_qgsii_fluka_r560m_3PMTs_40-60TeV_N725.h5\"\n",
    "    particle = \"Gamma\"\n",
    "elif (primary==\"proton\"):\n",
    "    filename_train = \"Datosproton_alt5200m_qgsii_fluka_r560m_3PMTs_40-60TeV-GammaERange_N1955.h5\"\n",
    "    particle = \"Proton\"\n"
   ]
  },
  {
   "cell_type": "code",
   "execution_count": 11,
   "id": "ec7e2b31-5f06-4d34-afa8-36774d232b58",
   "metadata": {},
   "outputs": [],
   "source": [
    "#Read data\n",
    "f = h5py.File(filename_train, mode = \"r\")\n",
    "\n",
    "group = f[\"data\"]\n",
    "\n",
    "#Read shower parameters\n",
    "InfoDF = pd.read_hdf(filename_train, key = \"info\")\n",
    "ID_showers = InfoDF.iloc[:,0].values\n",
    "E0_train = InfoDF.iloc[:,1].values\n",
    "theta0_train = InfoDF.iloc[:,2].values\n",
    "Nmuons_train = InfoDF.iloc[:,3].values\n",
    "\n",
    "#Read input for the algorithm\n",
    "#X_train: channel1 -> e.m. energy, channel2 -> particles, channel3 -> muons\n",
    "X_train = group[()]\n",
    "Y_train = InfoDF.iloc[:,-1].values\n",
    "\n",
    "\n",
    "#Close file\n",
    "f.close()"
   ]
  },
  {
   "cell_type": "code",
   "execution_count": 12,
   "id": "1490ec3d-1f0a-448c-8275-684f1b28f49b",
   "metadata": {},
   "outputs": [
    {
     "data": {
      "text/plain": [
       "(1955, 283, 283)"
      ]
     },
     "execution_count": 12,
     "metadata": {},
     "output_type": "execute_result"
    }
   ],
   "source": [
    "X_train.shape"
   ]
  },
  {
   "cell_type": "code",
   "execution_count": 13,
   "id": "db561656-6ab2-4dda-a045-9448df996df0",
   "metadata": {},
   "outputs": [],
   "source": [
    "#Saving images\n",
    "\n",
    "for i in range(len(X_train)):\n",
    "    try:\n",
    "        fig = plt.figure(figsize=(4,4))\n",
    "        plt.imshow(X_train[i,:,:], alpha=0.8, cmap='Reds',norm=mpl.colors.LogNorm())\n",
    "        plt.axis('off')\n",
    "        filename = './data/'+str(primary)+'/'+str(primary)+'_id'+str(i)+'.jpg'\n",
    "        plt.savefig(filename)\n",
    "        plt.close(fig)\n",
    "    except: \n",
    "        print('Error in i = '+str(i))\n",
    "        pass"
   ]
  },
  {
   "cell_type": "code",
   "execution_count": 14,
   "id": "7ae0d4e8-57a8-481b-86f1-9f4b1a8ddd52",
   "metadata": {},
   "outputs": [
    {
     "name": "stdout",
     "output_type": "stream",
     "text": [
      "file count gamma: 725\n",
      "file count proton: 1955\n"
     ]
    }
   ],
   "source": [
    "#Counting elements in each folder\n",
    "import os\n",
    "\n",
    "count = 0\n",
    "dir_path = 'data/gamma'\n",
    "for path in os.scandir(dir_path):\n",
    "    if path.is_file():\n",
    "        count += 1\n",
    "print('file count gamma:', count)\n",
    "\n",
    "count = 0\n",
    "dir_path = 'data/proton'\n",
    "for path in os.scandir(dir_path):\n",
    "    if path.is_file():\n",
    "        count += 1\n",
    "print('file count proton:', count)\n",
    "\n"
   ]
  }
 ],
 "metadata": {
  "kernelspec": {
   "display_name": "default:Python",
   "language": "python",
   "name": "conda-env-default-py"
  },
  "language_info": {
   "codemirror_mode": {
    "name": "ipython",
    "version": 3
   },
   "file_extension": ".py",
   "mimetype": "text/x-python",
   "name": "python",
   "nbconvert_exporter": "python",
   "pygments_lexer": "ipython3",
   "version": "3.9.13"
  }
 },
 "nbformat": 4,
 "nbformat_minor": 5
}
