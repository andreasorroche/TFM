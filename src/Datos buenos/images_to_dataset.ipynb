{
 "cells": [
  {
   "cell_type": "markdown",
   "id": "4269eddd-7388-42e3-a450-17ca0fed376a",
   "metadata": {},
   "source": [
    "Preprocessing data for the input for the Hugginface pretrained models. We convert our images into the dataset, consisting in a dictionary with train, validation and test data."
   ]
  },
  {
   "cell_type": "code",
   "execution_count": 1,
   "id": "82741ff4-0701-4aa3-8557-ffed4274f8ef",
   "metadata": {},
   "outputs": [
    {
     "name": "stderr",
     "output_type": "stream",
     "text": [
      "/home/studio-lab-user/.conda/envs/PRUEBA/lib/python3.9/site-packages/tqdm/auto.py:22: TqdmWarning: IProgress not found. Please update jupyter and ipywidgets. See https://ipywidgets.readthedocs.io/en/stable/user_install.html\n",
      "  from .autonotebook import tqdm as notebook_tqdm\n"
     ]
    }
   ],
   "source": [
    "#Create dataset\n",
    "import os\n",
    "import datasets\n",
    "from datasets import Dataset, DatasetDict, load_dataset, load_from_disk\n",
    "\n",
    "\n",
    "\n",
    "def create_image_folder_dataset(root_path):\n",
    "  \"\"\"creates `Dataset` from image folder structure\"\"\"\n",
    "\n",
    "  # get class names by folders names\n",
    "  _CLASS_NAMES= os.listdir(root_path)\n",
    "  # defines `datasets` features`\n",
    "  features=datasets.Features({\n",
    "                      \"img\": datasets.Image(),\n",
    "                      \"label\": datasets.features.ClassLabel(names=_CLASS_NAMES),\n",
    "                  })\n",
    "  # temp list holding datapoints for creation\n",
    "  img_data_files=[]\n",
    "  label_data_files=[]\n",
    "  # load images into list for creation\n",
    "  for img_class in os.listdir(root_path):\n",
    "    for img in os.listdir(os.path.join(root_path,img_class)):\n",
    "      path_=os.path.join(root_path,img_class,img)\n",
    "      img_data_files.append(path_)\n",
    "      label_data_files.append(img_class)\n",
    "  # create dataset\n",
    "  ds = datasets.Dataset.from_dict({\"img\":img_data_files,\"label\":label_data_files},features=features)\n",
    "  return ds"
   ]
  },
  {
   "cell_type": "code",
   "execution_count": 6,
   "id": "774f7adf-9196-4c39-a4ee-7709600f36a6",
   "metadata": {},
   "outputs": [],
   "source": [
    "ds = create_image_folder_dataset(\"data\")"
   ]
  },
  {
   "cell_type": "code",
   "execution_count": 7,
   "id": "785b4e0f-ec05-4bb2-8b54-73bb098848ae",
   "metadata": {},
   "outputs": [
    {
     "data": {
      "text/plain": [
       "Dataset({\n",
       "    features: ['img', 'label'],\n",
       "    num_rows: 2680\n",
       "})"
      ]
     },
     "execution_count": 7,
     "metadata": {},
     "output_type": "execute_result"
    }
   ],
   "source": [
    "ds"
   ]
  },
  {
   "cell_type": "code",
   "execution_count": 8,
   "id": "3c715238-ccb9-4cf8-9594-d67f7cb10c38",
   "metadata": {},
   "outputs": [
    {
     "data": {
      "text/plain": [
       "{'img': Image(decode=True, id=None),\n",
       " 'label': ClassLabel(num_classes=2, names=['proton', 'gamma'], id=None)}"
      ]
     },
     "execution_count": 8,
     "metadata": {},
     "output_type": "execute_result"
    }
   ],
   "source": [
    "ds.features"
   ]
  },
  {
   "cell_type": "code",
   "execution_count": 9,
   "id": "76ec4878-9297-4f18-bccb-8236a5b809b0",
   "metadata": {},
   "outputs": [
    {
     "name": "stdout",
     "output_type": "stream",
     "text": [
      "['proton', 'gamma']\n"
     ]
    }
   ],
   "source": [
    "#Classes names\n",
    "labels = ds.features[\"label\"].names\n",
    "print(labels)"
   ]
  },
  {
   "cell_type": "code",
   "execution_count": 10,
   "id": "3b6111cc-766d-4069-900f-422f1a263009",
   "metadata": {},
   "outputs": [],
   "source": [
    "# test size will be 15% of train dataset and we do stratify to mantain the same percentage of classes in train and test\n",
    "#because we have a very imbalanced dataset\n",
    "from sklearn.model_selection import train_test_split\n",
    "test_size=.15\n",
    "\n",
    "train_ds, test_ds = train_test_split(ds, test_size=test_size, stratify=ds['label'])"
   ]
  },
  {
   "cell_type": "code",
   "execution_count": 11,
   "id": "ea4a38f6-93cf-4c2b-b92c-c6c50ee1003a",
   "metadata": {},
   "outputs": [],
   "source": [
    "train_ds = Dataset.from_dict(train_ds, features = datasets.Features({\n",
    "                      \"img\": datasets.Image(),\n",
    "                      \"label\": datasets.features.ClassLabel(names=labels),\n",
    "                  }))\n",
    "test_ds = Dataset.from_dict(test_ds, features = datasets.Features({\n",
    "                      \"img\": datasets.Image(),\n",
    "                      \"label\": datasets.features.ClassLabel(names=labels),\n",
    "                  }))"
   ]
  },
  {
   "cell_type": "code",
   "execution_count": 12,
   "id": "3c76255c-eb84-47d3-b76f-f0fcb0bf125c",
   "metadata": {},
   "outputs": [
    {
     "data": {
      "text/plain": [
       "Dataset({\n",
       "    features: ['img', 'label'],\n",
       "    num_rows: 2278\n",
       "})"
      ]
     },
     "execution_count": 12,
     "metadata": {},
     "output_type": "execute_result"
    }
   ],
   "source": [
    "train_ds"
   ]
  },
  {
   "cell_type": "code",
   "execution_count": 13,
   "id": "5df66bba-f16b-4ff4-9e80-3c7de61cc3f5",
   "metadata": {},
   "outputs": [
    {
     "data": {
      "text/plain": [
       "{'img': Image(decode=True, id=None),\n",
       " 'label': ClassLabel(num_classes=2, names=['proton', 'gamma'], id=None)}"
      ]
     },
     "execution_count": 13,
     "metadata": {},
     "output_type": "execute_result"
    }
   ],
   "source": [
    "train_ds.features"
   ]
  },
  {
   "cell_type": "code",
   "execution_count": 14,
   "id": "4b4d98c9-91da-4063-95af-c34f5792aca3",
   "metadata": {},
   "outputs": [
    {
     "data": {
      "text/plain": [
       "Dataset({\n",
       "    features: ['img', 'label'],\n",
       "    num_rows: 402\n",
       "})"
      ]
     },
     "execution_count": 14,
     "metadata": {},
     "output_type": "execute_result"
    }
   ],
   "source": [
    "test_ds"
   ]
  },
  {
   "cell_type": "code",
   "execution_count": 15,
   "id": "89eacd89-aa88-4114-a099-d1da34f7b18c",
   "metadata": {},
   "outputs": [
    {
     "data": {
      "text/plain": [
       "(array([1662.,    0.,    0.,    0.,    0.,    0.,    0.,    0.,    0.,\n",
       "         616.]),\n",
       " array([0. , 0.1, 0.2, 0.3, 0.4, 0.5, 0.6, 0.7, 0.8, 0.9, 1. ]),\n",
       " <BarContainer object of 10 artists>)"
      ]
     },
     "execution_count": 15,
     "metadata": {},
     "output_type": "execute_result"
    },
    {
     "data": {
      "image/png": "[encoded data removed]",
      "text/plain": [
       "<Figure size 432x288 with 1 Axes>"
      ]
     },
     "metadata": {
      "needs_background": "light"
     },
     "output_type": "display_data"
    }
   ],
   "source": [
    "#To check if we have the same percentage in train and test\n",
    "import matplotlib.pyplot as plt\n",
    "plt.hist(train_ds['label'])"
   ]
  },
  {
   "cell_type": "code",
   "execution_count": 16,
   "id": "4e69f102-807b-4fbb-af9f-9e7660c9d529",
   "metadata": {},
   "outputs": [
    {
     "data": {
      "text/plain": [
       "(array([293.,   0.,   0.,   0.,   0.,   0.,   0.,   0.,   0., 109.]),\n",
       " array([0. , 0.1, 0.2, 0.3, 0.4, 0.5, 0.6, 0.7, 0.8, 0.9, 1. ]),\n",
       " <BarContainer object of 10 artists>)"
      ]
     },
     "execution_count": 16,
     "metadata": {},
     "output_type": "execute_result"
    },
    {
     "data": {
      "image/png": "[encoded data removed]",
      "text/plain": [
       "<Figure size 432x288 with 1 Axes>"
      ]
     },
     "metadata": {
      "needs_background": "light"
     },
     "output_type": "display_data"
    }
   ],
   "source": [
    "plt.hist(test_ds['label'])"
   ]
  },
  {
   "cell_type": "code",
   "execution_count": 17,
   "id": "007b483e-55e4-4153-ba93-5295b0ad8027",
   "metadata": {},
   "outputs": [],
   "source": [
    "#We have the same, so it worked."
   ]
  },
  {
   "cell_type": "code",
   "execution_count": 18,
   "id": "5e451fec-43cc-4fa2-ab34-a689c047eda3",
   "metadata": {},
   "outputs": [
    {
     "data": {
      "text/plain": [
       "{'img': <PIL.JpegImagePlugin.JpegImageFile image mode=RGB size=288x288>,\n",
       " 'label': 0}"
      ]
     },
     "execution_count": 18,
     "metadata": {},
     "output_type": "execute_result"
    }
   ],
   "source": [
    "train_ds[0]"
   ]
  },
  {
   "cell_type": "markdown",
   "id": "cf3cd079-263b-4ad7-9fff-8168a4f4e435",
   "metadata": {},
   "source": [
    "We take a look at an example. The image field contains a PIL image and each label is an integer that represents a class. We create a dictionary that maps a label name to an integer and vice versa. The mapping will help the model recover the label name from the label number."
   ]
  },
  {
   "cell_type": "code",
   "execution_count": 19,
   "id": "7d6532b2-504c-43ec-9f39-4cf794006d6d",
   "metadata": {},
   "outputs": [],
   "source": [
    "label2id, id2label = dict(), dict()\n",
    "for i, label in enumerate(labels):\n",
    "    label2id[label] = str(i)\n",
    "    id2label[str(i)] = label"
   ]
  },
  {
   "cell_type": "markdown",
   "id": "a165e7f4-adf3-4ee6-b178-0280db15459a",
   "metadata": {},
   "source": [
    "Now we can covert the label number to a label name."
   ]
  },
  {
   "cell_type": "code",
   "execution_count": 20,
   "id": "70c56686-c8d4-408f-a39e-b8d35703bd73",
   "metadata": {},
   "outputs": [
    {
     "data": {
      "text/plain": [
       "'proton'"
      ]
     },
     "execution_count": 20,
     "metadata": {},
     "output_type": "execute_result"
    }
   ],
   "source": [
    "id2label[str(0)]"
   ]
  },
  {
   "cell_type": "code",
   "execution_count": 21,
   "id": "9061be8f-ec2c-49a0-94d9-1446b4e0a7b1",
   "metadata": {},
   "outputs": [
    {
     "data": {
      "text/plain": [
       "'gamma'"
      ]
     },
     "execution_count": 21,
     "metadata": {},
     "output_type": "execute_result"
    }
   ],
   "source": [
    "id2label[str(1)]"
   ]
  },
  {
   "cell_type": "code",
   "execution_count": 23,
   "id": "7103368f-33cf-4272-ad8c-d8dd2d3d1b37",
   "metadata": {},
   "outputs": [],
   "source": [
    "# split up training into training + validation\n",
    "test_size=.1\n",
    "\n",
    "train_ds, val_ds = train_test_split(train_ds, test_size=test_size, stratify=train_ds['label'])"
   ]
  },
  {
   "cell_type": "code",
   "execution_count": 24,
   "id": "080abf69-94d2-49a9-a1d5-f8729a59ea47",
   "metadata": {},
   "outputs": [],
   "source": [
    "train_ds = Dataset.from_dict(train_ds, features = datasets.Features({\n",
    "                      \"img\": datasets.Image(),\n",
    "                      \"label\": datasets.features.ClassLabel(names=labels),\n",
    "                  }))\n",
    "val_ds = Dataset.from_dict(val_ds, features = datasets.Features({\n",
    "                      \"img\": datasets.Image(),\n",
    "                      \"label\": datasets.features.ClassLabel(names=labels),\n",
    "                  }))"
   ]
  },
  {
   "cell_type": "code",
   "execution_count": 25,
   "id": "e5a315c6-837a-459e-b51b-fccfcf2f6d6a",
   "metadata": {},
   "outputs": [
    {
     "data": {
      "text/plain": [
       "Dataset({\n",
       "    features: ['img', 'label'],\n",
       "    num_rows: 2050\n",
       "})"
      ]
     },
     "execution_count": 25,
     "metadata": {},
     "output_type": "execute_result"
    }
   ],
   "source": [
    "train_ds"
   ]
  },
  {
   "cell_type": "code",
   "execution_count": 26,
   "id": "65a243ce-eb67-4541-9d2e-f281bae6be65",
   "metadata": {},
   "outputs": [
    {
     "data": {
      "text/plain": [
       "Dataset({\n",
       "    features: ['img', 'label'],\n",
       "    num_rows: 228\n",
       "})"
      ]
     },
     "execution_count": 26,
     "metadata": {},
     "output_type": "execute_result"
    }
   ],
   "source": [
    "val_ds"
   ]
  },
  {
   "cell_type": "code",
   "execution_count": 27,
   "id": "cd9d2156-7dca-4ff5-9990-6ec6682badc2",
   "metadata": {},
   "outputs": [
    {
     "data": {
      "text/plain": [
       "Dataset({\n",
       "    features: ['img', 'label'],\n",
       "    num_rows: 402\n",
       "})"
      ]
     },
     "execution_count": 27,
     "metadata": {},
     "output_type": "execute_result"
    }
   ],
   "source": [
    "test_ds "
   ]
  },
  {
   "cell_type": "code",
   "execution_count": 28,
   "id": "9af28dc5-a30f-49a8-a232-f631956a15fe",
   "metadata": {},
   "outputs": [
    {
     "data": {
      "text/plain": [
       "(array([1496.,    0.,    0.,    0.,    0.,    0.,    0.,    0.,    0.,\n",
       "         554.]),\n",
       " array([0. , 0.1, 0.2, 0.3, 0.4, 0.5, 0.6, 0.7, 0.8, 0.9, 1. ]),\n",
       " <BarContainer object of 10 artists>)"
      ]
     },
     "execution_count": 28,
     "metadata": {},
     "output_type": "execute_result"
    },
    {
     "data": {
      "image/png": "[encoded data removed]",
      "text/plain": [
       "<Figure size 432x288 with 1 Axes>"
      ]
     },
     "metadata": {
      "needs_background": "light"
     },
     "output_type": "display_data"
    }
   ],
   "source": [
    "plt.hist(train_ds['label'])"
   ]
  },
  {
   "cell_type": "code",
   "execution_count": 29,
   "id": "d596aeda-c97f-4de3-8cca-9ee42c918417",
   "metadata": {},
   "outputs": [
    {
     "data": {
      "text/plain": [
       "(array([166.,   0.,   0.,   0.,   0.,   0.,   0.,   0.,   0.,  62.]),\n",
       " array([0. , 0.1, 0.2, 0.3, 0.4, 0.5, 0.6, 0.7, 0.8, 0.9, 1. ]),\n",
       " <BarContainer object of 10 artists>)"
      ]
     },
     "execution_count": 29,
     "metadata": {},
     "output_type": "execute_result"
    },
    {
     "data": {
      "image/png": "[encoded data removed]",
      "text/plain": [
       "<Figure size 432x288 with 1 Axes>"
      ]
     },
     "metadata": {
      "needs_background": "light"
     },
     "output_type": "display_data"
    }
   ],
   "source": [
    "plt.hist(val_ds['label'])"
   ]
  },
  {
   "cell_type": "code",
   "execution_count": 30,
   "id": "7004569e-4498-455c-b194-76fc9b42f3d8",
   "metadata": {},
   "outputs": [
    {
     "data": {
      "text/plain": [
       "(array([293.,   0.,   0.,   0.,   0.,   0.,   0.,   0.,   0., 109.]),\n",
       " array([0. , 0.1, 0.2, 0.3, 0.4, 0.5, 0.6, 0.7, 0.8, 0.9, 1. ]),\n",
       " <BarContainer object of 10 artists>)"
      ]
     },
     "execution_count": 30,
     "metadata": {},
     "output_type": "execute_result"
    },
    {
     "data": {
      "image/png": "[encoded data removed]",
      "text/plain": [
       "<Figure size 432x288 with 1 Axes>"
      ]
     },
     "metadata": {
      "needs_background": "light"
     },
     "output_type": "display_data"
    }
   ],
   "source": [
    "plt.hist(test_ds['label'])"
   ]
  },
  {
   "cell_type": "code",
   "execution_count": 31,
   "id": "1cc2f412-5c6d-4c63-b5f1-5c93a5a6713c",
   "metadata": {},
   "outputs": [],
   "source": [
    "#All together to save it\n",
    "ds_dict = datasets.DatasetDict({\n",
    "    \"train\": train_ds,\n",
    "    \"val\": val_ds,\n",
    "    \"test\": test_ds,\n",
    "})\n"
   ]
  },
  {
   "cell_type": "code",
   "execution_count": 32,
   "id": "28fc4848-e62d-49d6-98b3-90b28acd6a96",
   "metadata": {},
   "outputs": [
    {
     "data": {
      "text/plain": [
       "DatasetDict({\n",
       "    train: Dataset({\n",
       "        features: ['img', 'label'],\n",
       "        num_rows: 2050\n",
       "    })\n",
       "    val: Dataset({\n",
       "        features: ['img', 'label'],\n",
       "        num_rows: 228\n",
       "    })\n",
       "    test: Dataset({\n",
       "        features: ['img', 'label'],\n",
       "        num_rows: 402\n",
       "    })\n",
       "})"
      ]
     },
     "execution_count": 32,
     "metadata": {},
     "output_type": "execute_result"
    }
   ],
   "source": [
    "ds_dict"
   ]
  },
  {
   "cell_type": "code",
   "execution_count": 33,
   "id": "c1dbbe85-4f68-4f9f-94bc-f66fbd221546",
   "metadata": {},
   "outputs": [],
   "source": [
    "#Save data\n",
    "ds_dict.save_to_disk(\"./data_dict_cut\")"
   ]
  },
  {
   "cell_type": "code",
   "execution_count": 34,
   "id": "68deb031-3a6c-4307-8fe9-30e8d90f0c5e",
   "metadata": {},
   "outputs": [
    {
     "data": {
      "text/plain": [
       "DatasetDict({\n",
       "    train: Dataset({\n",
       "        features: ['img', 'label'],\n",
       "        num_rows: 2050\n",
       "    })\n",
       "    val: Dataset({\n",
       "        features: ['img', 'label'],\n",
       "        num_rows: 228\n",
       "    })\n",
       "    test: Dataset({\n",
       "        features: ['img', 'label'],\n",
       "        num_rows: 402\n",
       "    })\n",
       "})"
      ]
     },
     "execution_count": 34,
     "metadata": {},
     "output_type": "execute_result"
    }
   ],
   "source": [
    "#To load data\n",
    "ds = load_from_disk('./data_dict_cut')\n",
    "ds"
   ]
  },
  {
   "cell_type": "code",
   "execution_count": null,
   "id": "4ca62282-e6bf-4836-8553-9a5f68ab2691",
   "metadata": {},
   "outputs": [],
   "source": []
  }
 ],
 "metadata": {
  "kernelspec": {
   "display_name": "PRUEBA:Python",
   "language": "python",
   "name": "conda-env-PRUEBA-py"
  },
  "language_info": {
   "codemirror_mode": {
    "name": "ipython",
    "version": 3
   },
   "file_extension": ".py",
   "mimetype": "text/x-python",
   "name": "python",
   "nbconvert_exporter": "python",
   "pygments_lexer": "ipython3",
   "version": "3.9.13"
  }
 },
 "nbformat": 4,
 "nbformat_minor": 5
}
