{
 "cells": [
  {
   "cell_type": "code",
   "execution_count": 1,
   "id": "882c7827-d492-48aa-8cb6-a77614297265",
   "metadata": {},
   "outputs": [],
   "source": [
    "#First, we choose the pretrained model to use \n",
    "\n",
    "#model_id = \"google/vit-base-patch16-224\"\n",
    "#model_id = 'microsoft/swin-tiny-patch4-window7-224'\n",
    "model_id = 'facebook/deit-base-patch16-224'\n",
    "#model_id = 'microsoft/resnet-50'\n"
   ]
  },
  {
   "cell_type": "markdown",
   "id": "0c1f530c-0b87-4a91-82f4-a60bf626cdb9",
   "metadata": {},
   "source": [
    "Now we load the feature extractor to process the image into a tensor."
   ]
  },
  {
   "cell_type": "code",
   "execution_count": 2,
   "id": "02cc9044-cb70-47c5-b31f-1657558d1df7",
   "metadata": {},
   "outputs": [
    {
     "name": "stderr",
     "output_type": "stream",
     "text": [
      "/home/studio-lab-user/.conda/envs/PRUEBA/lib/python3.9/site-packages/tqdm/auto.py:22: TqdmWarning: IProgress not found. Please update jupyter and ipywidgets. See https://ipywidgets.readthedocs.io/en/stable/user_install.html\n",
      "  from .autonotebook import tqdm as notebook_tqdm\n"
     ]
    }
   ],
   "source": [
    "from transformers import AutoFeatureExtractor, ViTFeatureExtractor, DeiTFeatureExtractor\n",
    "#feature_extractor = AutoFeatureExtractor.from_pretrained(model_id)\n",
    "#feature_extractor = ViTFeatureExtractor.from_pretrained(model_id)\n",
    "feature_extractor = DeiTFeatureExtractor.from_pretrained(model_id)"
   ]
  },
  {
   "cell_type": "markdown",
   "id": "d4166d1c-1a73-4190-8e82-624200047301",
   "metadata": {},
   "source": [
    "This feature extractor will resize every image to the resolution that the model expects and normalize channels. "
   ]
  },
  {
   "cell_type": "markdown",
   "id": "0491140c-c230-4655-9f89-e005c4d3a426",
   "metadata": {},
   "source": [
    "We define 2 functions, one for training and one for validation, including resizing, center cropping and normalizing."
   ]
  },
  {
   "cell_type": "code",
   "execution_count": 3,
   "id": "fd82a8a4-462b-4f15-ab70-da22f3a57f3b",
   "metadata": {},
   "outputs": [],
   "source": [
    "from torchvision.transforms import (\n",
    "    CenterCrop,\n",
    "    Compose,\n",
    "    Normalize,\n",
    "    RandomResizedCrop,\n",
    "    Resize,\n",
    "    ToTensor,\n",
    ")\n",
    "\n",
    "normalize = Normalize(mean=feature_extractor.image_mean, std=feature_extractor.image_std)\n",
    "train_transforms = Compose(\n",
    "        [\n",
    "            RandomResizedCrop(feature_extractor.size),\n",
    "            ToTensor(),\n",
    "            normalize,\n",
    "        ]\n",
    "    )\n",
    "\n",
    "val_transforms = Compose(\n",
    "        [\n",
    "            Resize(feature_extractor.size),\n",
    "            CenterCrop(feature_extractor.size),\n",
    "            ToTensor(),\n",
    "            normalize,\n",
    "        ]\n",
    "    )\n",
    "\n",
    "def preprocess_train(example_batch):\n",
    "    \"\"\"Apply train_transforms across a batch.\"\"\"\n",
    "    example_batch[\"pixel_values\"] = [\n",
    "        train_transforms(image.convert(\"RGB\")) for image in example_batch[\"img\"]\n",
    "    ]\n",
    "    return example_batch\n",
    "\n",
    "def preprocess_val(example_batch):\n",
    "    \"\"\"Apply val_transforms across a batch.\"\"\"\n",
    "    example_batch[\"pixel_values\"] = [val_transforms(image.convert(\"RGB\")) for image in example_batch[\"img\"]]\n",
    "    return example_batch"
   ]
  },
  {
   "cell_type": "markdown",
   "id": "346a291a-fafd-4580-b8ca-a40b9a71640b",
   "metadata": {},
   "source": [
    "Next, we can preprocess our dataset by applying these functions."
   ]
  },
  {
   "cell_type": "code",
   "execution_count": 4,
   "id": "a9f48cb2-035f-4b64-844d-36911beb1f7e",
   "metadata": {},
   "outputs": [
    {
     "data": {
      "text/plain": [
       "DatasetDict({\n",
       "    train: Dataset({\n",
       "        features: ['img', 'label'],\n",
       "        num_rows: 2050\n",
       "    })\n",
       "    val: Dataset({\n",
       "        features: ['img', 'label'],\n",
       "        num_rows: 228\n",
       "    })\n",
       "    test: Dataset({\n",
       "        features: ['img', 'label'],\n",
       "        num_rows: 402\n",
       "    })\n",
       "})"
      ]
     },
     "execution_count": 4,
     "metadata": {},
     "output_type": "execute_result"
    }
   ],
   "source": [
    "#Load data\n",
    "import datasets\n",
    "from datasets import Dataset, DatasetDict, load_dataset, load_from_disk\n",
    "ds = load_from_disk('./data_dict_cut')\n",
    "ds"
   ]
  },
  {
   "cell_type": "code",
   "execution_count": 5,
   "id": "300c5553-6b86-4086-ad35-a15c5875c5d6",
   "metadata": {},
   "outputs": [],
   "source": [
    "# split up training into training + validation\n",
    "train_ds = ds['train']\n",
    "val_ds = ds['val']\n",
    "test_ds = ds['test']"
   ]
  },
  {
   "cell_type": "code",
   "execution_count": 6,
   "id": "256e4b28-52e6-4572-886a-a2aaaf814b9f",
   "metadata": {},
   "outputs": [
    {
     "name": "stdout",
     "output_type": "stream",
     "text": [
      "['proton', 'gamma']\n"
     ]
    }
   ],
   "source": [
    "#Classes names\n",
    "labels = train_ds.features[\"label\"].names\n",
    "print(labels)"
   ]
  },
  {
   "cell_type": "code",
   "execution_count": 7,
   "id": "97d151d8-791d-4eaf-ac20-0e22aab9454c",
   "metadata": {},
   "outputs": [
    {
     "name": "stderr",
     "output_type": "stream",
     "text": [
      "Parameter 'transform'=<function preprocess_train at 0x7f6ea83bddc0> of the transform datasets.arrow_dataset.Dataset.set_format couldn't be hashed properly, a random hash was used instead. Make sure your transforms and parameters are serializable with pickle or dill for the dataset fingerprinting and caching to work. If you reuse this transform, the caching mechanism will consider it to be different from the previous calls and recompute everything. This warning is only showed once. Subsequent hashing failures won't be showed.\n"
     ]
    }
   ],
   "source": [
    "train_ds.set_transform(preprocess_train)\n",
    "val_ds.set_transform(preprocess_val)"
   ]
  },
  {
   "cell_type": "code",
   "execution_count": 8,
   "id": "cfc4ed91-ffab-4e6f-bf0e-e90db0e8b8a1",
   "metadata": {},
   "outputs": [
    {
     "data": {
      "text/plain": [
       "{'img': <PIL.JpegImagePlugin.JpegImageFile image mode=RGB size=288x288>,\n",
       " 'label': 0,\n",
       " 'pixel_values': tensor([[[1., 1., 1.,  ..., 1., 1., 1.],\n",
       "          [1., 1., 1.,  ..., 1., 1., 1.],\n",
       "          [1., 1., 1.,  ..., 1., 1., 1.],\n",
       "          ...,\n",
       "          [1., 1., 1.,  ..., 1., 1., 1.],\n",
       "          [1., 1., 1.,  ..., 1., 1., 1.],\n",
       "          [1., 1., 1.,  ..., 1., 1., 1.]],\n",
       " \n",
       "         [[1., 1., 1.,  ..., 1., 1., 1.],\n",
       "          [1., 1., 1.,  ..., 1., 1., 1.],\n",
       "          [1., 1., 1.,  ..., 1., 1., 1.],\n",
       "          ...,\n",
       "          [1., 1., 1.,  ..., 1., 1., 1.],\n",
       "          [1., 1., 1.,  ..., 1., 1., 1.],\n",
       "          [1., 1., 1.,  ..., 1., 1., 1.]],\n",
       " \n",
       "         [[1., 1., 1.,  ..., 1., 1., 1.],\n",
       "          [1., 1., 1.,  ..., 1., 1., 1.],\n",
       "          [1., 1., 1.,  ..., 1., 1., 1.],\n",
       "          ...,\n",
       "          [1., 1., 1.,  ..., 1., 1., 1.],\n",
       "          [1., 1., 1.,  ..., 1., 1., 1.],\n",
       "          [1., 1., 1.,  ..., 1., 1., 1.]]])}"
      ]
     },
     "execution_count": 8,
     "metadata": {},
     "output_type": "execute_result"
    }
   ],
   "source": [
    "train_ds[0]"
   ]
  },
  {
   "cell_type": "markdown",
   "id": "7ffaa161-cffe-4796-8012-91e66d879fd1",
   "metadata": {},
   "source": [
    "Now that our data is ready, we can download the pretrained model and fine-tune it. We use the modelViTForImageClassification.  "
   ]
  },
  {
   "cell_type": "code",
   "execution_count": 9,
   "id": "22aa812a-f91f-4b38-8b18-eab8d71163f7",
   "metadata": {},
   "outputs": [],
   "source": [
    "#We create a dictionary that maps a label name to an integer and vice versa. \n",
    "#The mapping will help the model recover the label name from the label number.\n",
    "\n",
    "label2id, id2label = dict(), dict()\n",
    "for i, label in enumerate(labels):\n",
    "    label2id[label] = str(i)\n",
    "    id2label[str(i)] = label"
   ]
  },
  {
   "cell_type": "code",
   "execution_count": 10,
   "id": "43fba3aa-f533-4ba3-ae49-a57b117002d0",
   "metadata": {},
   "outputs": [
    {
     "name": "stderr",
     "output_type": "stream",
     "text": [
      "Some weights of ViTForImageClassification were not initialized from the model checkpoint at facebook/deit-base-patch16-224 and are newly initialized because the shapes did not match:\n",
      "- classifier.weight: found shape torch.Size([1000, 768]) in the checkpoint and torch.Size([2, 768]) in the model instantiated\n",
      "- classifier.bias: found shape torch.Size([1000]) in the checkpoint and torch.Size([2]) in the model instantiated\n",
      "You should probably TRAIN this model on a down-stream task to be able to use it for predictions and inference.\n"
     ]
    }
   ],
   "source": [
    "from transformers import ViTForImageClassification, SwinForImageClassification,ResNetForImageClassification, TrainingArguments, Trainer, SegformerForImageClassification\n",
    "\n",
    "model = ViTForImageClassification.from_pretrained(model_id,\n",
    "                                                 label2id=label2id,\n",
    "                                                 id2label=id2label,\n",
    "                                                 ignore_mismatched_sizes = True, # provide this in case you're planning to fine-tune an already fine-tuned checkpoint\n",
    "                                                 )\n",
    "\n",
    "#model = SwinForImageClassification.from_pretrained(model_id,\n",
    "#                                                 label2id=label2id,\n",
    "#                                                 id2label=id2label,\n",
    "#                                                 ignore_mismatched_sizes = True, # provide this in case you're planning to fine-tune an already fine-tuned checkpoint\n",
    "#) \n",
    "\n",
    "#model = ResNetForImageClassification.from_pretrained(model_id,\n",
    "#                                                 label2id=label2id,\n",
    "#                                                 id2label=id2label,\n",
    "#                                                 ignore_mismatched_sizes = True, # provide this in case you're planning to fine-tune an already fine-tuned checkpoint\n",
    "#)\n",
    "\n",
    "\n"
   ]
  },
  {
   "cell_type": "markdown",
   "id": "b6b3e17f-979c-47ca-bad5-76f087d1b333",
   "metadata": {},
   "source": [
    "The warning is telling us we are throwing away some weights (the weights and bias of the classifier layer) and randomly initializing some other (the weights and bias of a new classifier layer). This is expected in this case, because we are adding a new head for which we don't have pretrained weights, so the library warns us we should fine-tune this model before using it for inference, which is exactly what we are going to do."
   ]
  },
  {
   "cell_type": "markdown",
   "id": "6fc7ce9b-a0f0-4f10-90a1-77b8e5613dd1",
   "metadata": {},
   "source": [
    "To instantiate a Trainer, we will need to define the training configuration and the evaluation metric. The most important is the TrainingArguments, which is a class that contains all the attributes to customize the training. It requires one folder name, which will be used to save the checkpoints of the model.\n",
    "\n",
    "Most of the training arguments are pretty self-explanatory, but one that is quite important here is remove_unused_columns=False. This one will drop any features not used by the model's call function. By default it's True because usually it's ideal to drop unused feature columns, making it easier to unpack inputs into the model's call function. But, in our case, we need the unused features ('image' in particular) in order to create 'pixel_values'."
   ]
  },
  {
   "cell_type": "code",
   "execution_count": 11,
   "id": "ede566e3-36e9-473d-baeb-30b0c2cf2ee7",
   "metadata": {},
   "outputs": [],
   "source": [
    "model_name = model_id.split(\"/\")[-1]\n",
    "batch_size = 32\n",
    "learning_rate = 5e-5\n",
    "gradient_accumulation_steps = 4\n",
    "epochs = 3\n",
    "warmup_ratio= 0.1\n",
    "logging_steps=10\n",
    "\n",
    "args = TrainingArguments(\n",
    "    f\"{model_name}-finetuned-ds\",\n",
    "    remove_unused_columns=False,\n",
    "    evaluation_strategy = \"epoch\",\n",
    "    save_strategy = \"epoch\",\n",
    "    learning_rate=learning_rate,\n",
    "    per_device_train_batch_size=batch_size,\n",
    "    gradient_accumulation_steps=gradient_accumulation_steps,\n",
    "    per_device_eval_batch_size=batch_size,\n",
    "    num_train_epochs=epochs,\n",
    "    warmup_ratio=warmup_ratio,\n",
    "    logging_steps=logging_steps,\n",
    "    load_best_model_at_end=True,\n",
    "    metric_for_best_model=\"accuracy\",\n",
    "   # push_to_hub=True,\n",
    ")"
   ]
  },
  {
   "cell_type": "markdown",
   "id": "0f1464cb-4b0a-4621-b65a-6056e36cad1c",
   "metadata": {},
   "source": [
    "Next, we need to define a function for how to compute the metrics from the predictions, which will just use the metric we loaded earlier. Let us also load the Accuracy metric, which we'll use to evaluate our model both during and after training. The only preprocessing we have to do is to take the argmax of our predicted logits:"
   ]
  },
  {
   "cell_type": "code",
   "execution_count": 12,
   "id": "be8d4103-623c-41be-816f-71aba0fad059",
   "metadata": {},
   "outputs": [],
   "source": [
    "import numpy as np\n",
    "\n",
    "from datasets import load_metric\n",
    "\n",
    "metric = load_metric(\"accuracy\")\n",
    "\n",
    "# the compute_metrics function takes a Named Tuple as input:\n",
    "# predictions, which are the logits of the model as Numpy arrays,\n",
    "# and label_ids, which are the ground-truth labels as Numpy arrays.\n",
    "def compute_metrics(eval_pred):\n",
    "    \"\"\"Computes accuracy on a batch of predictions\"\"\"\n",
    "    predictions = np.argmax(eval_pred.predictions, axis=1)\n",
    "    return metric.compute(predictions=predictions, references=eval_pred.label_ids)"
   ]
  },
  {
   "cell_type": "markdown",
   "id": "96a2b985-b913-4849-b3f4-2fdbe77fe455",
   "metadata": {},
   "source": [
    "We also define a collate_fn, which will be used to batch examples together. Each batch consists of 2 keys, namely pixel_values and labels."
   ]
  },
  {
   "cell_type": "code",
   "execution_count": 13,
   "id": "649a749c-d111-47f8-807b-0ba04b53d2a6",
   "metadata": {},
   "outputs": [],
   "source": [
    "import torch\n",
    "\n",
    "def collate_fn(examples):\n",
    "    pixel_values = torch.stack([example[\"pixel_values\"] for example in examples])\n",
    "    labels = torch.tensor([example[\"label\"] for example in examples])\n",
    "    return {\"pixel_values\": pixel_values, \"labels\": labels}"
   ]
  },
  {
   "cell_type": "markdown",
   "id": "4b265339-7eec-44e3-8c38-1ce884527253",
   "metadata": {},
   "source": [
    "Then we just need to pass all of this along with our datasets to the Trainer:"
   ]
  },
  {
   "cell_type": "code",
   "execution_count": 14,
   "id": "5780f1c8-20f9-4694-b90a-099b5b02a3ac",
   "metadata": {},
   "outputs": [],
   "source": [
    "trainer = Trainer(\n",
    "    model,\n",
    "    args,\n",
    "    train_dataset=train_ds,\n",
    "    eval_dataset=val_ds,\n",
    "    tokenizer=feature_extractor,\n",
    "    compute_metrics=compute_metrics,\n",
    "    data_collator=collate_fn,\n",
    ")"
   ]
  },
  {
   "cell_type": "markdown",
   "id": "9c9bc7b0-35ce-496f-a8ef-27f59326e421",
   "metadata": {},
   "source": [
    "Now we can finetune our model by calling the train method:"
   ]
  },
  {
   "cell_type": "code",
   "execution_count": 15,
   "id": "9afe1d3f-c7e2-47a8-9411-5d8509d89f75",
   "metadata": {},
   "outputs": [
    {
     "name": "stderr",
     "output_type": "stream",
     "text": [
      "/home/studio-lab-user/.conda/envs/PRUEBA/lib/python3.9/site-packages/transformers/optimization.py:306: FutureWarning: This implementation of AdamW is deprecated and will be removed in a future version. Use the PyTorch implementation torch.optim.AdamW instead, or set `no_deprecation_warning=True` to disable this warning\n",
      "  warnings.warn(\n",
      "***** Running training *****\n",
      "  Num examples = 2050\n",
      "  Num Epochs = 3\n",
      "  Instantaneous batch size per device = 32\n",
      "  Total train batch size (w. parallel, distributed & accumulation) = 128\n",
      "  Gradient Accumulation steps = 4\n",
      "  Total optimization steps = 48\n"
     ]
    },
    {
     "data": {
      "text/html": [
       "\n",
       "    <div>\n",
       "      \n",
       "      <progress value='48' max='48' style='width:300px; height:20px; vertical-align: middle;'></progress>\n",
       "      [48/48 57:04, Epoch 2/3]\n",
       "    </div>\n",
       "    <table border=\"1\" class=\"dataframe\">\n",
       "  <thead>\n",
       " <tr style=\"text-align: left;\">\n",
       "      <th>Epoch</th>\n",
       "      <th>Training Loss</th>\n",
       "      <th>Validation Loss</th>\n",
       "      <th>Accuracy</th>\n",
       "    </tr>\n",
       "  </thead>\n",
       "  <tbody>\n",
       "    <tr>\n",
       "      <td>0</td>\n",
       "      <td>0.543000</td>\n",
       "      <td>0.041949</td>\n",
       "      <td>0.991228</td>\n",
       "    </tr>\n",
       "    <tr>\n",
       "      <td>1</td>\n",
       "      <td>0.044000</td>\n",
       "      <td>0.067118</td>\n",
       "      <td>0.986842</td>\n",
       "    </tr>\n",
       "    <tr>\n",
       "      <td>2</td>\n",
       "      <td>0.029700</td>\n",
       "      <td>0.015786</td>\n",
       "      <td>0.995614</td>\n",
       "    </tr>\n",
       "  </tbody>\n",
       "</table><p>"
      ],
      "text/plain": [
       "<IPython.core.display.HTML object>"
      ]
     },
     "metadata": {},
     "output_type": "display_data"
    },
    {
     "name": "stderr",
     "output_type": "stream",
     "text": [
      "***** Running Evaluation *****\n",
      "  Num examples = 228\n",
      "  Batch size = 32\n",
      "Saving model checkpoint to deit-base-patch16-224-finetuned-ds/checkpoint-16\n",
      "Configuration saved in deit-base-patch16-224-finetuned-ds/checkpoint-16/config.json\n",
      "Model weights saved in deit-base-patch16-224-finetuned-ds/checkpoint-16/pytorch_model.bin\n",
      "Feature extractor saved in deit-base-patch16-224-finetuned-ds/checkpoint-16/preprocessor_config.json\n",
      "***** Running Evaluation *****\n",
      "  Num examples = 228\n",
      "  Batch size = 32\n",
      "Saving model checkpoint to deit-base-patch16-224-finetuned-ds/checkpoint-32\n",
      "Configuration saved in deit-base-patch16-224-finetuned-ds/checkpoint-32/config.json\n",
      "Model weights saved in deit-base-patch16-224-finetuned-ds/checkpoint-32/pytorch_model.bin\n",
      "Feature extractor saved in deit-base-patch16-224-finetuned-ds/checkpoint-32/preprocessor_config.json\n",
      "***** Running Evaluation *****\n",
      "  Num examples = 228\n",
      "  Batch size = 32\n",
      "Saving model checkpoint to deit-base-patch16-224-finetuned-ds/checkpoint-48\n",
      "Configuration saved in deit-base-patch16-224-finetuned-ds/checkpoint-48/config.json\n",
      "Model weights saved in deit-base-patch16-224-finetuned-ds/checkpoint-48/pytorch_model.bin\n",
      "Feature extractor saved in deit-base-patch16-224-finetuned-ds/checkpoint-48/preprocessor_config.json\n",
      "\n",
      "\n",
      "Training completed. Do not forget to share your model on huggingface.co/models =)\n",
      "\n",
      "\n",
      "Loading best model from deit-base-patch16-224-finetuned-ds/checkpoint-48 (score: 0.9956140350877193).\n"
     ]
    }
   ],
   "source": [
    "train_results = trainer.train()\n"
   ]
  },
  {
   "cell_type": "code",
   "execution_count": 16,
   "id": "70610cf9-8570-4b37-b43c-bdc964a2c8e6",
   "metadata": {},
   "outputs": [
    {
     "name": "stderr",
     "output_type": "stream",
     "text": [
      "***** Running Evaluation *****\n",
      "  Num examples = 228\n",
      "  Batch size = 32\n"
     ]
    },
    {
     "data": {
      "text/html": [
       "\n",
       "    <div>\n",
       "      \n",
       "      <progress value='21' max='8' style='width:300px; height:20px; vertical-align: middle;'></progress>\n",
       "      [8/8 01:42]\n",
       "    </div>\n",
       "    "
      ],
      "text/plain": [
       "<IPython.core.display.HTML object>"
      ]
     },
     "metadata": {},
     "output_type": "display_data"
    },
    {
     "name": "stdout",
     "output_type": "stream",
     "text": [
      "***** eval metrics *****\n",
      "  epoch                   =       2.98\n",
      "  eval_accuracy           =     0.9956\n",
      "  eval_loss               =     0.0158\n",
      "  eval_runtime            = 0:00:39.39\n",
      "  eval_samples_per_second =      5.787\n",
      "  eval_steps_per_second   =      0.203\n"
     ]
    }
   ],
   "source": [
    "\n",
    "metrics = trainer.evaluate()\n",
    "# some nice to haves:\n",
    "trainer.log_metrics(\"eval\", metrics)\n",
    "trainer.save_metrics(\"eval\", metrics)"
   ]
  },
  {
   "cell_type": "code",
   "execution_count": 17,
   "id": "43c9156b-84a2-4d28-875f-6c9796f41d46",
   "metadata": {},
   "outputs": [],
   "source": [
    "\n",
    "test_ds.set_transform(preprocess_val)"
   ]
  },
  {
   "cell_type": "code",
   "execution_count": 18,
   "id": "96167b9c-d84b-43c0-a85f-fae3ccf58ab0",
   "metadata": {},
   "outputs": [
    {
     "name": "stderr",
     "output_type": "stream",
     "text": [
      "***** Running Prediction *****\n",
      "  Num examples = 402\n",
      "  Batch size = 32\n"
     ]
    }
   ],
   "source": [
    "outputs = trainer.predict(test_ds)\n",
    "y_pred = outputs.predictions.argmax(1)"
   ]
  },
  {
   "cell_type": "code",
   "execution_count": 19,
   "id": "a35c48e8-a78e-47d1-85f8-97fc7a5c91c6",
   "metadata": {},
   "outputs": [
    {
     "data": {
      "text/plain": [
       "{'accuracy': 0.9975124378109452}"
      ]
     },
     "execution_count": 19,
     "metadata": {},
     "output_type": "execute_result"
    }
   ],
   "source": [
    "compute_metrics(outputs)"
   ]
  },
  {
   "cell_type": "code",
   "execution_count": 20,
   "id": "f847d7ab-5acd-454d-af4d-044049cab94e",
   "metadata": {},
   "outputs": [
    {
     "data": {
      "text/plain": [
       "PredictionOutput(predictions=array([[ 4.148796  , -4.167462  ],\n",
       "       [ 3.658933  , -3.4880943 ],\n",
       "       [ 3.283954  , -3.2831001 ],\n",
       "       [ 4.0868435 , -3.90652   ],\n",
       "       [ 3.8094563 , -3.662128  ],\n",
       "       [ 3.7494693 , -3.6988113 ],\n",
       "       [ 3.3639884 , -3.2553406 ],\n",
       "       [ 4.220401  , -4.193279  ],\n",
       "       [ 4.0539913 , -3.9597058 ],\n",
       "       [ 3.9227653 , -3.723905  ],\n",
       "       [ 4.020627  , -3.8361657 ],\n",
       "       [ 3.333314  , -3.2031024 ],\n",
       "       [-3.945611  ,  3.5687907 ],\n",
       "       [ 4.076576  , -4.0263295 ],\n",
       "       [ 4.0353007 , -3.9501772 ],\n",
       "       [ 3.7685938 , -3.73558   ],\n",
       "       [-4.3984194 ,  3.8869174 ],\n",
       "       [-4.1240993 ,  3.592553  ],\n",
       "       [ 4.0055294 , -3.9725828 ],\n",
       "       [-4.161559  ,  3.5935597 ],\n",
       "       [ 3.7628303 , -3.5891886 ],\n",
       "       [-3.5711894 ,  3.1101317 ],\n",
       "       [ 4.173137  , -4.053831  ],\n",
       "       [ 4.209029  , -4.0252967 ],\n",
       "       [ 4.3305974 , -4.198094  ],\n",
       "       [ 3.818408  , -3.6006825 ],\n",
       "       [ 3.898612  , -3.8268962 ],\n",
       "       [ 3.8870974 , -3.9090934 ],\n",
       "       [ 4.158643  , -4.040373  ],\n",
       "       [ 4.122925  , -4.1154175 ],\n",
       "       [-3.7547348 ,  3.3035264 ],\n",
       "       [ 3.886852  , -3.6985173 ],\n",
       "       [ 3.9804993 , -3.9429464 ],\n",
       "       [ 3.8270743 , -3.6519604 ],\n",
       "       [-2.3674357 ,  1.9502288 ],\n",
       "       [ 3.8892124 , -3.7190042 ],\n",
       "       [ 4.1303577 , -3.9882727 ],\n",
       "       [ 4.0659933 , -3.8461642 ],\n",
       "       [ 4.2909756 , -4.1093316 ],\n",
       "       [-3.4447255 ,  2.7236247 ],\n",
       "       [ 3.7923322 , -3.6145453 ],\n",
       "       [-2.450962  ,  2.0619068 ],\n",
       "       [-3.7716503 ,  3.4357953 ],\n",
       "       [ 3.9831233 , -3.9739182 ],\n",
       "       [-3.4925797 ,  3.1218655 ],\n",
       "       [ 3.8536456 , -3.7692952 ],\n",
       "       [ 3.6722293 , -3.615729  ],\n",
       "       [-3.7507927 ,  3.3369107 ],\n",
       "       [ 4.1543627 , -3.8377476 ],\n",
       "       [-4.297205  ,  3.8864114 ],\n",
       "       [-3.2987993 ,  2.9327905 ],\n",
       "       [ 3.9391813 , -3.7227447 ],\n",
       "       [ 4.2850013 , -4.0498223 ],\n",
       "       [ 4.2051044 , -4.1412034 ],\n",
       "       [ 4.0038023 , -3.8469348 ],\n",
       "       [ 4.221807  , -3.9036982 ],\n",
       "       [ 2.6831262 , -2.789496  ],\n",
       "       [-4.1481853 ,  3.8075838 ],\n",
       "       [ 3.9991097 , -3.9155197 ],\n",
       "       [ 1.2606883 , -1.3168851 ],\n",
       "       [ 3.8792782 , -3.6909795 ],\n",
       "       [-3.4120183 ,  2.9514148 ],\n",
       "       [-4.2321944 ,  3.9118223 ],\n",
       "       [ 4.112652  , -4.0507774 ],\n",
       "       [ 3.8030808 , -3.7063656 ],\n",
       "       [ 4.0943856 , -4.0012426 ],\n",
       "       [-3.6032257 ,  3.10982   ],\n",
       "       [ 4.0746737 , -3.8855257 ],\n",
       "       [ 4.0984774 , -3.8312395 ],\n",
       "       [ 4.1707773 , -4.197174  ],\n",
       "       [ 3.8251455 , -3.5706468 ],\n",
       "       [-2.8650148 ,  2.3328514 ],\n",
       "       [-3.8776608 ,  3.4026966 ],\n",
       "       [ 4.3479548 , -4.2193704 ],\n",
       "       [ 3.5674086 , -3.581829  ],\n",
       "       [ 3.8353214 , -3.6155114 ],\n",
       "       [-3.9678283 ,  3.6172395 ],\n",
       "       [-4.229301  ,  3.8078241 ],\n",
       "       [ 3.7559137 , -3.6062994 ],\n",
       "       [ 4.0717278 , -3.86595   ],\n",
       "       [ 3.7411003 , -3.5271173 ],\n",
       "       [ 4.368699  , -4.19913   ],\n",
       "       [ 3.9859486 , -3.859429  ],\n",
       "       [ 3.3797884 , -3.3905234 ],\n",
       "       [ 3.3616858 , -3.4385743 ],\n",
       "       [ 4.2202816 , -4.017455  ],\n",
       "       [ 4.158653  , -4.1186757 ],\n",
       "       [ 4.22316   , -4.1794434 ],\n",
       "       [ 4.306614  , -4.062854  ],\n",
       "       [ 3.3586888 , -3.3415976 ],\n",
       "       [ 4.211097  , -4.240224  ],\n",
       "       [ 3.846193  , -3.682002  ],\n",
       "       [ 4.046664  , -4.040982  ],\n",
       "       [ 3.7611365 , -3.5748997 ],\n",
       "       [ 3.8877723 , -3.707012  ],\n",
       "       [-4.3556123 ,  3.8550296 ],\n",
       "       [ 3.9806056 , -3.841259  ],\n",
       "       [ 3.5374665 , -3.4658318 ],\n",
       "       [-3.4802957 ,  3.14291   ],\n",
       "       [ 3.9006915 , -3.7451336 ],\n",
       "       [-4.0925617 ,  3.6434627 ],\n",
       "       [-3.8917956 ,  3.4119682 ],\n",
       "       [-3.8860126 ,  3.4373775 ],\n",
       "       [ 3.9013004 , -3.74079   ],\n",
       "       [ 3.873997  , -3.6682403 ],\n",
       "       [ 3.9230075 , -3.9503415 ],\n",
       "       [ 4.0150237 , -4.007166  ],\n",
       "       [-3.6964111 ,  3.4601927 ],\n",
       "       [ 3.9909987 , -3.8910828 ],\n",
       "       [ 3.9566693 , -3.911777  ],\n",
       "       [ 4.0427275 , -3.827117  ],\n",
       "       [ 3.8365574 , -3.7108438 ],\n",
       "       [ 3.917118  , -3.8903813 ],\n",
       "       [ 4.049818  , -3.87655   ],\n",
       "       [ 3.8038206 , -3.558796  ],\n",
       "       [ 4.195901  , -4.0817366 ],\n",
       "       [ 3.7546215 , -3.537317  ],\n",
       "       [-3.6757827 ,  3.2349067 ],\n",
       "       [-3.7355323 ,  3.3618975 ],\n",
       "       [ 3.8755732 , -3.7101514 ],\n",
       "       [ 3.9924133 , -3.709141  ],\n",
       "       [-3.6602445 ,  3.2905483 ],\n",
       "       [ 3.249034  , -2.965189  ],\n",
       "       [ 3.7519033 , -3.4831567 ],\n",
       "       [ 3.962656  , -3.8942041 ],\n",
       "       [ 3.7158933 , -3.5911431 ],\n",
       "       [ 3.5919266 , -3.475388  ],\n",
       "       [ 3.9656167 , -3.9601283 ],\n",
       "       [ 3.6971273 , -3.5450916 ],\n",
       "       [ 2.9725342 , -3.021537  ],\n",
       "       [-3.556137  ,  3.2015333 ],\n",
       "       [ 4.175825  , -4.001876  ],\n",
       "       [ 3.981915  , -3.8668997 ],\n",
       "       [ 3.9722195 , -3.8948843 ],\n",
       "       [ 4.0034685 , -3.947485  ],\n",
       "       [ 3.964222  , -3.9317746 ],\n",
       "       [-3.5988648 ,  3.135991  ],\n",
       "       [-3.782474  ,  3.359449  ],\n",
       "       [ 3.7218332 , -3.5557554 ],\n",
       "       [ 3.914569  , -3.5746682 ],\n",
       "       [ 3.9707303 , -3.7151904 ],\n",
       "       [ 3.7812486 , -3.6026611 ],\n",
       "       [-4.2386236 ,  3.7089233 ],\n",
       "       [ 3.897081  , -3.7187352 ],\n",
       "       [ 4.080881  , -3.8933945 ],\n",
       "       [ 3.3515728 , -3.3101292 ],\n",
       "       [-4.1238437 ,  3.6656682 ],\n",
       "       [ 4.2119775 , -4.174695  ],\n",
       "       [-4.2217693 ,  3.7046432 ],\n",
       "       [-3.8866138 ,  3.595943  ],\n",
       "       [ 3.8424633 , -3.8726172 ],\n",
       "       [ 4.160303  , -4.030429  ],\n",
       "       [-3.7227025 ,  3.4197721 ],\n",
       "       [-3.524951  ,  3.1554582 ],\n",
       "       [ 3.534164  , -3.378684  ],\n",
       "       [-3.9264972 ,  3.4640417 ],\n",
       "       [ 3.7710814 , -3.58337   ],\n",
       "       [-3.739532  ,  3.4801042 ],\n",
       "       [-3.4492426 ,  2.989098  ],\n",
       "       [ 4.210499  , -4.102182  ],\n",
       "       [-3.718741  ,  3.2429624 ],\n",
       "       [-4.1749506 ,  3.5033484 ],\n",
       "       [-3.1120496 ,  2.7870693 ],\n",
       "       [ 3.5930784 , -3.5081658 ],\n",
       "       [ 3.6542892 , -3.5005145 ],\n",
       "       [ 3.8816178 , -3.7419467 ],\n",
       "       [ 3.6386862 , -3.425265  ],\n",
       "       [ 4.0864835 , -3.8442001 ],\n",
       "       [ 3.3686948 , -3.334796  ],\n",
       "       [ 4.124388  , -3.9202557 ],\n",
       "       [ 3.4861093 , -3.406107  ],\n",
       "       [-4.2050514 ,  3.6820936 ],\n",
       "       [-3.8724532 ,  3.4019182 ],\n",
       "       [ 4.074911  , -4.0630336 ],\n",
       "       [ 4.1974993 , -4.0770636 ],\n",
       "       [ 3.9511304 , -3.737624  ],\n",
       "       [ 3.6380417 , -3.558949  ],\n",
       "       [-4.228153  ,  3.7627075 ],\n",
       "       [-4.171651  ,  3.5280948 ],\n",
       "       [-3.7942467 ,  3.5530272 ],\n",
       "       [-3.4545543 ,  3.0407543 ],\n",
       "       [-3.9241428 ,  3.554984  ],\n",
       "       [ 4.195453  , -4.2559414 ],\n",
       "       [-3.1053472 ,  2.9818645 ],\n",
       "       [ 3.8637748 , -3.530663  ],\n",
       "       [ 4.1530457 , -4.0753794 ],\n",
       "       [ 4.0642138 , -4.026619  ],\n",
       "       [-4.086585  ,  3.3950696 ],\n",
       "       [ 4.0354285 , -3.8822427 ],\n",
       "       [ 3.7959518 , -3.7373166 ],\n",
       "       [ 3.9047875 , -3.802486  ],\n",
       "       [-3.860154  ,  3.412194  ],\n",
       "       [-3.647076  ,  3.1062536 ],\n",
       "       [ 3.872005  , -4.0261297 ],\n",
       "       [ 4.078883  , -3.9659264 ],\n",
       "       [ 4.2111306 , -4.2239275 ],\n",
       "       [ 3.7845535 , -3.6582875 ],\n",
       "       [ 3.7901168 , -3.579309  ],\n",
       "       [ 4.0581527 , -3.827228  ],\n",
       "       [-3.7148142 ,  3.3142881 ],\n",
       "       [-3.7143726 ,  3.2419717 ],\n",
       "       [ 4.2099113 , -4.1019263 ],\n",
       "       [-3.9103527 ,  3.5183856 ],\n",
       "       [ 3.8823268 , -3.859694  ],\n",
       "       [ 2.6234088 , -2.617737  ],\n",
       "       [ 1.24382   , -1.5563443 ],\n",
       "       [ 3.8232112 , -3.7486212 ],\n",
       "       [ 4.205639  , -4.136821  ],\n",
       "       [ 3.9087405 , -3.8637624 ],\n",
       "       [ 3.8347955 , -3.720232  ],\n",
       "       [-3.6914678 ,  3.2759752 ],\n",
       "       [ 3.2369735 , -3.272118  ],\n",
       "       [-4.008326  ,  3.4967144 ],\n",
       "       [-3.8495417 ,  3.333121  ],\n",
       "       [ 3.9932103 , -3.7293625 ],\n",
       "       [ 3.836045  , -3.699099  ],\n",
       "       [ 4.175241  , -4.087493  ],\n",
       "       [ 3.866705  , -3.7594523 ],\n",
       "       [ 3.8264587 , -3.5751033 ],\n",
       "       [ 4.134748  , -4.1096134 ],\n",
       "       [-3.8960238 ,  3.582314  ],\n",
       "       [ 4.287432  , -4.1456456 ],\n",
       "       [ 3.948728  , -3.8449779 ],\n",
       "       [ 3.5989435 , -3.6233296 ],\n",
       "       [ 3.9863832 , -3.9905343 ],\n",
       "       [ 1.9387424 , -2.1195323 ],\n",
       "       [ 4.151324  , -3.9423857 ],\n",
       "       [ 4.095818  , -4.122876  ],\n",
       "       [ 3.902712  , -3.8562474 ],\n",
       "       [-3.1664615 ,  2.7897549 ],\n",
       "       [-3.7975678 ,  3.3904345 ],\n",
       "       [ 4.151825  , -4.0114512 ],\n",
       "       [ 3.491611  , -3.5085168 ],\n",
       "       [-2.6330876 ,  2.4121194 ],\n",
       "       [-3.8438458 ,  3.3879044 ],\n",
       "       [ 3.856515  , -3.930606  ],\n",
       "       [ 3.1198862 , -3.0330958 ],\n",
       "       [ 4.138967  , -4.014167  ],\n",
       "       [-1.3684778 ,  1.0539054 ],\n",
       "       [-4.410397  ,  3.9309049 ],\n",
       "       [ 4.0020175 , -3.8487773 ],\n",
       "       [ 4.293712  , -4.200304  ],\n",
       "       [-2.9885786 ,  2.5249333 ],\n",
       "       [ 3.9227245 , -3.8435287 ],\n",
       "       [ 3.6973467 , -3.478921  ],\n",
       "       [-3.6414108 ,  3.3132997 ],\n",
       "       [ 4.0027547 , -3.8378477 ],\n",
       "       [ 4.2020955 , -4.20129   ],\n",
       "       [ 3.69703   , -3.4963083 ],\n",
       "       [ 3.7949748 , -3.6390224 ],\n",
       "       [ 4.0590925 , -3.9819074 ],\n",
       "       [ 4.0710373 , -4.01233   ],\n",
       "       [ 3.7603984 , -3.552136  ],\n",
       "       [-3.5074584 ,  2.9770846 ],\n",
       "       [ 3.9339042 , -3.8768697 ],\n",
       "       [ 4.3223076 , -4.129831  ],\n",
       "       [-4.257269  ,  3.8239384 ],\n",
       "       [ 0.6110201 , -0.70445806],\n",
       "       [-4.2932386 ,  3.945128  ],\n",
       "       [ 3.9716334 , -3.7500105 ],\n",
       "       [ 3.8480444 , -3.703927  ],\n",
       "       [-3.0750341 ,  2.8010218 ],\n",
       "       [ 3.9285145 , -3.7657342 ],\n",
       "       [ 3.744167  , -3.6227794 ],\n",
       "       [-3.8640184 ,  3.4234521 ],\n",
       "       [ 4.2102365 , -4.065947  ],\n",
       "       [ 4.108675  , -3.9768763 ],\n",
       "       [ 3.889867  , -3.6987123 ],\n",
       "       [-0.9763751 ,  1.4148803 ],\n",
       "       [ 3.7373276 , -3.3911967 ],\n",
       "       [ 4.185268  , -4.0700245 ],\n",
       "       [ 4.1160927 , -3.986475  ],\n",
       "       [ 3.598822  , -3.4447706 ],\n",
       "       [ 3.943356  , -3.7958665 ],\n",
       "       [-3.996346  ,  3.627828  ],\n",
       "       [ 3.6717525 , -3.3636556 ],\n",
       "       [ 3.648245  , -3.4828832 ],\n",
       "       [ 3.5717063 , -3.347633  ],\n",
       "       [ 3.6510801 , -3.6843865 ],\n",
       "       [-2.7433128 ,  2.2750607 ],\n",
       "       [ 3.9152718 , -3.7077558 ],\n",
       "       [ 4.285725  , -4.1341004 ],\n",
       "       [ 4.060755  , -3.8773437 ],\n",
       "       [ 3.050245  , -2.8377948 ],\n",
       "       [ 4.066729  , -3.845128  ],\n",
       "       [ 3.9220812 , -3.743266  ],\n",
       "       [ 4.1563783 , -4.145525  ],\n",
       "       [ 0.14316416, -0.44354156],\n",
       "       [ 3.2117453 , -3.0779593 ],\n",
       "       [-4.2778425 ,  3.754673  ],\n",
       "       [ 4.38555   , -4.1866875 ],\n",
       "       [ 3.2561474 , -3.2129993 ],\n",
       "       [ 3.6663053 , -3.648541  ],\n",
       "       [ 3.9549866 , -3.8570828 ],\n",
       "       [ 4.1598654 , -4.116935  ],\n",
       "       [ 3.9206882 , -3.695299  ],\n",
       "       [ 4.015613  , -3.7223186 ],\n",
       "       [ 4.2168384 , -4.0950365 ],\n",
       "       [ 4.2471967 , -4.319765  ],\n",
       "       [ 3.9106574 , -3.9816897 ],\n",
       "       [ 4.08811   , -4.05749   ],\n",
       "       [ 4.0074887 , -3.9563124 ],\n",
       "       [ 4.2516665 , -4.0435143 ],\n",
       "       [ 3.9791908 , -3.6811967 ],\n",
       "       [ 4.0836773 , -3.9952693 ],\n",
       "       [-3.9732425 ,  3.5303473 ],\n",
       "       [ 3.6455793 , -3.7089577 ],\n",
       "       [ 3.3904457 , -3.3325374 ],\n",
       "       [-3.870308  ,  3.6229615 ],\n",
       "       [ 4.24497   , -3.9756231 ],\n",
       "       [-3.354444  ,  2.9155388 ],\n",
       "       [ 4.174804  , -4.182497  ],\n",
       "       [ 3.662943  , -3.6926997 ],\n",
       "       [ 3.981584  , -3.9814172 ],\n",
       "       [ 4.1934366 , -4.078247  ],\n",
       "       [ 4.208705  , -3.9834523 ],\n",
       "       [ 3.785849  , -3.6911907 ],\n",
       "       [-3.9190094 ,  3.3935351 ],\n",
       "       [ 3.4197788 , -3.183877  ],\n",
       "       [ 4.006416  , -3.8674297 ],\n",
       "       [ 4.076251  , -3.9640298 ],\n",
       "       [-3.6811335 ,  3.0405354 ],\n",
       "       [-3.8223007 ,  3.2216253 ],\n",
       "       [-3.6795607 ,  3.1974363 ],\n",
       "       [ 4.2801833 , -4.111348  ],\n",
       "       [ 3.9778595 , -4.0039053 ],\n",
       "       [ 4.1004095 , -4.012933  ],\n",
       "       [-3.826535  ,  3.5456047 ],\n",
       "       [ 4.285796  , -4.0799727 ],\n",
       "       [ 4.355754  , -4.193574  ],\n",
       "       [ 3.8949301 , -3.5806189 ],\n",
       "       [-3.901359  ,  3.463673  ],\n",
       "       [-3.5318341 ,  3.0886655 ],\n",
       "       [ 3.8693798 , -3.728195  ],\n",
       "       [-4.053544  ,  3.589186  ],\n",
       "       [-3.7911758 ,  3.255746  ],\n",
       "       [ 4.0967593 , -3.9864287 ],\n",
       "       [-3.6015975 ,  3.2493782 ],\n",
       "       [ 4.070979  , -3.8972523 ],\n",
       "       [-2.937808  ,  2.54723   ],\n",
       "       [ 4.062354  , -4.020832  ],\n",
       "       [ 3.117874  , -3.1664686 ],\n",
       "       [ 4.096656  , -3.9931512 ],\n",
       "       [-3.4092374 ,  3.1652355 ],\n",
       "       [ 3.9443288 , -3.7628446 ],\n",
       "       [-3.551428  ,  2.9561667 ],\n",
       "       [ 3.897243  , -3.7011046 ],\n",
       "       [ 4.321903  , -4.0434504 ],\n",
       "       [ 3.7610383 , -3.6243112 ],\n",
       "       [ 3.7735872 , -3.6608253 ],\n",
       "       [-3.835626  ,  3.4332817 ],\n",
       "       [-3.81285   ,  3.482987  ],\n",
       "       [-3.5231972 ,  3.087823  ],\n",
       "       [ 4.056467  , -3.783853  ],\n",
       "       [-3.6419554 ,  2.994048  ],\n",
       "       [-3.5713398 ,  3.2276764 ],\n",
       "       [ 2.0147767 , -2.2886827 ],\n",
       "       [-2.0281246 ,  2.091095  ],\n",
       "       [ 3.6770759 , -3.700214  ],\n",
       "       [ 3.8756614 , -3.6550066 ],\n",
       "       [ 3.3399243 , -3.0659437 ],\n",
       "       [ 3.6169572 , -3.3816361 ],\n",
       "       [ 4.3790345 , -4.169823  ],\n",
       "       [ 4.1040688 , -3.865697  ],\n",
       "       [-3.5553503 ,  3.3252702 ],\n",
       "       [-3.4789972 ,  3.141942  ],\n",
       "       [ 3.7892895 , -3.4871511 ],\n",
       "       [ 3.657565  , -3.576398  ],\n",
       "       [ 3.9971917 , -4.182619  ],\n",
       "       [ 3.5385303 , -3.4901776 ],\n",
       "       [ 4.1493406 , -4.0944223 ],\n",
       "       [ 4.1685863 , -3.9504578 ],\n",
       "       [ 4.0577035 , -3.8749523 ],\n",
       "       [-4.306309  ,  3.8505971 ],\n",
       "       [ 3.9416378 , -3.7412307 ],\n",
       "       [ 2.7955003 , -2.5429008 ],\n",
       "       [ 3.841482  , -3.6577682 ],\n",
       "       [ 4.0113115 , -3.904877  ],\n",
       "       [ 3.946546  , -3.7351117 ],\n",
       "       [ 4.0291753 , -3.8976026 ],\n",
       "       [ 3.7750216 , -3.6600654 ],\n",
       "       [ 4.1949854 , -4.0369773 ],\n",
       "       [ 3.0026891 , -2.8827107 ],\n",
       "       [ 3.6637635 , -3.45584   ],\n",
       "       [ 4.111327  , -3.8957744 ],\n",
       "       [-3.7501125 ,  3.2543788 ],\n",
       "       [ 3.7411833 , -3.552172  ],\n",
       "       [ 3.9963121 , -3.7970085 ],\n",
       "       [ 2.275436  , -2.4739857 ],\n",
       "       [-4.0829077 ,  3.537941  ],\n",
       "       [ 4.0232553 , -3.9468932 ],\n",
       "       [ 3.7670307 , -3.6938314 ],\n",
       "       [-4.0825934 ,  3.7585163 ],\n",
       "       [ 3.4867768 , -3.444157  ],\n",
       "       [-4.197777  ,  3.6315331 ],\n",
       "       [ 3.8197956 , -3.7964082 ],\n",
       "       [ 3.4983058 , -3.3200014 ],\n",
       "       [ 4.241154  , -4.270443  ],\n",
       "       [ 3.8498807 , -3.736501  ],\n",
       "       [ 4.013057  , -4.0155077 ],\n",
       "       [ 4.21898   , -4.0587025 ],\n",
       "       [ 3.687409  , -3.6104684 ]], dtype=float32), label_ids=array([0, 0, 0, 0, 0, 0, 0, 0, 0, 0, 0, 0, 1, 0, 0, 0, 1, 1, 0, 1, 0, 1,\n",
       "       0, 0, 0, 0, 0, 0, 0, 0, 1, 0, 0, 0, 1, 0, 0, 0, 0, 1, 0, 1, 1, 0,\n",
       "       1, 0, 0, 1, 0, 1, 1, 0, 0, 0, 0, 0, 0, 1, 0, 0, 0, 1, 1, 0, 0, 0,\n",
       "       1, 0, 0, 0, 0, 1, 1, 0, 0, 0, 1, 1, 0, 0, 0, 0, 0, 0, 0, 0, 0, 0,\n",
       "       0, 0, 0, 0, 0, 0, 0, 1, 0, 0, 1, 0, 1, 1, 1, 0, 0, 0, 0, 1, 0, 0,\n",
       "       0, 0, 0, 0, 0, 0, 0, 1, 1, 0, 0, 1, 0, 0, 0, 0, 0, 0, 0, 0, 1, 0,\n",
       "       0, 0, 0, 0, 1, 1, 0, 0, 0, 0, 1, 0, 0, 0, 1, 0, 1, 1, 0, 0, 1, 1,\n",
       "       0, 1, 0, 1, 1, 0, 1, 1, 1, 0, 0, 0, 0, 0, 0, 0, 0, 1, 1, 0, 0, 0,\n",
       "       0, 1, 1, 1, 1, 1, 0, 1, 0, 0, 0, 1, 0, 0, 0, 1, 1, 0, 0, 0, 0, 0,\n",
       "       0, 1, 1, 0, 1, 0, 0, 0, 0, 0, 0, 0, 1, 0, 1, 1, 0, 0, 0, 0, 0, 0,\n",
       "       1, 0, 0, 0, 0, 0, 0, 0, 0, 1, 1, 0, 0, 1, 1, 0, 0, 0, 0, 1, 0, 0,\n",
       "       1, 0, 0, 1, 0, 0, 0, 0, 0, 0, 0, 1, 0, 0, 1, 0, 1, 0, 0, 1, 0, 0,\n",
       "       1, 0, 0, 0, 1, 0, 0, 0, 0, 0, 1, 0, 0, 0, 0, 1, 0, 0, 0, 0, 0, 0,\n",
       "       0, 0, 0, 1, 0, 0, 0, 0, 0, 0, 0, 0, 0, 0, 0, 0, 0, 0, 0, 1, 0, 0,\n",
       "       1, 0, 1, 0, 0, 0, 0, 0, 0, 1, 0, 0, 0, 1, 1, 1, 0, 0, 0, 1, 0, 0,\n",
       "       0, 1, 1, 0, 1, 1, 0, 1, 0, 1, 0, 0, 0, 1, 0, 1, 0, 0, 0, 0, 1, 1,\n",
       "       1, 0, 1, 1, 0, 1, 0, 0, 0, 0, 0, 0, 1, 1, 0, 0, 0, 0, 0, 0, 0, 1,\n",
       "       0, 0, 0, 0, 0, 0, 0, 0, 0, 0, 0, 1, 0, 0, 0, 1, 0, 0, 1, 0, 1, 0,\n",
       "       0, 0, 0, 0, 0, 0]), metrics={'test_loss': 0.009366229176521301, 'test_accuracy': 0.9975124378109452, 'test_runtime': 69.0926, 'test_samples_per_second': 5.818, 'test_steps_per_second': 0.188})"
      ]
     },
     "execution_count": 20,
     "metadata": {},
     "output_type": "execute_result"
    }
   ],
   "source": [
    "outputs"
   ]
  },
  {
   "cell_type": "code",
   "execution_count": 21,
   "id": "3be0e585-96b2-44cd-8f32-4b037fcdfe17",
   "metadata": {},
   "outputs": [
    {
     "data": {
      "text/plain": [
       "array([0, 0, 0, 0, 0, 0, 0, 0, 0, 0, 0, 0, 1, 0, 0, 0, 1, 1, 0, 1, 0, 1,\n",
       "       0, 0, 0, 0, 0, 0, 0, 0, 1, 0, 0, 0, 1, 0, 0, 0, 0, 1, 0, 1, 1, 0,\n",
       "       1, 0, 0, 1, 0, 1, 1, 0, 0, 0, 0, 0, 0, 1, 0, 0, 0, 1, 1, 0, 0, 0,\n",
       "       1, 0, 0, 0, 0, 1, 1, 0, 0, 0, 1, 1, 0, 0, 0, 0, 0, 0, 0, 0, 0, 0,\n",
       "       0, 0, 0, 0, 0, 0, 0, 1, 0, 0, 1, 0, 1, 1, 1, 0, 0, 0, 0, 1, 0, 0,\n",
       "       0, 0, 0, 0, 0, 0, 0, 1, 1, 0, 0, 1, 0, 0, 0, 0, 0, 0, 0, 0, 1, 0,\n",
       "       0, 0, 0, 0, 1, 1, 0, 0, 0, 0, 1, 0, 0, 0, 1, 0, 1, 1, 0, 0, 1, 1,\n",
       "       0, 1, 0, 1, 1, 0, 1, 1, 1, 0, 0, 0, 0, 0, 0, 0, 0, 1, 1, 0, 0, 0,\n",
       "       0, 1, 1, 1, 1, 1, 0, 1, 0, 0, 0, 1, 0, 0, 0, 1, 1, 0, 0, 0, 0, 0,\n",
       "       0, 1, 1, 0, 1, 0, 0, 0, 0, 0, 0, 0, 1, 0, 1, 1, 0, 0, 0, 0, 0, 0,\n",
       "       1, 0, 0, 0, 0, 0, 0, 0, 0, 1, 1, 0, 0, 1, 1, 0, 0, 0, 1, 1, 0, 0,\n",
       "       1, 0, 0, 1, 0, 0, 0, 0, 0, 0, 0, 1, 0, 0, 1, 0, 1, 0, 0, 1, 0, 0,\n",
       "       1, 0, 0, 0, 1, 0, 0, 0, 0, 0, 1, 0, 0, 0, 0, 1, 0, 0, 0, 0, 0, 0,\n",
       "       0, 0, 0, 1, 0, 0, 0, 0, 0, 0, 0, 0, 0, 0, 0, 0, 0, 0, 0, 1, 0, 0,\n",
       "       1, 0, 1, 0, 0, 0, 0, 0, 0, 1, 0, 0, 0, 1, 1, 1, 0, 0, 0, 1, 0, 0,\n",
       "       0, 1, 1, 0, 1, 1, 0, 1, 0, 1, 0, 0, 0, 1, 0, 1, 0, 0, 0, 0, 1, 1,\n",
       "       1, 0, 1, 1, 0, 1, 0, 0, 0, 0, 0, 0, 1, 1, 0, 0, 0, 0, 0, 0, 0, 1,\n",
       "       0, 0, 0, 0, 0, 0, 0, 0, 0, 0, 0, 1, 0, 0, 0, 1, 0, 0, 1, 0, 1, 0,\n",
       "       0, 0, 0, 0, 0, 0])"
      ]
     },
     "execution_count": 21,
     "metadata": {},
     "output_type": "execute_result"
    }
   ],
   "source": [
    "y_pred"
   ]
  },
  {
   "cell_type": "code",
   "execution_count": 22,
   "id": "d68b7f8c-d3c7-44b5-8ea0-0a71ad0d0c2d",
   "metadata": {},
   "outputs": [
    {
     "data": {
      "text/plain": [
       "array([0, 0, 0, 0, 0, 0, 0, 0, 0, 0, 0, 0, 1, 0, 0, 0, 1, 1, 0, 1, 0, 1,\n",
       "       0, 0, 0, 0, 0, 0, 0, 0, 1, 0, 0, 0, 1, 0, 0, 0, 0, 1, 0, 1, 1, 0,\n",
       "       1, 0, 0, 1, 0, 1, 1, 0, 0, 0, 0, 0, 0, 1, 0, 0, 0, 1, 1, 0, 0, 0,\n",
       "       1, 0, 0, 0, 0, 1, 1, 0, 0, 0, 1, 1, 0, 0, 0, 0, 0, 0, 0, 0, 0, 0,\n",
       "       0, 0, 0, 0, 0, 0, 0, 1, 0, 0, 1, 0, 1, 1, 1, 0, 0, 0, 0, 1, 0, 0,\n",
       "       0, 0, 0, 0, 0, 0, 0, 1, 1, 0, 0, 1, 0, 0, 0, 0, 0, 0, 0, 0, 1, 0,\n",
       "       0, 0, 0, 0, 1, 1, 0, 0, 0, 0, 1, 0, 0, 0, 1, 0, 1, 1, 0, 0, 1, 1,\n",
       "       0, 1, 0, 1, 1, 0, 1, 1, 1, 0, 0, 0, 0, 0, 0, 0, 0, 1, 1, 0, 0, 0,\n",
       "       0, 1, 1, 1, 1, 1, 0, 1, 0, 0, 0, 1, 0, 0, 0, 1, 1, 0, 0, 0, 0, 0,\n",
       "       0, 1, 1, 0, 1, 0, 0, 0, 0, 0, 0, 0, 1, 0, 1, 1, 0, 0, 0, 0, 0, 0,\n",
       "       1, 0, 0, 0, 0, 0, 0, 0, 0, 1, 1, 0, 0, 1, 1, 0, 0, 0, 0, 1, 0, 0,\n",
       "       1, 0, 0, 1, 0, 0, 0, 0, 0, 0, 0, 1, 0, 0, 1, 0, 1, 0, 0, 1, 0, 0,\n",
       "       1, 0, 0, 0, 1, 0, 0, 0, 0, 0, 1, 0, 0, 0, 0, 1, 0, 0, 0, 0, 0, 0,\n",
       "       0, 0, 0, 1, 0, 0, 0, 0, 0, 0, 0, 0, 0, 0, 0, 0, 0, 0, 0, 1, 0, 0,\n",
       "       1, 0, 1, 0, 0, 0, 0, 0, 0, 1, 0, 0, 0, 1, 1, 1, 0, 0, 0, 1, 0, 0,\n",
       "       0, 1, 1, 0, 1, 1, 0, 1, 0, 1, 0, 0, 0, 1, 0, 1, 0, 0, 0, 0, 1, 1,\n",
       "       1, 0, 1, 1, 0, 1, 0, 0, 0, 0, 0, 0, 1, 1, 0, 0, 0, 0, 0, 0, 0, 1,\n",
       "       0, 0, 0, 0, 0, 0, 0, 0, 0, 0, 0, 1, 0, 0, 0, 1, 0, 0, 1, 0, 1, 0,\n",
       "       0, 0, 0, 0, 0, 0])"
      ]
     },
     "execution_count": 22,
     "metadata": {},
     "output_type": "execute_result"
    }
   ],
   "source": [
    "y_true = np.array(test_ds[:]['label'])\n",
    "y_true"
   ]
  },
  {
   "cell_type": "code",
   "execution_count": 23,
   "id": "dff4e6f8-4cbd-4725-bbdf-6ff1cbbae763",
   "metadata": {},
   "outputs": [
    {
     "data": {
      "text/plain": [
       "array([[292,   1],\n",
       "       [  0, 109]])"
      ]
     },
     "execution_count": 23,
     "metadata": {},
     "output_type": "execute_result"
    }
   ],
   "source": [
    "from sklearn.metrics import confusion_matrix\n",
    "confusion_matrix(y_true, y_pred)"
   ]
  },
  {
   "cell_type": "code",
   "execution_count": 24,
   "id": "efb58431-e3b8-4967-85bc-76a959e4d9b0",
   "metadata": {},
   "outputs": [
    {
     "data": {
      "text/plain": [
       "(array([238]),)"
      ]
     },
     "execution_count": 24,
     "metadata": {},
     "output_type": "execute_result"
    }
   ],
   "source": [
    "np.where(y_true!=y_pred)"
   ]
  },
  {
   "cell_type": "code",
   "execution_count": 26,
   "id": "e42676a9-08a3-4401-95df-7b0abbf6cce3",
   "metadata": {},
   "outputs": [
    {
     "data": {
      "text/plain": [
       "0"
      ]
     },
     "execution_count": 26,
     "metadata": {},
     "output_type": "execute_result"
    }
   ],
   "source": [
    "y_true[238]"
   ]
  },
  {
   "cell_type": "code",
   "execution_count": 27,
   "id": "dd43ab7d-bcc7-42de-8b49-833d313d9465",
   "metadata": {},
   "outputs": [
    {
     "data": {
      "text/plain": [
       "'gamma'"
      ]
     },
     "execution_count": 27,
     "metadata": {},
     "output_type": "execute_result"
    }
   ],
   "source": [
    "id2label[str(1)]"
   ]
  },
  {
   "cell_type": "code",
   "execution_count": 25,
   "id": "472cf39b-8a1e-4a75-9867-db5ea41e1279",
   "metadata": {},
   "outputs": [
    {
     "data": {
      "image/png": "[encoded data removed]",
      "text/plain": [
       "<PIL.JpegImagePlugin.JpegImageFile image mode=RGB size=288x288>"
      ]
     },
     "execution_count": 25,
     "metadata": {},
     "output_type": "execute_result"
    }
   ],
   "source": [
    "test_ds[238]['img']"
   ]
  },
  {
   "cell_type": "code",
   "execution_count": null,
   "id": "9f1ad9c5-a7f4-4fc6-b788-e50415770018",
   "metadata": {},
   "outputs": [],
   "source": []
  }
 ],
 "metadata": {
  "kernelspec": {
   "display_name": "PRUEBA:Python",
   "language": "python",
   "name": "conda-env-PRUEBA-py"
  },
  "language_info": {
   "codemirror_mode": {
    "name": "ipython",
    "version": 3
   },
   "file_extension": ".py",
   "mimetype": "text/x-python",
   "name": "python",
   "nbconvert_exporter": "python",
   "pygments_lexer": "ipython3",
   "version": "3.9.13"
  }
 },
 "nbformat": 4,
 "nbformat_minor": 5
}
