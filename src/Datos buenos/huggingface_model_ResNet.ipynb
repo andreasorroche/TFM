{
 "cells": [
  {
   "cell_type": "code",
   "execution_count": 1,
   "id": "882c7827-d492-48aa-8cb6-a77614297265",
   "metadata": {},
   "outputs": [],
   "source": [
    "#First, we choose the pretrained model to use \n",
    "\n",
    "#model_id = \"google/vit-base-patch16-224\"\n",
    "#model_id = 'microsoft/swin-tiny-patch4-window7-224'\n",
    "#model_id = 'facebook/deit-base-patch16-224'\n",
    "model_id = 'microsoft/resnet-50'"
   ]
  },
  {
   "cell_type": "markdown",
   "id": "0c1f530c-0b87-4a91-82f4-a60bf626cdb9",
   "metadata": {},
   "source": [
    "Now we load the feature extractor to process the image into a tensor."
   ]
  },
  {
   "cell_type": "code",
   "execution_count": 2,
   "id": "02cc9044-cb70-47c5-b31f-1657558d1df7",
   "metadata": {},
   "outputs": [
    {
     "name": "stderr",
     "output_type": "stream",
     "text": [
      "/home/studio-lab-user/.conda/envs/PRUEBA/lib/python3.9/site-packages/tqdm/auto.py:22: TqdmWarning: IProgress not found. Please update jupyter and ipywidgets. See https://ipywidgets.readthedocs.io/en/stable/user_install.html\n",
      "  from .autonotebook import tqdm as notebook_tqdm\n",
      "Downloading: 100%|██████████| 266/266 [00:00<00:00, 212kB/s]\n"
     ]
    }
   ],
   "source": [
    "from transformers import AutoFeatureExtractor, ViTFeatureExtractor\n",
    "feature_extractor = AutoFeatureExtractor.from_pretrained(model_id)\n",
    "#feature_extractor = ViTFeatureExtractor.from_pretrained(model_id)"
   ]
  },
  {
   "cell_type": "markdown",
   "id": "d4166d1c-1a73-4190-8e82-624200047301",
   "metadata": {},
   "source": [
    "This feature extractor will resize every image to the resolution that the model expects and normalize channels. "
   ]
  },
  {
   "cell_type": "markdown",
   "id": "0491140c-c230-4655-9f89-e005c4d3a426",
   "metadata": {},
   "source": [
    "We define 2 functions, one for training and one for validation, including resizing, center cropping and normalizing."
   ]
  },
  {
   "cell_type": "code",
   "execution_count": 3,
   "id": "fd82a8a4-462b-4f15-ab70-da22f3a57f3b",
   "metadata": {},
   "outputs": [],
   "source": [
    "from torchvision.transforms import (\n",
    "    CenterCrop,\n",
    "    Compose,\n",
    "    Normalize,\n",
    "    RandomResizedCrop,\n",
    "    Resize,\n",
    "    ToTensor,\n",
    ")\n",
    "\n",
    "normalize = Normalize(mean=feature_extractor.image_mean, std=feature_extractor.image_std)\n",
    "train_transforms = Compose(\n",
    "        [\n",
    "            RandomResizedCrop(feature_extractor.size),\n",
    "            ToTensor(),\n",
    "            normalize,\n",
    "        ]\n",
    "    )\n",
    "\n",
    "val_transforms = Compose(\n",
    "        [\n",
    "            Resize(feature_extractor.size),\n",
    "            CenterCrop(feature_extractor.size),\n",
    "            ToTensor(),\n",
    "            normalize,\n",
    "        ]\n",
    "    )\n",
    "\n",
    "def preprocess_train(example_batch):\n",
    "    \"\"\"Apply train_transforms across a batch.\"\"\"\n",
    "    example_batch[\"pixel_values\"] = [\n",
    "        train_transforms(image.convert(\"RGB\")) for image in example_batch[\"img\"]\n",
    "    ]\n",
    "    return example_batch\n",
    "\n",
    "def preprocess_val(example_batch):\n",
    "    \"\"\"Apply val_transforms across a batch.\"\"\"\n",
    "    example_batch[\"pixel_values\"] = [val_transforms(image.convert(\"RGB\")) for image in example_batch[\"img\"]]\n",
    "    return example_batch"
   ]
  },
  {
   "cell_type": "markdown",
   "id": "346a291a-fafd-4580-b8ca-a40b9a71640b",
   "metadata": {},
   "source": [
    "Next, we can preprocess our dataset by applying these functions."
   ]
  },
  {
   "cell_type": "code",
   "execution_count": 4,
   "id": "a9f48cb2-035f-4b64-844d-36911beb1f7e",
   "metadata": {},
   "outputs": [
    {
     "data": {
      "text/plain": [
       "DatasetDict({\n",
       "    train: Dataset({\n",
       "        features: ['img', 'label'],\n",
       "        num_rows: 2050\n",
       "    })\n",
       "    val: Dataset({\n",
       "        features: ['img', 'label'],\n",
       "        num_rows: 228\n",
       "    })\n",
       "    test: Dataset({\n",
       "        features: ['img', 'label'],\n",
       "        num_rows: 402\n",
       "    })\n",
       "})"
      ]
     },
     "execution_count": 4,
     "metadata": {},
     "output_type": "execute_result"
    }
   ],
   "source": [
    "#Load data\n",
    "import datasets\n",
    "from datasets import Dataset, DatasetDict, load_dataset, load_from_disk\n",
    "ds = load_from_disk('./data_dict_cut')\n",
    "ds"
   ]
  },
  {
   "cell_type": "code",
   "execution_count": 5,
   "id": "300c5553-6b86-4086-ad35-a15c5875c5d6",
   "metadata": {},
   "outputs": [],
   "source": [
    "# split up training into training + validation\n",
    "train_ds = ds['train']\n",
    "val_ds = ds['val']\n",
    "test_ds = ds['test']"
   ]
  },
  {
   "cell_type": "code",
   "execution_count": 6,
   "id": "256e4b28-52e6-4572-886a-a2aaaf814b9f",
   "metadata": {},
   "outputs": [
    {
     "name": "stdout",
     "output_type": "stream",
     "text": [
      "['proton', 'gamma']\n"
     ]
    }
   ],
   "source": [
    "#Classes names\n",
    "labels = train_ds.features[\"label\"].names\n",
    "print(labels)"
   ]
  },
  {
   "cell_type": "code",
   "execution_count": 7,
   "id": "97d151d8-791d-4eaf-ac20-0e22aab9454c",
   "metadata": {},
   "outputs": [
    {
     "name": "stderr",
     "output_type": "stream",
     "text": [
      "Parameter 'transform'=<function preprocess_train at 0x7f56017519d0> of the transform datasets.arrow_dataset.Dataset.set_format couldn't be hashed properly, a random hash was used instead. Make sure your transforms and parameters are serializable with pickle or dill for the dataset fingerprinting and caching to work. If you reuse this transform, the caching mechanism will consider it to be different from the previous calls and recompute everything. This warning is only showed once. Subsequent hashing failures won't be showed.\n"
     ]
    }
   ],
   "source": [
    "train_ds.set_transform(preprocess_train)\n",
    "val_ds.set_transform(preprocess_val)"
   ]
  },
  {
   "cell_type": "code",
   "execution_count": 8,
   "id": "cfc4ed91-ffab-4e6f-bf0e-e90db0e8b8a1",
   "metadata": {},
   "outputs": [
    {
     "data": {
      "text/plain": [
       "{'img': <PIL.JpegImagePlugin.JpegImageFile image mode=RGB size=288x288>,\n",
       " 'label': 0,\n",
       " 'pixel_values': tensor([[[ 2.2489,  2.2489,  2.2489,  ...,  2.2489,  2.2489,  2.2489],\n",
       "          [ 2.2489,  2.2489,  2.2489,  ...,  2.2489,  2.2489,  2.2489],\n",
       "          [ 2.2489,  2.2489,  2.2489,  ...,  2.2489,  2.2489,  2.2489],\n",
       "          ...,\n",
       "          [ 2.1804,  2.1804,  2.1804,  ...,  1.8037,  1.8550,  1.8893],\n",
       "          [ 1.8722,  1.8722,  1.8379,  ...,  1.7694,  1.8208,  1.8550],\n",
       "          [ 1.7009,  1.6838,  1.6495,  ...,  1.7523,  1.8037,  1.8208]],\n",
       " \n",
       "         [[ 2.4286,  2.4286,  2.4286,  ...,  2.4286,  2.4286,  2.4286],\n",
       "          [ 2.4286,  2.4286,  2.4286,  ...,  2.4286,  2.4286,  2.4286],\n",
       "          [ 2.4286,  2.4286,  2.4286,  ...,  2.4286,  2.4286,  2.4286],\n",
       "          ...,\n",
       "          [ 2.0784,  2.0784,  2.0784,  ..., -0.4951, -0.4426, -0.4076],\n",
       "          [ 1.6758,  1.6758,  1.6758,  ..., -0.5301, -0.4776, -0.4426],\n",
       "          [ 1.4307,  1.4307,  1.4482,  ..., -0.5476, -0.4951, -0.4776]],\n",
       " \n",
       "         [[ 2.6400,  2.6400,  2.6400,  ...,  2.6400,  2.6400,  2.6400],\n",
       "          [ 2.6400,  2.6400,  2.6400,  ...,  2.6400,  2.6400,  2.6400],\n",
       "          [ 2.6400,  2.6400,  2.6400,  ...,  2.6400,  2.6400,  2.6400],\n",
       "          ...,\n",
       "          [ 2.1694,  2.1868,  2.2043,  ..., -0.4101, -0.3753, -0.3578],\n",
       "          [ 1.7685,  1.7860,  1.8208,  ..., -0.4275, -0.4101, -0.3927],\n",
       "          [ 1.5245,  1.5420,  1.5942,  ..., -0.4450, -0.4275, -0.4101]]])}"
      ]
     },
     "execution_count": 8,
     "metadata": {},
     "output_type": "execute_result"
    }
   ],
   "source": [
    "train_ds[0]"
   ]
  },
  {
   "cell_type": "markdown",
   "id": "7ffaa161-cffe-4796-8012-91e66d879fd1",
   "metadata": {},
   "source": [
    "Now that our data is ready, we can download the pretrained model and fine-tune it. We use the modelViTForImageClassification.  "
   ]
  },
  {
   "cell_type": "code",
   "execution_count": 9,
   "id": "22aa812a-f91f-4b38-8b18-eab8d71163f7",
   "metadata": {},
   "outputs": [],
   "source": [
    "#We create a dictionary that maps a label name to an integer and vice versa. \n",
    "#The mapping will help the model recover the label name from the label number.\n",
    "\n",
    "label2id, id2label = dict(), dict()\n",
    "for i, label in enumerate(labels):\n",
    "    label2id[label] = str(i)\n",
    "    id2label[str(i)] = label"
   ]
  },
  {
   "cell_type": "code",
   "execution_count": 14,
   "id": "43fba3aa-f533-4ba3-ae49-a57b117002d0",
   "metadata": {},
   "outputs": [
    {
     "name": "stderr",
     "output_type": "stream",
     "text": [
      "Downloading: 100%|██████████| 67.9k/67.9k [00:00<00:00, 3.17MB/s]\n",
      "Downloading: 100%|██████████| 97.8M/97.8M [00:01<00:00, 73.5MB/s]\n",
      "Some weights of ResNetForImageClassification were not initialized from the model checkpoint at microsoft/resnet-50 and are newly initialized because the shapes did not match:\n",
      "- classifier.1.weight: found shape torch.Size([1000, 2048]) in the checkpoint and torch.Size([2, 2048]) in the model instantiated\n",
      "- classifier.1.bias: found shape torch.Size([1000]) in the checkpoint and torch.Size([2]) in the model instantiated\n",
      "You should probably TRAIN this model on a down-stream task to be able to use it for predictions and inference.\n"
     ]
    }
   ],
   "source": [
    "from transformers import ViTForImageClassification, SwinForImageClassification,ResNetForImageClassification, TrainingArguments, Trainer\n",
    "\n",
    "#model = ViTForImageClassification.from_pretrained(model_id,\n",
    "#                                                 label2id=label2id,\n",
    "#                                                 id2label=id2label,\n",
    "#                                                 ignore_mismatched_sizes = True, # provide this in case you're planning to fine-tune an already fine-tuned checkpoint\n",
    "#)\n",
    "\n",
    "#model = SwinForImageClassification.from_pretrained(model_id,\n",
    "#                                                 label2id=label2id,\n",
    "#                                                 id2label=id2label,\n",
    "#                                                 ignore_mismatched_sizes = True, # provide this in case you're planning to fine-tune an already fine-tuned checkpoint\n",
    "#) \n",
    "\n",
    "model = ResNetForImageClassification.from_pretrained(model_id,\n",
    "                                                 label2id=label2id,\n",
    "                                                 id2label=id2label,\n",
    "                                                 ignore_mismatched_sizes = True, # provide this in case you're planning to fine-tune an already fine-tuned checkpoint\n",
    ")"
   ]
  },
  {
   "cell_type": "markdown",
   "id": "b6b3e17f-979c-47ca-bad5-76f087d1b333",
   "metadata": {},
   "source": [
    "The warning is telling us we are throwing away some weights (the weights and bias of the classifier layer) and randomly initializing some other (the weights and bias of a new classifier layer). This is expected in this case, because we are adding a new head for which we don't have pretrained weights, so the library warns us we should fine-tune this model before using it for inference, which is exactly what we are going to do."
   ]
  },
  {
   "cell_type": "markdown",
   "id": "6fc7ce9b-a0f0-4f10-90a1-77b8e5613dd1",
   "metadata": {},
   "source": [
    "To instantiate a Trainer, we will need to define the training configuration and the evaluation metric. The most important is the TrainingArguments, which is a class that contains all the attributes to customize the training. It requires one folder name, which will be used to save the checkpoints of the model.\n",
    "\n",
    "Most of the training arguments are pretty self-explanatory, but one that is quite important here is remove_unused_columns=False. This one will drop any features not used by the model's call function. By default it's True because usually it's ideal to drop unused feature columns, making it easier to unpack inputs into the model's call function. But, in our case, we need the unused features ('image' in particular) in order to create 'pixel_values'."
   ]
  },
  {
   "cell_type": "code",
   "execution_count": 15,
   "id": "ede566e3-36e9-473d-baeb-30b0c2cf2ee7",
   "metadata": {},
   "outputs": [],
   "source": [
    "model_name = model_id.split(\"/\")[-1]\n",
    "batch_size = 32\n",
    "learning_rate = 5e-5\n",
    "gradient_accumulation_steps = 4\n",
    "epochs = 3\n",
    "warmup_ratio= 0.1\n",
    "logging_steps=10\n",
    "\n",
    "args = TrainingArguments(\n",
    "    f\"{model_name}-finetuned-ds\",\n",
    "    remove_unused_columns=False,\n",
    "    evaluation_strategy = \"epoch\",\n",
    "    save_strategy = \"epoch\",\n",
    "    learning_rate=learning_rate,\n",
    "    per_device_train_batch_size=batch_size,\n",
    "    gradient_accumulation_steps=gradient_accumulation_steps,\n",
    "    per_device_eval_batch_size=batch_size,\n",
    "    num_train_epochs=epochs,\n",
    "    warmup_ratio=warmup_ratio,\n",
    "    logging_steps=logging_steps,\n",
    "    load_best_model_at_end=True,\n",
    "    metric_for_best_model=\"accuracy\",\n",
    "   # push_to_hub=True,\n",
    ")"
   ]
  },
  {
   "cell_type": "markdown",
   "id": "0f1464cb-4b0a-4621-b65a-6056e36cad1c",
   "metadata": {},
   "source": [
    "Next, we need to define a function for how to compute the metrics from the predictions, which will just use the metric we loaded earlier. Let us also load the Accuracy metric, which we'll use to evaluate our model both during and after training. The only preprocessing we have to do is to take the argmax of our predicted logits:"
   ]
  },
  {
   "cell_type": "code",
   "execution_count": 16,
   "id": "be8d4103-623c-41be-816f-71aba0fad059",
   "metadata": {},
   "outputs": [],
   "source": [
    "import numpy as np\n",
    "\n",
    "from datasets import load_metric\n",
    "\n",
    "metric = load_metric(\"accuracy\")\n",
    "\n",
    "# the compute_metrics function takes a Named Tuple as input:\n",
    "# predictions, which are the logits of the model as Numpy arrays,\n",
    "# and label_ids, which are the ground-truth labels as Numpy arrays.\n",
    "def compute_metrics(eval_pred):\n",
    "    \"\"\"Computes accuracy on a batch of predictions\"\"\"\n",
    "    predictions = np.argmax(eval_pred.predictions, axis=1)\n",
    "    return metric.compute(predictions=predictions, references=eval_pred.label_ids)"
   ]
  },
  {
   "cell_type": "markdown",
   "id": "96a2b985-b913-4849-b3f4-2fdbe77fe455",
   "metadata": {},
   "source": [
    "We also define a collate_fn, which will be used to batch examples together. Each batch consists of 2 keys, namely pixel_values and labels."
   ]
  },
  {
   "cell_type": "code",
   "execution_count": 17,
   "id": "649a749c-d111-47f8-807b-0ba04b53d2a6",
   "metadata": {},
   "outputs": [],
   "source": [
    "import torch\n",
    "\n",
    "def collate_fn(examples):\n",
    "    pixel_values = torch.stack([example[\"pixel_values\"] for example in examples])\n",
    "    labels = torch.tensor([example[\"label\"] for example in examples])\n",
    "    return {\"pixel_values\": pixel_values, \"labels\": labels}"
   ]
  },
  {
   "cell_type": "markdown",
   "id": "4b265339-7eec-44e3-8c38-1ce884527253",
   "metadata": {},
   "source": [
    "Then we just need to pass all of this along with our datasets to the Trainer:"
   ]
  },
  {
   "cell_type": "code",
   "execution_count": 18,
   "id": "5780f1c8-20f9-4694-b90a-099b5b02a3ac",
   "metadata": {},
   "outputs": [],
   "source": [
    "trainer = Trainer(\n",
    "    model,\n",
    "    args,\n",
    "    train_dataset=train_ds,\n",
    "    eval_dataset=val_ds,\n",
    "    tokenizer=feature_extractor,\n",
    "    compute_metrics=compute_metrics,\n",
    "    data_collator=collate_fn,\n",
    ")"
   ]
  },
  {
   "cell_type": "markdown",
   "id": "9c9bc7b0-35ce-496f-a8ef-27f59326e421",
   "metadata": {},
   "source": [
    "Now we can finetune our model by calling the train method:"
   ]
  },
  {
   "cell_type": "code",
   "execution_count": 19,
   "id": "9afe1d3f-c7e2-47a8-9411-5d8509d89f75",
   "metadata": {},
   "outputs": [
    {
     "name": "stderr",
     "output_type": "stream",
     "text": [
      "/home/studio-lab-user/.conda/envs/PRUEBA/lib/python3.9/site-packages/transformers/optimization.py:306: FutureWarning: This implementation of AdamW is deprecated and will be removed in a future version. Use the PyTorch implementation torch.optim.AdamW instead, or set `no_deprecation_warning=True` to disable this warning\n",
      "  warnings.warn(\n",
      "***** Running training *****\n",
      "  Num examples = 2050\n",
      "  Num Epochs = 3\n",
      "  Instantaneous batch size per device = 32\n",
      "  Total train batch size (w. parallel, distributed & accumulation) = 128\n",
      "  Gradient Accumulation steps = 4\n",
      "  Total optimization steps = 48\n"
     ]
    },
    {
     "data": {
      "text/html": [
       "\n",
       "    <div>\n",
       "      \n",
       "      <progress value='48' max='48' style='width:300px; height:20px; vertical-align: middle;'></progress>\n",
       "      [48/48 26:51, Epoch 2/3]\n",
       "    </div>\n",
       "    <table border=\"1\" class=\"dataframe\">\n",
       "  <thead>\n",
       " <tr style=\"text-align: left;\">\n",
       "      <th>Epoch</th>\n",
       "      <th>Training Loss</th>\n",
       "      <th>Validation Loss</th>\n",
       "      <th>Accuracy</th>\n",
       "    </tr>\n",
       "  </thead>\n",
       "  <tbody>\n",
       "    <tr>\n",
       "      <td>0</td>\n",
       "      <td>0.679600</td>\n",
       "      <td>0.657536</td>\n",
       "      <td>0.728070</td>\n",
       "    </tr>\n",
       "    <tr>\n",
       "      <td>1</td>\n",
       "      <td>0.622700</td>\n",
       "      <td>0.622656</td>\n",
       "      <td>0.728070</td>\n",
       "    </tr>\n",
       "    <tr>\n",
       "      <td>2</td>\n",
       "      <td>0.624700</td>\n",
       "      <td>0.603353</td>\n",
       "      <td>0.728070</td>\n",
       "    </tr>\n",
       "  </tbody>\n",
       "</table><p>"
      ],
      "text/plain": [
       "<IPython.core.display.HTML object>"
      ]
     },
     "metadata": {},
     "output_type": "display_data"
    },
    {
     "name": "stderr",
     "output_type": "stream",
     "text": [
      "***** Running Evaluation *****\n",
      "  Num examples = 228\n",
      "  Batch size = 32\n",
      "Saving model checkpoint to resnet-50-finetuned-ds/checkpoint-16\n",
      "Configuration saved in resnet-50-finetuned-ds/checkpoint-16/config.json\n",
      "Model weights saved in resnet-50-finetuned-ds/checkpoint-16/pytorch_model.bin\n",
      "Feature extractor saved in resnet-50-finetuned-ds/checkpoint-16/preprocessor_config.json\n",
      "***** Running Evaluation *****\n",
      "  Num examples = 228\n",
      "  Batch size = 32\n",
      "Saving model checkpoint to resnet-50-finetuned-ds/checkpoint-32\n",
      "Configuration saved in resnet-50-finetuned-ds/checkpoint-32/config.json\n",
      "Model weights saved in resnet-50-finetuned-ds/checkpoint-32/pytorch_model.bin\n",
      "Feature extractor saved in resnet-50-finetuned-ds/checkpoint-32/preprocessor_config.json\n",
      "***** Running Evaluation *****\n",
      "  Num examples = 228\n",
      "  Batch size = 32\n",
      "Saving model checkpoint to resnet-50-finetuned-ds/checkpoint-48\n",
      "Configuration saved in resnet-50-finetuned-ds/checkpoint-48/config.json\n",
      "Model weights saved in resnet-50-finetuned-ds/checkpoint-48/pytorch_model.bin\n",
      "Feature extractor saved in resnet-50-finetuned-ds/checkpoint-48/preprocessor_config.json\n",
      "\n",
      "\n",
      "Training completed. Do not forget to share your model on huggingface.co/models =)\n",
      "\n",
      "\n",
      "Loading best model from resnet-50-finetuned-ds/checkpoint-16 (score: 0.7280701754385965).\n"
     ]
    }
   ],
   "source": [
    "train_results = trainer.train()\n"
   ]
  },
  {
   "cell_type": "code",
   "execution_count": 20,
   "id": "70610cf9-8570-4b37-b43c-bdc964a2c8e6",
   "metadata": {},
   "outputs": [
    {
     "name": "stderr",
     "output_type": "stream",
     "text": [
      "***** Running Evaluation *****\n",
      "  Num examples = 228\n",
      "  Batch size = 32\n"
     ]
    },
    {
     "data": {
      "text/html": [
       "\n",
       "    <div>\n",
       "      \n",
       "      <progress value='21' max='8' style='width:300px; height:20px; vertical-align: middle;'></progress>\n",
       "      [8/8 00:48]\n",
       "    </div>\n",
       "    "
      ],
      "text/plain": [
       "<IPython.core.display.HTML object>"
      ]
     },
     "metadata": {},
     "output_type": "display_data"
    },
    {
     "name": "stdout",
     "output_type": "stream",
     "text": [
      "***** eval metrics *****\n",
      "  epoch                   =       2.98\n",
      "  eval_accuracy           =     0.7281\n",
      "  eval_loss               =     0.6575\n",
      "  eval_runtime            = 0:00:18.36\n",
      "  eval_samples_per_second =     12.412\n",
      "  eval_steps_per_second   =      0.436\n"
     ]
    }
   ],
   "source": [
    "\n",
    "metrics = trainer.evaluate()\n",
    "# some nice to haves:\n",
    "trainer.log_metrics(\"eval\", metrics)\n",
    "trainer.save_metrics(\"eval\", metrics)"
   ]
  },
  {
   "cell_type": "code",
   "execution_count": 21,
   "id": "43c9156b-84a2-4d28-875f-6c9796f41d46",
   "metadata": {},
   "outputs": [],
   "source": [
    "\n",
    "test_ds.set_transform(preprocess_val)"
   ]
  },
  {
   "cell_type": "code",
   "execution_count": 22,
   "id": "96167b9c-d84b-43c0-a85f-fae3ccf58ab0",
   "metadata": {},
   "outputs": [
    {
     "name": "stderr",
     "output_type": "stream",
     "text": [
      "***** Running Prediction *****\n",
      "  Num examples = 402\n",
      "  Batch size = 32\n"
     ]
    }
   ],
   "source": [
    "outputs = trainer.predict(test_ds)\n",
    "y_pred = outputs.predictions.argmax(1)"
   ]
  },
  {
   "cell_type": "code",
   "execution_count": 23,
   "id": "a35c48e8-a78e-47d1-85f8-97fc7a5c91c6",
   "metadata": {},
   "outputs": [
    {
     "data": {
      "text/plain": [
       "{'accuracy': 0.7288557213930348}"
      ]
     },
     "execution_count": 23,
     "metadata": {},
     "output_type": "execute_result"
    }
   ],
   "source": [
    "compute_metrics(outputs)"
   ]
  },
  {
   "cell_type": "code",
   "execution_count": 24,
   "id": "f847d7ab-5acd-454d-af4d-044049cab94e",
   "metadata": {},
   "outputs": [
    {
     "data": {
      "text/plain": [
       "PredictionOutput(predictions=array([[ 7.73780793e-02, -1.12476796e-01],\n",
       "       [ 1.09268889e-01, -1.52451143e-01],\n",
       "       [ 8.39075893e-02, -6.37701899e-02],\n",
       "       [ 8.58538970e-02, -1.07397363e-01],\n",
       "       [ 1.21771477e-01, -7.28272647e-02],\n",
       "       [ 7.17547238e-02, -4.51459102e-02],\n",
       "       [ 9.37825069e-03, -1.31042555e-01],\n",
       "       [ 8.27188045e-02, -8.10401663e-02],\n",
       "       [ 6.50262833e-02, -1.31769314e-01],\n",
       "       [ 3.62734646e-02, -7.09352717e-02],\n",
       "       [ 7.29701668e-02, -1.13420218e-01],\n",
       "       [ 8.73838663e-02, -6.89674467e-02],\n",
       "       [ 6.41680211e-02, -6.62222877e-02],\n",
       "       [ 1.35265470e-01, -6.14006855e-02],\n",
       "       [ 5.60993180e-02, -8.21944475e-02],\n",
       "       [ 1.02933310e-01, -1.07396565e-01],\n",
       "       [ 9.58039686e-02, -1.90653384e-01],\n",
       "       [ 9.72029567e-02, -2.19756886e-01],\n",
       "       [ 4.21429649e-02, -1.09505095e-01],\n",
       "       [ 7.34182447e-03, -1.26007527e-01],\n",
       "       [ 4.98240367e-02, -1.29639894e-01],\n",
       "       [-1.89225413e-02, -7.11746514e-02],\n",
       "       [ 8.91918689e-02, -1.16414703e-01],\n",
       "       [ 2.55556032e-02, -9.60767642e-02],\n",
       "       [ 6.09108023e-02, -1.32773295e-01],\n",
       "       [ 5.75524867e-02, -1.01562865e-01],\n",
       "       [ 4.73938286e-02, -9.63216126e-02],\n",
       "       [ 4.41364720e-02, -5.74022084e-02],\n",
       "       [ 6.88228682e-02, -7.24181682e-02],\n",
       "       [ 1.25618428e-01, -1.03263095e-01],\n",
       "       [ 9.53313559e-02, -2.22460348e-02],\n",
       "       [ 2.57373787e-02, -7.55226612e-02],\n",
       "       [ 6.06503338e-02, -4.42298576e-02],\n",
       "       [ 8.06885138e-02, -6.98437840e-02],\n",
       "       [ 8.05035904e-02, -5.39025739e-02],\n",
       "       [ 1.70481041e-01, -8.80610049e-02],\n",
       "       [ 8.32305849e-02, -7.50083625e-02],\n",
       "       [ 8.03873613e-02, -8.55612531e-02],\n",
       "       [ 4.46796641e-02, -9.27252099e-02],\n",
       "       [ 5.98744713e-02, -1.10945299e-01],\n",
       "       [ 5.89335412e-02, -1.18537441e-01],\n",
       "       [ 9.57859159e-02, -9.62824076e-02],\n",
       "       [ 3.08276527e-03, -8.77318084e-02],\n",
       "       [ 5.57363629e-02, -1.12855032e-01],\n",
       "       [ 1.33777820e-02, -9.17883813e-02],\n",
       "       [ 8.08692425e-02, -1.15954816e-01],\n",
       "       [ 8.90200585e-02, -1.18716978e-01],\n",
       "       [ 1.22991689e-01, -4.83345725e-02],\n",
       "       [ 5.83258718e-02, -8.51368159e-02],\n",
       "       [ 6.45852685e-02, -1.64962858e-01],\n",
       "       [ 1.02786183e-01, -3.04715186e-02],\n",
       "       [ 2.55118608e-02, -4.44431379e-02],\n",
       "       [ 5.38937002e-03, -9.81184021e-02],\n",
       "       [ 8.44054893e-02, -9.23302397e-02],\n",
       "       [ 1.25672877e-01, -1.82572678e-01],\n",
       "       [ 8.89376029e-02, -9.39002335e-02],\n",
       "       [ 1.17893517e-01, -1.34805441e-01],\n",
       "       [ 5.87681867e-02, -1.91446081e-01],\n",
       "       [ 6.48521036e-02, -1.64460361e-01],\n",
       "       [ 1.09474897e-01, -1.28506556e-01],\n",
       "       [ 7.08853751e-02, -1.22986518e-01],\n",
       "       [ 1.05636284e-01, -1.14638418e-01],\n",
       "       [ 5.03820553e-02, -1.69466764e-01],\n",
       "       [ 6.13547079e-02, -1.33843392e-01],\n",
       "       [ 7.38894567e-02, -1.25006497e-01],\n",
       "       [ 3.71600688e-02, -8.65349844e-02],\n",
       "       [ 4.20635641e-02, -7.09310621e-02],\n",
       "       [ 5.72944432e-02, -7.02689290e-02],\n",
       "       [ 5.41640967e-02, -1.03020459e-01],\n",
       "       [ 6.22506924e-02, -7.93601573e-02],\n",
       "       [ 3.57026160e-02, -6.74686357e-02],\n",
       "       [ 1.00988641e-01, -7.58515894e-02],\n",
       "       [ 4.87561673e-02, -9.41896886e-02],\n",
       "       [ 8.39362592e-02, -1.22347131e-01],\n",
       "       [ 9.93105620e-02, -8.20668712e-02],\n",
       "       [ 2.75376309e-02, -8.35648254e-02],\n",
       "       [ 9.17606205e-02, -7.30111152e-02],\n",
       "       [ 7.20265210e-02, -1.32095546e-01],\n",
       "       [ 1.50419533e-01, -1.07176915e-01],\n",
       "       [ 6.07119836e-02, -1.33213922e-01],\n",
       "       [ 6.37504235e-02, -6.68257698e-02],\n",
       "       [ 1.18829757e-01, -1.17072508e-01],\n",
       "       [ 8.46548826e-02, -7.18671009e-02],\n",
       "       [ 7.08986372e-02, -9.74064544e-02],\n",
       "       [ 7.81909972e-02, -1.00415140e-01],\n",
       "       [-2.42791697e-03, -1.52643979e-01],\n",
       "       [ 7.86043555e-02, -8.14399794e-02],\n",
       "       [ 6.98822066e-02, -1.09862946e-01],\n",
       "       [ 1.05540097e-01, -1.49889395e-01],\n",
       "       [ 1.19935639e-01, -2.63696373e-01],\n",
       "       [ 1.88255552e-02, -7.03946501e-02],\n",
       "       [ 7.85768330e-02, -6.63664266e-02],\n",
       "       [-1.53945666e-03, -1.25961989e-01],\n",
       "       [ 6.21165596e-02, -1.05442002e-01],\n",
       "       [ 1.07357949e-02, -5.91210648e-02],\n",
       "       [ 3.75379547e-02, -1.74438193e-01],\n",
       "       [ 4.41146120e-02, -8.35869908e-02],\n",
       "       [ 7.46483877e-02, -1.18969172e-01],\n",
       "       [ 7.37759173e-02, -7.37905055e-02],\n",
       "       [ 5.29094636e-02, -1.52961344e-01],\n",
       "       [ 7.54095986e-02, -1.80965155e-01],\n",
       "       [ 1.14839658e-01, -1.22832656e-01],\n",
       "       [ 9.98483784e-03, -1.00232363e-01],\n",
       "       [ 3.45065854e-02, -8.72494727e-02],\n",
       "       [ 6.76720515e-02, -7.50747472e-02],\n",
       "       [ 8.40576962e-02, -2.25536302e-01],\n",
       "       [ 7.78136030e-02, -5.51719405e-02],\n",
       "       [ 5.54094501e-02, -4.85136583e-02],\n",
       "       [ 7.94112310e-02, -1.01624265e-01],\n",
       "       [ 1.26917779e-01, -1.10840574e-01],\n",
       "       [ 6.83851093e-02, -1.18218593e-01],\n",
       "       [ 5.67197502e-02, -6.31955415e-02],\n",
       "       [ 4.35720235e-02, -4.82141338e-02],\n",
       "       [ 1.13961637e-01, -1.48891270e-01],\n",
       "       [ 5.92283867e-02, -9.84854996e-02],\n",
       "       [ 4.14863899e-02, -1.34597942e-01],\n",
       "       [ 5.74553013e-02, -9.36536565e-02],\n",
       "       [ 1.11736849e-01, -3.04251090e-02],\n",
       "       [ 9.22576338e-02, -4.47398573e-02],\n",
       "       [ 9.05458778e-02, -4.59711514e-02],\n",
       "       [ 3.19673307e-02, -1.11722201e-01],\n",
       "       [ 1.04025126e-01, -6.99612200e-02],\n",
       "       [ 6.55991286e-02, -1.10815316e-01],\n",
       "       [ 5.84052317e-02, -7.43588060e-02],\n",
       "       [ 6.11179173e-02, -9.81101096e-02],\n",
       "       [ 7.05714375e-02, -7.18156248e-02],\n",
       "       [ 9.43326578e-03, -1.36839017e-01],\n",
       "       [ 7.16060922e-02, -1.52866080e-01],\n",
       "       [ 1.14474818e-01, -6.88225776e-02],\n",
       "       [ 4.82876375e-02, -1.34216696e-01],\n",
       "       [ 1.12142742e-01, -3.98296192e-02],\n",
       "       [ 9.98339355e-02, -9.40777287e-02],\n",
       "       [ 5.40118665e-02, -1.13361835e-01],\n",
       "       [ 1.22964144e-01, -9.55817252e-02],\n",
       "       [ 1.01255089e-01, -3.83821875e-02],\n",
       "       [ 1.35012686e-01, -6.31432831e-02],\n",
       "       [ 2.03860626e-02, -6.88970238e-02],\n",
       "       [ 8.67829546e-02, -1.17798686e-01],\n",
       "       [ 7.46003985e-02, -6.48998693e-02],\n",
       "       [ 7.91182518e-02, -8.39003250e-02],\n",
       "       [ 5.32533713e-02, -5.11814877e-02],\n",
       "       [ 1.02927566e-01, -9.36879963e-02],\n",
       "       [ 5.64910583e-02, -8.99425074e-02],\n",
       "       [ 9.87268463e-02, -1.31919980e-01],\n",
       "       [ 4.99291196e-02, -1.32356867e-01],\n",
       "       [ 2.78894491e-02, -9.53276604e-02],\n",
       "       [ 1.15977749e-01, -9.92773771e-02],\n",
       "       [ 6.55491501e-02, -1.35971978e-01],\n",
       "       [ 1.23683617e-01, -2.63982356e-01],\n",
       "       [ 1.01268403e-01, -4.01335098e-02],\n",
       "       [ 6.04633614e-02, -1.05287336e-01],\n",
       "       [ 9.00624841e-02, -1.42939016e-01],\n",
       "       [-2.79279649e-02, -1.07075043e-01],\n",
       "       [ 9.42119360e-02, -1.46489099e-01],\n",
       "       [ 6.44241944e-02, -1.03904083e-01],\n",
       "       [ 4.10531573e-02, -9.69268680e-02],\n",
       "       [ 4.41922843e-02, -8.55466723e-02],\n",
       "       [ 1.12808719e-01, -7.82251358e-02],\n",
       "       [ 7.31286258e-02, -7.54935220e-02],\n",
       "       [ 5.19507378e-02, -8.76052007e-02],\n",
       "       [ 7.43088424e-02, -8.95191729e-02],\n",
       "       [ 5.33014126e-02, -1.31291285e-01],\n",
       "       [ 1.55667346e-02, -8.22264701e-02],\n",
       "       [ 5.87947816e-02, -7.40039870e-02],\n",
       "       [ 3.13903391e-02, -2.56587416e-02],\n",
       "       [ 1.88130867e-02, -4.27027382e-02],\n",
       "       [ 5.87489977e-02, -9.02748182e-02],\n",
       "       [ 7.27964938e-02, -1.45076081e-01],\n",
       "       [ 5.31534776e-02, -1.22772247e-01],\n",
       "       [ 3.68204601e-02, -8.84269103e-02],\n",
       "       [ 9.74642932e-02, -5.14955223e-02],\n",
       "       [ 6.65248409e-02, -1.59709126e-01],\n",
       "       [ 1.22959800e-02, -1.51389390e-01],\n",
       "       [ 1.00835934e-01, -1.24785185e-01],\n",
       "       [ 3.39443311e-02, -9.72101390e-02],\n",
       "       [ 3.83065268e-02, -1.02880530e-01],\n",
       "       [ 4.06755880e-02, -7.85604268e-02],\n",
       "       [-9.05684009e-03, -1.04108192e-01],\n",
       "       [ 2.13606060e-02, -1.04174465e-01],\n",
       "       [ 7.27290958e-02, -1.72272846e-02],\n",
       "       [ 5.00705093e-02, -1.22645922e-01],\n",
       "       [ 2.20019370e-04, -1.22168869e-01],\n",
       "       [ 5.53906262e-02, -6.24503270e-02],\n",
       "       [ 7.16233552e-02, -1.32028699e-01],\n",
       "       [ 1.18936524e-01, -8.91990140e-02],\n",
       "       [ 2.28533335e-02, -4.78485376e-02],\n",
       "       [ 4.03033346e-02, -1.34685233e-01],\n",
       "       [ 3.63650583e-02, -1.38137922e-01],\n",
       "       [ 1.06035978e-01, -7.39531890e-02],\n",
       "       [ 5.85425608e-02, -1.29870087e-01],\n",
       "       [ 5.96775636e-02, -1.38136625e-01],\n",
       "       [ 3.74179259e-02, -9.79717895e-02],\n",
       "       [ 8.86908397e-02, -2.27944493e-01],\n",
       "       [ 8.25913399e-02, -1.30242243e-01],\n",
       "       [ 4.14655246e-02, -9.51327607e-02],\n",
       "       [ 9.04717520e-02, -8.73816833e-02],\n",
       "       [ 5.36057428e-02, -2.08716486e-02],\n",
       "       [ 5.93492016e-03, -6.85542375e-02],\n",
       "       [ 6.41189963e-02, -5.96699566e-02],\n",
       "       [ 4.13753130e-02, -1.03839330e-01],\n",
       "       [ 1.79626234e-02, -1.02152184e-01],\n",
       "       [ 6.50778860e-02, -7.25762397e-02],\n",
       "       [ 3.67060639e-02, -1.21835604e-01],\n",
       "       [ 1.45806000e-01, -1.26449853e-01],\n",
       "       [ 1.02977633e-01, -6.15596026e-02],\n",
       "       [ 2.10676380e-02, -1.35351568e-01],\n",
       "       [ 8.41307268e-02, -1.41807720e-01],\n",
       "       [ 1.17086843e-01, -9.05325189e-02],\n",
       "       [ 7.88399801e-02, -6.98217452e-02],\n",
       "       [ 2.39380337e-02, -9.58523825e-02],\n",
       "       [ 6.61311150e-02, -3.90704125e-02],\n",
       "       [ 3.46605927e-02, -7.92814195e-02],\n",
       "       [-3.06921732e-02, -1.71157464e-01],\n",
       "       [ 5.86729087e-02, -5.19433506e-02],\n",
       "       [ 7.41320476e-02, -4.02239300e-02],\n",
       "       [ 5.80924116e-02, -6.99119270e-02],\n",
       "       [ 8.22279453e-02, -1.49494961e-01],\n",
       "       [ 1.27797708e-01, -6.33854046e-02],\n",
       "       [ 1.04018986e-01, -8.62745717e-02],\n",
       "       [ 1.17764927e-01, -1.15047351e-01],\n",
       "       [ 6.48335442e-02, -1.07745286e-02],\n",
       "       [ 3.68359610e-02, -4.79060896e-02],\n",
       "       [ 6.13792129e-02, -9.51931998e-02],\n",
       "       [ 1.25897616e-01, -5.00658303e-02],\n",
       "       [ 1.22746721e-01, -2.49537930e-01],\n",
       "       [ 9.07905549e-02, -2.04897493e-01],\n",
       "       [ 4.25816700e-02, -7.06182793e-02],\n",
       "       [ 5.86529076e-02, -9.36311111e-02],\n",
       "       [ 9.21987295e-02, -1.25193819e-01],\n",
       "       [ 1.13696307e-02, -9.29018259e-02],\n",
       "       [ 6.53637722e-02, -2.42328160e-02],\n",
       "       [ 7.94549063e-02, -8.30197707e-02],\n",
       "       [ 1.23715043e-01, -1.83805436e-01],\n",
       "       [ 1.15566641e-01, -1.28766701e-01],\n",
       "       [ 1.14269570e-01, -1.73256502e-01],\n",
       "       [ 9.36181992e-02, -9.71151218e-02],\n",
       "       [ 4.69835252e-02, -4.36843224e-02],\n",
       "       [ 5.16427904e-02, -6.08384907e-02],\n",
       "       [ 1.17463216e-01, -1.74014434e-01],\n",
       "       [ 7.45651871e-02, -1.06623545e-01],\n",
       "       [ 7.04460666e-02, -7.93759078e-02],\n",
       "       [ 8.85592252e-02, -1.59352079e-01],\n",
       "       [ 1.23297855e-01, -9.84146744e-02],\n",
       "       [ 7.67913386e-02, -1.77710075e-02],\n",
       "       [ 1.18949026e-01, -9.27610621e-02],\n",
       "       [ 8.79534110e-02, -2.96743251e-02],\n",
       "       [ 2.83046253e-03, -5.97264022e-02],\n",
       "       [ 9.46682245e-02, -1.14392586e-01],\n",
       "       [ 9.43337604e-02, -8.31736401e-02],\n",
       "       [ 1.07821256e-01, -1.25538707e-01],\n",
       "       [ 7.11560100e-02, -1.04111157e-01],\n",
       "       [ 1.04824588e-01, -7.52927363e-02],\n",
       "       [ 9.08464491e-02, -1.22006729e-01],\n",
       "       [ 1.25877470e-01, -8.95412937e-02],\n",
       "       [ 9.00455713e-02, -8.64813477e-02],\n",
       "       [ 1.02891877e-01, -9.43951756e-02],\n",
       "       [ 1.00994796e-01, -1.87474281e-01],\n",
       "       [ 4.99848798e-02, -1.47628039e-01],\n",
       "       [ 6.77257627e-02, -1.35232598e-01],\n",
       "       [ 5.06573059e-02, -1.67246640e-01],\n",
       "       [ 6.72164708e-02, -9.98869389e-02],\n",
       "       [ 9.18620527e-02, -1.38590187e-01],\n",
       "       [ 4.71712947e-02, -7.46877939e-02],\n",
       "       [-2.89502051e-02, -1.48207515e-01],\n",
       "       [ 6.62670061e-02, -1.92630440e-02],\n",
       "       [ 5.97463399e-02, -8.86904523e-02],\n",
       "       [ 2.78099570e-02, -9.63793099e-02],\n",
       "       [ 6.59204647e-02, -1.33990243e-01],\n",
       "       [ 1.03479072e-01, -4.12587635e-02],\n",
       "       [ 1.91675778e-02, -4.65346500e-02],\n",
       "       [ 7.04746023e-02, -1.03782669e-01],\n",
       "       [ 4.39187437e-02, -8.33519921e-02],\n",
       "       [ 5.39302304e-02, -1.22698419e-01],\n",
       "       [ 3.91306989e-02, -1.42556757e-01],\n",
       "       [ 6.88937902e-02, -2.03474626e-01],\n",
       "       [ 5.17046675e-02, -4.72377278e-02],\n",
       "       [ 8.96071717e-02, -1.40399680e-01],\n",
       "       [ 7.27035925e-02, -1.91639289e-01],\n",
       "       [ 1.21734582e-01, -2.30648518e-01],\n",
       "       [ 1.07982978e-01, -7.02254176e-02],\n",
       "       [ 4.54894044e-02, -5.41996509e-02],\n",
       "       [ 9.10737962e-02, -1.05995059e-01],\n",
       "       [ 5.24164215e-02, -1.26740396e-01],\n",
       "       [ 8.89852941e-02, -1.35573789e-01],\n",
       "       [ 6.50528744e-02, -8.26022848e-02],\n",
       "       [ 7.46885985e-02, -1.17591500e-01],\n",
       "       [ 7.32275397e-02, -1.13027275e-01],\n",
       "       [ 1.43303871e-01, -7.07350820e-02],\n",
       "       [ 5.73259294e-02, -3.62761542e-02],\n",
       "       [ 8.35995078e-02, -1.95699498e-01],\n",
       "       [ 1.62716955e-01, -9.91657153e-02],\n",
       "       [ 3.37279104e-02, -9.57465321e-02],\n",
       "       [ 6.65462837e-02, -6.91058189e-02],\n",
       "       [ 1.19839981e-03, -1.13016345e-01],\n",
       "       [ 6.00918159e-02, -1.43627539e-01],\n",
       "       [ 5.04028089e-02, -9.80008543e-02],\n",
       "       [ 5.35291284e-02, -4.88241948e-02],\n",
       "       [ 4.08386402e-02, -7.30727687e-02],\n",
       "       [ 1.06094904e-01, -9.64264944e-02],\n",
       "       [ 1.07666790e-01, -1.55234024e-01],\n",
       "       [ 8.45775232e-02, -1.03478879e-01],\n",
       "       [ 3.29803005e-02, -8.01766068e-02],\n",
       "       [ 2.87316646e-02, -9.85155404e-02],\n",
       "       [ 7.88601488e-02, -1.17977351e-01],\n",
       "       [ 5.90097755e-02, -7.69351721e-02],\n",
       "       [ 2.50710677e-02, -1.38280958e-01],\n",
       "       [ 2.91495584e-02, -2.36705273e-01],\n",
       "       [ 5.16801812e-02, -6.23162687e-02],\n",
       "       [ 4.83120680e-02, -1.34596616e-01],\n",
       "       [ 3.01887169e-02, -6.36248067e-02],\n",
       "       [ 7.21921921e-02, -2.18738467e-02],\n",
       "       [ 3.02364659e-02, -2.23343521e-02],\n",
       "       [ 1.13643177e-01, -1.04078636e-01],\n",
       "       [ 8.96477848e-02, -1.58138245e-01],\n",
       "       [ 3.47670168e-04, -1.21067092e-01],\n",
       "       [ 1.23907119e-01, -1.96529955e-01],\n",
       "       [ 4.28514406e-02, -1.51650369e-01],\n",
       "       [ 1.16251543e-01, -1.43437609e-01],\n",
       "       [ 6.25617504e-02, -6.97427467e-02],\n",
       "       [ 1.93605125e-02, -1.26956642e-01],\n",
       "       [ 1.46273784e-02, -7.75892511e-02],\n",
       "       [-1.90456249e-02, -1.64654717e-01],\n",
       "       [ 1.00243546e-01, -1.04143769e-01],\n",
       "       [ 2.39443500e-02, -7.82734826e-02],\n",
       "       [ 5.99647537e-02, -1.11127615e-01],\n",
       "       [ 5.57961315e-02, -4.32984158e-02],\n",
       "       [ 9.94051993e-03, -7.01861084e-02],\n",
       "       [ 3.53871174e-02, -1.83154717e-01],\n",
       "       [ 6.18265718e-02, -9.47840661e-02],\n",
       "       [ 7.28546008e-02, -8.16510469e-02],\n",
       "       [ 1.00017622e-01, -1.15773067e-01],\n",
       "       [ 1.68354958e-01, -1.72354788e-01],\n",
       "       [ 6.92361966e-02, -5.09426296e-02],\n",
       "       [ 1.49219364e-01, -7.44161531e-02],\n",
       "       [ 4.74787243e-02, -1.77761778e-01],\n",
       "       [ 3.54883671e-02, -5.23685403e-02],\n",
       "       [ 3.16562876e-02, -3.67257968e-02],\n",
       "       [ 1.45764872e-01, -3.03872023e-02],\n",
       "       [ 6.39369413e-02, -8.31922293e-02],\n",
       "       [ 7.21210763e-02, -2.73459926e-02],\n",
       "       [ 9.18953270e-02, -4.64433767e-02],\n",
       "       [ 8.03689361e-02, -1.48707002e-01],\n",
       "       [ 8.06011409e-02, -1.17931306e-01],\n",
       "       [ 8.07587802e-02, -4.18405011e-02],\n",
       "       [ 1.24763317e-01, -6.68667927e-02],\n",
       "       [ 1.12600029e-01, -1.32412300e-01],\n",
       "       [ 8.31585303e-02, -5.84919155e-02],\n",
       "       [ 2.23882422e-02, -1.00868016e-01],\n",
       "       [ 8.14313814e-02, -7.21708015e-02],\n",
       "       [ 1.02300793e-01, -1.01230487e-01],\n",
       "       [ 6.48612976e-02, -2.28211135e-02],\n",
       "       [ 8.71858373e-02,  1.03013618e-02],\n",
       "       [ 2.20893435e-02, -1.38651699e-01],\n",
       "       [ 9.48649570e-02, -9.88287628e-02],\n",
       "       [ 6.04048744e-02, -4.74166572e-02],\n",
       "       [ 5.80755696e-02, -7.57096484e-02],\n",
       "       [ 3.36467400e-02, -1.29166842e-01],\n",
       "       [ 4.09486853e-02, -7.65264481e-02],\n",
       "       [ 1.12815276e-01, -1.60772786e-01],\n",
       "       [ 8.30670297e-02, -1.20386064e-01],\n",
       "       [ 3.44006270e-02, -1.71035007e-01],\n",
       "       [ 1.28267080e-01, -1.41319141e-01],\n",
       "       [ 5.78095131e-02, -6.69799075e-02],\n",
       "       [ 8.65061283e-02, -1.15677781e-01],\n",
       "       [ 4.24437933e-02, -7.68713132e-02],\n",
       "       [ 2.95890160e-02, -1.13159508e-01],\n",
       "       [ 1.53150894e-02, -8.92972797e-02],\n",
       "       [ 5.13744727e-02, -1.24979183e-01],\n",
       "       [ 2.91758440e-02, -5.47749996e-02],\n",
       "       [ 1.51415825e-01, -1.55792490e-01],\n",
       "       [ 8.18982646e-02, -7.49395192e-02],\n",
       "       [ 1.06819458e-01, -8.18935782e-02],\n",
       "       [ 7.50477910e-02, -1.34673357e-01],\n",
       "       [ 1.61941871e-02, -1.68555126e-01],\n",
       "       [ 5.00869751e-02, -7.25926906e-02],\n",
       "       [ 1.59593485e-03, -9.50540230e-02],\n",
       "       [ 1.09681346e-01, -2.95293033e-02],\n",
       "       [ 6.24986663e-02, -8.12193900e-02],\n",
       "       [ 9.62606743e-02, -1.03021905e-01],\n",
       "       [ 6.75174892e-02, -5.61652556e-02],\n",
       "       [ 5.12375906e-02, -1.62986919e-01],\n",
       "       [ 8.07804167e-02, -6.36411011e-02],\n",
       "       [ 1.05722034e-02, -1.41743094e-01],\n",
       "       [ 2.62592360e-02, -4.44836579e-02],\n",
       "       [ 8.30240250e-02, -1.51045129e-01],\n",
       "       [ 6.56267628e-02, -4.75944504e-02],\n",
       "       [ 1.30920067e-01, -2.07692422e-02],\n",
       "       [-5.07393852e-04, -1.07336745e-01],\n",
       "       [ 5.74002489e-02, -1.06367707e-01],\n",
       "       [ 6.33890033e-02, -1.78651437e-01],\n",
       "       [ 7.55092353e-02, -7.52057731e-02],\n",
       "       [ 6.90699220e-02, -7.98396766e-02],\n",
       "       [ 1.13165133e-01, -1.20870888e-01],\n",
       "       [ 7.42148757e-02, -1.08946286e-01],\n",
       "       [-1.15727503e-02, -1.24044999e-01],\n",
       "       [ 4.97243367e-02, -7.38267228e-02],\n",
       "       [ 1.00916602e-01, -8.04941356e-02],\n",
       "       [ 5.07336706e-02, -6.66865706e-02],\n",
       "       [ 5.20320907e-02, -7.08610415e-02],\n",
       "       [ 6.55181408e-02, -1.95165366e-01],\n",
       "       [ 6.30309805e-02, -8.92324150e-02],\n",
       "       [ 1.62402585e-01, -1.68400317e-01]], dtype=float32), label_ids=array([0, 0, 0, 0, 0, 0, 0, 0, 0, 0, 0, 0, 1, 0, 0, 0, 1, 1, 0, 1, 0, 1,\n",
       "       0, 0, 0, 0, 0, 0, 0, 0, 1, 0, 0, 0, 1, 0, 0, 0, 0, 1, 0, 1, 1, 0,\n",
       "       1, 0, 0, 1, 0, 1, 1, 0, 0, 0, 0, 0, 0, 1, 0, 0, 0, 1, 1, 0, 0, 0,\n",
       "       1, 0, 0, 0, 0, 1, 1, 0, 0, 0, 1, 1, 0, 0, 0, 0, 0, 0, 0, 0, 0, 0,\n",
       "       0, 0, 0, 0, 0, 0, 0, 1, 0, 0, 1, 0, 1, 1, 1, 0, 0, 0, 0, 1, 0, 0,\n",
       "       0, 0, 0, 0, 0, 0, 0, 1, 1, 0, 0, 1, 0, 0, 0, 0, 0, 0, 0, 0, 1, 0,\n",
       "       0, 0, 0, 0, 1, 1, 0, 0, 0, 0, 1, 0, 0, 0, 1, 0, 1, 1, 0, 0, 1, 1,\n",
       "       0, 1, 0, 1, 1, 0, 1, 1, 1, 0, 0, 0, 0, 0, 0, 0, 0, 1, 1, 0, 0, 0,\n",
       "       0, 1, 1, 1, 1, 1, 0, 1, 0, 0, 0, 1, 0, 0, 0, 1, 1, 0, 0, 0, 0, 0,\n",
       "       0, 1, 1, 0, 1, 0, 0, 0, 0, 0, 0, 0, 1, 0, 1, 1, 0, 0, 0, 0, 0, 0,\n",
       "       1, 0, 0, 0, 0, 0, 0, 0, 0, 1, 1, 0, 0, 1, 1, 0, 0, 0, 0, 1, 0, 0,\n",
       "       1, 0, 0, 1, 0, 0, 0, 0, 0, 0, 0, 1, 0, 0, 1, 0, 1, 0, 0, 1, 0, 0,\n",
       "       1, 0, 0, 0, 1, 0, 0, 0, 0, 0, 1, 0, 0, 0, 0, 1, 0, 0, 0, 0, 0, 0,\n",
       "       0, 0, 0, 1, 0, 0, 0, 0, 0, 0, 0, 0, 0, 0, 0, 0, 0, 0, 0, 1, 0, 0,\n",
       "       1, 0, 1, 0, 0, 0, 0, 0, 0, 1, 0, 0, 0, 1, 1, 1, 0, 0, 0, 1, 0, 0,\n",
       "       0, 1, 1, 0, 1, 1, 0, 1, 0, 1, 0, 0, 0, 1, 0, 1, 0, 0, 0, 0, 1, 1,\n",
       "       1, 0, 1, 1, 0, 1, 0, 0, 0, 0, 0, 0, 1, 1, 0, 0, 0, 0, 0, 0, 0, 1,\n",
       "       0, 0, 0, 0, 0, 0, 0, 0, 0, 0, 0, 1, 0, 0, 0, 1, 0, 0, 1, 0, 1, 0,\n",
       "       0, 0, 0, 0, 0, 0]), metrics={'test_loss': 0.6580907702445984, 'test_accuracy': 0.7288557213930348, 'test_runtime': 32.8927, 'test_samples_per_second': 12.222, 'test_steps_per_second': 0.395})"
      ]
     },
     "execution_count": 24,
     "metadata": {},
     "output_type": "execute_result"
    }
   ],
   "source": [
    "outputs"
   ]
  },
  {
   "cell_type": "code",
   "execution_count": 25,
   "id": "3be0e585-96b2-44cd-8f32-4b037fcdfe17",
   "metadata": {},
   "outputs": [
    {
     "data": {
      "text/plain": [
       "array([0, 0, 0, 0, 0, 0, 0, 0, 0, 0, 0, 0, 0, 0, 0, 0, 0, 0, 0, 0, 0, 0,\n",
       "       0, 0, 0, 0, 0, 0, 0, 0, 0, 0, 0, 0, 0, 0, 0, 0, 0, 0, 0, 0, 0, 0,\n",
       "       0, 0, 0, 0, 0, 0, 0, 0, 0, 0, 0, 0, 0, 0, 0, 0, 0, 0, 0, 0, 0, 0,\n",
       "       0, 0, 0, 0, 0, 0, 0, 0, 0, 0, 0, 0, 0, 0, 0, 0, 0, 0, 0, 0, 0, 0,\n",
       "       0, 0, 0, 0, 0, 0, 0, 0, 0, 0, 0, 0, 0, 0, 0, 0, 0, 0, 0, 0, 0, 0,\n",
       "       0, 0, 0, 0, 0, 0, 0, 0, 0, 0, 0, 0, 0, 0, 0, 0, 0, 0, 0, 0, 0, 0,\n",
       "       0, 0, 0, 0, 0, 0, 0, 0, 0, 0, 0, 0, 0, 0, 0, 0, 0, 0, 0, 0, 0, 0,\n",
       "       0, 0, 0, 0, 0, 0, 0, 0, 0, 0, 0, 0, 0, 0, 0, 0, 0, 0, 0, 0, 0, 0,\n",
       "       0, 0, 0, 0, 0, 0, 0, 0, 0, 0, 0, 0, 0, 0, 0, 0, 0, 0, 0, 0, 0, 0,\n",
       "       0, 0, 0, 0, 0, 0, 0, 0, 0, 0, 0, 0, 0, 0, 0, 0, 0, 0, 0, 0, 0, 0,\n",
       "       0, 0, 0, 0, 0, 0, 0, 0, 0, 0, 0, 0, 0, 0, 0, 0, 0, 0, 0, 0, 0, 0,\n",
       "       0, 0, 0, 0, 0, 0, 0, 0, 0, 0, 0, 0, 0, 0, 0, 0, 0, 0, 0, 0, 0, 0,\n",
       "       0, 0, 0, 0, 0, 0, 0, 0, 0, 0, 0, 0, 0, 0, 0, 0, 0, 0, 0, 0, 0, 0,\n",
       "       0, 0, 0, 0, 0, 0, 0, 0, 0, 0, 0, 0, 0, 0, 0, 0, 0, 0, 0, 0, 0, 0,\n",
       "       0, 0, 0, 0, 0, 0, 0, 0, 0, 0, 0, 0, 0, 0, 0, 0, 0, 0, 0, 0, 0, 0,\n",
       "       0, 0, 0, 0, 0, 0, 0, 0, 0, 0, 0, 0, 0, 0, 0, 0, 0, 0, 0, 0, 0, 0,\n",
       "       0, 0, 0, 0, 0, 0, 0, 0, 0, 0, 0, 0, 0, 0, 0, 0, 0, 0, 0, 0, 0, 0,\n",
       "       0, 0, 0, 0, 0, 0, 0, 0, 0, 0, 0, 0, 0, 0, 0, 0, 0, 0, 0, 0, 0, 0,\n",
       "       0, 0, 0, 0, 0, 0])"
      ]
     },
     "execution_count": 25,
     "metadata": {},
     "output_type": "execute_result"
    }
   ],
   "source": [
    "y_pred"
   ]
  },
  {
   "cell_type": "code",
   "execution_count": 26,
   "id": "d68b7f8c-d3c7-44b5-8ea0-0a71ad0d0c2d",
   "metadata": {},
   "outputs": [
    {
     "data": {
      "text/plain": [
       "array([0, 0, 0, 0, 0, 0, 0, 0, 0, 0, 0, 0, 1, 0, 0, 0, 1, 1, 0, 1, 0, 1,\n",
       "       0, 0, 0, 0, 0, 0, 0, 0, 1, 0, 0, 0, 1, 0, 0, 0, 0, 1, 0, 1, 1, 0,\n",
       "       1, 0, 0, 1, 0, 1, 1, 0, 0, 0, 0, 0, 0, 1, 0, 0, 0, 1, 1, 0, 0, 0,\n",
       "       1, 0, 0, 0, 0, 1, 1, 0, 0, 0, 1, 1, 0, 0, 0, 0, 0, 0, 0, 0, 0, 0,\n",
       "       0, 0, 0, 0, 0, 0, 0, 1, 0, 0, 1, 0, 1, 1, 1, 0, 0, 0, 0, 1, 0, 0,\n",
       "       0, 0, 0, 0, 0, 0, 0, 1, 1, 0, 0, 1, 0, 0, 0, 0, 0, 0, 0, 0, 1, 0,\n",
       "       0, 0, 0, 0, 1, 1, 0, 0, 0, 0, 1, 0, 0, 0, 1, 0, 1, 1, 0, 0, 1, 1,\n",
       "       0, 1, 0, 1, 1, 0, 1, 1, 1, 0, 0, 0, 0, 0, 0, 0, 0, 1, 1, 0, 0, 0,\n",
       "       0, 1, 1, 1, 1, 1, 0, 1, 0, 0, 0, 1, 0, 0, 0, 1, 1, 0, 0, 0, 0, 0,\n",
       "       0, 1, 1, 0, 1, 0, 0, 0, 0, 0, 0, 0, 1, 0, 1, 1, 0, 0, 0, 0, 0, 0,\n",
       "       1, 0, 0, 0, 0, 0, 0, 0, 0, 1, 1, 0, 0, 1, 1, 0, 0, 0, 0, 1, 0, 0,\n",
       "       1, 0, 0, 1, 0, 0, 0, 0, 0, 0, 0, 1, 0, 0, 1, 0, 1, 0, 0, 1, 0, 0,\n",
       "       1, 0, 0, 0, 1, 0, 0, 0, 0, 0, 1, 0, 0, 0, 0, 1, 0, 0, 0, 0, 0, 0,\n",
       "       0, 0, 0, 1, 0, 0, 0, 0, 0, 0, 0, 0, 0, 0, 0, 0, 0, 0, 0, 1, 0, 0,\n",
       "       1, 0, 1, 0, 0, 0, 0, 0, 0, 1, 0, 0, 0, 1, 1, 1, 0, 0, 0, 1, 0, 0,\n",
       "       0, 1, 1, 0, 1, 1, 0, 1, 0, 1, 0, 0, 0, 1, 0, 1, 0, 0, 0, 0, 1, 1,\n",
       "       1, 0, 1, 1, 0, 1, 0, 0, 0, 0, 0, 0, 1, 1, 0, 0, 0, 0, 0, 0, 0, 1,\n",
       "       0, 0, 0, 0, 0, 0, 0, 0, 0, 0, 0, 1, 0, 0, 0, 1, 0, 0, 1, 0, 1, 0,\n",
       "       0, 0, 0, 0, 0, 0])"
      ]
     },
     "execution_count": 26,
     "metadata": {},
     "output_type": "execute_result"
    }
   ],
   "source": [
    "y_true = np.array(test_ds[:]['label'])\n",
    "y_true"
   ]
  },
  {
   "cell_type": "code",
   "execution_count": 27,
   "id": "dff4e6f8-4cbd-4725-bbdf-6ff1cbbae763",
   "metadata": {},
   "outputs": [
    {
     "data": {
      "text/plain": [
       "array([[293,   0],\n",
       "       [109,   0]])"
      ]
     },
     "execution_count": 27,
     "metadata": {},
     "output_type": "execute_result"
    }
   ],
   "source": [
    "from sklearn.metrics import confusion_matrix\n",
    "confusion_matrix(y_true, y_pred)"
   ]
  },
  {
   "cell_type": "code",
   "execution_count": null,
   "id": "efb58431-e3b8-4967-85bc-76a959e4d9b0",
   "metadata": {},
   "outputs": [],
   "source": []
  },
  {
   "cell_type": "code",
   "execution_count": null,
   "id": "472cf39b-8a1e-4a75-9867-db5ea41e1279",
   "metadata": {},
   "outputs": [],
   "source": []
  }
 ],
 "metadata": {
  "kernelspec": {
   "display_name": "PRUEBA:Python",
   "language": "python",
   "name": "conda-env-PRUEBA-py"
  },
  "language_info": {
   "codemirror_mode": {
    "name": "ipython",
    "version": 3
   },
   "file_extension": ".py",
   "mimetype": "text/x-python",
   "name": "python",
   "nbconvert_exporter": "python",
   "pygments_lexer": "ipython3",
   "version": "3.9.13"
  }
 },
 "nbformat": 4,
 "nbformat_minor": 5
}
