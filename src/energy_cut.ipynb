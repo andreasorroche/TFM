{
 "cells": [
  {
   "cell_type": "markdown",
   "id": "3c4414d1-1baa-453c-91b5-94803c5068fc",
   "metadata": {},
   "source": [
    "We are going to select those events which have equivalent reconstructed energies."
   ]
  },
  {
   "cell_type": "code",
   "execution_count": 1,
   "id": "9bbc02b3-07e2-41ff-8f88-6b6f9de8150d",
   "metadata": {},
   "outputs": [],
   "source": [
    "##Libraries needed\n",
    "import numpy as np\n",
    "import pandas as pd\n",
    "import h5py \n",
    "import matplotlib.pyplot as plt\n",
    "import matplotlib as mpl\n",
    "import os"
   ]
  },
  {
   "cell_type": "markdown",
   "id": "16a848ad-c93c-44d9-b7fe-6a975c9d30c3",
   "metadata": {},
   "source": [
    "First, we take the gamma simulations and select events which have primary energy (E0) between [80 000; 120 000 ] GeV"
   ]
  },
  {
   "cell_type": "code",
   "execution_count": 2,
   "id": "50238b06-b982-4909-8219-5092a75d8dc3",
   "metadata": {},
   "outputs": [],
   "source": [
    "\n",
    "primary = \"gamma\"\n",
    "size = 560 #detector radius, area: 1km^2\n",
    "\n",
    "filename_train = \"photon_alt5200m_qgsii_fluka_r560m_3PMTs.h5\"\n",
    "particle = \"Gamma\"\n"
   ]
  },
  {
   "cell_type": "code",
   "execution_count": 3,
   "id": "74335e09-ddba-4046-88be-4f05d05d702e",
   "metadata": {},
   "outputs": [],
   "source": [
    "#Read data\n",
    "f = h5py.File(filename_train, mode = \"r\")\n",
    "\n",
    "group = f[\"data\"]\n",
    "\n",
    "#Read shower parameters\n",
    "InfoDF = pd.read_hdf(filename_train, key = \"info\")\n",
    "ID_showers = InfoDF.iloc[:,0].values\n",
    "E0_train = InfoDF.iloc[:,1].values\n",
    "theta0_train = InfoDF.iloc[:,2].values\n",
    "Nmuons_train = InfoDF.iloc[:,3].values\n",
    "\n",
    "#Read input for the algorithm\n",
    "#X_train: channel1 -> e.m. energy, channel2 -> particles, channel3 -> muons\n",
    "X_train = group[()]\n",
    "Y_train = InfoDF.iloc[:,-1].values\n",
    "\n",
    "\n",
    "#Close file\n",
    "f.close()"
   ]
  },
  {
   "cell_type": "code",
   "execution_count": 4,
   "id": "6a544f2a-2c89-455e-9bd9-7b48fc88c2e8",
   "metadata": {},
   "outputs": [],
   "source": [
    "#Energy threshold\n",
    "E_min = 80000 #min energy\n",
    "E_max = 120000 #max energy\n",
    "index_to_use = np.where((E0_train>E_min) & (E0_train<E_max))[0]\n",
    "data_thres = X_train[index_to_use,:,:]"
   ]
  },
  {
   "cell_type": "markdown",
   "id": "01dd7f5d-a4a7-4b96-997f-4a1346d1775b",
   "metadata": {},
   "source": [
    "For these events, we draw the histogram for the total signal at the ground"
   ]
  },
  {
   "cell_type": "code",
   "execution_count": 5,
   "id": "2c1c9682-0878-4610-9b22-cf5aacb17afb",
   "metadata": {},
   "outputs": [],
   "source": [
    "total_signal = []\n",
    "for i in range(len(data_thres)):\n",
    "    total_signal.append(np.sum(data_thres[i]))\n",
    "    "
   ]
  },
  {
   "cell_type": "code",
   "execution_count": 6,
   "id": "b0b1c9e1-e51c-4756-8a7e-bcfaa2c867f6",
   "metadata": {},
   "outputs": [
    {
     "data": {
      "text/plain": [
       "(array([129.,  40., 269., 193., 137.,  84.,  20.,   1.,   1.,   2.]),\n",
       " array([       0. ,  5887916.5, 11775833. , 17663750. , 23551666. ,\n",
       "        29439582. , 35327500. , 41215416. , 47103332. , 52991248. ,\n",
       "        58879164. ], dtype=float32),\n",
       " <BarContainer object of 10 artists>)"
      ]
     },
     "execution_count": 6,
     "metadata": {},
     "output_type": "execute_result"
    },
    {
     "data": {
      "image/png": "[encoded data removed]",
      "text/plain": [
       "<Figure size 432x288 with 1 Axes>"
      ]
     },
     "metadata": {
      "needs_background": "light"
     },
     "output_type": "display_data"
    }
   ],
   "source": [
    "plt.hist(total_signal)"
   ]
  },
  {
   "cell_type": "markdown",
   "id": "c3170c6b-4b09-4ce2-8289-2cd9733fdc15",
   "metadata": {},
   "source": [
    "We compute the mean value of this distribution (mean) and its standard deviation (sigma)"
   ]
  },
  {
   "cell_type": "code",
   "execution_count": 7,
   "id": "789863b9-79d1-4e52-955e-e9e36dbed842",
   "metadata": {},
   "outputs": [],
   "source": [
    "mean = np.mean(total_signal)"
   ]
  },
  {
   "cell_type": "code",
   "execution_count": 8,
   "id": "a569c572-b55c-40da-bddc-307025ea68ef",
   "metadata": {},
   "outputs": [
    {
     "data": {
      "text/plain": [
       "17973812.0"
      ]
     },
     "execution_count": 8,
     "metadata": {},
     "output_type": "execute_result"
    }
   ],
   "source": [
    "mean"
   ]
  },
  {
   "cell_type": "code",
   "execution_count": 9,
   "id": "52008df7-aeaf-4d4e-823f-d6f27ddb97b2",
   "metadata": {},
   "outputs": [],
   "source": [
    "sigma = np.std(total_signal)"
   ]
  },
  {
   "cell_type": "code",
   "execution_count": 10,
   "id": "21a8383c-2ced-44b4-be97-dc9156afe16d",
   "metadata": {},
   "outputs": [
    {
     "data": {
      "text/plain": [
       "9797628.0"
      ]
     },
     "execution_count": 10,
     "metadata": {},
     "output_type": "execute_result"
    }
   ],
   "source": [
    "sigma"
   ]
  },
  {
   "cell_type": "markdown",
   "id": "98a45c30-0810-49d7-955d-e339d8606ccb",
   "metadata": {},
   "source": [
    "We apply the following cut to this distribution S >= mean - sigma and S <= mean + sigma and select only gamma events that fulfil this cut"
   ]
  },
  {
   "cell_type": "code",
   "execution_count": null,
   "id": "e04ee1b8-55a1-419a-ad3a-fe63f6cd08ac",
   "metadata": {},
   "outputs": [],
   "source": [
    "values = []\n",
    "idx = []\n",
    "for i in range(len(total_signal)):\n",
    "    if ((total_signal[i] < mean+sigma) & (total_signal[i] > mean-sigma)):\n",
    "        values.append(total_signal[i])\n",
    "        idx.append(i)\n",
    "    "
   ]
  },
  {
   "cell_type": "code",
   "execution_count": 68,
   "id": "d84bb5f6-6afe-4657-8d1b-854c4a010054",
   "metadata": {},
   "outputs": [],
   "source": [
    "gamma_data = data_thres[idx]"
   ]
  },
  {
   "cell_type": "code",
   "execution_count": 72,
   "id": "89ec9fb4-edbb-42bd-a0ab-c1faf7468edc",
   "metadata": {},
   "outputs": [
    {
     "data": {
      "text/plain": [
       "602"
      ]
     },
     "execution_count": 72,
     "metadata": {},
     "output_type": "execute_result"
    }
   ],
   "source": [
    "len(gamma_data)"
   ]
  },
  {
   "cell_type": "markdown",
   "id": "8d0f1773-32e6-4c57-bd01-12fbc829daa3",
   "metadata": {},
   "source": [
    "We save this gamma data"
   ]
  },
  {
   "cell_type": "code",
   "execution_count": 71,
   "id": "b2483bb9-dac2-4b98-a12d-93624b5ac83e",
   "metadata": {},
   "outputs": [],
   "source": [
    "for i in range(len(gamma_data)):\n",
    "    fig = plt.figure(figsize=(4,4))\n",
    "    plt.imshow(gamma_data[i,:,:], alpha=0.8, cmap='Reds',norm=mpl.colors.LogNorm())\n",
    "    plt.axis('off')\n",
    "    filename = './data_thres/'+str(primary)+'/'+str(primary)+'_id'+str(i)+'.jpg'\n",
    "    plt.savefig(filename)\n",
    "    plt.close(fig)"
   ]
  },
  {
   "cell_type": "markdown",
   "id": "7a2b2113-15e6-4eea-b7f2-442bb87e2da7",
   "metadata": {},
   "source": [
    "Now we take all proton shower events and draw the distribution of the total signal (event-by-event)"
   ]
  },
  {
   "cell_type": "code",
   "execution_count": 2,
   "id": "5efc9bde-006a-4508-9889-5ae6bf2c4685",
   "metadata": {},
   "outputs": [],
   "source": [
    "primary = \"proton\"\n",
    "\n",
    "filename_train = \"proton_alt5200m_qgsii_fluka_r560m_3PMTs.h5\"\n",
    "particle = \"Proton\"\n",
    "\n"
   ]
  },
  {
   "cell_type": "code",
   "execution_count": 3,
   "id": "cf233e27-c865-4787-bb2d-0381280e387c",
   "metadata": {},
   "outputs": [],
   "source": [
    "#Read data\n",
    "f = h5py.File(filename_train, mode = \"r\")\n",
    "\n",
    "group = f[\"data\"]\n",
    "\n",
    "#Read shower parameters\n",
    "InfoDF = pd.read_hdf(filename_train, key = \"info\")\n",
    "ID_showers = InfoDF.iloc[:,0].values\n",
    "E0_train = InfoDF.iloc[:,1].values\n",
    "theta0_train = InfoDF.iloc[:,2].values\n",
    "Nmuons_train = InfoDF.iloc[:,3].values\n",
    "\n",
    "#Read input for the algorithm\n",
    "#X_train: channel1 -> e.m. energy, channel2 -> particles, channel3 -> muons\n",
    "X_train = group[()]\n",
    "Y_train = InfoDF.iloc[:,-1].values\n",
    "\n",
    "\n",
    "#Close file\n",
    "f.close()"
   ]
  },
  {
   "cell_type": "code",
   "execution_count": 4,
   "id": "817764c8-1fd1-41c6-933b-0032334299de",
   "metadata": {},
   "outputs": [],
   "source": [
    "#Values of gamma distribution\n",
    "mean = 17973812.0\n",
    "sigma = 9797628.0"
   ]
  },
  {
   "cell_type": "code",
   "execution_count": 8,
   "id": "ec3a974c-d6c3-4618-981c-bebc454deab4",
   "metadata": {},
   "outputs": [],
   "source": [
    "total_signal = []\n",
    "for i in range(len(X_train)):\n",
    "    total_signal.append(np.sum(X_train[i]))\n",
    "    "
   ]
  },
  {
   "cell_type": "code",
   "execution_count": 9,
   "id": "a6002621-5309-4383-b228-346400678a77",
   "metadata": {},
   "outputs": [
    {
     "data": {
      "text/plain": [
       "(array([2.0275e+04, 3.6950e+03, 2.2020e+03, 1.5570e+03, 1.0490e+03,\n",
       "        6.8700e+02, 3.1300e+02, 1.5100e+02, 4.2000e+01, 1.5000e+01]),\n",
       " array([       0. ,  2100903.5,  4201807. ,  6302711. ,  8403614. ,\n",
       "        10504518. , 12605422. , 14706325. , 16807228. , 18908132. ,\n",
       "        21009036. ], dtype=float32),\n",
       " <BarContainer object of 10 artists>)"
      ]
     },
     "execution_count": 9,
     "metadata": {},
     "output_type": "execute_result"
    },
    {
     "data": {
      "image/png": "[encoded data removed]",
      "text/plain": [
       "<Figure size 432x288 with 1 Axes>"
      ]
     },
     "metadata": {
      "needs_background": "light"
     },
     "output_type": "display_data"
    }
   ],
   "source": [
    "plt.hist(total_signal)"
   ]
  },
  {
   "cell_type": "code",
   "execution_count": 10,
   "id": "9eaa5525-105d-4636-ba07-6f2a5298c0b8",
   "metadata": {},
   "outputs": [],
   "source": [
    "values = []\n",
    "idx = []\n",
    "for i in range(len(total_signal)):\n",
    "    if ((total_signal[i] < mean+sigma) & (total_signal[i] > mean-sigma)):\n",
    "        values.append(total_signal[i])\n",
    "        idx.append(i)\n",
    "    \n",
    "    "
   ]
  },
  {
   "cell_type": "code",
   "execution_count": 16,
   "id": "74be18fa-8b60-4a85-9a55-afb7860dd9a5",
   "metadata": {},
   "outputs": [],
   "source": [
    "proton_data = X_train[idx]"
   ]
  },
  {
   "cell_type": "code",
   "execution_count": 17,
   "id": "ed5c5e5c-ca6a-4eed-a93b-de05d30a39e7",
   "metadata": {},
   "outputs": [
    {
     "data": {
      "text/plain": [
       "2396"
      ]
     },
     "execution_count": 17,
     "metadata": {},
     "output_type": "execute_result"
    }
   ],
   "source": [
    "len(proton_data)"
   ]
  },
  {
   "cell_type": "code",
   "execution_count": 19,
   "id": "4cab1076-ff29-41c8-9a80-e58752bd871a",
   "metadata": {},
   "outputs": [],
   "source": [
    "for i in range(len(proton_data)):\n",
    "    fig = plt.figure(figsize=(4,4))\n",
    "    plt.imshow(proton_data[i,:,:], alpha=0.8, cmap='Reds',norm=mpl.colors.LogNorm())\n",
    "    plt.axis('off')\n",
    "    filename = './data_thres/'+str(primary)+'/'+str(primary)+'_id'+str(i)+'.jpg'\n",
    "    plt.savefig(filename)\n",
    "    plt.close(fig)"
   ]
  },
  {
   "cell_type": "markdown",
   "id": "6a53e7dc-1ea5-4fd1-96d9-66a91cbd338f",
   "metadata": {},
   "source": [
    "Same with iron"
   ]
  },
  {
   "cell_type": "code",
   "execution_count": 2,
   "id": "c5aaa7fb-f658-41a6-8305-252619b9bae0",
   "metadata": {},
   "outputs": [],
   "source": [
    "primary = \"iron\"\n",
    "filename_train = \"iron_alt5200m_qgsii_fluka_r560m_3PMTs.h5\"\n",
    "particle = \"Iron\"\n",
    "\n"
   ]
  },
  {
   "cell_type": "code",
   "execution_count": 3,
   "id": "0ea16a23-25d0-43a8-94bc-130d1c35df48",
   "metadata": {},
   "outputs": [],
   "source": [
    "#Read data\n",
    "f = h5py.File(filename_train, mode = \"r\")\n",
    "\n",
    "group = f[\"data\"]\n",
    "\n",
    "#Read shower parameters\n",
    "InfoDF = pd.read_hdf(filename_train, key = \"info\")\n",
    "ID_showers = InfoDF.iloc[:,0].values\n",
    "E0_train = InfoDF.iloc[:,1].values\n",
    "theta0_train = InfoDF.iloc[:,2].values\n",
    "Nmuons_train = InfoDF.iloc[:,3].values\n",
    "\n",
    "#Read input for the algorithm\n",
    "#X_train: channel1 -> e.m. energy, channel2 -> particles, channel3 -> muons\n",
    "X_train = group[()]\n",
    "Y_train = InfoDF.iloc[:,-1].values\n",
    "\n",
    "\n",
    "#Close file\n",
    "f.close()"
   ]
  },
  {
   "cell_type": "code",
   "execution_count": 4,
   "id": "880020e8-8277-4b36-adb7-1b342425efdf",
   "metadata": {},
   "outputs": [],
   "source": [
    "#Values of gamma distribution\n",
    "mean = 17973812.0\n",
    "sigma = 9797628.0"
   ]
  },
  {
   "cell_type": "code",
   "execution_count": 5,
   "id": "83cc1dfd-08c2-4b98-abff-a8df55e5ef17",
   "metadata": {},
   "outputs": [],
   "source": [
    "total_signal = []\n",
    "for i in range(len(X_train)):\n",
    "    total_signal.append(np.sum(X_train[i]))"
   ]
  },
  {
   "cell_type": "code",
   "execution_count": 6,
   "id": "d7dcb2eb-6409-471d-ba84-3b246caf1191",
   "metadata": {},
   "outputs": [
    {
     "data": {
      "text/plain": [
       "(array([1.6978e+04, 5.5590e+03, 3.2030e+03, 2.1920e+03, 1.3850e+03,\n",
       "        5.2300e+02, 1.1000e+02, 2.2000e+01, 1.0000e+00, 1.0000e+00]),\n",
       " array([       0. ,  1077656.2,  2155312.5,  3232969. ,  4310625. ,\n",
       "         5388281.5,  6465938. ,  7543594. ,  8621250. ,  9698907. ,\n",
       "        10776563. ], dtype=float32),\n",
       " <BarContainer object of 10 artists>)"
      ]
     },
     "execution_count": 6,
     "metadata": {},
     "output_type": "execute_result"
    },
    {
     "data": {
      "image/png": "[encoded data removed]",
      "text/plain": [
       "<Figure size 432x288 with 1 Axes>"
      ]
     },
     "metadata": {
      "needs_background": "light"
     },
     "output_type": "display_data"
    }
   ],
   "source": [
    "plt.hist(total_signal)"
   ]
  },
  {
   "cell_type": "code",
   "execution_count": 7,
   "id": "e351788c-d28a-4685-a54b-575a91e5c524",
   "metadata": {},
   "outputs": [],
   "source": [
    "values = []\n",
    "idx = []\n",
    "for i in range(len(total_signal)):\n",
    "    if ((total_signal[i] < mean+sigma) & (total_signal[i] > mean-sigma)):\n",
    "        values.append(total_signal[i])\n",
    "        idx.append(i)\n",
    "    "
   ]
  },
  {
   "cell_type": "code",
   "execution_count": 8,
   "id": "51caa908-9623-4751-acb7-857d451062c1",
   "metadata": {},
   "outputs": [],
   "source": [
    "iron_data = X_train[idx]"
   ]
  },
  {
   "cell_type": "code",
   "execution_count": 9,
   "id": "adb95e05-0605-41ec-86f9-3e4a60912e85",
   "metadata": {},
   "outputs": [
    {
     "data": {
      "text/plain": [
       "5"
      ]
     },
     "execution_count": 9,
     "metadata": {},
     "output_type": "execute_result"
    }
   ],
   "source": [
    "len(iron_data)"
   ]
  },
  {
   "cell_type": "code",
   "execution_count": 10,
   "id": "f3fa5266-99e1-45f9-b1d0-d571935b8927",
   "metadata": {},
   "outputs": [],
   "source": [
    "for i in range(len(iron_data)):\n",
    "    fig = plt.figure(figsize=(4,4))\n",
    "    plt.imshow(iron_data[i,:,:], alpha=0.8, cmap='Reds',norm=mpl.colors.LogNorm())\n",
    "    plt.axis('off')\n",
    "    filename = './data_thres/'+str(primary)+'/'+str(primary)+'_id'+str(i)+'.jpg'\n",
    "    plt.savefig(filename)\n",
    "    plt.close(fig)"
   ]
  },
  {
   "cell_type": "code",
   "execution_count": null,
   "id": "0500b727-3c7a-4ef8-92a6-b5e4e5d2115d",
   "metadata": {},
   "outputs": [],
   "source": []
  }
 ],
 "metadata": {
  "kernelspec": {
   "display_name": "PRUEBA:Python",
   "language": "python",
   "name": "conda-env-PRUEBA-py"
  },
  "language_info": {
   "codemirror_mode": {
    "name": "ipython",
    "version": 3
   },
   "file_extension": ".py",
   "mimetype": "text/x-python",
   "name": "python",
   "nbconvert_exporter": "python",
   "pygments_lexer": "ipython3",
   "version": "3.9.13"
  }
 },
 "nbformat": 4,
 "nbformat_minor": 5
}
