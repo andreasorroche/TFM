{
 "cells": [
  {
   "cell_type": "markdown",
   "id": "4269eddd-7388-42e3-a450-17ca0fed376a",
   "metadata": {},
   "source": [
    "Preprocessing data for the input for the Hugginface pretrained models. We convert our images into the dataset, consisting in a dictionary with train, validation and test data."
   ]
  },
  {
   "cell_type": "code",
   "execution_count": 1,
   "id": "82741ff4-0701-4aa3-8557-ffed4274f8ef",
   "metadata": {},
   "outputs": [],
   "source": [
    "#Create dataset\n",
    "import os\n",
    "import datasets\n",
    "from datasets import Dataset, DatasetDict, load_dataset, load_from_disk\n",
    "\n",
    "\n",
    "\n",
    "def create_image_folder_dataset(root_path):\n",
    "  \"\"\"creates `Dataset` from image folder structure\"\"\"\n",
    "\n",
    "  # get class names by folders names\n",
    "  _CLASS_NAMES= os.listdir(root_path)\n",
    "  # defines `datasets` features`\n",
    "  features=datasets.Features({\n",
    "                      \"img\": datasets.Image(),\n",
    "                      \"label\": datasets.features.ClassLabel(names=_CLASS_NAMES),\n",
    "                  })\n",
    "  # temp list holding datapoints for creation\n",
    "  img_data_files=[]\n",
    "  label_data_files=[]\n",
    "  # load images into list for creation\n",
    "  for img_class in os.listdir(root_path):\n",
    "    for img in os.listdir(os.path.join(root_path,img_class)):\n",
    "      path_=os.path.join(root_path,img_class,img)\n",
    "      img_data_files.append(path_)\n",
    "      label_data_files.append(img_class)\n",
    "  # create dataset\n",
    "  ds = datasets.Dataset.from_dict({\"img\":img_data_files,\"label\":label_data_files},features=features)\n",
    "  return ds"
   ]
  },
  {
   "cell_type": "code",
   "execution_count": 2,
   "id": "774f7adf-9196-4c39-a4ee-7709600f36a6",
   "metadata": {},
   "outputs": [],
   "source": [
    "ds = create_image_folder_dataset(\"data\")"
   ]
  },
  {
   "cell_type": "code",
   "execution_count": 3,
   "id": "785b4e0f-ec05-4bb2-8b54-73bb098848ae",
   "metadata": {},
   "outputs": [
    {
     "data": {
      "text/plain": [
       "Dataset({\n",
       "    features: ['img', 'label'],\n",
       "    num_rows: 6402\n",
       "})"
      ]
     },
     "execution_count": 3,
     "metadata": {},
     "output_type": "execute_result"
    }
   ],
   "source": [
    "ds"
   ]
  },
  {
   "cell_type": "code",
   "execution_count": 4,
   "id": "76ec4878-9297-4f18-bccb-8236a5b809b0",
   "metadata": {},
   "outputs": [
    {
     "name": "stdout",
     "output_type": "stream",
     "text": [
      "['iron', '.ipynb_checkpoints', 'gamma', 'proton']\n"
     ]
    }
   ],
   "source": [
    "#Classes names\n",
    "labels = ds.features[\"label\"].names\n",
    "print(labels)"
   ]
  },
  {
   "cell_type": "code",
   "execution_count": 5,
   "id": "3b6111cc-766d-4069-900f-422f1a263009",
   "metadata": {},
   "outputs": [],
   "source": [
    "# test size will be 15% of train dataset\n",
    "test_size=.15\n",
    "\n",
    "ds_split = ds.shuffle().train_test_split(test_size=test_size)"
   ]
  },
  {
   "cell_type": "code",
   "execution_count": 6,
   "id": "62b7b944-7256-4a3e-b1b6-c43507d75719",
   "metadata": {},
   "outputs": [
    {
     "data": {
      "text/plain": [
       "DatasetDict({\n",
       "    train: Dataset({\n",
       "        features: ['img', 'label'],\n",
       "        num_rows: 5441\n",
       "    })\n",
       "    test: Dataset({\n",
       "        features: ['img', 'label'],\n",
       "        num_rows: 961\n",
       "    })\n",
       "})"
      ]
     },
     "execution_count": 6,
     "metadata": {},
     "output_type": "execute_result"
    }
   ],
   "source": [
    "ds_split"
   ]
  },
  {
   "cell_type": "code",
   "execution_count": 7,
   "id": "47375ce5-18ab-4eb7-85d5-e34ef8bac38f",
   "metadata": {},
   "outputs": [
    {
     "data": {
      "text/plain": [
       "{'img': <PIL.JpegImagePlugin.JpegImageFile image mode=RGB size=288x288>,\n",
       " 'label': 2}"
      ]
     },
     "execution_count": 7,
     "metadata": {},
     "output_type": "execute_result"
    }
   ],
   "source": [
    "ds_split['train'][0]"
   ]
  },
  {
   "cell_type": "markdown",
   "id": "cf3cd079-263b-4ad7-9fff-8168a4f4e435",
   "metadata": {},
   "source": [
    "We take a look at an example. The image field contains a PIL image and each label is an integer that represents a class. We create a dictionary that maps a label name to an integer and vice versa. The mapping will help the model recover the label name from the label number."
   ]
  },
  {
   "cell_type": "code",
   "execution_count": 8,
   "id": "7d6532b2-504c-43ec-9f39-4cf794006d6d",
   "metadata": {},
   "outputs": [],
   "source": [
    "label2id, id2label = dict(), dict()\n",
    "for i, label in enumerate(labels):\n",
    "    label2id[label] = str(i)\n",
    "    id2label[str(i)] = label"
   ]
  },
  {
   "cell_type": "markdown",
   "id": "a165e7f4-adf3-4ee6-b178-0280db15459a",
   "metadata": {},
   "source": [
    "Now we can covert the label number to a label name."
   ]
  },
  {
   "cell_type": "code",
   "execution_count": 9,
   "id": "70c56686-c8d4-408f-a39e-b8d35703bd73",
   "metadata": {},
   "outputs": [
    {
     "data": {
      "text/plain": [
       "'iron'"
      ]
     },
     "execution_count": 9,
     "metadata": {},
     "output_type": "execute_result"
    }
   ],
   "source": [
    "id2label[str(0)]"
   ]
  },
  {
   "cell_type": "code",
   "execution_count": 10,
   "id": "9061be8f-ec2c-49a0-94d9-1446b4e0a7b1",
   "metadata": {},
   "outputs": [
    {
     "data": {
      "text/plain": [
       "'.ipynb_checkpoints'"
      ]
     },
     "execution_count": 10,
     "metadata": {},
     "output_type": "execute_result"
    }
   ],
   "source": [
    "id2label[str(1)]"
   ]
  },
  {
   "cell_type": "code",
   "execution_count": 11,
   "id": "1b9d1c57-1532-44e9-9ecf-c8bb7ff93405",
   "metadata": {},
   "outputs": [
    {
     "data": {
      "text/plain": [
       "'gamma'"
      ]
     },
     "execution_count": 11,
     "metadata": {},
     "output_type": "execute_result"
    }
   ],
   "source": [
    "id2label[str(2)]"
   ]
  },
  {
   "cell_type": "code",
   "execution_count": 12,
   "id": "7103368f-33cf-4272-ad8c-d8dd2d3d1b37",
   "metadata": {},
   "outputs": [],
   "source": [
    "# split up training into training + validation\n",
    "splits = ds_split[\"train\"].train_test_split(test_size=0.1)\n",
    "train_ds = splits['train']\n",
    "val_ds = splits['test']"
   ]
  },
  {
   "cell_type": "code",
   "execution_count": 13,
   "id": "e5a315c6-837a-459e-b51b-fccfcf2f6d6a",
   "metadata": {},
   "outputs": [
    {
     "data": {
      "text/plain": [
       "Dataset({\n",
       "    features: ['img', 'label'],\n",
       "    num_rows: 4896\n",
       "})"
      ]
     },
     "execution_count": 13,
     "metadata": {},
     "output_type": "execute_result"
    }
   ],
   "source": [
    "train_ds"
   ]
  },
  {
   "cell_type": "code",
   "execution_count": 14,
   "id": "65a243ce-eb67-4541-9d2e-f281bae6be65",
   "metadata": {},
   "outputs": [
    {
     "data": {
      "text/plain": [
       "Dataset({\n",
       "    features: ['img', 'label'],\n",
       "    num_rows: 545\n",
       "})"
      ]
     },
     "execution_count": 14,
     "metadata": {},
     "output_type": "execute_result"
    }
   ],
   "source": [
    "val_ds"
   ]
  },
  {
   "cell_type": "code",
   "execution_count": 15,
   "id": "cd9d2156-7dca-4ff5-9990-6ec6682badc2",
   "metadata": {},
   "outputs": [],
   "source": [
    "test_ds = ds_split['test']"
   ]
  },
  {
   "cell_type": "code",
   "execution_count": 16,
   "id": "f543851d-9a4e-48cc-b063-c636684d71b7",
   "metadata": {},
   "outputs": [
    {
     "data": {
      "text/plain": [
       "Dataset({\n",
       "    features: ['img', 'label'],\n",
       "    num_rows: 961\n",
       "})"
      ]
     },
     "execution_count": 16,
     "metadata": {},
     "output_type": "execute_result"
    }
   ],
   "source": [
    "test_ds"
   ]
  },
  {
   "cell_type": "code",
   "execution_count": 17,
   "id": "1cc2f412-5c6d-4c63-b5f1-5c93a5a6713c",
   "metadata": {},
   "outputs": [],
   "source": [
    "#All together to save it\n",
    "ds_dict = datasets.DatasetDict({\n",
    "    \"train\": train_ds,\n",
    "    \"val\": val_ds,\n",
    "    \"test\": test_ds,\n",
    "})\n"
   ]
  },
  {
   "cell_type": "code",
   "execution_count": 18,
   "id": "28fc4848-e62d-49d6-98b3-90b28acd6a96",
   "metadata": {},
   "outputs": [
    {
     "data": {
      "text/plain": [
       "DatasetDict({\n",
       "    train: Dataset({\n",
       "        features: ['img', 'label'],\n",
       "        num_rows: 4896\n",
       "    })\n",
       "    val: Dataset({\n",
       "        features: ['img', 'label'],\n",
       "        num_rows: 545\n",
       "    })\n",
       "    test: Dataset({\n",
       "        features: ['img', 'label'],\n",
       "        num_rows: 961\n",
       "    })\n",
       "})"
      ]
     },
     "execution_count": 18,
     "metadata": {},
     "output_type": "execute_result"
    }
   ],
   "source": [
    "ds_dict"
   ]
  },
  {
   "cell_type": "code",
   "execution_count": 19,
   "id": "c1dbbe85-4f68-4f9f-94bc-f66fbd221546",
   "metadata": {},
   "outputs": [
    {
     "data": {
      "application/vnd.jupyter.widget-view+json": {
       "model_id": "f3339cfa058447039361b29c36bd71ad",
       "version_major": 2,
       "version_minor": 0
      },
      "text/plain": [
       "Flattening the indices:   0%|          | 0/5 [00:00<?, ?ba/s]"
      ]
     },
     "metadata": {},
     "output_type": "display_data"
    },
    {
     "data": {
      "application/vnd.jupyter.widget-view+json": {
       "model_id": "1eebac74cd384ef1ab0e9ee94eb2bec4",
       "version_major": 2,
       "version_minor": 0
      },
      "text/plain": [
       "Flattening the indices:   0%|          | 0/1 [00:00<?, ?ba/s]"
      ]
     },
     "metadata": {},
     "output_type": "display_data"
    },
    {
     "data": {
      "application/vnd.jupyter.widget-view+json": {
       "model_id": "9537451e4d044925830a1a9e0258afa7",
       "version_major": 2,
       "version_minor": 0
      },
      "text/plain": [
       "Flattening the indices:   0%|          | 0/1 [00:00<?, ?ba/s]"
      ]
     },
     "metadata": {},
     "output_type": "display_data"
    }
   ],
   "source": [
    "#Save data\n",
    "ds_dict.save_to_disk(\"./data_dict\")"
   ]
  },
  {
   "cell_type": "code",
   "execution_count": 20,
   "id": "68deb031-3a6c-4307-8fe9-30e8d90f0c5e",
   "metadata": {},
   "outputs": [
    {
     "data": {
      "text/plain": [
       "DatasetDict({\n",
       "    train: Dataset({\n",
       "        features: ['img', 'label'],\n",
       "        num_rows: 4896\n",
       "    })\n",
       "    val: Dataset({\n",
       "        features: ['img', 'label'],\n",
       "        num_rows: 545\n",
       "    })\n",
       "    test: Dataset({\n",
       "        features: ['img', 'label'],\n",
       "        num_rows: 961\n",
       "    })\n",
       "})"
      ]
     },
     "execution_count": 20,
     "metadata": {},
     "output_type": "execute_result"
    }
   ],
   "source": [
    "#To load data\n",
    "ds = load_from_disk('./data_dict')\n",
    "ds"
   ]
  },
  {
   "cell_type": "code",
   "execution_count": null,
   "id": "4ca62282-e6bf-4836-8553-9a5f68ab2691",
   "metadata": {},
   "outputs": [],
   "source": []
  }
 ],
 "metadata": {
  "kernelspec": {
   "display_name": "default:Python",
   "language": "python",
   "name": "conda-env-default-py"
  },
  "language_info": {
   "codemirror_mode": {
    "name": "ipython",
    "version": 3
   },
   "file_extension": ".py",
   "mimetype": "text/x-python",
   "name": "python",
   "nbconvert_exporter": "python",
   "pygments_lexer": "ipython3",
   "version": "3.9.13"
  }
 },
 "nbformat": 4,
 "nbformat_minor": 5
}
